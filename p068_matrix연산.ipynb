{
  "nbformat": 4,
  "nbformat_minor": 0,
  "metadata": {
    "colab": {
      "name": "p68_matrix연산.ipynb",
      "provenance": [],
      "collapsed_sections": [],
      "authorship_tag": "ABX9TyNGbkwbFynrln9dN5BTPPav",
      "include_colab_link": true
    },
    "kernelspec": {
      "name": "ir",
      "display_name": "R"
    }
  },
  "cells": [
    {
      "cell_type": "markdown",
      "metadata": {
        "id": "view-in-github",
        "colab_type": "text"
      },
      "source": [
        "<a href=\"https://colab.research.google.com/github/gyujin0450/RPRG/blob/master/p068_matrix%EC%97%B0%EC%82%B0.ipynb\" target=\"_parent\"><img src=\"https://colab.research.google.com/assets/colab-badge.svg\" alt=\"Open In Colab\"/></a>"
      ]
    },
    {
      "cell_type": "markdown",
      "metadata": {
        "id": "-xI52MP0Vfpe"
      },
      "source": [
        "# R 행렬 연산\n",
        "https://rfriend.tistory.com/40"
      ]
    },
    {
      "cell_type": "code",
      "metadata": {
        "id": "j2oZPoadV4lU",
        "outputId": "9fcb9130-4045-4e4e-dc8f-5be66b52e5e5",
        "colab": {
          "base_uri": "https://localhost:8080/",
          "height": 163
        }
      },
      "source": [
        "## 행렬 X와 행렬 Y 생성\n",
        "x <- matrix(1:4, nrow=2, ncol=2, byrow = F, dimnames = NULL)\n",
        "x"
      ],
      "execution_count": null,
      "outputs": [
        {
          "output_type": "display_data",
          "data": {
            "text/plain": [
              "     [,1] [,2]\n",
              "[1,] 1    3   \n",
              "[2,] 2    4   "
            ],
            "text/latex": "A matrix: 2 × 2 of type int\n\\begin{tabular}{ll}\n\t 1 & 3\\\\\n\t 2 & 4\\\\\n\\end{tabular}\n",
            "text/markdown": "\nA matrix: 2 × 2 of type int\n\n| 1 | 3 |\n| 2 | 4 |\n\n",
            "text/html": [
              "<table>\n",
              "<caption>A matrix: 2 × 2 of type int</caption>\n",
              "<tbody>\n",
              "\t<tr><td>1</td><td>3</td></tr>\n",
              "\t<tr><td>2</td><td>4</td></tr>\n",
              "</tbody>\n",
              "</table>\n"
            ]
          },
          "metadata": {
            "tags": []
          }
        }
      ]
    },
    {
      "cell_type": "code",
      "metadata": {
        "id": "P8pnlr6gWSkd",
        "outputId": "5b73f664-43f4-4fb4-fdfc-1fda7696146a",
        "colab": {
          "base_uri": "https://localhost:8080/",
          "height": 163
        }
      },
      "source": [
        "y <- matrix(5:8, nrow=2, byrow = T)\n",
        "y"
      ],
      "execution_count": null,
      "outputs": [
        {
          "output_type": "display_data",
          "data": {
            "text/plain": [
              "     [,1] [,2]\n",
              "[1,] 5    6   \n",
              "[2,] 7    8   "
            ],
            "text/latex": "A matrix: 2 × 2 of type int\n\\begin{tabular}{ll}\n\t 5 & 6\\\\\n\t 7 & 8\\\\\n\\end{tabular}\n",
            "text/markdown": "\nA matrix: 2 × 2 of type int\n\n| 5 | 6 |\n| 7 | 8 |\n\n",
            "text/html": [
              "<table>\n",
              "<caption>A matrix: 2 × 2 of type int</caption>\n",
              "<tbody>\n",
              "\t<tr><td>5</td><td>6</td></tr>\n",
              "\t<tr><td>7</td><td>8</td></tr>\n",
              "</tbody>\n",
              "</table>\n"
            ]
          },
          "metadata": {
            "tags": []
          }
        }
      ]
    },
    {
      "cell_type": "code",
      "metadata": {
        "id": "l9yJVgt7WaTY",
        "outputId": "cdaa727a-f24e-4be6-aebe-6d420b7c8833",
        "colab": {
          "base_uri": "https://localhost:8080/",
          "height": 163
        }
      },
      "source": [
        "x + y  # (1+5),(3+6),(2+7),(4+8)"
      ],
      "execution_count": null,
      "outputs": [
        {
          "output_type": "display_data",
          "data": {
            "text/plain": [
              "     [,1] [,2]\n",
              "[1,] 6     9  \n",
              "[2,] 9    12  "
            ],
            "text/latex": "A matrix: 2 × 2 of type int\n\\begin{tabular}{ll}\n\t 6 &  9\\\\\n\t 9 & 12\\\\\n\\end{tabular}\n",
            "text/markdown": "\nA matrix: 2 × 2 of type int\n\n| 6 |  9 |\n| 9 | 12 |\n\n",
            "text/html": [
              "<table>\n",
              "<caption>A matrix: 2 × 2 of type int</caption>\n",
              "<tbody>\n",
              "\t<tr><td>6</td><td> 9</td></tr>\n",
              "\t<tr><td>9</td><td>12</td></tr>\n",
              "</tbody>\n",
              "</table>\n"
            ]
          },
          "metadata": {
            "tags": []
          }
        }
      ]
    },
    {
      "cell_type": "code",
      "metadata": {
        "id": "JTqFkFDFXDCQ",
        "outputId": "93d80d3f-60fc-457d-d6d2-dc722afc79a5",
        "colab": {
          "base_uri": "https://localhost:8080/",
          "height": 163
        }
      },
      "source": [
        "x - y # (1-5),(3-6),(2-7),(4-8)"
      ],
      "execution_count": null,
      "outputs": [
        {
          "output_type": "display_data",
          "data": {
            "text/plain": [
              "     [,1] [,2]\n",
              "[1,] -4   -3  \n",
              "[2,] -5   -4  "
            ],
            "text/latex": "A matrix: 2 × 2 of type int\n\\begin{tabular}{ll}\n\t -4 & -3\\\\\n\t -5 & -4\\\\\n\\end{tabular}\n",
            "text/markdown": "\nA matrix: 2 × 2 of type int\n\n| -4 | -3 |\n| -5 | -4 |\n\n",
            "text/html": [
              "<table>\n",
              "<caption>A matrix: 2 × 2 of type int</caption>\n",
              "<tbody>\n",
              "\t<tr><td>-4</td><td>-3</td></tr>\n",
              "\t<tr><td>-5</td><td>-4</td></tr>\n",
              "</tbody>\n",
              "</table>\n"
            ]
          },
          "metadata": {
            "tags": []
          }
        }
      ]
    },
    {
      "cell_type": "code",
      "metadata": {
        "id": "mjiuvihgXZEF",
        "outputId": "08206479-c959-425a-96ed-7d1aa1a4948e",
        "colab": {
          "base_uri": "https://localhost:8080/",
          "height": 163
        }
      },
      "source": [
        "x * y # 선형대수의 행렬 곱이 아니라 각 구성 원소의 순소대로 그냥 곱하는 것 cf) 선형대수곱은 x%*%Y 로 함"
      ],
      "execution_count": null,
      "outputs": [
        {
          "output_type": "display_data",
          "data": {
            "text/plain": [
              "     [,1] [,2]\n",
              "[1,]  5   18  \n",
              "[2,] 14   32  "
            ],
            "text/latex": "A matrix: 2 × 2 of type int\n\\begin{tabular}{ll}\n\t  5 & 18\\\\\n\t 14 & 32\\\\\n\\end{tabular}\n",
            "text/markdown": "\nA matrix: 2 × 2 of type int\n\n|  5 | 18 |\n| 14 | 32 |\n\n",
            "text/html": [
              "<table>\n",
              "<caption>A matrix: 2 × 2 of type int</caption>\n",
              "<tbody>\n",
              "\t<tr><td> 5</td><td>18</td></tr>\n",
              "\t<tr><td>14</td><td>32</td></tr>\n",
              "</tbody>\n",
              "</table>\n"
            ]
          },
          "metadata": {
            "tags": []
          }
        }
      ]
    },
    {
      "cell_type": "code",
      "metadata": {
        "id": "umB48Bl4Yo-m",
        "outputId": "c57f845d-6641-476a-b5c1-60ec924dd0b8",
        "colab": {
          "base_uri": "https://localhost:8080/",
          "height": 163
        }
      },
      "source": [
        "x %*% y # (1*5 + 3*7),(1*6 + 3*8),(2*5 + 4*7),(2*6 + 4*8)"
      ],
      "execution_count": null,
      "outputs": [
        {
          "output_type": "display_data",
          "data": {
            "text/plain": [
              "     [,1] [,2]\n",
              "[1,] 26   30  \n",
              "[2,] 38   44  "
            ],
            "text/latex": "A matrix: 2 × 2 of type dbl\n\\begin{tabular}{ll}\n\t 26 & 30\\\\\n\t 38 & 44\\\\\n\\end{tabular}\n",
            "text/markdown": "\nA matrix: 2 × 2 of type dbl\n\n| 26 | 30 |\n| 38 | 44 |\n\n",
            "text/html": [
              "<table>\n",
              "<caption>A matrix: 2 × 2 of type dbl</caption>\n",
              "<tbody>\n",
              "\t<tr><td>26</td><td>30</td></tr>\n",
              "\t<tr><td>38</td><td>44</td></tr>\n",
              "</tbody>\n",
              "</table>\n"
            ]
          },
          "metadata": {
            "tags": []
          }
        }
      ]
    },
    {
      "cell_type": "code",
      "metadata": {
        "id": "Ti9vU4C1ZPX3",
        "outputId": "60e20ac1-f25a-4783-8f65-08571e2dd3ad",
        "colab": {
          "base_uri": "https://localhost:8080/",
          "height": 201
        }
      },
      "source": [
        "# cf) p68 예제 : matrix와 vector의 연산임!!\n",
        "z <- matrix(c(1:9), nrow=3)\n",
        "a <- c(1,2,3)\n",
        "z\n",
        "a"
      ],
      "execution_count": null,
      "outputs": [
        {
          "output_type": "display_data",
          "data": {
            "text/plain": [
              "     [,1] [,2] [,3]\n",
              "[1,] 1    4    7   \n",
              "[2,] 2    5    8   \n",
              "[3,] 3    6    9   "
            ],
            "text/latex": "A matrix: 3 × 3 of type int\n\\begin{tabular}{lll}\n\t 1 & 4 & 7\\\\\n\t 2 & 5 & 8\\\\\n\t 3 & 6 & 9\\\\\n\\end{tabular}\n",
            "text/markdown": "\nA matrix: 3 × 3 of type int\n\n| 1 | 4 | 7 |\n| 2 | 5 | 8 |\n| 3 | 6 | 9 |\n\n",
            "text/html": [
              "<table>\n",
              "<caption>A matrix: 3 × 3 of type int</caption>\n",
              "<tbody>\n",
              "\t<tr><td>1</td><td>4</td><td>7</td></tr>\n",
              "\t<tr><td>2</td><td>5</td><td>8</td></tr>\n",
              "\t<tr><td>3</td><td>6</td><td>9</td></tr>\n",
              "</tbody>\n",
              "</table>\n"
            ]
          },
          "metadata": {
            "tags": []
          }
        },
        {
          "output_type": "display_data",
          "data": {
            "text/plain": [
              "[1] 1 2 3"
            ],
            "text/latex": "\\begin{enumerate*}\n\\item 1\n\\item 2\n\\item 3\n\\end{enumerate*}\n",
            "text/markdown": "1. 1\n2. 2\n3. 3\n\n\n",
            "text/html": [
              "<style>\n",
              ".list-inline {list-style: none; margin:0; padding: 0}\n",
              ".list-inline>li {display: inline-block}\n",
              ".list-inline>li:not(:last-child)::after {content: \"\\00b7\"; padding: 0 .5ex}\n",
              "</style>\n",
              "<ol class=list-inline><li>1</li><li>2</li><li>3</li></ol>\n"
            ]
          },
          "metadata": {
            "tags": []
          }
        }
      ]
    },
    {
      "cell_type": "code",
      "metadata": {
        "id": "ieiDUVSmaaGu",
        "outputId": "b23181c7-de45-4adb-b2cd-5a07baae1471",
        "colab": {
          "base_uri": "https://localhost:8080/",
          "height": 167
        }
      },
      "source": [
        "z + a # (1,4,7)+1 , (2,5,8)+2, (3,6,9)+3"
      ],
      "execution_count": null,
      "outputs": [
        {
          "output_type": "display_data",
          "data": {
            "text/plain": [
              "     [,1] [,2] [,3]\n",
              "[1,] 2    5     8  \n",
              "[2,] 4    7    10  \n",
              "[3,] 6    9    12  "
            ],
            "text/latex": "A matrix: 3 × 3 of type dbl\n\\begin{tabular}{lll}\n\t 2 & 5 &  8\\\\\n\t 4 & 7 & 10\\\\\n\t 6 & 9 & 12\\\\\n\\end{tabular}\n",
            "text/markdown": "\nA matrix: 3 × 3 of type dbl\n\n| 2 | 5 |  8 |\n| 4 | 7 | 10 |\n| 6 | 9 | 12 |\n\n",
            "text/html": [
              "<table>\n",
              "<caption>A matrix: 3 × 3 of type dbl</caption>\n",
              "<tbody>\n",
              "\t<tr><td>2</td><td>5</td><td> 8</td></tr>\n",
              "\t<tr><td>4</td><td>7</td><td>10</td></tr>\n",
              "\t<tr><td>6</td><td>9</td><td>12</td></tr>\n",
              "</tbody>\n",
              "</table>\n"
            ]
          },
          "metadata": {
            "tags": []
          }
        }
      ]
    },
    {
      "cell_type": "code",
      "metadata": {
        "id": "qDLWYly6alrz",
        "outputId": "f5c3df09-6332-4c7a-86ee-3efed3e71604",
        "colab": {
          "base_uri": "https://localhost:8080/",
          "height": 184
        }
      },
      "source": [
        "z - a # (1,4,7)-1 , (2,5,8)-2, (3,6,9)-3"
      ],
      "execution_count": null,
      "outputs": [
        {
          "output_type": "display_data",
          "data": {
            "text/plain": [
              "     [,1] [,2] [,3]\n",
              "[1,] 0    3    6   \n",
              "[2,] 0    3    6   \n",
              "[3,] 0    3    6   "
            ],
            "text/latex": "A matrix: 3 × 3 of type dbl\n\\begin{tabular}{lll}\n\t 0 & 3 & 6\\\\\n\t 0 & 3 & 6\\\\\n\t 0 & 3 & 6\\\\\n\\end{tabular}\n",
            "text/markdown": "\nA matrix: 3 × 3 of type dbl\n\n| 0 | 3 | 6 |\n| 0 | 3 | 6 |\n| 0 | 3 | 6 |\n\n",
            "text/html": [
              "<table>\n",
              "<caption>A matrix: 3 × 3 of type dbl</caption>\n",
              "<tbody>\n",
              "\t<tr><td>0</td><td>3</td><td>6</td></tr>\n",
              "\t<tr><td>0</td><td>3</td><td>6</td></tr>\n",
              "\t<tr><td>0</td><td>3</td><td>6</td></tr>\n",
              "</tbody>\n",
              "</table>\n"
            ]
          },
          "metadata": {
            "tags": []
          }
        }
      ]
    },
    {
      "cell_type": "code",
      "metadata": {
        "id": "MG_WVC3WaxPF",
        "outputId": "8399fc2c-49df-44f5-c83d-47506ee5dc76",
        "colab": {
          "base_uri": "https://localhost:8080/",
          "height": 150
        }
      },
      "source": [
        "z * a # (1,4,7)*1 , (2,5,6)*2, (3,6,9)*3 "
      ],
      "execution_count": null,
      "outputs": [
        {
          "output_type": "display_data",
          "data": {
            "text/plain": [
              "     [,1] [,2] [,3]\n",
              "[1,] 1     4    7  \n",
              "[2,] 4    10   16  \n",
              "[3,] 9    18   27  "
            ],
            "text/latex": "A matrix: 3 × 3 of type dbl\n\\begin{tabular}{lll}\n\t 1 &  4 &  7\\\\\n\t 4 & 10 & 16\\\\\n\t 9 & 18 & 27\\\\\n\\end{tabular}\n",
            "text/markdown": "\nA matrix: 3 × 3 of type dbl\n\n| 1 |  4 |  7 |\n| 4 | 10 | 16 |\n| 9 | 18 | 27 |\n\n",
            "text/html": [
              "<table>\n",
              "<caption>A matrix: 3 × 3 of type dbl</caption>\n",
              "<tbody>\n",
              "\t<tr><td>1</td><td> 4</td><td> 7</td></tr>\n",
              "\t<tr><td>4</td><td>10</td><td>16</td></tr>\n",
              "\t<tr><td>9</td><td>18</td><td>27</td></tr>\n",
              "</tbody>\n",
              "</table>\n"
            ]
          },
          "metadata": {
            "tags": []
          }
        }
      ]
    }
  ]
}