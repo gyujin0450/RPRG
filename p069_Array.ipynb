{
  "nbformat": 4,
  "nbformat_minor": 0,
  "metadata": {
    "colab": {
      "name": "p69_Array.ipynb",
      "provenance": [],
      "authorship_tag": "ABX9TyO0oZ35yznMnF686NjfkNYn",
      "include_colab_link": true
    },
    "kernelspec": {
      "name": "ir",
      "display_name": "R"
    }
  },
  "cells": [
    {
      "cell_type": "markdown",
      "metadata": {
        "id": "view-in-github",
        "colab_type": "text"
      },
      "source": [
        "<a href=\"https://colab.research.google.com/github/gyujin0450/RPRG/blob/master/p069_Array.ipynb\" target=\"_parent\"><img src=\"https://colab.research.google.com/assets/colab-badge.svg\" alt=\"Open In Colab\"/></a>"
      ]
    },
    {
      "cell_type": "markdown",
      "metadata": {
        "id": "GIFYqR-sdlqS"
      },
      "source": [
        "# Ch2.3 Array 자료구조"
      ]
    },
    {
      "cell_type": "code",
      "metadata": {
        "id": "tcSUi8Ueegg9",
        "outputId": "8ef9493b-a08a-4739-b2b9-314ba3adef23",
        "colab": {
          "base_uri": "https://localhost:8080/",
          "height": 34
        }
      },
      "source": [
        "# 배열 생성 : 같은 자료형을 갖는 다차원 배열 구조\n",
        "v <- c(1:12)\n",
        "arr <- array(v, c(3,2,2)) # \"3행 2열 2면\" 의 3차원 배열 생성\n",
        "arr # RStudio에서 결과 확인 필요!!"
      ],
      "execution_count": null,
      "outputs": [
        {
          "output_type": "display_data",
          "data": {
            "text/plain": [
              ", , 1\n",
              "\n",
              "     [,1] [,2]\n",
              "[1,]    1    4\n",
              "[2,]    2    5\n",
              "[3,]    3    6\n",
              "\n",
              ", , 2\n",
              "\n",
              "     [,1] [,2]\n",
              "[1,]    7   10\n",
              "[2,]    8   11\n",
              "[3,]    9   12\n"
            ],
            "text/latex": "\\begin{enumerate*}\n\\item 1\n\\item 2\n\\item 3\n\\item 4\n\\item 5\n\\item 6\n\\item 7\n\\item 8\n\\item 9\n\\item 10\n\\item 11\n\\item 12\n\\end{enumerate*}\n",
            "text/markdown": "1. 1\n2. 2\n3. 3\n4. 4\n5. 5\n6. 6\n7. 7\n8. 8\n9. 9\n10. 10\n11. 11\n12. 12\n\n\n",
            "text/html": [
              "<style>\n",
              ".list-inline {list-style: none; margin:0; padding: 0}\n",
              ".list-inline>li {display: inline-block}\n",
              ".list-inline>li:not(:last-child)::after {content: \"\\00b7\"; padding: 0 .5ex}\n",
              "</style>\n",
              "<ol class=list-inline><li>1</li><li>2</li><li>3</li><li>4</li><li>5</li><li>6</li><li>7</li><li>8</li><li>9</li><li>10</li><li>11</li><li>12</li></ol>\n"
            ]
          },
          "metadata": {
            "tags": []
          }
        }
      ]
    },
    {
      "cell_type": "code",
      "metadata": {
        "id": "AYGNJMT6fm5S",
        "outputId": "80dcc38d-4c2e-4c92-c86c-0717911b02e3",
        "colab": {
          "base_uri": "https://localhost:8080/",
          "height": 184
        }
      },
      "source": [
        "arr[,,1]"
      ],
      "execution_count": null,
      "outputs": [
        {
          "output_type": "display_data",
          "data": {
            "text/plain": [
              "     [,1] [,2]\n",
              "[1,] 1    4   \n",
              "[2,] 2    5   \n",
              "[3,] 3    6   "
            ],
            "text/latex": "A matrix: 3 × 2 of type int\n\\begin{tabular}{ll}\n\t 1 & 4\\\\\n\t 2 & 5\\\\\n\t 3 & 6\\\\\n\\end{tabular}\n",
            "text/markdown": "\nA matrix: 3 × 2 of type int\n\n| 1 | 4 |\n| 2 | 5 |\n| 3 | 6 |\n\n",
            "text/html": [
              "<table>\n",
              "<caption>A matrix: 3 × 2 of type int</caption>\n",
              "<tbody>\n",
              "\t<tr><td>1</td><td>4</td></tr>\n",
              "\t<tr><td>2</td><td>5</td></tr>\n",
              "\t<tr><td>3</td><td>6</td></tr>\n",
              "</tbody>\n",
              "</table>\n"
            ]
          },
          "metadata": {
            "tags": []
          }
        }
      ]
    },
    {
      "cell_type": "code",
      "metadata": {
        "id": "aLLMcxEzf5ed",
        "outputId": "5ec2efcd-30a3-47b6-a2d8-9de542b9e582",
        "colab": {
          "base_uri": "https://localhost:8080/",
          "height": 184
        }
      },
      "source": [
        "arr[,,2]"
      ],
      "execution_count": null,
      "outputs": [
        {
          "output_type": "display_data",
          "data": {
            "text/plain": [
              "     [,1] [,2]\n",
              "[1,] 7    10  \n",
              "[2,] 8    11  \n",
              "[3,] 9    12  "
            ],
            "text/latex": "A matrix: 3 × 2 of type int\n\\begin{tabular}{ll}\n\t 7 & 10\\\\\n\t 8 & 11\\\\\n\t 9 & 12\\\\\n\\end{tabular}\n",
            "text/markdown": "\nA matrix: 3 × 2 of type int\n\n| 7 | 10 |\n| 8 | 11 |\n| 9 | 12 |\n\n",
            "text/html": [
              "<table>\n",
              "<caption>A matrix: 3 × 2 of type int</caption>\n",
              "<tbody>\n",
              "\t<tr><td>7</td><td>10</td></tr>\n",
              "\t<tr><td>8</td><td>11</td></tr>\n",
              "\t<tr><td>9</td><td>12</td></tr>\n",
              "</tbody>\n",
              "</table>\n"
            ]
          },
          "metadata": {
            "tags": []
          }
        }
      ]
    },
    {
      "cell_type": "code",
      "metadata": {
        "id": "3JlNjKlrgBLI",
        "outputId": "b76b1c5f-880b-45ce-da1f-3786e9cdba5f",
        "colab": {
          "base_uri": "https://localhost:8080/",
          "height": 51
        }
      },
      "source": [
        "mode(arr);class(arr)"
      ],
      "execution_count": null,
      "outputs": [
        {
          "output_type": "display_data",
          "data": {
            "text/plain": [
              "[1] \"numeric\""
            ],
            "text/latex": "'numeric'",
            "text/markdown": "'numeric'",
            "text/html": [
              "'numeric'"
            ]
          },
          "metadata": {
            "tags": []
          }
        },
        {
          "output_type": "display_data",
          "data": {
            "text/plain": [
              "[1] \"array\""
            ],
            "text/latex": "'array'",
            "text/markdown": "'array'",
            "text/html": [
              "'array'"
            ]
          },
          "metadata": {
            "tags": []
          }
        }
      ]
    },
    {
      "cell_type": "code",
      "metadata": {
        "id": "Q4rp5vipgGz9",
        "outputId": "7701ca74-7eba-4108-e19c-465e54799d51",
        "colab": {
          "base_uri": "https://localhost:8080/",
          "height": 413
        }
      },
      "source": [
        "# 데이터 셋 가져오기\n",
        "install.packages(\"RSADBE\")\n",
        "# installed.packages()\n",
        "library(RSADBE)\n",
        "# search()\n",
        "data(\"Bug_Metrics_Software\")\n",
        "Bug_Metrics_Software # 소프트웨어별 발표전후 버그측정 결과를 3차원 배열 구조로 제공함"
      ],
      "execution_count": null,
      "outputs": [
        {
          "output_type": "stream",
          "text": [
            "Installing package into ‘/usr/local/lib/R/site-library’\n",
            "(as ‘lib’ is unspecified)\n",
            "\n"
          ],
          "name": "stderr"
        },
        {
          "output_type": "display_data",
          "data": {
            "text/plain": [
              ", , BA_Ind = Before\n",
              "\n",
              "         Bugs\n",
              "Software   Bugs NT.Bugs Major Critical H.Priority\n",
              "  JDT     11605   10119  1135      432        459\n",
              "  PDE      5803    4191   362      100         96\n",
              "  Equinox   325    1393   156       71         14\n",
              "  Lucene   1714    1714     0        0          0\n",
              "  Mylyn   14577    6806   592      235       8804\n",
              "\n",
              ", , BA_Ind = After\n",
              "\n",
              "         Bugs\n",
              "Software   Bugs NT.Bugs Major Critical H.Priority\n",
              "  JDT       374      17    35       10          3\n",
              "  PDE       341      14    57        6          0\n",
              "  Equinox   244       3     4        1          0\n",
              "  Lucene     97       0     0        0          0\n",
              "  Mylyn     340     187    18        3         36\n"
            ]
          },
          "metadata": {
            "tags": []
          }
        }
      ]
    }
  ]
}