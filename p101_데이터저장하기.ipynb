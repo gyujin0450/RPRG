{
  "nbformat": 4,
  "nbformat_minor": 0,
  "metadata": {
    "colab": {
      "name": "p101_데이터저장하기.ipynb",
      "provenance": [],
      "authorship_tag": "ABX9TyPMhQXsUpERrwHA5megKrN9",
      "include_colab_link": true
    },
    "kernelspec": {
      "name": "ir",
      "display_name": "R"
    }
  },
  "cells": [
    {
      "cell_type": "markdown",
      "metadata": {
        "id": "view-in-github",
        "colab_type": "text"
      },
      "source": [
        "<a href=\"https://colab.research.google.com/github/gyujin0450/RPRG/blob/master/p101_%EB%8D%B0%EC%9D%B4%ED%84%B0%EC%A0%80%EC%9E%A5%ED%95%98%EA%B8%B0.ipynb\" target=\"_parent\"><img src=\"https://colab.research.google.com/assets/colab-badge.svg\" alt=\"Open In Colab\"/></a>"
      ]
    },
    {
      "cell_type": "markdown",
      "metadata": {
        "id": "O1XmBV-Acym5"
      },
      "source": [
        "ch03.2 데이터 저장하기"
      ]
    },
    {
      "cell_type": "code",
      "metadata": {
        "id": "m4DzqiCNdDM0",
        "outputId": "c94c96c9-6b1a-4b5b-c1fb-09906235cd57",
        "colab": {
          "base_uri": "https://localhost:8080/",
          "height": 34
        }
      },
      "source": [
        "# cat() 함수 이용 변수 출력\n",
        "x <- 10\n",
        "y <- 20\n",
        "z <- x + y\n",
        "cat(\"x*y의 결과는\",z,\"입니다.\\n\")"
      ],
      "execution_count": 1,
      "outputs": [
        {
          "output_type": "stream",
          "text": [
            "x*y의 결과는 30 입니다.\n"
          ],
          "name": "stdout"
        }
      ]
    },
    {
      "cell_type": "code",
      "metadata": {
        "id": "0y-sSCtbdrQ6",
        "outputId": "593882b1-9376-4e43-89e1-75539fbdc4ff",
        "colab": {
          "base_uri": "https://localhost:8080/",
          "height": 34
        }
      },
      "source": [
        "cat(x,\"*\",y, \"=\",z)"
      ],
      "execution_count": 2,
      "outputs": [
        {
          "output_type": "stream",
          "text": [
            "10 * 20 = 30"
          ],
          "name": "stdout"
        }
      ]
    },
    {
      "cell_type": "code",
      "metadata": {
        "id": "IcFNXoBodz_U",
        "outputId": "e5eb158c-518b-4921-ba3a-50bfe1c55872",
        "colab": {
          "base_uri": "https://localhost:8080/",
          "height": 33
        }
      },
      "source": [
        "# print() 함수\n",
        "z"
      ],
      "execution_count": 4,
      "outputs": [
        {
          "output_type": "display_data",
          "data": {
            "text/plain": [
              "[1] 30"
            ],
            "text/latex": "30",
            "text/markdown": "30",
            "text/html": [
              "30"
            ]
          },
          "metadata": {
            "tags": []
          }
        }
      ]
    },
    {
      "cell_type": "code",
      "metadata": {
        "id": "8aQFSQ7qd3wm"
      },
      "source": [
        "# sink() 함수\n",
        "library(RSADBE)\n",
        "data(Severity_Counts)\n",
        "sink(\"severity.txt\") # 저장할 파일 Open\n",
        "severity <- Severity_Counts\n",
        "severity  \n",
        "sink() # Open될 파일 close"
      ],
      "execution_count": null,
      "outputs": []
    },
    {
      "cell_type": "code",
      "metadata": {
        "id": "_YHs-wmPfY5B"
      },
      "source": [
        "# write.table() 함수이용\n",
        "titanic"
      ],
      "execution_count": 7,
      "outputs": []
    }
  ]
}