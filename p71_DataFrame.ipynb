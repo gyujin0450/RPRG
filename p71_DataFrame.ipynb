{
  "nbformat": 4,
  "nbformat_minor": 0,
  "metadata": {
    "colab": {
      "name": "p71_DataFrame.ipynb",
      "provenance": [],
      "authorship_tag": "ABX9TyP+24wJPE4cDs2eRX7fzhTP",
      "include_colab_link": true
    },
    "kernelspec": {
      "name": "ir",
      "display_name": "R"
    }
  },
  "cells": [
    {
      "cell_type": "markdown",
      "metadata": {
        "id": "view-in-github",
        "colab_type": "text"
      },
      "source": [
        "<a href=\"https://colab.research.google.com/github/gyujin0450/RPRG/blob/master/p71_DataFrame.ipynb\" target=\"_parent\"><img src=\"https://colab.research.google.com/assets/colab-badge.svg\" alt=\"Open In Colab\"/></a>"
      ]
    },
    {
      "cell_type": "markdown",
      "metadata": {
        "id": "fV6QiMjVzwQ9",
        "colab_type": "text"
      },
      "source": [
        "# ch02.4 DataFrame 자료구조"
      ]
    },
    {
      "cell_type": "code",
      "metadata": {
        "id": "Ct_mijZA0L8E",
        "colab_type": "code",
        "colab": {}
      },
      "source": [
        "# dataFrame 생성\n",
        "\n",
        "# 열단위로 서로 다른 자료형을 포함할 수 있음\n",
        "# 벡터와 행렬을 이용하여 데이터프레임 객체를 생성할 수 있음\n",
        "\n",
        "# data.frame(컬럼1 = 자료, 컬럼2 = 자료, ... 컬럼n = 자료)"
      ],
      "execution_count": 1,
      "outputs": []
    },
    {
      "cell_type": "code",
      "metadata": {
        "id": "-8CH2imE1KWN",
        "colab_type": "code",
        "colab": {
          "base_uri": "https://localhost:8080/",
          "height": 141
        },
        "outputId": "17fbfb75-4edf-45c0-d0fa-779ec0a9c3ee"
      },
      "source": [
        "no <- c(1,2,3)\n",
        "name <- c(\"hong\",\"lee\",\"kim\")\n",
        "pay <- c(150,250,300)\n",
        "vemp <- data.frame(No = no, Name = name, Pay = pay) # 컬럼명 지정\n",
        "vemp"
      ],
      "execution_count": 2,
      "outputs": [
        {
          "output_type": "display_data",
          "data": {
            "text/plain": [
              "  No Name Pay\n",
              "1 1  hong 150\n",
              "2 2  lee  250\n",
              "3 3  kim  300"
            ],
            "text/latex": "A data.frame: 3 × 3\n\\begin{tabular}{lll}\n No & Name & Pay\\\\\n <dbl> & <fct> & <dbl>\\\\\n\\hline\n\t 1 & hong & 150\\\\\n\t 2 & lee  & 250\\\\\n\t 3 & kim  & 300\\\\\n\\end{tabular}\n",
            "text/markdown": "\nA data.frame: 3 × 3\n\n| No &lt;dbl&gt; | Name &lt;fct&gt; | Pay &lt;dbl&gt; |\n|---|---|---|\n| 1 | hong | 150 |\n| 2 | lee  | 250 |\n| 3 | kim  | 300 |\n\n",
            "text/html": [
              "<table>\n",
              "<caption>A data.frame: 3 × 3</caption>\n",
              "<thead>\n",
              "\t<tr><th scope=col>No</th><th scope=col>Name</th><th scope=col>Pay</th></tr>\n",
              "\t<tr><th scope=col>&lt;dbl&gt;</th><th scope=col>&lt;fct&gt;</th><th scope=col>&lt;dbl&gt;</th></tr>\n",
              "</thead>\n",
              "<tbody>\n",
              "\t<tr><td>1</td><td>hong</td><td>150</td></tr>\n",
              "\t<tr><td>2</td><td>lee </td><td>250</td></tr>\n",
              "\t<tr><td>3</td><td>kim </td><td>300</td></tr>\n",
              "</tbody>\n",
              "</table>\n"
            ]
          },
          "metadata": {
            "tags": []
          }
        }
      ]
    },
    {
      "cell_type": "code",
      "metadata": {
        "id": "KP5dsYgQ19w_",
        "colab_type": "code",
        "colab": {
          "base_uri": "https://localhost:8080/",
          "height": 141
        },
        "outputId": "8b3f45c4-f23a-4b35-d7db-7721e90bf6e4"
      },
      "source": [
        "m <- matrix(c(\n",
        "  1, \"hong\", 150,\n",
        "  2, \"lee\", 250,\n",
        "  3, \"kim\", 300\n",
        "), 3, byrow = T)\n",
        "memp <- data.frame(m)\n",
        "memp"
      ],
      "execution_count": 3,
      "outputs": [
        {
          "output_type": "display_data",
          "data": {
            "text/plain": [
              "  X1 X2   X3 \n",
              "1 1  hong 150\n",
              "2 2  lee  250\n",
              "3 3  kim  300"
            ],
            "text/latex": "A data.frame: 3 × 3\n\\begin{tabular}{lll}\n X1 & X2 & X3\\\\\n <fct> & <fct> & <fct>\\\\\n\\hline\n\t 1 & hong & 150\\\\\n\t 2 & lee  & 250\\\\\n\t 3 & kim  & 300\\\\\n\\end{tabular}\n",
            "text/markdown": "\nA data.frame: 3 × 3\n\n| X1 &lt;fct&gt; | X2 &lt;fct&gt; | X3 &lt;fct&gt; |\n|---|---|---|\n| 1 | hong | 150 |\n| 2 | lee  | 250 |\n| 3 | kim  | 300 |\n\n",
            "text/html": [
              "<table>\n",
              "<caption>A data.frame: 3 × 3</caption>\n",
              "<thead>\n",
              "\t<tr><th scope=col>X1</th><th scope=col>X2</th><th scope=col>X3</th></tr>\n",
              "\t<tr><th scope=col>&lt;fct&gt;</th><th scope=col>&lt;fct&gt;</th><th scope=col>&lt;fct&gt;</th></tr>\n",
              "</thead>\n",
              "<tbody>\n",
              "\t<tr><td>1</td><td>hong</td><td>150</td></tr>\n",
              "\t<tr><td>2</td><td>lee </td><td>250</td></tr>\n",
              "\t<tr><td>3</td><td>kim </td><td>300</td></tr>\n",
              "</tbody>\n",
              "</table>\n"
            ]
          },
          "metadata": {
            "tags": []
          }
        }
      ]
    },
    {
      "cell_type": "code",
      "metadata": {
        "id": "M8bKjyoy2jwa",
        "colab_type": "code",
        "colab": {
          "base_uri": "https://localhost:8080/",
          "height": 225
        },
        "outputId": "2ef30368-e12b-4091-93ce-435f9d41ceb7"
      },
      "source": [
        "getwd()\n",
        "# txtemp <- read.table('https://raw.githubusercontent.com/gyujin0450/dataset/master/emp.txt', header = 1, sep = \"\")\n",
        "txtemp <- read.csv(file= 'https://raw.githubusercontent.com/gyujin0450/dataset/master/emp.csv', sep = \",\") \n",
        "txttemp"
      ],
      "execution_count": 10,
      "outputs": [
        {
          "output_type": "display_data",
          "data": {
            "text/plain": [
              "[1] \"/content\""
            ],
            "text/latex": "'/content'",
            "text/markdown": "'/content'",
            "text/html": [
              "'/content'"
            ]
          },
          "metadata": {
            "tags": []
          }
        },
        {
          "output_type": "error",
          "ename": "ERROR",
          "evalue": "ignored",
          "traceback": [
            "Error in make.names(col.names, unique = TRUE): invalid multibyte string at '<bb><e7><b9><f8>'\nTraceback:\n",
            "1. read.csv(file = \"https://raw.githubusercontent.com/gyujin0450/dataset/master/emp.csv\", \n .     sep = \",\")",
            "2. read.table(file = file, header = header, sep = sep, quote = quote, \n .     dec = dec, fill = fill, comment.char = comment.char, ...)",
            "3. make.names(col.names, unique = TRUE)"
          ]
        }
      ]
    }
  ]
}