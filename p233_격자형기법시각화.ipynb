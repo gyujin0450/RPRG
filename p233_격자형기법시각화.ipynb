{
  "nbformat": 4,
  "nbformat_minor": 0,
  "metadata": {
    "colab": {
      "name": "p233_격자형기법시각화.ipynb",
      "provenance": [],
      "authorship_tag": "ABX9TyNRXEQESDU94K8R27kBB8bf",
      "include_colab_link": true
    },
    "kernelspec": {
      "name": "ir",
      "display_name": "R"
    }
  },
  "cells": [
    {
      "cell_type": "markdown",
      "metadata": {
        "id": "view-in-github",
        "colab_type": "text"
      },
      "source": [
        "<a href=\"https://colab.research.google.com/github/gyujin0450/RPRG/blob/master/p233_%EA%B2%A9%EC%9E%90%ED%98%95%EA%B8%B0%EB%B2%95%EC%8B%9C%EA%B0%81%ED%99%94.ipynb\" target=\"_parent\"><img src=\"https://colab.research.google.com/assets/colab-badge.svg\" alt=\"Open In Colab\"/></a>"
      ]
    },
    {
      "cell_type": "markdown",
      "metadata": {
        "id": "8h5uo1yaondh"
      },
      "source": [
        "# ch08.2 격자형 기법 시각화"
      ]
    },
    {
      "cell_type": "code",
      "metadata": {
        "id": "7ONW0yH4o4Ze",
        "outputId": "720953a2-1a49-4705-e5f1-6210dfb83f4b",
        "colab": {
          "base_uri": "https://localhost:8080/",
          "height": 71
        }
      },
      "source": [
        "# 1) lattice 패키지 설치\n",
        "install.packages(\"lattice\")\n",
        "library(lattice)"
      ],
      "execution_count": 1,
      "outputs": [
        {
          "output_type": "stream",
          "text": [
            "Installing package into ‘/usr/local/lib/R/site-library’\n",
            "(as ‘lib’ is unspecified)\n",
            "\n"
          ],
          "name": "stderr"
        }
      ]
    },
    {
      "cell_type": "code",
      "metadata": {
        "id": "79Gmf2nnxuM3",
        "outputId": "34c29cc0-8d00-4cfd-ab5c-9f58314220d9",
        "colab": {
          "base_uri": "https://localhost:8080/",
          "height": 316
        }
      },
      "source": [
        "# 2) 실습용 데이터 가저오기\n",
        "install.packages(\"mlmRev\")\n",
        "library(mlmRev)"
      ],
      "execution_count": 4,
      "outputs": [
        {
          "output_type": "stream",
          "text": [
            "Installing package into ‘/usr/local/lib/R/site-library’\n",
            "(as ‘lib’ is unspecified)\n",
            "\n",
            "also installing the dependency ‘lme4’\n",
            "\n",
            "\n",
            "Warning message in install.packages(\"mlmRev\"):\n",
            "“installation of package ‘lme4’ had non-zero exit status”\n",
            "Warning message in install.packages(\"mlmRev\"):\n",
            "“installation of package ‘mlmRev’ had non-zero exit status”\n"
          ],
          "name": "stderr"
        },
        {
          "output_type": "error",
          "ename": "ERROR",
          "evalue": "ignored",
          "traceback": [
            "Error in library(mlmRev): there is no package called ‘mlmRev’\nTraceback:\n",
            "1. library(mlmRev)"
          ]
        }
      ]
    },
    {
      "cell_type": "code",
      "metadata": {
        "id": "39XfsKCTyf2o"
      },
      "source": [
        "data(Chem97) \n",
        "str(Chem97)"
      ],
      "execution_count": null,
      "outputs": []
    },
    {
      "cell_type": "code",
      "metadata": {
        "id": "E2o7voVEzWaY"
      },
      "source": [
        "# ?Chem97\n",
        "# lea Local Education Authority - a factor\n",
        "# school School identifier - a factor\n",
        "# student Student identifier - a factor\n",
        "# score Point score on A-level Chemistry in 1997\n",
        "# gender Student's gender \n",
        "# age Age in month, centred at 222 months or 18.5 years : 18.5세 기준 개월\n",
        "# gcsescore Average GCSE score of individual.\n",
        "# gcsecnt Average GCSE score of individual, centered at mean."
      ],
      "execution_count": null,
      "outputs": []
    },
    {
      "cell_type": "code",
      "metadata": {
        "id": "r0R9yiLs6NIC"
      },
      "source": [
        "head(Chem97)"
      ],
      "execution_count": null,
      "outputs": []
    },
    {
      "cell_type": "code",
      "metadata": {
        "id": "Z6F2VVYG5yJ8"
      },
      "source": [
        "table(Chem97$gender)"
      ],
      "execution_count": null,
      "outputs": []
    },
    {
      "cell_type": "code",
      "metadata": {
        "id": "cDB40G4xz6St"
      },
      "source": [
        "barplot(table(Chem97$score))"
      ],
      "execution_count": null,
      "outputs": []
    },
    {
      "cell_type": "code",
      "metadata": {
        "id": "eA4Lb2xA1gyo"
      },
      "source": [
        "barplot(table(Chem97$age))"
      ],
      "execution_count": null,
      "outputs": []
    },
    {
      "cell_type": "code",
      "metadata": {
        "id": "72nRA2KA1x7O"
      },
      "source": [
        "# barplot(table(Chem97$gcsescore))\n",
        "hist(Chem97$gcsescore)\n",
        "cat(\"평균:\",mean(Chem97$gcsescore))"
      ],
      "execution_count": null,
      "outputs": []
    },
    {
      "cell_type": "code",
      "metadata": {
        "id": "IX0KDqWk2Are"
      },
      "source": [
        "hist(Chem97$gcsecnt)"
      ],
      "execution_count": null,
      "outputs": []
    },
    {
      "cell_type": "code",
      "metadata": {
        "id": "Lx_tt-oI2vws"
      },
      "source": [
        "# 2.1) 히스토그램\n",
        "# histogram(~ X축 컬럼 | 조건, data ...)\n",
        "histogram(~gcsescore, data = Chem97) "
      ],
      "execution_count": null,
      "outputs": []
    },
    {
      "cell_type": "code",
      "metadata": {
        "id": "uuStMb0F3TXm"
      },
      "source": [
        "# Score 변수를 조건 변수로 지정하여 데이터 시각화\n",
        "histogram(~gcsescore | score, data = Chem97)"
      ],
      "execution_count": null,
      "outputs": []
    },
    {
      "cell_type": "code",
      "metadata": {
        "id": "_haPvJmq311B"
      },
      "source": [
        "histogram(~gcsescore | factor(score), data = Chem97)"
      ],
      "execution_count": null,
      "outputs": []
    },
    {
      "cell_type": "code",
      "metadata": {
        "id": "5Ydb5NoE4bFU"
      },
      "source": [
        "# 2.2) 밀도 그래프\n",
        "# densityplot(~ x축 컬럼 | 조건, data, groups = 변수)\n",
        "densityplot(~gcsescore | factor(score), data = Chem97, groups = gender, \n",
        "            plot.points = T, auto.key = T)"
      ],
      "execution_count": null,
      "outputs": []
    },
    {
      "cell_type": "code",
      "metadata": {
        "id": "pmP_ZAIO_UpY"
      },
      "source": [
        "# 막대 그래프\n",
        "# barchart(y축 컬럼 ~x축 컬럼 | 조건, data, layout)"
      ],
      "execution_count": null,
      "outputs": []
    },
    {
      "cell_type": "code",
      "metadata": {
        "id": "A6NXOW8k_oOa"
      },
      "source": [
        "# 1) 기본 데이터셋 가저오기\n",
        "data(VADeaths)\n",
        "str(VADeaths)"
      ],
      "execution_count": null,
      "outputs": []
    },
    {
      "cell_type": "code",
      "metadata": {
        "id": "BHtuX-wRM041"
      },
      "source": [
        "VADeaths"
      ],
      "execution_count": null,
      "outputs": []
    },
    {
      "cell_type": "code",
      "metadata": {
        "id": "wtYxTMT9Kfj3"
      },
      "source": [
        "class(VADeaths) # class : data 구조 확인(자료형: vector(numeric, character), matrix, data.frame, list, factor)\n",
        "mode(VADeaths)  # mode : 객체의 내부 타입(numeric, character, list)"
      ],
      "execution_count": null,
      "outputs": []
    },
    {
      "cell_type": "code",
      "metadata": {
        "id": "P1y8o6l7MDME"
      },
      "source": [
        "# 통계처리를 위해서 matrix 자료 구조를 table 자료구조로 변환\n",
        "# 가장 왼쪽의 첫번째 컬럼을 기준으로 '넓은 형식'의 자료가 '긴 형식'의 자료로 구조가 변경\n",
        "dft <- as.data.frame.table(VADeaths)\n",
        "str(dft)"
      ],
      "execution_count": null,
      "outputs": []
    },
    {
      "cell_type": "code",
      "metadata": {
        "id": "fz3wnoXsMjGI"
      },
      "source": [
        "class(dft);mode(dft)"
      ],
      "execution_count": null,
      "outputs": []
    },
    {
      "cell_type": "code",
      "metadata": {
        "id": "UYNlRAC1M41r"
      },
      "source": [
        "dft"
      ],
      "execution_count": null,
      "outputs": []
    },
    {
      "cell_type": "code",
      "metadata": {
        "id": "NG7L2R6INpmp"
      },
      "source": [
        "barchart(Var1 ~ Freq | Var2, data = dft, layout = c(4,1)) # 4열 1행"
      ],
      "execution_count": null,
      "outputs": []
    },
    {
      "cell_type": "code",
      "metadata": {
        "id": "dITdqncdPDjj"
      },
      "source": [
        "barchart(Var1 ~ Freq | Var2, data = dft, layout = c(2,2), origin = 0) # 2열 2행"
      ],
      "execution_count": null,
      "outputs": []
    },
    {
      "cell_type": "code",
      "metadata": {
        "id": "FXaA-7VOOW8f"
      },
      "source": [
        "# 점그래프\n",
        "# dotplot(y축 컬럼 ~ x축 컬럼 | 조건, data, layout)\n",
        "dotplot(Var1 ~ Freq | Var2, dft)"
      ],
      "execution_count": null,
      "outputs": []
    },
    {
      "cell_type": "code",
      "metadata": {
        "id": "D3JPTkL6P0fh"
      },
      "source": [
        "dotplot(Var1 ~ Freq | Var2, dft, layout = c(4,1))"
      ],
      "execution_count": null,
      "outputs": []
    },
    {
      "cell_type": "code",
      "metadata": {
        "id": "AMa3HPAkP975"
      },
      "source": [
        "# 점을 선으로 연결하여 시각화\n",
        "dotplot(Var1 ~ Freq, data = dft, groups = Var2, type = \"o\",\n",
        "        auto.key = list(space = \"right\", points = T, lines = T))"
      ],
      "execution_count": null,
      "outputs": []
    },
    {
      "cell_type": "code",
      "metadata": {
        "id": "B9EV9HruQdYf"
      },
      "source": [
        "# 산점도 그래프\n",
        "library(datasets)\n",
        "str(airquality)"
      ],
      "execution_count": null,
      "outputs": []
    },
    {
      "cell_type": "code",
      "metadata": {
        "id": "cGiFE7P-VKX7"
      },
      "source": [
        "# ?airquality\n",
        "# Ozone   : Mean ozone in parts per billion from 1300 to 1500 hours at Roosevelt Island\n",
        "# Solar.R : Solar radiation in Langleys in the frequency band 4000-7700 Angstroms from 0800 to 1200 hours at Central Park\n",
        "# Wind    : Average wind speed in miles per hour at 0700 and 1000 hours at LaGuardia Airport\n",
        "# Temp    : Maximum daily temperature in degrees Fahrenheit at La Guardia Airport.\n",
        "summary(airquality)"
      ],
      "execution_count": null,
      "outputs": []
    },
    {
      "cell_type": "code",
      "metadata": {
        "id": "Xj5dO17eVPtG"
      },
      "source": [
        "# xyplot() 함수를 사용하여 산점도 그리기\n",
        "# xyplot(y축 컬럼 ~ x축 컬럼 | 조건변수, data = data.frame 또는 list, layout)\n",
        "xyplot(Ozone ~ Wind, data= airquality)"
      ],
      "execution_count": null,
      "outputs": []
    },
    {
      "cell_type": "code",
      "metadata": {
        "id": "W2XW0FaZr1NA"
      },
      "source": [
        "# 조건변수를 사용하는 xyplot() 함수로 산점도 그리기\n",
        "xyplot(Ozone ~ Wind | Month, data = airquality)"
      ],
      "execution_count": null,
      "outputs": []
    },
    {
      "cell_type": "code",
      "metadata": {
        "id": "HOAuLT-esk8F"
      },
      "source": [
        "# 조건변수와 layout 속성을 사용하는 xyplot() 함수로 산점도 그리기\n",
        "xyplot(Ozone ~ Wind | Month, data = airquality, layout = c(5,1))"
      ],
      "execution_count": null,
      "outputs": []
    },
    {
      "cell_type": "code",
      "metadata": {
        "id": "b-_CVV8ts-GN"
      },
      "source": [
        "# Month 변수를 factor 타입으로 변환하여 산점도 그리기\n",
        "convert <- transform(airquality, Month = factor(Month))\n",
        "str(convert)"
      ],
      "execution_count": null,
      "outputs": []
    },
    {
      "cell_type": "code",
      "metadata": {
        "id": "7LPjwdF3tbbL"
      },
      "source": [
        "xyplot(Ozone ~ Wind | Month, data = convert)"
      ],
      "execution_count": null,
      "outputs": []
    },
    {
      "cell_type": "code",
      "metadata": {
        "id": "md8f-4PLt0qU"
      },
      "source": [
        "# quakes 데이터 셋으로 산점도 그래프 그리기\n",
        "head(quakes)"
      ],
      "execution_count": null,
      "outputs": []
    },
    {
      "cell_type": "code",
      "metadata": {
        "id": "PCWTsixnuKVx"
      },
      "source": [
        "str(quakes)"
      ],
      "execution_count": null,
      "outputs": []
    },
    {
      "cell_type": "code",
      "metadata": {
        "id": "bcUc9DOCuPCO"
      },
      "source": [
        "# ?quakes\n",
        "# lat       numeric  Latitude(위도) of event            \n",
        "# long      numeric  Longitude(경도)                    \n",
        "# depth     numeric  Depth (km)                   \n",
        "# mag       numeric  Richter Magnitude            \n",
        "# stations  numeric  Number of stations reporting "
      ],
      "execution_count": null,
      "outputs": []
    },
    {
      "cell_type": "code",
      "metadata": {
        "id": "5fnjJt4funRn"
      },
      "source": [
        "# 지진 발생 진앙지(위도와 경도) 산점도 그리기\n",
        "xyplot(lat ~ long, data = quakes, pch = \"O\")"
      ],
      "execution_count": null,
      "outputs": []
    },
    {
      "cell_type": "code",
      "metadata": {
        "id": "j2bwRLMyvH4E"
      },
      "source": [
        "# 산점도 그래프를 변수에 저장하고, 제목 문자열 추가하기\n",
        "tplot <- xyplot(lat ~ long, data = quakes, pch = \"O\")\n",
        "tplot <- update(tplot, main = \"location afer 1964\")\n",
        "print(tplot)"
      ],
      "execution_count": null,
      "outputs": []
    },
    {
      "cell_type": "code",
      "metadata": {
        "id": "xuDJrppZvySm"
      },
      "source": [
        "# 이산형 변수를 조건으로 지정하여 산점도 그리기\n",
        "# 1) depth 변수의 범위 확인\n",
        "range(quakes$depth)"
      ],
      "execution_count": null,
      "outputs": []
    },
    {
      "cell_type": "code",
      "metadata": {
        "id": "5Fy8dEtWw7aF"
      },
      "source": [
        "# 2) depth 변수 리코딩 : 6개의 범주(100 단위)로 코딩 변경\n",
        "quakes$depth2[quakes$depth >= 40 & quakes$depth <= 150] <- 1\n",
        "quakes$depth2[quakes$depth >= 151 & quakes$depth <= 250] <- 2\n",
        "quakes$depth2[quakes$depth >= 251 & quakes$depth <= 350] <- 3\n",
        "quakes$depth2[quakes$depth >= 351 & quakes$depth <= 450] <- 4\n",
        "quakes$depth2[quakes$depth >= 451 & quakes$depth <= 550] <- 5\n",
        "quakes$depth2[quakes$depth >= 551 & quakes$depth <= 680] <- 6"
      ],
      "execution_count": null,
      "outputs": []
    },
    {
      "cell_type": "code",
      "metadata": {
        "id": "pHPkh_rJyw0X"
      },
      "source": [
        "str(quakes)"
      ],
      "execution_count": null,
      "outputs": []
    },
    {
      "cell_type": "code",
      "metadata": {
        "id": "Io5LLmKRxua3"
      },
      "source": [
        "# 3) 리코딩된 변수(depth2)를 조건으로 산점도 그리기\n",
        "convert <- transform(quakes, depth2 = factor(depth2))\n",
        "xyplot(lat ~ long | depth2, data = convert)"
      ],
      "execution_count": null,
      "outputs": []
    },
    {
      "cell_type": "code",
      "metadata": {
        "id": "HiIUiiaAHuFn"
      },
      "source": [
        "# 동일한 패널에 두개의 변수값 표현\n",
        "xyplot(Ozone + Solar.R ~ Wind | factor(Month), data = airquality, col = c(\"blue\", \"red\"), layout = c(5,1))"
      ],
      "execution_count": null,
      "outputs": []
    },
    {
      "cell_type": "code",
      "metadata": {
        "id": "K39aZDZHJIbe"
      },
      "source": [
        "# 데이터 범주화\n",
        "# equal.count(data, number = n, overlap = 0)\n",
        "# 1) 1 ~ 150을 대상으로 겹치지 않게 4개 영역으로 범주화\n",
        "numgroup <- equal.count(1:150, number = 4, overlap = 0)\n",
        "numgroup"
      ],
      "execution_count": null,
      "outputs": []
    },
    {
      "cell_type": "code",
      "metadata": {
        "id": "dj-KzsBdJ4sn"
      },
      "source": [
        "depthgroup <- equal.count(quakes$depth,number = 5,overlap = 0)\n",
        "depthgroup"
      ],
      "execution_count": null,
      "outputs": []
    },
    {
      "cell_type": "code",
      "metadata": {
        "id": "_031y78jKdbb"
      },
      "source": [
        "xyplot(lat ~ long | depthgroup, data = quakes, main = \"Fiji Earthquakes(depthgroup)\",\n",
        "       ylab = \"latitude\", xlan = \"longitude\", pch = \"@\", col = \"red\" )"
      ],
      "execution_count": null,
      "outputs": []
    },
    {
      "cell_type": "code",
      "metadata": {
        "id": "BRIgMeL7LIZ5"
      },
      "source": [
        "# 수심과 리히터 규모 변수를 동시에 작용하여 산점도 그리기\n",
        "# 1) 리히터 규모를 2개 영역으로 구분\n",
        "magnitudegroup <- equal.count(quakes$mag, number = 2, overlap = 0)\n",
        "magnitudegroup"
      ],
      "execution_count": null,
      "outputs": []
    },
    {
      "cell_type": "code",
      "metadata": {
        "id": "aZ7UHlIlLtsU"
      },
      "source": [
        "# 2) magnitudegroup 변수를 기준으로 산점도 그리기\n",
        "xyplot(lat ~ long | magnitudegroup, data = quakes, main = \"Fiji Earthquakes(magnitude)\",\n",
        "       ylab = \"latitude\", xlab = \"longitude\", pch = \"@\", col=\"blue\" )"
      ],
      "execution_count": null,
      "outputs": []
    },
    {
      "cell_type": "code",
      "metadata": {
        "id": "-sSnmxWEMcSJ"
      },
      "source": [
        "# 3) 수심과 리히터 규모를 동시에 표현(2행 5렬 패널 구현)\n",
        "xyplot(lat ~ long | depthgroup * magnitudegroup, data = quakes, main = \"Fiji Earthquakes\",\n",
        "       ylab = \"latitude\", xlab = \"longitude\", pch = \"@\", col = c(\"red\",\"blue\")) # 수심(빨강), 리히터 규모(파랑)"
      ],
      "execution_count": null,
      "outputs": []
    },
    {
      "cell_type": "code",
      "metadata": {
        "id": "SjKPbDSoNeNy"
      },
      "source": [
        "# 이산형 변수를 리코딩한 뒤에 Factor 형으로 변환하여 산점도\n",
        "# 1) depth 변수 리코딩\n",
        "quakes$depth3[quakes$depth >= 39.5 & quakes$depth <= 80.5] <- 'd1'\n",
        "quakes$depth3[quakes$depth >= 79.5 & quakes$depth <= 186.5] <- 'd2'\n",
        "quakes$depth3[quakes$depth >= 185.5 & quakes$depth <= 397.5] <- 'd3'\n",
        "quakes$depth3[quakes$depth >= 396.5 & quakes$depth <= 562.5] <- 'd4'\n",
        "quakes$depth3[quakes$depth >= 562.5 & quakes$depth <= 680.5] <- 'd5'\n",
        "\n",
        "# 2) mag 변수 리코딩\n",
        "quakes$mag3[quakes$mag >= 3.95 & quakes$mag <= 4.65] <- 'm1'\n",
        "quakes$mag3[quakes$mag >= 4.55 & quakes$mag <= 6.45] <- 'm2'\n",
        "\n",
        "# 3) factor형 변환\n",
        "convert <- transform(quakes, depth3 = factor(depth3), mag3 = factor(mag3))\n",
        "\n",
        "# 4) 산점도 그래프 그리기\n",
        "xyplot(lat ~ long | depth3 * mag3, data = convert, main = \"Fiji Earthquakes\",\n",
        "       ylab = \"latitude\", xlab = \"longitude\", pch=\"@\", col = c(\"red\",\"blue\") )"
      ],
      "execution_count": null,
      "outputs": []
    },
    {
      "cell_type": "code",
      "metadata": {
        "id": "ugwN3JrLQeDZ"
      },
      "source": [
        "str(convert)"
      ],
      "execution_count": null,
      "outputs": []
    }
  ]
}