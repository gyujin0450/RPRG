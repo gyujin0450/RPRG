{
  "nbformat": 4,
  "nbformat_minor": 0,
  "metadata": {
    "colab": {
      "name": "p84_문자열처리.ipynb",
      "provenance": [],
      "authorship_tag": "ABX9TyOLucTbbtym/+59jLwUgGy1",
      "include_colab_link": true
    },
    "kernelspec": {
      "name": "ir",
      "display_name": "R"
    }
  },
  "cells": [
    {
      "cell_type": "markdown",
      "metadata": {
        "id": "view-in-github",
        "colab_type": "text"
      },
      "source": [
        "<a href=\"https://colab.research.google.com/github/gyujin0450/RPRG/blob/master/p084_%EB%AC%B8%EC%9E%90%EC%97%B4%EC%B2%98%EB%A6%AC.ipynb\" target=\"_parent\"><img src=\"https://colab.research.google.com/assets/colab-badge.svg\" alt=\"Open In Colab\"/></a>"
      ]
    },
    {
      "cell_type": "markdown",
      "metadata": {
        "id": "7wIvZZ9Gq4qW"
      },
      "source": [
        "# ch2.6 문자열 처리"
      ]
    },
    {
      "cell_type": "code",
      "metadata": {
        "id": "BZX8lT6nrEFj"
      },
      "source": [
        "# 텍스트 자료나 SNS에서 가공 처리된 빅데이터를 처리하기 위해서는 \n",
        "# 필요한 문자열을 적절하게 자르고, 교체하고, 추출하는 작업이 빈번하게 발생"
      ],
      "execution_count": null,
      "outputs": []
    },
    {
      "cell_type": "code",
      "metadata": {
        "id": "wIsFNerdrnEs",
        "outputId": "ba3dfbd4-72d2-451e-8d3e-627b2214584c",
        "colab": {
          "base_uri": "https://localhost:8080/",
          "height": 70
        }
      },
      "source": [
        "# 문자열 추출하기\n",
        "install.packages(\"stringr\")\n",
        "library(stringr)"
      ],
      "execution_count": null,
      "outputs": [
        {
          "output_type": "stream",
          "text": [
            "Installing package into ‘/usr/local/lib/R/site-library’\n",
            "(as ‘lib’ is unspecified)\n",
            "\n"
          ],
          "name": "stderr"
        }
      ]
    },
    {
      "cell_type": "code",
      "metadata": {
        "id": "GXtlUlBUr8x_",
        "outputId": "671e1164-5875-4959-e450-2794d8b312da",
        "colab": {
          "base_uri": "https://localhost:8080/",
          "height": 33
        }
      },
      "source": [
        "# 정규표현식(숫자[1-9] 2개가 연속되는 경우)과 일치하는 가장 처음에 발견된 문자열 추출\n",
        "str_extract(\"홍길동35이순신45유관순25\",\"[1-9]{2}\") "
      ],
      "execution_count": null,
      "outputs": [
        {
          "output_type": "display_data",
          "data": {
            "text/plain": [
              "[1] \"35\""
            ],
            "text/latex": "'35'",
            "text/markdown": "'35'",
            "text/html": [
              "'35'"
            ]
          },
          "metadata": {
            "tags": []
          }
        }
      ]
    },
    {
      "cell_type": "code",
      "metadata": {
        "id": "M4C6lJDqsZ4-",
        "outputId": "f4664a0c-a2f7-45ee-dc2c-2f0466f1fe4d",
        "colab": {
          "base_uri": "https://localhost:8080/",
          "height": 61
        }
      },
      "source": [
        "# 정규표현식(숫자[1-9] 2개가 연속되는 경우)과 일치하는 문자열 전체 추출\n",
        "str_extract_all(\"홍길동35이순신45유관순25\",\"[1-9]{2}\")"
      ],
      "execution_count": null,
      "outputs": [
        {
          "output_type": "display_data",
          "data": {
            "text/plain": [
              "[[1]]\n",
              "[1] \"35\" \"45\" \"25\"\n"
            ],
            "text/latex": "\\begin{enumerate}\n\\item \\begin{enumerate*}\n\\item '35'\n\\item '45'\n\\item '25'\n\\end{enumerate*}\n\n\\end{enumerate}\n",
            "text/markdown": "1. 1. '35'\n2. '45'\n3. '25'\n\n\n\n\n\n",
            "text/html": [
              "<ol>\n",
              "\t<li><style>\n",
              ".list-inline {list-style: none; margin:0; padding: 0}\n",
              ".list-inline>li {display: inline-block}\n",
              ".list-inline>li:not(:last-child)::after {content: \"\\00b7\"; padding: 0 .5ex}\n",
              "</style>\n",
              "<ol class=list-inline><li>'35'</li><li>'45'</li><li>'25'</li></ol>\n",
              "</li>\n",
              "</ol>\n"
            ]
          },
          "metadata": {
            "tags": []
          }
        }
      ]
    },
    {
      "cell_type": "code",
      "metadata": {
        "id": "0hL5F6DZtUIM",
        "outputId": "4413cbb5-dcc7-472f-d048-afde0c3f90e2",
        "colab": {
          "base_uri": "https://localhost:8080/",
          "height": 61
        }
      },
      "source": [
        "# 반복 수를 지정하여 영문자 추출하기\n",
        "string <- \"hongkd105leess1002you25강감찬2005\"\n",
        "str_extract_all(string, \"[a-z]{3}\") # 영문 소문자가 3자 연속하는 경우 추출"
      ],
      "execution_count": null,
      "outputs": [
        {
          "output_type": "display_data",
          "data": {
            "text/plain": [
              "[[1]]\n",
              "[1] \"hon\" \"gkd\" \"lee\" \"you\"\n"
            ],
            "text/latex": "\\begin{enumerate}\n\\item \\begin{enumerate*}\n\\item 'hon'\n\\item 'gkd'\n\\item 'lee'\n\\item 'you'\n\\end{enumerate*}\n\n\\end{enumerate}\n",
            "text/markdown": "1. 1. 'hon'\n2. 'gkd'\n3. 'lee'\n4. 'you'\n\n\n\n\n\n",
            "text/html": [
              "<ol>\n",
              "\t<li><style>\n",
              ".list-inline {list-style: none; margin:0; padding: 0}\n",
              ".list-inline>li {display: inline-block}\n",
              ".list-inline>li:not(:last-child)::after {content: \"\\00b7\"; padding: 0 .5ex}\n",
              "</style>\n",
              "<ol class=list-inline><li>'hon'</li><li>'gkd'</li><li>'lee'</li><li>'you'</li></ol>\n",
              "</li>\n",
              "</ol>\n"
            ]
          },
          "metadata": {
            "tags": []
          }
        }
      ]
    },
    {
      "cell_type": "code",
      "metadata": {
        "id": "mmFiHj3Nt7ZA",
        "outputId": "81fc175b-94e6-4670-9560-0281722ce627",
        "colab": {
          "base_uri": "https://localhost:8080/",
          "height": 61
        }
      },
      "source": [
        "str_extract_all(string, \"[a-z]{3,}\") # 영문 소문자가 3자 이상 연속하는 경우 추출"
      ],
      "execution_count": null,
      "outputs": [
        {
          "output_type": "display_data",
          "data": {
            "text/plain": [
              "[[1]]\n",
              "[1] \"hongkd\" \"leess\"  \"you\"   \n"
            ],
            "text/latex": "\\begin{enumerate}\n\\item \\begin{enumerate*}\n\\item 'hongkd'\n\\item 'leess'\n\\item 'you'\n\\end{enumerate*}\n\n\\end{enumerate}\n",
            "text/markdown": "1. 1. 'hongkd'\n2. 'leess'\n3. 'you'\n\n\n\n\n\n",
            "text/html": [
              "<ol>\n",
              "\t<li><style>\n",
              ".list-inline {list-style: none; margin:0; padding: 0}\n",
              ".list-inline>li {display: inline-block}\n",
              ".list-inline>li:not(:last-child)::after {content: \"\\00b7\"; padding: 0 .5ex}\n",
              "</style>\n",
              "<ol class=list-inline><li>'hongkd'</li><li>'leess'</li><li>'you'</li></ol>\n",
              "</li>\n",
              "</ol>\n"
            ]
          },
          "metadata": {
            "tags": []
          }
        }
      ]
    },
    {
      "cell_type": "code",
      "metadata": {
        "id": "3n0lBMGJub51",
        "outputId": "3b6e58f7-6a8b-49ac-ef6c-12fc43f740ed",
        "colab": {
          "base_uri": "https://localhost:8080/",
          "height": 61
        }
      },
      "source": [
        "str_extract_all(string, \"[a-z]{3,5}\") # 영문 소문자가 3~5자 이상 연속하는 경우 추출"
      ],
      "execution_count": null,
      "outputs": [
        {
          "output_type": "display_data",
          "data": {
            "text/plain": [
              "[[1]]\n",
              "[1] \"hongk\" \"leess\" \"you\"  \n"
            ],
            "text/latex": "\\begin{enumerate}\n\\item \\begin{enumerate*}\n\\item 'hongk'\n\\item 'leess'\n\\item 'you'\n\\end{enumerate*}\n\n\\end{enumerate}\n",
            "text/markdown": "1. 1. 'hongk'\n2. 'leess'\n3. 'you'\n\n\n\n\n\n",
            "text/html": [
              "<ol>\n",
              "\t<li><style>\n",
              ".list-inline {list-style: none; margin:0; padding: 0}\n",
              ".list-inline>li {display: inline-block}\n",
              ".list-inline>li:not(:last-child)::after {content: \"\\00b7\"; padding: 0 .5ex}\n",
              "</style>\n",
              "<ol class=list-inline><li>'hongk'</li><li>'leess'</li><li>'you'</li></ol>\n",
              "</li>\n",
              "</ol>\n"
            ]
          },
          "metadata": {
            "tags": []
          }
        }
      ]
    },
    {
      "cell_type": "code",
      "metadata": {
        "id": "F66CLRBFuieX",
        "outputId": "55433ce8-ef03-43cc-d943-bd36431f1115",
        "colab": {
          "base_uri": "https://localhost:8080/",
          "height": 61
        }
      },
      "source": [
        "# 문자열에서 한글, 영문자, 숫자 추출하기\n",
        "str_extract_all(string, \"hong\") # 해당 문자열 추출"
      ],
      "execution_count": null,
      "outputs": [
        {
          "output_type": "display_data",
          "data": {
            "text/plain": [
              "[[1]]\n",
              "[1] \"hong\"\n"
            ],
            "text/latex": "\\begin{enumerate}\n\\item 'hong'\n\\end{enumerate}\n",
            "text/markdown": "1. 'hong'\n\n\n",
            "text/html": [
              "<ol>\n",
              "\t<li>'hong'</li>\n",
              "</ol>\n"
            ]
          },
          "metadata": {
            "tags": []
          }
        }
      ]
    },
    {
      "cell_type": "code",
      "metadata": {
        "id": "bV5S0CsNu0GO",
        "outputId": "418ce231-fa89-408a-eea4-ec52bfbf30bb",
        "colab": {
          "base_uri": "https://localhost:8080/",
          "height": 61
        }
      },
      "source": [
        "str_extract_all(string, \"25\") # 해당 숫자 추출"
      ],
      "execution_count": null,
      "outputs": [
        {
          "output_type": "display_data",
          "data": {
            "text/plain": [
              "[[1]]\n",
              "[1] \"25\"\n"
            ],
            "text/latex": "\\begin{enumerate}\n\\item '25'\n\\end{enumerate}\n",
            "text/markdown": "1. '25'\n\n\n",
            "text/html": [
              "<ol>\n",
              "\t<li>'25'</li>\n",
              "</ol>\n"
            ]
          },
          "metadata": {
            "tags": []
          }
        }
      ]
    },
    {
      "cell_type": "code",
      "metadata": {
        "id": "QgKuOQ1zu7aI",
        "outputId": "d5172e35-a3b1-4b4a-a822-6b9bb7d31f3b",
        "colab": {
          "base_uri": "https://localhost:8080/",
          "height": 61
        }
      },
      "source": [
        "str_extract_all(string, \"[가-힣]{3}\") # 연속된 3개의 한글 문자열 추출"
      ],
      "execution_count": null,
      "outputs": [
        {
          "output_type": "display_data",
          "data": {
            "text/plain": [
              "[[1]]\n",
              "[1] \"강감찬\"\n"
            ],
            "text/latex": "\\begin{enumerate}\n\\item '강감찬'\n\\end{enumerate}\n",
            "text/markdown": "1. '강감찬'\n\n\n",
            "text/html": [
              "<ol>\n",
              "\t<li>'강감찬'</li>\n",
              "</ol>\n"
            ]
          },
          "metadata": {
            "tags": []
          }
        }
      ]
    },
    {
      "cell_type": "code",
      "metadata": {
        "id": "TESppqk2vK53",
        "outputId": "53d9d77b-ab6b-4644-b2eb-b0588b8e56ce",
        "colab": {
          "base_uri": "https://localhost:8080/",
          "height": 61
        }
      },
      "source": [
        "str_extract_all(string, \"[0-9]{4}\") # 연속된 4개의 숫자 추출"
      ],
      "execution_count": null,
      "outputs": [
        {
          "output_type": "display_data",
          "data": {
            "text/plain": [
              "[[1]]\n",
              "[1] \"1002\" \"2005\"\n"
            ],
            "text/latex": "\\begin{enumerate}\n\\item \\begin{enumerate*}\n\\item '1002'\n\\item '2005'\n\\end{enumerate*}\n\n\\end{enumerate}\n",
            "text/markdown": "1. 1. '1002'\n2. '2005'\n\n\n\n\n\n",
            "text/html": [
              "<ol>\n",
              "\t<li><style>\n",
              ".list-inline {list-style: none; margin:0; padding: 0}\n",
              ".list-inline>li {display: inline-block}\n",
              ".list-inline>li:not(:last-child)::after {content: \"\\00b7\"; padding: 0 .5ex}\n",
              "</style>\n",
              "<ol class=list-inline><li>'1002'</li><li>'2005'</li></ol>\n",
              "</li>\n",
              "</ol>\n"
            ]
          },
          "metadata": {
            "tags": []
          }
        }
      ]
    },
    {
      "cell_type": "code",
      "metadata": {
        "id": "6NIi1Ymyvppd",
        "outputId": "15a68527-f4b7-4301-fa49-5cfeb8a974ba",
        "colab": {
          "base_uri": "https://localhost:8080/",
          "height": 61
        }
      },
      "source": [
        "# 문자열에서 한글, 영문자, 숫자를 제외한 나머지 추출하기\n",
        "str_extract_all(string, \"[^a-z]\") # 영문자를 제외한 나머지 추출"
      ],
      "execution_count": null,
      "outputs": [
        {
          "output_type": "display_data",
          "data": {
            "text/plain": [
              "[[1]]\n",
              " [1] \"1\"  \"0\"  \"5\"  \"1\"  \"0\"  \"0\"  \"2\"  \"2\"  \"5\"  \"강\" \"감\" \"찬\" \"2\"  \"0\"  \"0\" \n",
              "[16] \"5\" \n"
            ],
            "text/latex": "\\begin{enumerate}\n\\item \\begin{enumerate*}\n\\item '1'\n\\item '0'\n\\item '5'\n\\item '1'\n\\item '0'\n\\item '0'\n\\item '2'\n\\item '2'\n\\item '5'\n\\item '강'\n\\item '감'\n\\item '찬'\n\\item '2'\n\\item '0'\n\\item '0'\n\\item '5'\n\\end{enumerate*}\n\n\\end{enumerate}\n",
            "text/markdown": "1. 1. '1'\n2. '0'\n3. '5'\n4. '1'\n5. '0'\n6. '0'\n7. '2'\n8. '2'\n9. '5'\n10. '강'\n11. '감'\n12. '찬'\n13. '2'\n14. '0'\n15. '0'\n16. '5'\n\n\n\n\n\n",
            "text/html": [
              "<ol>\n",
              "\t<li><style>\n",
              ".list-inline {list-style: none; margin:0; padding: 0}\n",
              ".list-inline>li {display: inline-block}\n",
              ".list-inline>li:not(:last-child)::after {content: \"\\00b7\"; padding: 0 .5ex}\n",
              "</style>\n",
              "<ol class=list-inline><li>'1'</li><li>'0'</li><li>'5'</li><li>'1'</li><li>'0'</li><li>'0'</li><li>'2'</li><li>'2'</li><li>'5'</li><li>'강'</li><li>'감'</li><li>'찬'</li><li>'2'</li><li>'0'</li><li>'0'</li><li>'5'</li></ol>\n",
              "</li>\n",
              "</ol>\n"
            ]
          },
          "metadata": {
            "tags": []
          }
        }
      ]
    },
    {
      "cell_type": "code",
      "metadata": {
        "id": "RX917iWYwEst",
        "outputId": "87732870-395e-4009-a4fb-3df559687f22",
        "colab": {
          "base_uri": "https://localhost:8080/",
          "height": 61
        }
      },
      "source": [
        "str_extract_all(string, \"[^a-z]{4}\") # 영문자를 제외한 연속된 4글자 추출"
      ],
      "execution_count": null,
      "outputs": [
        {
          "output_type": "display_data",
          "data": {
            "text/plain": [
              "[[1]]\n",
              "[1] \"1002\"   \"25강감\" \"찬200\" \n"
            ],
            "text/latex": "\\begin{enumerate}\n\\item \\begin{enumerate*}\n\\item '1002'\n\\item '25강감'\n\\item '찬200'\n\\end{enumerate*}\n\n\\end{enumerate}\n",
            "text/markdown": "1. 1. '1002'\n2. '25강감'\n3. '찬200'\n\n\n\n\n\n",
            "text/html": [
              "<ol>\n",
              "\t<li><style>\n",
              ".list-inline {list-style: none; margin:0; padding: 0}\n",
              ".list-inline>li {display: inline-block}\n",
              ".list-inline>li:not(:last-child)::after {content: \"\\00b7\"; padding: 0 .5ex}\n",
              "</style>\n",
              "<ol class=list-inline><li>'1002'</li><li>'25강감'</li><li>'찬200'</li></ol>\n",
              "</li>\n",
              "</ol>\n"
            ]
          },
          "metadata": {
            "tags": []
          }
        }
      ]
    },
    {
      "cell_type": "code",
      "metadata": {
        "id": "yL0LT6ppwjmr",
        "outputId": "e65e75f7-a085-4677-e577-3f6dc309f482",
        "colab": {
          "base_uri": "https://localhost:8080/",
          "height": 61
        }
      },
      "source": [
        "str_extract_all(string, \"[^가-힣]{5}\") # 한글을 제외한 나머지 연속된 5글자 추출"
      ],
      "execution_count": null,
      "outputs": [
        {
          "output_type": "display_data",
          "data": {
            "text/plain": [
              "[[1]]\n",
              "[1] \"hongk\" \"d105l\" \"eess1\" \"002yo\"\n"
            ],
            "text/latex": "\\begin{enumerate}\n\\item \\begin{enumerate*}\n\\item 'hongk'\n\\item 'd105l'\n\\item 'eess1'\n\\item '002yo'\n\\end{enumerate*}\n\n\\end{enumerate}\n",
            "text/markdown": "1. 1. 'hongk'\n2. 'd105l'\n3. 'eess1'\n4. '002yo'\n\n\n\n\n\n",
            "text/html": [
              "<ol>\n",
              "\t<li><style>\n",
              ".list-inline {list-style: none; margin:0; padding: 0}\n",
              ".list-inline>li {display: inline-block}\n",
              ".list-inline>li:not(:last-child)::after {content: \"\\00b7\"; padding: 0 .5ex}\n",
              "</style>\n",
              "<ol class=list-inline><li>'hongk'</li><li>'d105l'</li><li>'eess1'</li><li>'002yo'</li></ol>\n",
              "</li>\n",
              "</ol>\n"
            ]
          },
          "metadata": {
            "tags": []
          }
        }
      ]
    },
    {
      "cell_type": "code",
      "metadata": {
        "id": "A_gf8nRjzZ8R",
        "outputId": "43e8ea63-2ed3-4c37-bb18-8398587cf893",
        "colab": {
          "base_uri": "https://localhost:8080/",
          "height": 33
        }
      },
      "source": [
        "# 한 개의 숫자와 단어 관련 정규표현식\n",
        "jumin <- \"123456-1234567\"\n",
        "str_extract(jumin, \"[0-9]{6}-[1234][0-9]{6}\") "
      ],
      "execution_count": null,
      "outputs": [
        {
          "output_type": "display_data",
          "data": {
            "text/plain": [
              "[1] \"123456-1234567\""
            ],
            "text/latex": "'123456-1234567'",
            "text/markdown": "'123456-1234567'",
            "text/html": [
              "'123456-1234567'"
            ]
          },
          "metadata": {
            "tags": []
          }
        }
      ]
    },
    {
      "cell_type": "code",
      "metadata": {
        "id": "3NssE_0w0I6e",
        "outputId": "9743013c-2414-48df-b8ab-1d8f15d7dabe",
        "colab": {
          "base_uri": "https://localhost:8080/",
          "height": 33
        }
      },
      "source": [
        "str_extract(jumin, \"[0-9]{6}-[34][0-9]{6}\") "
      ],
      "execution_count": null,
      "outputs": [
        {
          "output_type": "display_data",
          "data": {
            "text/plain": [
              "[1] NA"
            ],
            "text/latex": "NA",
            "text/markdown": "NA",
            "text/html": [
              "NA"
            ]
          },
          "metadata": {
            "tags": []
          }
        }
      ]
    },
    {
      "cell_type": "code",
      "metadata": {
        "id": "QPG_ii5K0M5D",
        "outputId": "3e0d2dbf-7462-4eb9-a796-dde80fa91ef4",
        "colab": {
          "base_uri": "https://localhost:8080/",
          "height": 61
        }
      },
      "source": [
        "str_extract_all(jumin, \"\\\\d{6}-[1234]\\\\d{6}\") #d{6}: 숫자 6개"
      ],
      "execution_count": null,
      "outputs": [
        {
          "output_type": "display_data",
          "data": {
            "text/plain": [
              "[[1]]\n",
              "[1] \"123456-1234567\"\n"
            ],
            "text/latex": "\\begin{enumerate}\n\\item '123456-1234567'\n\\end{enumerate}\n",
            "text/markdown": "1. '123456-1234567'\n\n\n",
            "text/html": [
              "<ol>\n",
              "\t<li>'123456-1234567'</li>\n",
              "</ol>\n"
            ]
          },
          "metadata": {
            "tags": []
          }
        }
      ]
    },
    {
      "cell_type": "code",
      "metadata": {
        "id": "lE3r1AiW0j4Q",
        "outputId": "d61f912a-5a78-42ea-b98d-9214eef38070",
        "colab": {
          "base_uri": "https://localhost:8080/",
          "height": 61
        }
      },
      "source": [
        "name <- \"홍길동1234,이순신5678,강감찬1012\"\n",
        "str_extract_all(name, \"\\\\w{7,}\") # 7글자 이상의 단어(숫자 포함)만 추출"
      ],
      "execution_count": null,
      "outputs": [
        {
          "output_type": "display_data",
          "data": {
            "text/plain": [
              "[[1]]\n",
              "[1] \"홍길동1234\" \"이순신5678\" \"강감찬1012\"\n"
            ],
            "text/latex": "\\begin{enumerate}\n\\item \\begin{enumerate*}\n\\item '홍길동1234'\n\\item '이순신5678'\n\\item '강감찬1012'\n\\end{enumerate*}\n\n\\end{enumerate}\n",
            "text/markdown": "1. 1. '홍길동1234'\n2. '이순신5678'\n3. '강감찬1012'\n\n\n\n\n\n",
            "text/html": [
              "<ol>\n",
              "\t<li><style>\n",
              ".list-inline {list-style: none; margin:0; padding: 0}\n",
              ".list-inline>li {display: inline-block}\n",
              ".list-inline>li:not(:last-child)::after {content: \"\\00b7\"; padding: 0 .5ex}\n",
              "</style>\n",
              "<ol class=list-inline><li>'홍길동1234'</li><li>'이순신5678'</li><li>'강감찬1012'</li></ol>\n",
              "</li>\n",
              "</ol>\n"
            ]
          },
          "metadata": {
            "tags": []
          }
        }
      ]
    },
    {
      "cell_type": "code",
      "metadata": {
        "id": "lpBpWlsu1D-s",
        "outputId": "240f8857-9229-41cb-8e9b-fde2f8a429c2",
        "colab": {
          "base_uri": "https://localhost:8080/",
          "height": 33
        }
      },
      "source": [
        "# 문자열의 길이 구하기\n",
        "string <- \"hongkd105leess1002you25강감찬2005\"\n",
        "len <- str_length(string)\n",
        "len"
      ],
      "execution_count": null,
      "outputs": [
        {
          "output_type": "display_data",
          "data": {
            "text/plain": [
              "[1] 30"
            ],
            "text/latex": "30",
            "text/markdown": "30",
            "text/html": [
              "30"
            ]
          },
          "metadata": {
            "tags": []
          }
        }
      ]
    },
    {
      "cell_type": "code",
      "metadata": {
        "id": "cZvNrom11Xhg",
        "outputId": "472d9d00-876b-4139-80cf-cf2f6e76901d",
        "colab": {
          "base_uri": "https://localhost:8080/",
          "height": 103
        }
      },
      "source": [
        "str_locate(string,\"강감찬\")"
      ],
      "execution_count": null,
      "outputs": [
        {
          "output_type": "display_data",
          "data": {
            "text/plain": [
              "     start end\n",
              "[1,] 24    26 "
            ],
            "text/latex": "A matrix: 1 × 2 of type int\n\\begin{tabular}{ll}\n start & end\\\\\n\\hline\n\t 24 & 26\\\\\n\\end{tabular}\n",
            "text/markdown": "\nA matrix: 1 × 2 of type int\n\n| start | end |\n|---|---|\n| 24 | 26 |\n\n",
            "text/html": [
              "<table>\n",
              "<caption>A matrix: 1 × 2 of type int</caption>\n",
              "<thead>\n",
              "\t<tr><th scope=col>start</th><th scope=col>end</th></tr>\n",
              "</thead>\n",
              "<tbody>\n",
              "\t<tr><td>24</td><td>26</td></tr>\n",
              "</tbody>\n",
              "</table>\n"
            ]
          },
          "metadata": {
            "tags": []
          }
        }
      ]
    },
    {
      "cell_type": "code",
      "metadata": {
        "id": "MVElD7K61huy",
        "outputId": "20c56b4c-ae7b-4c42-dcd3-862306f326ff",
        "colab": {
          "base_uri": "https://localhost:8080/",
          "height": 33
        }
      },
      "source": [
        "# 부분 문자열 만들기\n",
        "string_sub <- str_sub(string, 1, len - 7) # 30 - 7 \n",
        "string_sub"
      ],
      "execution_count": null,
      "outputs": [
        {
          "output_type": "display_data",
          "data": {
            "text/plain": [
              "[1] \"hongkd105leess1002you25\""
            ],
            "text/latex": "'hongkd105leess1002you25'",
            "text/markdown": "'hongkd105leess1002you25'",
            "text/html": [
              "'hongkd105leess1002you25'"
            ]
          },
          "metadata": {
            "tags": []
          }
        }
      ]
    },
    {
      "cell_type": "code",
      "metadata": {
        "id": "AjQjrtMr2nnp",
        "outputId": "141c8106-36e6-455e-bca6-be0cfe013d5a",
        "colab": {
          "base_uri": "https://localhost:8080/",
          "height": 33
        }
      },
      "source": [
        "string_sub <- str_sub(string, 1, 23) # 문자열의 위치를 이용\n",
        "string_sub"
      ],
      "execution_count": null,
      "outputs": [
        {
          "output_type": "display_data",
          "data": {
            "text/plain": [
              "[1] \"hongkd105leess1002you25\""
            ],
            "text/latex": "'hongkd105leess1002you25'",
            "text/markdown": "'hongkd105leess1002you25'",
            "text/html": [
              "'hongkd105leess1002you25'"
            ]
          },
          "metadata": {
            "tags": []
          }
        }
      ]
    },
    {
      "cell_type": "code",
      "metadata": {
        "id": "QFRLIFoV25do",
        "outputId": "aa2a06fa-09ac-4feb-f7cc-1f7a60c916ce",
        "colab": {
          "base_uri": "https://localhost:8080/",
          "height": 33
        }
      },
      "source": [
        "ustr <- str_to_upper(string_sub);ustr"
      ],
      "execution_count": null,
      "outputs": [
        {
          "output_type": "display_data",
          "data": {
            "text/plain": [
              "[1] \"HONGKD105LEESS1002YOU25\""
            ],
            "text/latex": "'HONGKD105LEESS1002YOU25'",
            "text/markdown": "'HONGKD105LEESS1002YOU25'",
            "text/html": [
              "'HONGKD105LEESS1002YOU25'"
            ]
          },
          "metadata": {
            "tags": []
          }
        }
      ]
    },
    {
      "cell_type": "code",
      "metadata": {
        "id": "awEDUiAR3FPn",
        "outputId": "82e11a31-985c-4b0e-80f1-789dc6e2ed9d",
        "colab": {
          "base_uri": "https://localhost:8080/",
          "height": 33
        }
      },
      "source": [
        "str_to_lower(ustr)"
      ],
      "execution_count": null,
      "outputs": [
        {
          "output_type": "display_data",
          "data": {
            "text/plain": [
              "[1] \"hongkd105leess1002you25\""
            ],
            "text/latex": "'hongkd105leess1002you25'",
            "text/markdown": "'hongkd105leess1002you25'",
            "text/html": [
              "'hongkd105leess1002you25'"
            ]
          },
          "metadata": {
            "tags": []
          }
        }
      ]
    },
    {
      "cell_type": "code",
      "metadata": {
        "id": "jIsbkz5U3N4L",
        "outputId": "b3acdd79-7e34-487a-d455-f3d583d3949d",
        "colab": {
          "base_uri": "https://localhost:8080/",
          "height": 66
        }
      },
      "source": [
        "# 문자열 교체하기\n",
        "string_rep <- str_replace(string_sub, \"hongkd105\", \"홍길동35,\")\n",
        "string_rep\n",
        "string_rep <- str_replace(string_rep, \"leess1002\", \"이순신45,\")\n",
        "string_rep\n",
        "string_rep <- str_replace(string_rep, \"you25\", \"유관순25,\")\n",
        "string_rep"
      ],
      "execution_count": null,
      "outputs": [
        {
          "output_type": "display_data",
          "data": {
            "text/plain": [
              "[1] \"홍길동35,leess1002you25\""
            ],
            "text/latex": "'홍길동35,leess1002you25'",
            "text/markdown": "'홍길동35,leess1002you25'",
            "text/html": [
              "'홍길동35,leess1002you25'"
            ]
          },
          "metadata": {
            "tags": []
          }
        },
        {
          "output_type": "display_data",
          "data": {
            "text/plain": [
              "[1] \"홍길동35,이순신45,you25\""
            ],
            "text/latex": "'홍길동35,이순신45,you25'",
            "text/markdown": "'홍길동35,이순신45,you25'",
            "text/html": [
              "'홍길동35,이순신45,you25'"
            ]
          },
          "metadata": {
            "tags": []
          }
        },
        {
          "output_type": "display_data",
          "data": {
            "text/plain": [
              "[1] \"홍길동35,이순신45,유관순25,\""
            ],
            "text/latex": "'홍길동35,이순신45,유관순25,'",
            "text/markdown": "'홍길동35,이순신45,유관순25,'",
            "text/html": [
              "'홍길동35,이순신45,유관순25,'"
            ]
          },
          "metadata": {
            "tags": []
          }
        }
      ]
    },
    {
      "cell_type": "code",
      "metadata": {
        "id": "6aLxfjXc4Cje",
        "outputId": "0a5351e8-5ef2-4c3a-ecfb-8e2ea33bb2e6",
        "colab": {
          "base_uri": "https://localhost:8080/",
          "height": 33
        }
      },
      "source": [
        "# 문자열 결합하기\n",
        "string_c <- str_c(string_rep, \"강감찬55\")\n",
        "string_c"
      ],
      "execution_count": null,
      "outputs": [
        {
          "output_type": "display_data",
          "data": {
            "text/plain": [
              "[1] \"홍길동35,이순신45,유관순25,강감찬55\""
            ],
            "text/latex": "'홍길동35,이순신45,유관순25,강감찬55'",
            "text/markdown": "'홍길동35,이순신45,유관순25,강감찬55'",
            "text/html": [
              "'홍길동35,이순신45,유관순25,강감찬55'"
            ]
          },
          "metadata": {
            "tags": []
          }
        }
      ]
    },
    {
      "cell_type": "code",
      "metadata": {
        "id": "mxak_a8O4h5C",
        "outputId": "34182bb7-7648-4732-fdd0-4b31fc412af3",
        "colab": {
          "base_uri": "https://localhost:8080/",
          "height": 61
        }
      },
      "source": [
        "string_sp <- str_split(string_c,\",\")\n",
        "string_sp"
      ],
      "execution_count": null,
      "outputs": [
        {
          "output_type": "display_data",
          "data": {
            "text/plain": [
              "[[1]]\n",
              "[1] \"홍길동35\" \"이순신45\" \"유관순25\" \"강감찬55\"\n"
            ],
            "text/latex": "\\begin{enumerate}\n\\item \\begin{enumerate*}\n\\item '홍길동35'\n\\item '이순신45'\n\\item '유관순25'\n\\item '강감찬55'\n\\end{enumerate*}\n\n\\end{enumerate}\n",
            "text/markdown": "1. 1. '홍길동35'\n2. '이순신45'\n3. '유관순25'\n4. '강감찬55'\n\n\n\n\n\n",
            "text/html": [
              "<ol>\n",
              "\t<li><style>\n",
              ".list-inline {list-style: none; margin:0; padding: 0}\n",
              ".list-inline>li {display: inline-block}\n",
              ".list-inline>li:not(:last-child)::after {content: \"\\00b7\"; padding: 0 .5ex}\n",
              "</style>\n",
              "<ol class=list-inline><li>'홍길동35'</li><li>'이순신45'</li><li>'유관순25'</li><li>'강감찬55'</li></ol>\n",
              "</li>\n",
              "</ol>\n"
            ]
          },
          "metadata": {
            "tags": []
          }
        }
      ]
    },
    {
      "cell_type": "code",
      "metadata": {
        "id": "LBV1K3Fd41hm",
        "outputId": "d216cef7-3581-4a55-f68b-84e1465da138",
        "colab": {
          "base_uri": "https://localhost:8080/",
          "height": 33
        }
      },
      "source": [
        "string_vec <- c(\"홍길동35\",\"이순신45\",\"유관순25\",\"강감찬55\")\n",
        "string_vec"
      ],
      "execution_count": null,
      "outputs": [
        {
          "output_type": "display_data",
          "data": {
            "text/plain": [
              "[1] \"홍길동35\" \"이순신45\" \"유관순25\" \"강감찬55\""
            ],
            "text/latex": "\\begin{enumerate*}\n\\item '홍길동35'\n\\item '이순신45'\n\\item '유관순25'\n\\item '강감찬55'\n\\end{enumerate*}\n",
            "text/markdown": "1. '홍길동35'\n2. '이순신45'\n3. '유관순25'\n4. '강감찬55'\n\n\n",
            "text/html": [
              "<style>\n",
              ".list-inline {list-style: none; margin:0; padding: 0}\n",
              ".list-inline>li {display: inline-block}\n",
              ".list-inline>li:not(:last-child)::after {content: \"\\00b7\"; padding: 0 .5ex}\n",
              "</style>\n",
              "<ol class=list-inline><li>'홍길동35'</li><li>'이순신45'</li><li>'유관순25'</li><li>'강감찬55'</li></ol>\n"
            ]
          },
          "metadata": {
            "tags": []
          }
        }
      ]
    },
    {
      "cell_type": "code",
      "metadata": {
        "id": "zUJ7Lz6n5uvN",
        "outputId": "0915bc61-9b73-4f09-c017-c33604adf81f",
        "colab": {
          "base_uri": "https://localhost:8080/",
          "height": 33
        }
      },
      "source": [
        "string_join <- paste(string_vec, collapse = \",\")\n",
        "string_join"
      ],
      "execution_count": null,
      "outputs": [
        {
          "output_type": "display_data",
          "data": {
            "text/plain": [
              "[1] \"홍길동35,이순신45,유관순25,강감찬55\""
            ],
            "text/latex": "'홍길동35,이순신45,유관순25,강감찬55'",
            "text/markdown": "'홍길동35,이순신45,유관순25,강감찬55'",
            "text/html": [
              "'홍길동35,이순신45,유관순25,강감찬55'"
            ]
          },
          "metadata": {
            "tags": []
          }
        }
      ]
    }
  ]
}