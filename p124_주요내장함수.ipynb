{
  "nbformat": 4,
  "nbformat_minor": 0,
  "metadata": {
    "colab": {
      "name": "p124_주요내장함수.ipynb",
      "provenance": [],
      "collapsed_sections": [],
      "authorship_tag": "ABX9TyP78KMoa7LYNW+wkYtHYGz3",
      "include_colab_link": true
    },
    "kernelspec": {
      "name": "ir",
      "display_name": "R"
    }
  },
  "cells": [
    {
      "cell_type": "markdown",
      "metadata": {
        "id": "view-in-github",
        "colab_type": "text"
      },
      "source": [
        "<a href=\"https://colab.research.google.com/github/gyujin0450/RPRG/blob/master/p124_%EC%A3%BC%EC%9A%94%EB%82%B4%EC%9E%A5%ED%95%A8%EC%88%98.ipynb\" target=\"_parent\"><img src=\"https://colab.research.google.com/assets/colab-badge.svg\" alt=\"Open In Colab\"/></a>"
      ]
    },
    {
      "cell_type": "markdown",
      "metadata": {
        "id": "3sd_L00FGuNh"
      },
      "source": [
        "ch05.5 주요내장함수"
      ]
    },
    {
      "cell_type": "code",
      "metadata": {
        "id": "qLU5YoK_G4sK"
      },
      "source": [
        "# 기술통계량 내장함수 ( v : vector, x : ??)\n",
        "# min(v), max(v), range(v), mean(v), median(v), sum(v)\n",
        "# sd(v), summary(v), table(v)\n",
        "# sort(v)  : 벡터 데이터 정렬 함수\n",
        "# order(x) : 벡터의 정렬된 값의 색인(index)을 보여주는 함수\n",
        "# rank(x)  : 벡터의 각 원소의 순위를 제공하는 함수\n",
        "# sample(x,y) : x 범위에서 y 만큼 sample 데이터를 생성하는 함수"
      ],
      "execution_count": null,
      "outputs": []
    },
    {
      "cell_type": "code",
      "metadata": {
        "id": "VSlO3uiUL_up"
      },
      "source": [
        "## 행/컬럼 단위의 합계와 평균 구하기(p125)"
      ],
      "execution_count": null,
      "outputs": []
    },
    {
      "cell_type": "code",
      "metadata": {
        "id": "YlyGPji4JmJ2",
        "outputId": "4df984db-a676-45ad-d9e3-425b30810f03",
        "colab": {
          "base_uri": "https://localhost:8080/",
          "height": 71
        }
      },
      "source": [
        "# 데이터셋 불러오기\n",
        "install.packages(\"RSADBE\")\n",
        "library(RSADBE)"
      ],
      "execution_count": 2,
      "outputs": [
        {
          "output_type": "stream",
          "text": [
            "Installing package into ‘/usr/local/lib/R/site-library’\n",
            "(as ‘lib’ is unspecified)\n",
            "\n"
          ],
          "name": "stderr"
        }
      ]
    },
    {
      "cell_type": "code",
      "metadata": {
        "id": "iiucP9bsJ5eX",
        "outputId": "2cf7e742-148c-4014-a96c-9f37f6ad42c7",
        "colab": {
          "base_uri": "https://localhost:8080/",
          "height": 359
        }
      },
      "source": [
        "data(\"Bug_Metrics_Software\")\n",
        "Bug_Metrics_Software"
      ],
      "execution_count": 8,
      "outputs": [
        {
          "output_type": "display_data",
          "data": {
            "text/plain": [
              ", , BA_Ind = Before\n",
              "\n",
              "         Bugs\n",
              "Software   Bugs NT.Bugs Major Critical H.Priority\n",
              "  JDT     11605   10119  1135      432        459\n",
              "  PDE      5803    4191   362      100         96\n",
              "  Equinox   325    1393   156       71         14\n",
              "  Lucene   1714    1714     0        0          0\n",
              "  Mylyn   14577    6806   592      235       8804\n",
              "\n",
              ", , BA_Ind = After\n",
              "\n",
              "         Bugs\n",
              "Software   Bugs NT.Bugs Major Critical H.Priority\n",
              "  JDT       374      17    35       10          3\n",
              "  PDE       341      14    57        6          0\n",
              "  Equinox   244       3     4        1          0\n",
              "  Lucene     97       0     0        0          0\n",
              "  Mylyn     340     187    18        3         36\n"
            ]
          },
          "metadata": {
            "tags": []
          }
        }
      ]
    },
    {
      "cell_type": "code",
      "metadata": {
        "id": "roY3HQdPKoLc",
        "outputId": "e2db7974-532c-42a2-d497-174770e88b7c",
        "colab": {
          "base_uri": "https://localhost:8080/",
          "height": 34
        }
      },
      "source": [
        "rowSums(Bug_Metrics_Software[,,1]) # Before의 행 단위 합 구하기"
      ],
      "execution_count": 13,
      "outputs": [
        {
          "output_type": "display_data",
          "data": {
            "text/plain": [
              "    JDT     PDE Equinox  Lucene   Mylyn \n",
              "  23750   10552    1959    3428   31014 "
            ],
            "text/latex": "\\begin{description*}\n\\item[JDT] 23750\n\\item[PDE] 10552\n\\item[Equinox] 1959\n\\item[Lucene] 3428\n\\item[Mylyn] 31014\n\\end{description*}\n",
            "text/markdown": "JDT\n:   23750PDE\n:   10552Equinox\n:   1959Lucene\n:   3428Mylyn\n:   31014\n\n",
            "text/html": [
              "<style>\n",
              ".dl-inline {width: auto; margin:0; padding: 0}\n",
              ".dl-inline>dt, .dl-inline>dd {float: none; width: auto; display: inline-block}\n",
              ".dl-inline>dt::after {content: \":\\0020\"; padding-right: .5ex}\n",
              ".dl-inline>dt:not(:first-of-type) {padding-left: .5ex}\n",
              "</style><dl class=dl-inline><dt>JDT</dt><dd>23750</dd><dt>PDE</dt><dd>10552</dd><dt>Equinox</dt><dd>1959</dd><dt>Lucene</dt><dd>3428</dd><dt>Mylyn</dt><dd>31014</dd></dl>\n"
            ]
          },
          "metadata": {
            "tags": []
          }
        }
      ]
    },
    {
      "cell_type": "code",
      "metadata": {
        "id": "gErHGscOLBe9",
        "outputId": "c06344d5-e93b-4984-ec05-c8921f5e7ecd",
        "colab": {
          "base_uri": "https://localhost:8080/",
          "height": 34
        }
      },
      "source": [
        "rowMeans(Bug_Metrics_Software[,,1]) # Before의 행 단위 평균 구하기"
      ],
      "execution_count": 11,
      "outputs": [
        {
          "output_type": "display_data",
          "data": {
            "text/plain": [
              "    JDT     PDE Equinox  Lucene   Mylyn \n",
              " 4750.0  2110.4   391.8   685.6  6202.8 "
            ],
            "text/latex": "\\begin{description*}\n\\item[JDT] 4750\n\\item[PDE] 2110.4\n\\item[Equinox] 391.8\n\\item[Lucene] 685.6\n\\item[Mylyn] 6202.8\n\\end{description*}\n",
            "text/markdown": "JDT\n:   4750PDE\n:   2110.4Equinox\n:   391.8Lucene\n:   685.6Mylyn\n:   6202.8\n\n",
            "text/html": [
              "<style>\n",
              ".dl-inline {width: auto; margin:0; padding: 0}\n",
              ".dl-inline>dt, .dl-inline>dd {float: none; width: auto; display: inline-block}\n",
              ".dl-inline>dt::after {content: \":\\0020\"; padding-right: .5ex}\n",
              ".dl-inline>dt:not(:first-of-type) {padding-left: .5ex}\n",
              "</style><dl class=dl-inline><dt>JDT</dt><dd>4750</dd><dt>PDE</dt><dd>2110.4</dd><dt>Equinox</dt><dd>391.8</dd><dt>Lucene</dt><dd>685.6</dd><dt>Mylyn</dt><dd>6202.8</dd></dl>\n"
            ]
          },
          "metadata": {
            "tags": []
          }
        }
      ]
    },
    {
      "cell_type": "code",
      "metadata": {
        "id": "U1GaMKRCLoqu",
        "outputId": "aeb3cb33-cc45-42d5-b967-7feb7c88f295",
        "colab": {
          "base_uri": "https://localhost:8080/",
          "height": 34
        }
      },
      "source": [
        "colSums(Bug_Metrics_Software[,,1]) # Before의 열 단위 합 구하기"
      ],
      "execution_count": 15,
      "outputs": [
        {
          "output_type": "display_data",
          "data": {
            "text/plain": [
              "      Bugs    NT.Bugs      Major   Critical H.Priority \n",
              "     34024      24223       2245        838       9373 "
            ],
            "text/latex": "\\begin{description*}\n\\item[Bugs] 34024\n\\item[NT.Bugs] 24223\n\\item[Major] 2245\n\\item[Critical] 838\n\\item[H.Priority] 9373\n\\end{description*}\n",
            "text/markdown": "Bugs\n:   34024NT.Bugs\n:   24223Major\n:   2245Critical\n:   838H.Priority\n:   9373\n\n",
            "text/html": [
              "<style>\n",
              ".dl-inline {width: auto; margin:0; padding: 0}\n",
              ".dl-inline>dt, .dl-inline>dd {float: none; width: auto; display: inline-block}\n",
              ".dl-inline>dt::after {content: \":\\0020\"; padding-right: .5ex}\n",
              ".dl-inline>dt:not(:first-of-type) {padding-left: .5ex}\n",
              "</style><dl class=dl-inline><dt>Bugs</dt><dd>34024</dd><dt>NT.Bugs</dt><dd>24223</dd><dt>Major</dt><dd>2245</dd><dt>Critical</dt><dd>838</dd><dt>H.Priority</dt><dd>9373</dd></dl>\n"
            ]
          },
          "metadata": {
            "tags": []
          }
        }
      ]
    },
    {
      "cell_type": "code",
      "metadata": {
        "id": "cREUV2y5LtJb",
        "outputId": "35bf0cda-3744-4de4-c4a6-169b2ba79a73",
        "colab": {
          "base_uri": "https://localhost:8080/",
          "height": 34
        }
      },
      "source": [
        "colMeans(Bug_Metrics_Software[,,1]) # Before의 열 단위 평균 구하기"
      ],
      "execution_count": 16,
      "outputs": [
        {
          "output_type": "display_data",
          "data": {
            "text/plain": [
              "      Bugs    NT.Bugs      Major   Critical H.Priority \n",
              "    6804.8     4844.6      449.0      167.6     1874.6 "
            ],
            "text/latex": "\\begin{description*}\n\\item[Bugs] 6804.8\n\\item[NT.Bugs] 4844.6\n\\item[Major] 449\n\\item[Critical] 167.6\n\\item[H.Priority] 1874.6\n\\end{description*}\n",
            "text/markdown": "Bugs\n:   6804.8NT.Bugs\n:   4844.6Major\n:   449Critical\n:   167.6H.Priority\n:   1874.6\n\n",
            "text/html": [
              "<style>\n",
              ".dl-inline {width: auto; margin:0; padding: 0}\n",
              ".dl-inline>dt, .dl-inline>dd {float: none; width: auto; display: inline-block}\n",
              ".dl-inline>dt::after {content: \":\\0020\"; padding-right: .5ex}\n",
              ".dl-inline>dt:not(:first-of-type) {padding-left: .5ex}\n",
              "</style><dl class=dl-inline><dt>Bugs</dt><dd>6804.8</dd><dt>NT.Bugs</dt><dd>4844.6</dd><dt>Major</dt><dd>449</dd><dt>Critical</dt><dd>167.6</dd><dt>H.Priority</dt><dd>1874.6</dd></dl>\n"
            ]
          },
          "metadata": {
            "tags": []
          }
        }
      ]
    },
    {
      "cell_type": "code",
      "metadata": {
        "id": "xFXRUF7xL6Uc",
        "outputId": "bf89bdf6-692b-4ecc-9e47-40474f6b077e",
        "colab": {
          "base_uri": "https://localhost:8080/",
          "height": 34
        }
      },
      "source": [
        "## 기술통계량 관련 내장함수 사용하기\n",
        "seq(-2,2,by=.2) # -2 ~ 2 까지 0.2 씩 증가"
      ],
      "execution_count": 17,
      "outputs": [
        {
          "output_type": "display_data",
          "data": {
            "text/plain": [
              " [1] -2.0 -1.8 -1.6 -1.4 -1.2 -1.0 -0.8 -0.6 -0.4 -0.2  0.0  0.2  0.4  0.6  0.8\n",
              "[16]  1.0  1.2  1.4  1.6  1.8  2.0"
            ],
            "text/latex": "\\begin{enumerate*}\n\\item -2\n\\item -1.8\n\\item -1.6\n\\item -1.4\n\\item -1.2\n\\item -1\n\\item -0.8\n\\item -0.6\n\\item -0.4\n\\item -0.2\n\\item 0\n\\item 0.2\n\\item 0.4\n\\item 0.6\n\\item 0.8\n\\item 1\n\\item 1.2\n\\item 1.4\n\\item 1.6\n\\item 1.8\n\\item 2\n\\end{enumerate*}\n",
            "text/markdown": "1. -2\n2. -1.8\n3. -1.6\n4. -1.4\n5. -1.2\n6. -1\n7. -0.8\n8. -0.6\n9. -0.4\n10. -0.2\n11. 0\n12. 0.2\n13. 0.4\n14. 0.6\n15. 0.8\n16. 1\n17. 1.2\n18. 1.4\n19. 1.6\n20. 1.8\n21. 2\n\n\n",
            "text/html": [
              "<style>\n",
              ".list-inline {list-style: none; margin:0; padding: 0}\n",
              ".list-inline>li {display: inline-block}\n",
              ".list-inline>li:not(:last-child)::after {content: \"\\00b7\"; padding: 0 .5ex}\n",
              "</style>\n",
              "<ol class=list-inline><li>-2</li><li>-1.8</li><li>-1.6</li><li>-1.4</li><li>-1.2</li><li>-1</li><li>-0.8</li><li>-0.6</li><li>-0.4</li><li>-0.2</li><li>0</li><li>0.2</li><li>0.4</li><li>0.6</li><li>0.8</li><li>1</li><li>1.2</li><li>1.4</li><li>1.6</li><li>1.8</li><li>2</li></ol>\n"
            ]
          },
          "metadata": {
            "tags": []
          }
        }
      ]
    },
    {
      "cell_type": "code",
      "metadata": {
        "id": "syiT92SnMgmm",
        "outputId": "6a77d492-eab1-49d5-ea20-4c7ad7c1d3d3",
        "colab": {
          "base_uri": "https://localhost:8080/",
          "height": 34
        }
      },
      "source": [
        "v <- seq(20,1, by=-2)\n",
        "v"
      ],
      "execution_count": 35,
      "outputs": [
        {
          "output_type": "display_data",
          "data": {
            "text/plain": [
              " [1] 20 18 16 14 12 10  8  6  4  2"
            ],
            "text/latex": "\\begin{enumerate*}\n\\item 20\n\\item 18\n\\item 16\n\\item 14\n\\item 12\n\\item 10\n\\item 8\n\\item 6\n\\item 4\n\\item 2\n\\end{enumerate*}\n",
            "text/markdown": "1. 20\n2. 18\n3. 16\n4. 14\n5. 12\n6. 10\n7. 8\n8. 6\n9. 4\n10. 2\n\n\n",
            "text/html": [
              "<style>\n",
              ".list-inline {list-style: none; margin:0; padding: 0}\n",
              ".list-inline>li {display: inline-block}\n",
              ".list-inline>li:not(:last-child)::after {content: \"\\00b7\"; padding: 0 .5ex}\n",
              "</style>\n",
              "<ol class=list-inline><li>20</li><li>18</li><li>16</li><li>14</li><li>12</li><li>10</li><li>8</li><li>6</li><li>4</li><li>2</li></ol>\n"
            ]
          },
          "metadata": {
            "tags": []
          }
        }
      ]
    },
    {
      "cell_type": "code",
      "metadata": {
        "id": "95GvAZ8BMo3x",
        "outputId": "f79164b9-4e27-461c-ce31-376fdd243647",
        "colab": {
          "base_uri": "https://localhost:8080/",
          "height": 119
        }
      },
      "source": [
        "min(v);max(v);range(v);mean(v);median(v);sum(v)"
      ],
      "execution_count": 36,
      "outputs": [
        {
          "output_type": "display_data",
          "data": {
            "text/plain": [
              "[1] 2"
            ],
            "text/latex": "2",
            "text/markdown": "2",
            "text/html": [
              "2"
            ]
          },
          "metadata": {
            "tags": []
          }
        },
        {
          "output_type": "display_data",
          "data": {
            "text/plain": [
              "[1] 20"
            ],
            "text/latex": "20",
            "text/markdown": "20",
            "text/html": [
              "20"
            ]
          },
          "metadata": {
            "tags": []
          }
        },
        {
          "output_type": "display_data",
          "data": {
            "text/plain": [
              "[1]  2 20"
            ],
            "text/latex": "\\begin{enumerate*}\n\\item 2\n\\item 20\n\\end{enumerate*}\n",
            "text/markdown": "1. 2\n2. 20\n\n\n",
            "text/html": [
              "<style>\n",
              ".list-inline {list-style: none; margin:0; padding: 0}\n",
              ".list-inline>li {display: inline-block}\n",
              ".list-inline>li:not(:last-child)::after {content: \"\\00b7\"; padding: 0 .5ex}\n",
              "</style>\n",
              "<ol class=list-inline><li>2</li><li>20</li></ol>\n"
            ]
          },
          "metadata": {
            "tags": []
          }
        },
        {
          "output_type": "display_data",
          "data": {
            "text/plain": [
              "[1] 11"
            ],
            "text/latex": "11",
            "text/markdown": "11",
            "text/html": [
              "11"
            ]
          },
          "metadata": {
            "tags": []
          }
        },
        {
          "output_type": "display_data",
          "data": {
            "text/plain": [
              "[1] 11"
            ],
            "text/latex": "11",
            "text/markdown": "11",
            "text/html": [
              "11"
            ]
          },
          "metadata": {
            "tags": []
          }
        },
        {
          "output_type": "display_data",
          "data": {
            "text/plain": [
              "[1] 110"
            ],
            "text/latex": "110",
            "text/markdown": "110",
            "text/html": [
              "110"
            ]
          },
          "metadata": {
            "tags": []
          }
        }
      ]
    },
    {
      "cell_type": "code",
      "metadata": {
        "id": "V3S_nBF0M6SW",
        "outputId": "411952e2-ef91-4eb2-cef3-f558a9bfc65e",
        "colab": {
          "base_uri": "https://localhost:8080/",
          "height": 34
        }
      },
      "source": [
        "sd(v)"
      ],
      "execution_count": 37,
      "outputs": [
        {
          "output_type": "display_data",
          "data": {
            "text/plain": [
              "[1] 6.055301"
            ],
            "text/latex": "6.05530070819498",
            "text/markdown": "6.05530070819498",
            "text/html": [
              "6.05530070819498"
            ]
          },
          "metadata": {
            "tags": []
          }
        }
      ]
    },
    {
      "cell_type": "code",
      "metadata": {
        "id": "vluyhcI5NHHH",
        "outputId": "196c2dad-1759-445f-c55d-ee7c3ad0080e",
        "colab": {
          "base_uri": "https://localhost:8080/",
          "height": 53
        }
      },
      "source": [
        "summary(v)"
      ],
      "execution_count": 38,
      "outputs": [
        {
          "output_type": "display_data",
          "data": {
            "text/plain": [
              "   Min. 1st Qu.  Median    Mean 3rd Qu.    Max. \n",
              "    2.0     6.5    11.0    11.0    15.5    20.0 "
            ]
          },
          "metadata": {
            "tags": []
          }
        }
      ]
    },
    {
      "cell_type": "code",
      "metadata": {
        "id": "Qg0hEj63NM5s",
        "outputId": "76346c7f-e95f-4aa2-b124-763e80c78d7a",
        "colab": {
          "base_uri": "https://localhost:8080/",
          "height": 71
        }
      },
      "source": [
        "table(v)"
      ],
      "execution_count": 39,
      "outputs": [
        {
          "output_type": "display_data",
          "data": {
            "text/plain": [
              "v\n",
              " 2  4  6  8 10 12 14 16 18 20 \n",
              " 1  1  1  1  1  1  1  1  1  1 "
            ]
          },
          "metadata": {
            "tags": []
          }
        }
      ]
    },
    {
      "cell_type": "code",
      "metadata": {
        "id": "ujKAJpVnNTKg",
        "outputId": "33763fc7-7646-469e-dd60-1437f08ece4e",
        "colab": {
          "base_uri": "https://localhost:8080/",
          "height": 68
        }
      },
      "source": [
        "# sort(v)  : 벡터 데이터 정렬 함수\n",
        "# order(x) : 벡터의 정렬된 값의 색인(index)을 보여주는 함수\n",
        "# https://rfriend.tistory.com/50\n",
        "v\n",
        "sort(v)\n",
        "sort(v, decreasing = T) # 내림차순 정렬"
      ],
      "execution_count": 47,
      "outputs": [
        {
          "output_type": "display_data",
          "data": {
            "text/plain": [
              " [1] 20 18 16 14 12 10  8  6  4  2"
            ],
            "text/latex": "\\begin{enumerate*}\n\\item 20\n\\item 18\n\\item 16\n\\item 14\n\\item 12\n\\item 10\n\\item 8\n\\item 6\n\\item 4\n\\item 2\n\\end{enumerate*}\n",
            "text/markdown": "1. 20\n2. 18\n3. 16\n4. 14\n5. 12\n6. 10\n7. 8\n8. 6\n9. 4\n10. 2\n\n\n",
            "text/html": [
              "<style>\n",
              ".list-inline {list-style: none; margin:0; padding: 0}\n",
              ".list-inline>li {display: inline-block}\n",
              ".list-inline>li:not(:last-child)::after {content: \"\\00b7\"; padding: 0 .5ex}\n",
              "</style>\n",
              "<ol class=list-inline><li>20</li><li>18</li><li>16</li><li>14</li><li>12</li><li>10</li><li>8</li><li>6</li><li>4</li><li>2</li></ol>\n"
            ]
          },
          "metadata": {
            "tags": []
          }
        },
        {
          "output_type": "display_data",
          "data": {
            "text/plain": [
              " [1]  2  4  6  8 10 12 14 16 18 20"
            ],
            "text/latex": "\\begin{enumerate*}\n\\item 2\n\\item 4\n\\item 6\n\\item 8\n\\item 10\n\\item 12\n\\item 14\n\\item 16\n\\item 18\n\\item 20\n\\end{enumerate*}\n",
            "text/markdown": "1. 2\n2. 4\n3. 6\n4. 8\n5. 10\n6. 12\n7. 14\n8. 16\n9. 18\n10. 20\n\n\n",
            "text/html": [
              "<style>\n",
              ".list-inline {list-style: none; margin:0; padding: 0}\n",
              ".list-inline>li {display: inline-block}\n",
              ".list-inline>li:not(:last-child)::after {content: \"\\00b7\"; padding: 0 .5ex}\n",
              "</style>\n",
              "<ol class=list-inline><li>2</li><li>4</li><li>6</li><li>8</li><li>10</li><li>12</li><li>14</li><li>16</li><li>18</li><li>20</li></ol>\n"
            ]
          },
          "metadata": {
            "tags": []
          }
        },
        {
          "output_type": "display_data",
          "data": {
            "text/plain": [
              " [1] 20 18 16 14 12 10  8  6  4  2"
            ],
            "text/latex": "\\begin{enumerate*}\n\\item 20\n\\item 18\n\\item 16\n\\item 14\n\\item 12\n\\item 10\n\\item 8\n\\item 6\n\\item 4\n\\item 2\n\\end{enumerate*}\n",
            "text/markdown": "1. 20\n2. 18\n3. 16\n4. 14\n5. 12\n6. 10\n7. 8\n8. 6\n9. 4\n10. 2\n\n\n",
            "text/html": [
              "<style>\n",
              ".list-inline {list-style: none; margin:0; padding: 0}\n",
              ".list-inline>li {display: inline-block}\n",
              ".list-inline>li:not(:last-child)::after {content: \"\\00b7\"; padding: 0 .5ex}\n",
              "</style>\n",
              "<ol class=list-inline><li>20</li><li>18</li><li>16</li><li>14</li><li>12</li><li>10</li><li>8</li><li>6</li><li>4</li><li>2</li></ol>\n"
            ]
          },
          "metadata": {
            "tags": []
          }
        }
      ]
    },
    {
      "cell_type": "code",
      "metadata": {
        "id": "-0Ol-rwINY1G",
        "outputId": "9b09ab70-69fd-4508-aec8-30afeef566eb",
        "colab": {
          "base_uri": "https://localhost:8080/",
          "height": 51
        }
      },
      "source": [
        "order(v)\n",
        "v[order(v)]"
      ],
      "execution_count": 48,
      "outputs": [
        {
          "output_type": "display_data",
          "data": {
            "text/plain": [
              " [1] 10  9  8  7  6  5  4  3  2  1"
            ],
            "text/latex": "\\begin{enumerate*}\n\\item 10\n\\item 9\n\\item 8\n\\item 7\n\\item 6\n\\item 5\n\\item 4\n\\item 3\n\\item 2\n\\item 1\n\\end{enumerate*}\n",
            "text/markdown": "1. 10\n2. 9\n3. 8\n4. 7\n5. 6\n6. 5\n7. 4\n8. 3\n9. 2\n10. 1\n\n\n",
            "text/html": [
              "<style>\n",
              ".list-inline {list-style: none; margin:0; padding: 0}\n",
              ".list-inline>li {display: inline-block}\n",
              ".list-inline>li:not(:last-child)::after {content: \"\\00b7\"; padding: 0 .5ex}\n",
              "</style>\n",
              "<ol class=list-inline><li>10</li><li>9</li><li>8</li><li>7</li><li>6</li><li>5</li><li>4</li><li>3</li><li>2</li><li>1</li></ol>\n"
            ]
          },
          "metadata": {
            "tags": []
          }
        },
        {
          "output_type": "display_data",
          "data": {
            "text/plain": [
              " [1]  2  4  6  8 10 12 14 16 18 20"
            ],
            "text/latex": "\\begin{enumerate*}\n\\item 2\n\\item 4\n\\item 6\n\\item 8\n\\item 10\n\\item 12\n\\item 14\n\\item 16\n\\item 18\n\\item 20\n\\end{enumerate*}\n",
            "text/markdown": "1. 2\n2. 4\n3. 6\n4. 8\n5. 10\n6. 12\n7. 14\n8. 16\n9. 18\n10. 20\n\n\n",
            "text/html": [
              "<style>\n",
              ".list-inline {list-style: none; margin:0; padding: 0}\n",
              ".list-inline>li {display: inline-block}\n",
              ".list-inline>li:not(:last-child)::after {content: \"\\00b7\"; padding: 0 .5ex}\n",
              "</style>\n",
              "<ol class=list-inline><li>2</li><li>4</li><li>6</li><li>8</li><li>10</li><li>12</li><li>14</li><li>16</li><li>18</li><li>20</li></ol>\n"
            ]
          },
          "metadata": {
            "tags": []
          }
        }
      ]
    },
    {
      "cell_type": "code",
      "metadata": {
        "id": "CPAIlYoROuk1",
        "outputId": "3aeb5301-effe-4552-ff5d-77579605ec84",
        "colab": {
          "base_uri": "https://localhost:8080/",
          "height": 68
        }
      },
      "source": [
        "# sample(x,y) : x 범위에서 y 만큼 sample 데이터를 생성하는 함수\n",
        "sample(v,2);sample(v,2);sample(v,2)"
      ],
      "execution_count": 45,
      "outputs": [
        {
          "output_type": "display_data",
          "data": {
            "text/plain": [
              "[1]  6 10"
            ],
            "text/latex": "\\begin{enumerate*}\n\\item 6\n\\item 10\n\\end{enumerate*}\n",
            "text/markdown": "1. 6\n2. 10\n\n\n",
            "text/html": [
              "<style>\n",
              ".list-inline {list-style: none; margin:0; padding: 0}\n",
              ".list-inline>li {display: inline-block}\n",
              ".list-inline>li:not(:last-child)::after {content: \"\\00b7\"; padding: 0 .5ex}\n",
              "</style>\n",
              "<ol class=list-inline><li>6</li><li>10</li></ol>\n"
            ]
          },
          "metadata": {
            "tags": []
          }
        },
        {
          "output_type": "display_data",
          "data": {
            "text/plain": [
              "[1]  2 16"
            ],
            "text/latex": "\\begin{enumerate*}\n\\item 2\n\\item 16\n\\end{enumerate*}\n",
            "text/markdown": "1. 2\n2. 16\n\n\n",
            "text/html": [
              "<style>\n",
              ".list-inline {list-style: none; margin:0; padding: 0}\n",
              ".list-inline>li {display: inline-block}\n",
              ".list-inline>li:not(:last-child)::after {content: \"\\00b7\"; padding: 0 .5ex}\n",
              "</style>\n",
              "<ol class=list-inline><li>2</li><li>16</li></ol>\n"
            ]
          },
          "metadata": {
            "tags": []
          }
        },
        {
          "output_type": "display_data",
          "data": {
            "text/plain": [
              "[1]  2 18"
            ],
            "text/latex": "\\begin{enumerate*}\n\\item 2\n\\item 18\n\\end{enumerate*}\n",
            "text/markdown": "1. 2\n2. 18\n\n\n",
            "text/html": [
              "<style>\n",
              ".list-inline {list-style: none; margin:0; padding: 0}\n",
              ".list-inline>li {display: inline-block}\n",
              ".list-inline>li:not(:last-child)::after {content: \"\\00b7\"; padding: 0 .5ex}\n",
              "</style>\n",
              "<ol class=list-inline><li>2</li><li>18</li></ol>\n"
            ]
          },
          "metadata": {
            "tags": []
          }
        }
      ]
    },
    {
      "cell_type": "code",
      "metadata": {
        "id": "qaMD7MRGNk7-",
        "outputId": "65cc8c46-7efb-4ebc-8ce5-203dbcaf8443",
        "colab": {
          "base_uri": "https://localhost:8080/",
          "height": 51
        }
      },
      "source": [
        "# rank(x)  : 벡터의 각 원소의 순위를 제공하는 함수\n",
        "# https://ordo.tistory.com/31\n",
        "v2 <- sample(1:50,20)\n",
        "v2[21] <- NA\n",
        "v2 \n",
        "sort(v2)"
      ],
      "execution_count": 54,
      "outputs": [
        {
          "output_type": "display_data",
          "data": {
            "text/plain": [
              " [1] 48 36  8 26  6  3 23 46 11 50 18 31 15 42 14 10 12 29  2 32 NA"
            ],
            "text/latex": "\\begin{enumerate*}\n\\item 48\n\\item 36\n\\item 8\n\\item 26\n\\item 6\n\\item 3\n\\item 23\n\\item 46\n\\item 11\n\\item 50\n\\item 18\n\\item 31\n\\item 15\n\\item 42\n\\item 14\n\\item 10\n\\item 12\n\\item 29\n\\item 2\n\\item 32\n\\item <NA>\n\\end{enumerate*}\n",
            "text/markdown": "1. 48\n2. 36\n3. 8\n4. 26\n5. 6\n6. 3\n7. 23\n8. 46\n9. 11\n10. 50\n11. 18\n12. 31\n13. 15\n14. 42\n15. 14\n16. 10\n17. 12\n18. 29\n19. 2\n20. 32\n21. &lt;NA&gt;\n\n\n",
            "text/html": [
              "<style>\n",
              ".list-inline {list-style: none; margin:0; padding: 0}\n",
              ".list-inline>li {display: inline-block}\n",
              ".list-inline>li:not(:last-child)::after {content: \"\\00b7\"; padding: 0 .5ex}\n",
              "</style>\n",
              "<ol class=list-inline><li>48</li><li>36</li><li>8</li><li>26</li><li>6</li><li>3</li><li>23</li><li>46</li><li>11</li><li>50</li><li>18</li><li>31</li><li>15</li><li>42</li><li>14</li><li>10</li><li>12</li><li>29</li><li>2</li><li>32</li><li>&lt;NA&gt;</li></ol>\n"
            ]
          },
          "metadata": {
            "tags": []
          }
        },
        {
          "output_type": "display_data",
          "data": {
            "text/plain": [
              " [1]  2  3  6  8 10 11 12 14 15 18 23 26 29 31 32 36 42 46 48 50"
            ],
            "text/latex": "\\begin{enumerate*}\n\\item 2\n\\item 3\n\\item 6\n\\item 8\n\\item 10\n\\item 11\n\\item 12\n\\item 14\n\\item 15\n\\item 18\n\\item 23\n\\item 26\n\\item 29\n\\item 31\n\\item 32\n\\item 36\n\\item 42\n\\item 46\n\\item 48\n\\item 50\n\\end{enumerate*}\n",
            "text/markdown": "1. 2\n2. 3\n3. 6\n4. 8\n5. 10\n6. 11\n7. 12\n8. 14\n9. 15\n10. 18\n11. 23\n12. 26\n13. 29\n14. 31\n15. 32\n16. 36\n17. 42\n18. 46\n19. 48\n20. 50\n\n\n",
            "text/html": [
              "<style>\n",
              ".list-inline {list-style: none; margin:0; padding: 0}\n",
              ".list-inline>li {display: inline-block}\n",
              ".list-inline>li:not(:last-child)::after {content: \"\\00b7\"; padding: 0 .5ex}\n",
              "</style>\n",
              "<ol class=list-inline><li>2</li><li>3</li><li>6</li><li>8</li><li>10</li><li>11</li><li>12</li><li>14</li><li>15</li><li>18</li><li>23</li><li>26</li><li>29</li><li>31</li><li>32</li><li>36</li><li>42</li><li>46</li><li>48</li><li>50</li></ol>\n"
            ]
          },
          "metadata": {
            "tags": []
          }
        }
      ]
    },
    {
      "cell_type": "code",
      "metadata": {
        "id": "gF2FSaR-R26I",
        "outputId": "3b709067-abd8-4ba2-d929-81321796f36f",
        "colab": {
          "base_uri": "https://localhost:8080/",
          "height": 85
        }
      },
      "source": [
        "v2\n",
        "rank(v2) # 48은 19번째 순위라는 뜻이라고, so...\n",
        "sort(rank(v2))\n",
        "v2[sort(rank(v2))]"
      ],
      "execution_count": 59,
      "outputs": [
        {
          "output_type": "display_data",
          "data": {
            "text/plain": [
              " [1] 48 36  8 26  6  3 23 46 11 50 18 31 15 42 14 10 12 29  2 32 NA"
            ],
            "text/latex": "\\begin{enumerate*}\n\\item 48\n\\item 36\n\\item 8\n\\item 26\n\\item 6\n\\item 3\n\\item 23\n\\item 46\n\\item 11\n\\item 50\n\\item 18\n\\item 31\n\\item 15\n\\item 42\n\\item 14\n\\item 10\n\\item 12\n\\item 29\n\\item 2\n\\item 32\n\\item <NA>\n\\end{enumerate*}\n",
            "text/markdown": "1. 48\n2. 36\n3. 8\n4. 26\n5. 6\n6. 3\n7. 23\n8. 46\n9. 11\n10. 50\n11. 18\n12. 31\n13. 15\n14. 42\n15. 14\n16. 10\n17. 12\n18. 29\n19. 2\n20. 32\n21. &lt;NA&gt;\n\n\n",
            "text/html": [
              "<style>\n",
              ".list-inline {list-style: none; margin:0; padding: 0}\n",
              ".list-inline>li {display: inline-block}\n",
              ".list-inline>li:not(:last-child)::after {content: \"\\00b7\"; padding: 0 .5ex}\n",
              "</style>\n",
              "<ol class=list-inline><li>48</li><li>36</li><li>8</li><li>26</li><li>6</li><li>3</li><li>23</li><li>46</li><li>11</li><li>50</li><li>18</li><li>31</li><li>15</li><li>42</li><li>14</li><li>10</li><li>12</li><li>29</li><li>2</li><li>32</li><li>&lt;NA&gt;</li></ol>\n"
            ]
          },
          "metadata": {
            "tags": []
          }
        },
        {
          "output_type": "display_data",
          "data": {
            "text/plain": [
              " [1] 19 16  4 12  3  2 11 18  6 20 10 14  9 17  8  5  7 13  1 15 21"
            ],
            "text/latex": "\\begin{enumerate*}\n\\item 19\n\\item 16\n\\item 4\n\\item 12\n\\item 3\n\\item 2\n\\item 11\n\\item 18\n\\item 6\n\\item 20\n\\item 10\n\\item 14\n\\item 9\n\\item 17\n\\item 8\n\\item 5\n\\item 7\n\\item 13\n\\item 1\n\\item 15\n\\item 21\n\\end{enumerate*}\n",
            "text/markdown": "1. 19\n2. 16\n3. 4\n4. 12\n5. 3\n6. 2\n7. 11\n8. 18\n9. 6\n10. 20\n11. 10\n12. 14\n13. 9\n14. 17\n15. 8\n16. 5\n17. 7\n18. 13\n19. 1\n20. 15\n21. 21\n\n\n",
            "text/html": [
              "<style>\n",
              ".list-inline {list-style: none; margin:0; padding: 0}\n",
              ".list-inline>li {display: inline-block}\n",
              ".list-inline>li:not(:last-child)::after {content: \"\\00b7\"; padding: 0 .5ex}\n",
              "</style>\n",
              "<ol class=list-inline><li>19</li><li>16</li><li>4</li><li>12</li><li>3</li><li>2</li><li>11</li><li>18</li><li>6</li><li>20</li><li>10</li><li>14</li><li>9</li><li>17</li><li>8</li><li>5</li><li>7</li><li>13</li><li>1</li><li>15</li><li>21</li></ol>\n"
            ]
          },
          "metadata": {
            "tags": []
          }
        },
        {
          "output_type": "display_data",
          "data": {
            "text/plain": [
              " [1]  1  2  3  4  5  6  7  8  9 10 11 12 13 14 15 16 17 18 19 20 21"
            ],
            "text/latex": "\\begin{enumerate*}\n\\item 1\n\\item 2\n\\item 3\n\\item 4\n\\item 5\n\\item 6\n\\item 7\n\\item 8\n\\item 9\n\\item 10\n\\item 11\n\\item 12\n\\item 13\n\\item 14\n\\item 15\n\\item 16\n\\item 17\n\\item 18\n\\item 19\n\\item 20\n\\item 21\n\\end{enumerate*}\n",
            "text/markdown": "1. 1\n2. 2\n3. 3\n4. 4\n5. 5\n6. 6\n7. 7\n8. 8\n9. 9\n10. 10\n11. 11\n12. 12\n13. 13\n14. 14\n15. 15\n16. 16\n17. 17\n18. 18\n19. 19\n20. 20\n21. 21\n\n\n",
            "text/html": [
              "<style>\n",
              ".list-inline {list-style: none; margin:0; padding: 0}\n",
              ".list-inline>li {display: inline-block}\n",
              ".list-inline>li:not(:last-child)::after {content: \"\\00b7\"; padding: 0 .5ex}\n",
              "</style>\n",
              "<ol class=list-inline><li>1</li><li>2</li><li>3</li><li>4</li><li>5</li><li>6</li><li>7</li><li>8</li><li>9</li><li>10</li><li>11</li><li>12</li><li>13</li><li>14</li><li>15</li><li>16</li><li>17</li><li>18</li><li>19</li><li>20</li><li>21</li></ol>\n"
            ]
          },
          "metadata": {
            "tags": []
          }
        },
        {
          "output_type": "display_data",
          "data": {
            "text/plain": [
              " [1] 48 36  8 26  6  3 23 46 11 50 18 31 15 42 14 10 12 29  2 32 NA"
            ],
            "text/latex": "\\begin{enumerate*}\n\\item 48\n\\item 36\n\\item 8\n\\item 26\n\\item 6\n\\item 3\n\\item 23\n\\item 46\n\\item 11\n\\item 50\n\\item 18\n\\item 31\n\\item 15\n\\item 42\n\\item 14\n\\item 10\n\\item 12\n\\item 29\n\\item 2\n\\item 32\n\\item <NA>\n\\end{enumerate*}\n",
            "text/markdown": "1. 48\n2. 36\n3. 8\n4. 26\n5. 6\n6. 3\n7. 23\n8. 46\n9. 11\n10. 50\n11. 18\n12. 31\n13. 15\n14. 42\n15. 14\n16. 10\n17. 12\n18. 29\n19. 2\n20. 32\n21. &lt;NA&gt;\n\n\n",
            "text/html": [
              "<style>\n",
              ".list-inline {list-style: none; margin:0; padding: 0}\n",
              ".list-inline>li {display: inline-block}\n",
              ".list-inline>li:not(:last-child)::after {content: \"\\00b7\"; padding: 0 .5ex}\n",
              "</style>\n",
              "<ol class=list-inline><li>48</li><li>36</li><li>8</li><li>26</li><li>6</li><li>3</li><li>23</li><li>46</li><li>11</li><li>50</li><li>18</li><li>31</li><li>15</li><li>42</li><li>14</li><li>10</li><li>12</li><li>29</li><li>2</li><li>32</li><li>&lt;NA&gt;</li></ol>\n"
            ]
          },
          "metadata": {
            "tags": []
          }
        }
      ]
    },
    {
      "cell_type": "code",
      "metadata": {
        "id": "oWHSh6GeUiz8"
      },
      "source": [
        "# https://www.rdocumentation.org/packages/base/versions/3.6.2/topics/rank"
      ],
      "execution_count": 72,
      "outputs": []
    },
    {
      "cell_type": "code",
      "metadata": {
        "id": "HEO999OVUr_d",
        "outputId": "b8273510-2d76-4ab1-a806-04f5c15fe469",
        "colab": {
          "base_uri": "https://localhost:8080/",
          "height": 51
        }
      },
      "source": [
        "x1 <- c(3, 1, 4, 15, 92)\n",
        "x1\n",
        "r1 <- rank(x1)\n",
        "r1"
      ],
      "execution_count": 62,
      "outputs": [
        {
          "output_type": "display_data",
          "data": {
            "text/plain": [
              "[1]  3  1  4 15 92"
            ],
            "text/latex": "\\begin{enumerate*}\n\\item 3\n\\item 1\n\\item 4\n\\item 15\n\\item 92\n\\end{enumerate*}\n",
            "text/markdown": "1. 3\n2. 1\n3. 4\n4. 15\n5. 92\n\n\n",
            "text/html": [
              "<style>\n",
              ".list-inline {list-style: none; margin:0; padding: 0}\n",
              ".list-inline>li {display: inline-block}\n",
              ".list-inline>li:not(:last-child)::after {content: \"\\00b7\"; padding: 0 .5ex}\n",
              "</style>\n",
              "<ol class=list-inline><li>3</li><li>1</li><li>4</li><li>15</li><li>92</li></ol>\n"
            ]
          },
          "metadata": {
            "tags": []
          }
        },
        {
          "output_type": "display_data",
          "data": {
            "text/plain": [
              "[1] 2 1 3 4 5"
            ],
            "text/latex": "\\begin{enumerate*}\n\\item 2\n\\item 1\n\\item 3\n\\item 4\n\\item 5\n\\end{enumerate*}\n",
            "text/markdown": "1. 2\n2. 1\n3. 3\n4. 4\n5. 5\n\n\n",
            "text/html": [
              "<style>\n",
              ".list-inline {list-style: none; margin:0; padding: 0}\n",
              ".list-inline>li {display: inline-block}\n",
              ".list-inline>li:not(:last-child)::after {content: \"\\00b7\"; padding: 0 .5ex}\n",
              "</style>\n",
              "<ol class=list-inline><li>2</li><li>1</li><li>3</li><li>4</li><li>5</li></ol>\n"
            ]
          },
          "metadata": {
            "tags": []
          }
        }
      ]
    },
    {
      "cell_type": "code",
      "metadata": {
        "id": "B_GIOjOxVMkJ",
        "outputId": "f4337417-a52d-4414-fac0-97dbbc5c76a7",
        "colab": {
          "base_uri": "https://localhost:8080/",
          "height": 51
        }
      },
      "source": [
        "x2 <- c(3, 1, 4, 1, 5, 9, 2, 6, 5, 3, 5)\n",
        "names(x2) <- letters[1:11]\n",
        "x2\n",
        "r2 <- rank(x2)\n",
        "r2"
      ],
      "execution_count": 66,
      "outputs": [
        {
          "output_type": "display_data",
          "data": {
            "text/plain": [
              "a b c d e f g h i j k \n",
              "3 1 4 1 5 9 2 6 5 3 5 "
            ],
            "text/latex": "\\begin{description*}\n\\item[a] 3\n\\item[b] 1\n\\item[c] 4\n\\item[d] 1\n\\item[e] 5\n\\item[f] 9\n\\item[g] 2\n\\item[h] 6\n\\item[i] 5\n\\item[j] 3\n\\item[k] 5\n\\end{description*}\n",
            "text/markdown": "a\n:   3b\n:   1c\n:   4d\n:   1e\n:   5f\n:   9g\n:   2h\n:   6i\n:   5j\n:   3k\n:   5\n\n",
            "text/html": [
              "<style>\n",
              ".dl-inline {width: auto; margin:0; padding: 0}\n",
              ".dl-inline>dt, .dl-inline>dd {float: none; width: auto; display: inline-block}\n",
              ".dl-inline>dt::after {content: \":\\0020\"; padding-right: .5ex}\n",
              ".dl-inline>dt:not(:first-of-type) {padding-left: .5ex}\n",
              "</style><dl class=dl-inline><dt>a</dt><dd>3</dd><dt>b</dt><dd>1</dd><dt>c</dt><dd>4</dd><dt>d</dt><dd>1</dd><dt>e</dt><dd>5</dd><dt>f</dt><dd>9</dd><dt>g</dt><dd>2</dd><dt>h</dt><dd>6</dd><dt>i</dt><dd>5</dd><dt>j</dt><dd>3</dd><dt>k</dt><dd>5</dd></dl>\n"
            ]
          },
          "metadata": {
            "tags": []
          }
        },
        {
          "output_type": "display_data",
          "data": {
            "text/plain": [
              "   a    b    c    d    e    f    g    h    i    j    k \n",
              " 4.5  1.5  6.0  1.5  8.0 11.0  3.0 10.0  8.0  4.5  8.0 "
            ],
            "text/latex": "\\begin{description*}\n\\item[a] 4.5\n\\item[b] 1.5\n\\item[c] 6\n\\item[d] 1.5\n\\item[e] 8\n\\item[f] 11\n\\item[g] 3\n\\item[h] 10\n\\item[i] 8\n\\item[j] 4.5\n\\item[k] 8\n\\end{description*}\n",
            "text/markdown": "a\n:   4.5b\n:   1.5c\n:   6d\n:   1.5e\n:   8f\n:   11g\n:   3h\n:   10i\n:   8j\n:   4.5k\n:   8\n\n",
            "text/html": [
              "<style>\n",
              ".dl-inline {width: auto; margin:0; padding: 0}\n",
              ".dl-inline>dt, .dl-inline>dd {float: none; width: auto; display: inline-block}\n",
              ".dl-inline>dt::after {content: \":\\0020\"; padding-right: .5ex}\n",
              ".dl-inline>dt:not(:first-of-type) {padding-left: .5ex}\n",
              "</style><dl class=dl-inline><dt>a</dt><dd>4.5</dd><dt>b</dt><dd>1.5</dd><dt>c</dt><dd>6</dd><dt>d</dt><dd>1.5</dd><dt>e</dt><dd>8</dd><dt>f</dt><dd>11</dd><dt>g</dt><dd>3</dd><dt>h</dt><dd>10</dd><dt>i</dt><dd>8</dd><dt>j</dt><dd>4.5</dd><dt>k</dt><dd>8</dd></dl>\n"
            ]
          },
          "metadata": {
            "tags": []
          }
        }
      ]
    },
    {
      "cell_type": "code",
      "metadata": {
        "id": "qwuDu6miVxG8"
      },
      "source": [
        "## rank() is \"idempotent\": rank(rank(x)) == rank(x) :\n",
        "stopifnot(rank(r1) == r1, rank(r2) == r2)"
      ],
      "execution_count": 73,
      "outputs": []
    },
    {
      "cell_type": "code",
      "metadata": {
        "id": "20ypfgrsV5Zv",
        "outputId": "906eb3d6-ebfc-411f-a89f-cc7925b60c18",
        "colab": {
          "base_uri": "https://localhost:8080/",
          "height": 85
        }
      },
      "source": [
        "## ranks without averaging\n",
        "rank(x2, ties.method= \"first\")  # first occurrence wins\n",
        "rank(x2, ties.method= \"last\")   #  last occurrence wins\n",
        "rank(x2, ties.method= \"random\") # ties broken at random\n",
        "rank(x2, ties.method= \"random\") # and again"
      ],
      "execution_count": 68,
      "outputs": [
        {
          "output_type": "display_data",
          "data": {
            "text/plain": [
              " a  b  c  d  e  f  g  h  i  j  k \n",
              " 4  1  6  2  7 11  3 10  8  5  9 "
            ],
            "text/latex": "\\begin{description*}\n\\item[a] 4\n\\item[b] 1\n\\item[c] 6\n\\item[d] 2\n\\item[e] 7\n\\item[f] 11\n\\item[g] 3\n\\item[h] 10\n\\item[i] 8\n\\item[j] 5\n\\item[k] 9\n\\end{description*}\n",
            "text/markdown": "a\n:   4b\n:   1c\n:   6d\n:   2e\n:   7f\n:   11g\n:   3h\n:   10i\n:   8j\n:   5k\n:   9\n\n",
            "text/html": [
              "<style>\n",
              ".dl-inline {width: auto; margin:0; padding: 0}\n",
              ".dl-inline>dt, .dl-inline>dd {float: none; width: auto; display: inline-block}\n",
              ".dl-inline>dt::after {content: \":\\0020\"; padding-right: .5ex}\n",
              ".dl-inline>dt:not(:first-of-type) {padding-left: .5ex}\n",
              "</style><dl class=dl-inline><dt>a</dt><dd>4</dd><dt>b</dt><dd>1</dd><dt>c</dt><dd>6</dd><dt>d</dt><dd>2</dd><dt>e</dt><dd>7</dd><dt>f</dt><dd>11</dd><dt>g</dt><dd>3</dd><dt>h</dt><dd>10</dd><dt>i</dt><dd>8</dd><dt>j</dt><dd>5</dd><dt>k</dt><dd>9</dd></dl>\n"
            ]
          },
          "metadata": {
            "tags": []
          }
        },
        {
          "output_type": "display_data",
          "data": {
            "text/plain": [
              " a  b  c  d  e  f  g  h  i  j  k \n",
              " 5  2  6  1  9 11  3 10  8  4  7 "
            ],
            "text/latex": "\\begin{description*}\n\\item[a] 5\n\\item[b] 2\n\\item[c] 6\n\\item[d] 1\n\\item[e] 9\n\\item[f] 11\n\\item[g] 3\n\\item[h] 10\n\\item[i] 8\n\\item[j] 4\n\\item[k] 7\n\\end{description*}\n",
            "text/markdown": "a\n:   5b\n:   2c\n:   6d\n:   1e\n:   9f\n:   11g\n:   3h\n:   10i\n:   8j\n:   4k\n:   7\n\n",
            "text/html": [
              "<style>\n",
              ".dl-inline {width: auto; margin:0; padding: 0}\n",
              ".dl-inline>dt, .dl-inline>dd {float: none; width: auto; display: inline-block}\n",
              ".dl-inline>dt::after {content: \":\\0020\"; padding-right: .5ex}\n",
              ".dl-inline>dt:not(:first-of-type) {padding-left: .5ex}\n",
              "</style><dl class=dl-inline><dt>a</dt><dd>5</dd><dt>b</dt><dd>2</dd><dt>c</dt><dd>6</dd><dt>d</dt><dd>1</dd><dt>e</dt><dd>9</dd><dt>f</dt><dd>11</dd><dt>g</dt><dd>3</dd><dt>h</dt><dd>10</dd><dt>i</dt><dd>8</dd><dt>j</dt><dd>4</dd><dt>k</dt><dd>7</dd></dl>\n"
            ]
          },
          "metadata": {
            "tags": []
          }
        },
        {
          "output_type": "display_data",
          "data": {
            "text/plain": [
              " a  b  c  d  e  f  g  h  i  j  k \n",
              " 5  2  6  1  7 11  3 10  8  4  9 "
            ],
            "text/latex": "\\begin{description*}\n\\item[a] 5\n\\item[b] 2\n\\item[c] 6\n\\item[d] 1\n\\item[e] 7\n\\item[f] 11\n\\item[g] 3\n\\item[h] 10\n\\item[i] 8\n\\item[j] 4\n\\item[k] 9\n\\end{description*}\n",
            "text/markdown": "a\n:   5b\n:   2c\n:   6d\n:   1e\n:   7f\n:   11g\n:   3h\n:   10i\n:   8j\n:   4k\n:   9\n\n",
            "text/html": [
              "<style>\n",
              ".dl-inline {width: auto; margin:0; padding: 0}\n",
              ".dl-inline>dt, .dl-inline>dd {float: none; width: auto; display: inline-block}\n",
              ".dl-inline>dt::after {content: \":\\0020\"; padding-right: .5ex}\n",
              ".dl-inline>dt:not(:first-of-type) {padding-left: .5ex}\n",
              "</style><dl class=dl-inline><dt>a</dt><dd>5</dd><dt>b</dt><dd>2</dd><dt>c</dt><dd>6</dd><dt>d</dt><dd>1</dd><dt>e</dt><dd>7</dd><dt>f</dt><dd>11</dd><dt>g</dt><dd>3</dd><dt>h</dt><dd>10</dd><dt>i</dt><dd>8</dd><dt>j</dt><dd>4</dd><dt>k</dt><dd>9</dd></dl>\n"
            ]
          },
          "metadata": {
            "tags": []
          }
        },
        {
          "output_type": "display_data",
          "data": {
            "text/plain": [
              " a  b  c  d  e  f  g  h  i  j  k \n",
              " 5  1  6  2  9 11  3 10  8  4  7 "
            ],
            "text/latex": "\\begin{description*}\n\\item[a] 5\n\\item[b] 1\n\\item[c] 6\n\\item[d] 2\n\\item[e] 9\n\\item[f] 11\n\\item[g] 3\n\\item[h] 10\n\\item[i] 8\n\\item[j] 4\n\\item[k] 7\n\\end{description*}\n",
            "text/markdown": "a\n:   5b\n:   1c\n:   6d\n:   2e\n:   9f\n:   11g\n:   3h\n:   10i\n:   8j\n:   4k\n:   7\n\n",
            "text/html": [
              "<style>\n",
              ".dl-inline {width: auto; margin:0; padding: 0}\n",
              ".dl-inline>dt, .dl-inline>dd {float: none; width: auto; display: inline-block}\n",
              ".dl-inline>dt::after {content: \":\\0020\"; padding-right: .5ex}\n",
              ".dl-inline>dt:not(:first-of-type) {padding-left: .5ex}\n",
              "</style><dl class=dl-inline><dt>a</dt><dd>5</dd><dt>b</dt><dd>1</dd><dt>c</dt><dd>6</dd><dt>d</dt><dd>2</dd><dt>e</dt><dd>9</dd><dt>f</dt><dd>11</dd><dt>g</dt><dd>3</dd><dt>h</dt><dd>10</dd><dt>i</dt><dd>8</dd><dt>j</dt><dd>4</dd><dt>k</dt><dd>7</dd></dl>\n"
            ]
          },
          "metadata": {
            "tags": []
          }
        }
      ]
    },
    {
      "cell_type": "code",
      "metadata": {
        "id": "Ot39VcE0WIk-",
        "outputId": "8676fc60-a3f8-42a0-c07e-ae8cf818b363",
        "colab": {
          "base_uri": "https://localhost:8080/",
          "height": 51
        }
      },
      "source": [
        "## keep ties ties, no average\n",
        "(rma <- rank(x2, ties.method= \"max\"))  # as used classically\n",
        "(rmi <- rank(x2, ties.method= \"min\"))  # as in Sports\n",
        "stopifnot(rma + rmi == round(r2 + r2))"
      ],
      "execution_count": 69,
      "outputs": [
        {
          "output_type": "display_data",
          "data": {
            "text/plain": [
              " a  b  c  d  e  f  g  h  i  j  k \n",
              " 5  2  6  2  9 11  3 10  9  5  9 "
            ],
            "text/latex": "\\begin{description*}\n\\item[a] 5\n\\item[b] 2\n\\item[c] 6\n\\item[d] 2\n\\item[e] 9\n\\item[f] 11\n\\item[g] 3\n\\item[h] 10\n\\item[i] 9\n\\item[j] 5\n\\item[k] 9\n\\end{description*}\n",
            "text/markdown": "a\n:   5b\n:   2c\n:   6d\n:   2e\n:   9f\n:   11g\n:   3h\n:   10i\n:   9j\n:   5k\n:   9\n\n",
            "text/html": [
              "<style>\n",
              ".dl-inline {width: auto; margin:0; padding: 0}\n",
              ".dl-inline>dt, .dl-inline>dd {float: none; width: auto; display: inline-block}\n",
              ".dl-inline>dt::after {content: \":\\0020\"; padding-right: .5ex}\n",
              ".dl-inline>dt:not(:first-of-type) {padding-left: .5ex}\n",
              "</style><dl class=dl-inline><dt>a</dt><dd>5</dd><dt>b</dt><dd>2</dd><dt>c</dt><dd>6</dd><dt>d</dt><dd>2</dd><dt>e</dt><dd>9</dd><dt>f</dt><dd>11</dd><dt>g</dt><dd>3</dd><dt>h</dt><dd>10</dd><dt>i</dt><dd>9</dd><dt>j</dt><dd>5</dd><dt>k</dt><dd>9</dd></dl>\n"
            ]
          },
          "metadata": {
            "tags": []
          }
        },
        {
          "output_type": "display_data",
          "data": {
            "text/plain": [
              " a  b  c  d  e  f  g  h  i  j  k \n",
              " 4  1  6  1  7 11  3 10  7  4  7 "
            ],
            "text/latex": "\\begin{description*}\n\\item[a] 4\n\\item[b] 1\n\\item[c] 6\n\\item[d] 1\n\\item[e] 7\n\\item[f] 11\n\\item[g] 3\n\\item[h] 10\n\\item[i] 7\n\\item[j] 4\n\\item[k] 7\n\\end{description*}\n",
            "text/markdown": "a\n:   4b\n:   1c\n:   6d\n:   1e\n:   7f\n:   11g\n:   3h\n:   10i\n:   7j\n:   4k\n:   7\n\n",
            "text/html": [
              "<style>\n",
              ".dl-inline {width: auto; margin:0; padding: 0}\n",
              ".dl-inline>dt, .dl-inline>dd {float: none; width: auto; display: inline-block}\n",
              ".dl-inline>dt::after {content: \":\\0020\"; padding-right: .5ex}\n",
              ".dl-inline>dt:not(:first-of-type) {padding-left: .5ex}\n",
              "</style><dl class=dl-inline><dt>a</dt><dd>4</dd><dt>b</dt><dd>1</dd><dt>c</dt><dd>6</dd><dt>d</dt><dd>1</dd><dt>e</dt><dd>7</dd><dt>f</dt><dd>11</dd><dt>g</dt><dd>3</dd><dt>h</dt><dd>10</dd><dt>i</dt><dd>7</dd><dt>j</dt><dd>4</dd><dt>k</dt><dd>7</dd></dl>\n"
            ]
          },
          "metadata": {
            "tags": []
          }
        }
      ]
    },
    {
      "cell_type": "code",
      "metadata": {
        "id": "UCY8yMOdWSPZ",
        "outputId": "e9b077fb-70f9-4509-ae55-41d189b2bf9f",
        "colab": {
          "base_uri": "https://localhost:8080/",
          "height": 288
        }
      },
      "source": [
        "## Comparing all tie.methods:\n",
        "tMeth <- eval(formals(rank)$ties.method)\n",
        "rx2 <- sapply(tMeth, function(M) rank(x2, ties.method=M))\n",
        "cbind(x2, rx2)"
      ],
      "execution_count": 70,
      "outputs": [
        {
          "output_type": "display_data",
          "data": {
            "text/plain": [
              "  x2 average first last random max min\n",
              "a 3   4.5     4     5    4      5   4 \n",
              "b 1   1.5     1     2    1      2   1 \n",
              "c 4   6.0     6     6    6      6   6 \n",
              "d 1   1.5     2     1    2      2   1 \n",
              "e 5   8.0     7     9    8      9   7 \n",
              "f 9  11.0    11    11   11     11  11 \n",
              "g 2   3.0     3     3    3      3   3 \n",
              "h 6  10.0    10    10   10     10  10 \n",
              "i 5   8.0     8     8    9      9   7 \n",
              "j 3   4.5     5     4    5      5   4 \n",
              "k 5   8.0     9     7    7      9   7 "
            ],
            "text/latex": "A matrix: 11 × 7 of type dbl\n\\begin{tabular}{r|lllllll}\n  & x2 & average & first & last & random & max & min\\\\\n\\hline\n\ta & 3 &  4.5 &  4 &  5 &  4 &  5 &  4\\\\\n\tb & 1 &  1.5 &  1 &  2 &  1 &  2 &  1\\\\\n\tc & 4 &  6.0 &  6 &  6 &  6 &  6 &  6\\\\\n\td & 1 &  1.5 &  2 &  1 &  2 &  2 &  1\\\\\n\te & 5 &  8.0 &  7 &  9 &  8 &  9 &  7\\\\\n\tf & 9 & 11.0 & 11 & 11 & 11 & 11 & 11\\\\\n\tg & 2 &  3.0 &  3 &  3 &  3 &  3 &  3\\\\\n\th & 6 & 10.0 & 10 & 10 & 10 & 10 & 10\\\\\n\ti & 5 &  8.0 &  8 &  8 &  9 &  9 &  7\\\\\n\tj & 3 &  4.5 &  5 &  4 &  5 &  5 &  4\\\\\n\tk & 5 &  8.0 &  9 &  7 &  7 &  9 &  7\\\\\n\\end{tabular}\n",
            "text/markdown": "\nA matrix: 11 × 7 of type dbl\n\n| <!--/--> | x2 | average | first | last | random | max | min |\n|---|---|---|---|---|---|---|---|\n| a | 3 |  4.5 |  4 |  5 |  4 |  5 |  4 |\n| b | 1 |  1.5 |  1 |  2 |  1 |  2 |  1 |\n| c | 4 |  6.0 |  6 |  6 |  6 |  6 |  6 |\n| d | 1 |  1.5 |  2 |  1 |  2 |  2 |  1 |\n| e | 5 |  8.0 |  7 |  9 |  8 |  9 |  7 |\n| f | 9 | 11.0 | 11 | 11 | 11 | 11 | 11 |\n| g | 2 |  3.0 |  3 |  3 |  3 |  3 |  3 |\n| h | 6 | 10.0 | 10 | 10 | 10 | 10 | 10 |\n| i | 5 |  8.0 |  8 |  8 |  9 |  9 |  7 |\n| j | 3 |  4.5 |  5 |  4 |  5 |  5 |  4 |\n| k | 5 |  8.0 |  9 |  7 |  7 |  9 |  7 |\n\n",
            "text/html": [
              "<table>\n",
              "<caption>A matrix: 11 × 7 of type dbl</caption>\n",
              "<thead>\n",
              "\t<tr><th></th><th scope=col>x2</th><th scope=col>average</th><th scope=col>first</th><th scope=col>last</th><th scope=col>random</th><th scope=col>max</th><th scope=col>min</th></tr>\n",
              "</thead>\n",
              "<tbody>\n",
              "\t<tr><th scope=row>a</th><td>3</td><td> 4.5</td><td> 4</td><td> 5</td><td> 4</td><td> 5</td><td> 4</td></tr>\n",
              "\t<tr><th scope=row>b</th><td>1</td><td> 1.5</td><td> 1</td><td> 2</td><td> 1</td><td> 2</td><td> 1</td></tr>\n",
              "\t<tr><th scope=row>c</th><td>4</td><td> 6.0</td><td> 6</td><td> 6</td><td> 6</td><td> 6</td><td> 6</td></tr>\n",
              "\t<tr><th scope=row>d</th><td>1</td><td> 1.5</td><td> 2</td><td> 1</td><td> 2</td><td> 2</td><td> 1</td></tr>\n",
              "\t<tr><th scope=row>e</th><td>5</td><td> 8.0</td><td> 7</td><td> 9</td><td> 8</td><td> 9</td><td> 7</td></tr>\n",
              "\t<tr><th scope=row>f</th><td>9</td><td>11.0</td><td>11</td><td>11</td><td>11</td><td>11</td><td>11</td></tr>\n",
              "\t<tr><th scope=row>g</th><td>2</td><td> 3.0</td><td> 3</td><td> 3</td><td> 3</td><td> 3</td><td> 3</td></tr>\n",
              "\t<tr><th scope=row>h</th><td>6</td><td>10.0</td><td>10</td><td>10</td><td>10</td><td>10</td><td>10</td></tr>\n",
              "\t<tr><th scope=row>i</th><td>5</td><td> 8.0</td><td> 8</td><td> 8</td><td> 9</td><td> 9</td><td> 7</td></tr>\n",
              "\t<tr><th scope=row>j</th><td>3</td><td> 4.5</td><td> 5</td><td> 4</td><td> 5</td><td> 5</td><td> 4</td></tr>\n",
              "\t<tr><th scope=row>k</th><td>5</td><td> 8.0</td><td> 9</td><td> 7</td><td> 7</td><td> 9</td><td> 7</td></tr>\n",
              "</tbody>\n",
              "</table>\n"
            ]
          },
          "metadata": {
            "tags": []
          }
        }
      ]
    },
    {
      "cell_type": "code",
      "metadata": {
        "id": "evYDVW1gWVoX"
      },
      "source": [
        "## ties.method's does not matter w/o ties:\n",
        "x <- sample(47)\n",
        "rx <- sapply(tMeth, function(MM) rank(x, ties.method=MM))\n",
        "stopifnot(all(rx[,1] == rx))"
      ],
      "execution_count": 74,
      "outputs": []
    },
    {
      "cell_type": "code",
      "metadata": {
        "id": "PvFMLNfJWqQD"
      },
      "source": [
        "## p126"
      ],
      "execution_count": 75,
      "outputs": []
    }
  ]
}