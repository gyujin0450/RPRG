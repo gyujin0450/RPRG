{
  "nbformat": 4,
  "nbformat_minor": 0,
  "metadata": {
    "colab": {
      "name": "p63_Matrix.ipynb",
      "provenance": [],
      "collapsed_sections": [],
      "authorship_tag": "ABX9TyMoKCT2uN8t0C1y5MZ+4cv2",
      "include_colab_link": true
    },
    "kernelspec": {
      "name": "ir",
      "display_name": "R"
    }
  },
  "cells": [
    {
      "cell_type": "markdown",
      "metadata": {
        "id": "view-in-github",
        "colab_type": "text"
      },
      "source": [
        "<a href=\"https://colab.research.google.com/github/gyujin0450/RPRG/blob/master/p63_Matrix.ipynb\" target=\"_parent\"><img src=\"https://colab.research.google.com/assets/colab-badge.svg\" alt=\"Open In Colab\"/></a>"
      ]
    },
    {
      "cell_type": "markdown",
      "metadata": {
        "id": "yXOkc0LiVmq-",
        "colab_type": "text"
      },
      "source": [
        "# ch2.2 Matrix 자료 구조"
      ]
    },
    {
      "cell_type": "code",
      "metadata": {
        "id": "u5_6uf5ZWQSE",
        "colab_type": "code",
        "colab": {
          "base_uri": "https://localhost:8080/",
          "height": 226
        },
        "outputId": "104cccb8-8bcd-46ea-b0d4-6a938d92fce9"
      },
      "source": [
        "# 벡터를 이용한 행렬 객체 생성\n",
        "m <- matrix(c(1:5))\n",
        "m"
      ],
      "execution_count": null,
      "outputs": [
        {
          "output_type": "display_data",
          "data": {
            "text/plain": [
              "     [,1]\n",
              "[1,] 1   \n",
              "[2,] 2   \n",
              "[3,] 3   \n",
              "[4,] 4   \n",
              "[5,] 5   "
            ],
            "text/latex": "A matrix: 5 × 1 of type int\n\\begin{tabular}{l}\n\t 1\\\\\n\t 2\\\\\n\t 3\\\\\n\t 4\\\\\n\t 5\\\\\n\\end{tabular}\n",
            "text/markdown": "\nA matrix: 5 × 1 of type int\n\n| 1 |\n| 2 |\n| 3 |\n| 4 |\n| 5 |\n\n",
            "text/html": [
              "<table>\n",
              "<caption>A matrix: 5 × 1 of type int</caption>\n",
              "<tbody>\n",
              "\t<tr><td>1</td></tr>\n",
              "\t<tr><td>2</td></tr>\n",
              "\t<tr><td>3</td></tr>\n",
              "\t<tr><td>4</td></tr>\n",
              "\t<tr><td>5</td></tr>\n",
              "</tbody>\n",
              "</table>\n"
            ]
          },
          "metadata": {
            "tags": []
          }
        }
      ]
    },
    {
      "cell_type": "code",
      "metadata": {
        "id": "GHiGSqWAWXc_",
        "colab_type": "code",
        "colab": {
          "base_uri": "https://localhost:8080/",
          "height": 246
        },
        "outputId": "8cd3cf21-a95b-4077-caa6-c750d73af845"
      },
      "source": [
        "# 백터의 열우선(colume) 행렬 객체 생성\n",
        "m <- matrix(c(1:100), nrow=10)\n",
        "m"
      ],
      "execution_count": null,
      "outputs": [
        {
          "output_type": "display_data",
          "data": {
            "text/plain": [
              "      [,1] [,2] [,3] [,4] [,5] [,6] [,7] [,8] [,9] [,10]\n",
              " [1,]  1   11   21   31   41   51   61   71   81    91  \n",
              " [2,]  2   12   22   32   42   52   62   72   82    92  \n",
              " [3,]  3   13   23   33   43   53   63   73   83    93  \n",
              " [4,]  4   14   24   34   44   54   64   74   84    94  \n",
              " [5,]  5   15   25   35   45   55   65   75   85    95  \n",
              " [6,]  6   16   26   36   46   56   66   76   86    96  \n",
              " [7,]  7   17   27   37   47   57   67   77   87    97  \n",
              " [8,]  8   18   28   38   48   58   68   78   88    98  \n",
              " [9,]  9   19   29   39   49   59   69   79   89    99  \n",
              "[10,] 10   20   30   40   50   60   70   80   90   100  "
            ],
            "text/latex": "A matrix: 10 × 10 of type int\n\\begin{tabular}{llllllllll}\n\t  1 & 11 & 21 & 31 & 41 & 51 & 61 & 71 & 81 &  91\\\\\n\t  2 & 12 & 22 & 32 & 42 & 52 & 62 & 72 & 82 &  92\\\\\n\t  3 & 13 & 23 & 33 & 43 & 53 & 63 & 73 & 83 &  93\\\\\n\t  4 & 14 & 24 & 34 & 44 & 54 & 64 & 74 & 84 &  94\\\\\n\t  5 & 15 & 25 & 35 & 45 & 55 & 65 & 75 & 85 &  95\\\\\n\t  6 & 16 & 26 & 36 & 46 & 56 & 66 & 76 & 86 &  96\\\\\n\t  7 & 17 & 27 & 37 & 47 & 57 & 67 & 77 & 87 &  97\\\\\n\t  8 & 18 & 28 & 38 & 48 & 58 & 68 & 78 & 88 &  98\\\\\n\t  9 & 19 & 29 & 39 & 49 & 59 & 69 & 79 & 89 &  99\\\\\n\t 10 & 20 & 30 & 40 & 50 & 60 & 70 & 80 & 90 & 100\\\\\n\\end{tabular}\n",
            "text/markdown": "\nA matrix: 10 × 10 of type int\n\n|  1 | 11 | 21 | 31 | 41 | 51 | 61 | 71 | 81 |  91 |\n|  2 | 12 | 22 | 32 | 42 | 52 | 62 | 72 | 82 |  92 |\n|  3 | 13 | 23 | 33 | 43 | 53 | 63 | 73 | 83 |  93 |\n|  4 | 14 | 24 | 34 | 44 | 54 | 64 | 74 | 84 |  94 |\n|  5 | 15 | 25 | 35 | 45 | 55 | 65 | 75 | 85 |  95 |\n|  6 | 16 | 26 | 36 | 46 | 56 | 66 | 76 | 86 |  96 |\n|  7 | 17 | 27 | 37 | 47 | 57 | 67 | 77 | 87 |  97 |\n|  8 | 18 | 28 | 38 | 48 | 58 | 68 | 78 | 88 |  98 |\n|  9 | 19 | 29 | 39 | 49 | 59 | 69 | 79 | 89 |  99 |\n| 10 | 20 | 30 | 40 | 50 | 60 | 70 | 80 | 90 | 100 |\n\n",
            "text/html": [
              "<table>\n",
              "<caption>A matrix: 10 × 10 of type int</caption>\n",
              "<tbody>\n",
              "\t<tr><td> 1</td><td>11</td><td>21</td><td>31</td><td>41</td><td>51</td><td>61</td><td>71</td><td>81</td><td> 91</td></tr>\n",
              "\t<tr><td> 2</td><td>12</td><td>22</td><td>32</td><td>42</td><td>52</td><td>62</td><td>72</td><td>82</td><td> 92</td></tr>\n",
              "\t<tr><td> 3</td><td>13</td><td>23</td><td>33</td><td>43</td><td>53</td><td>63</td><td>73</td><td>83</td><td> 93</td></tr>\n",
              "\t<tr><td> 4</td><td>14</td><td>24</td><td>34</td><td>44</td><td>54</td><td>64</td><td>74</td><td>84</td><td> 94</td></tr>\n",
              "\t<tr><td> 5</td><td>15</td><td>25</td><td>35</td><td>45</td><td>55</td><td>65</td><td>75</td><td>85</td><td> 95</td></tr>\n",
              "\t<tr><td> 6</td><td>16</td><td>26</td><td>36</td><td>46</td><td>56</td><td>66</td><td>76</td><td>86</td><td> 96</td></tr>\n",
              "\t<tr><td> 7</td><td>17</td><td>27</td><td>37</td><td>47</td><td>57</td><td>67</td><td>77</td><td>87</td><td> 97</td></tr>\n",
              "\t<tr><td> 8</td><td>18</td><td>28</td><td>38</td><td>48</td><td>58</td><td>68</td><td>78</td><td>88</td><td> 98</td></tr>\n",
              "\t<tr><td> 9</td><td>19</td><td>29</td><td>39</td><td>49</td><td>59</td><td>69</td><td>79</td><td>89</td><td> 99</td></tr>\n",
              "\t<tr><td>10</td><td>20</td><td>30</td><td>40</td><td>50</td><td>60</td><td>70</td><td>80</td><td>90</td><td>100</td></tr>\n",
              "</tbody>\n",
              "</table>\n"
            ]
          },
          "metadata": {
            "tags": []
          }
        }
      ]
    },
    {
      "cell_type": "code",
      "metadata": {
        "id": "2TfHb8XXXbEl",
        "colab_type": "code",
        "colab": {
          "base_uri": "https://localhost:8080/",
          "height": 246
        },
        "outputId": "4454b131-babc-41d2-a738-e43a7968b271"
      },
      "source": [
        "# 백터의 행우선(row) 행렬 객체 생성\n",
        "m <- matrix(c(1:100), nrow = 10, byrow = T)\n",
        "m"
      ],
      "execution_count": null,
      "outputs": [
        {
          "output_type": "display_data",
          "data": {
            "text/plain": [
              "      [,1] [,2] [,3] [,4] [,5] [,6] [,7] [,8] [,9] [,10]\n",
              " [1,]  1    2    3    4    5    6    7    8    9    10  \n",
              " [2,] 11   12   13   14   15   16   17   18   19    20  \n",
              " [3,] 21   22   23   24   25   26   27   28   29    30  \n",
              " [4,] 31   32   33   34   35   36   37   38   39    40  \n",
              " [5,] 41   42   43   44   45   46   47   48   49    50  \n",
              " [6,] 51   52   53   54   55   56   57   58   59    60  \n",
              " [7,] 61   62   63   64   65   66   67   68   69    70  \n",
              " [8,] 71   72   73   74   75   76   77   78   79    80  \n",
              " [9,] 81   82   83   84   85   86   87   88   89    90  \n",
              "[10,] 91   92   93   94   95   96   97   98   99   100  "
            ],
            "text/latex": "A matrix: 10 × 10 of type int\n\\begin{tabular}{llllllllll}\n\t  1 &  2 &  3 &  4 &  5 &  6 &  7 &  8 &  9 &  10\\\\\n\t 11 & 12 & 13 & 14 & 15 & 16 & 17 & 18 & 19 &  20\\\\\n\t 21 & 22 & 23 & 24 & 25 & 26 & 27 & 28 & 29 &  30\\\\\n\t 31 & 32 & 33 & 34 & 35 & 36 & 37 & 38 & 39 &  40\\\\\n\t 41 & 42 & 43 & 44 & 45 & 46 & 47 & 48 & 49 &  50\\\\\n\t 51 & 52 & 53 & 54 & 55 & 56 & 57 & 58 & 59 &  60\\\\\n\t 61 & 62 & 63 & 64 & 65 & 66 & 67 & 68 & 69 &  70\\\\\n\t 71 & 72 & 73 & 74 & 75 & 76 & 77 & 78 & 79 &  80\\\\\n\t 81 & 82 & 83 & 84 & 85 & 86 & 87 & 88 & 89 &  90\\\\\n\t 91 & 92 & 93 & 94 & 95 & 96 & 97 & 98 & 99 & 100\\\\\n\\end{tabular}\n",
            "text/markdown": "\nA matrix: 10 × 10 of type int\n\n|  1 |  2 |  3 |  4 |  5 |  6 |  7 |  8 |  9 |  10 |\n| 11 | 12 | 13 | 14 | 15 | 16 | 17 | 18 | 19 |  20 |\n| 21 | 22 | 23 | 24 | 25 | 26 | 27 | 28 | 29 |  30 |\n| 31 | 32 | 33 | 34 | 35 | 36 | 37 | 38 | 39 |  40 |\n| 41 | 42 | 43 | 44 | 45 | 46 | 47 | 48 | 49 |  50 |\n| 51 | 52 | 53 | 54 | 55 | 56 | 57 | 58 | 59 |  60 |\n| 61 | 62 | 63 | 64 | 65 | 66 | 67 | 68 | 69 |  70 |\n| 71 | 72 | 73 | 74 | 75 | 76 | 77 | 78 | 79 |  80 |\n| 81 | 82 | 83 | 84 | 85 | 86 | 87 | 88 | 89 |  90 |\n| 91 | 92 | 93 | 94 | 95 | 96 | 97 | 98 | 99 | 100 |\n\n",
            "text/html": [
              "<table>\n",
              "<caption>A matrix: 10 × 10 of type int</caption>\n",
              "<tbody>\n",
              "\t<tr><td> 1</td><td> 2</td><td> 3</td><td> 4</td><td> 5</td><td> 6</td><td> 7</td><td> 8</td><td> 9</td><td> 10</td></tr>\n",
              "\t<tr><td>11</td><td>12</td><td>13</td><td>14</td><td>15</td><td>16</td><td>17</td><td>18</td><td>19</td><td> 20</td></tr>\n",
              "\t<tr><td>21</td><td>22</td><td>23</td><td>24</td><td>25</td><td>26</td><td>27</td><td>28</td><td>29</td><td> 30</td></tr>\n",
              "\t<tr><td>31</td><td>32</td><td>33</td><td>34</td><td>35</td><td>36</td><td>37</td><td>38</td><td>39</td><td> 40</td></tr>\n",
              "\t<tr><td>41</td><td>42</td><td>43</td><td>44</td><td>45</td><td>46</td><td>47</td><td>48</td><td>49</td><td> 50</td></tr>\n",
              "\t<tr><td>51</td><td>52</td><td>53</td><td>54</td><td>55</td><td>56</td><td>57</td><td>58</td><td>59</td><td> 60</td></tr>\n",
              "\t<tr><td>61</td><td>62</td><td>63</td><td>64</td><td>65</td><td>66</td><td>67</td><td>68</td><td>69</td><td> 70</td></tr>\n",
              "\t<tr><td>71</td><td>72</td><td>73</td><td>74</td><td>75</td><td>76</td><td>77</td><td>78</td><td>79</td><td> 80</td></tr>\n",
              "\t<tr><td>81</td><td>82</td><td>83</td><td>84</td><td>85</td><td>86</td><td>87</td><td>88</td><td>89</td><td> 90</td></tr>\n",
              "\t<tr><td>91</td><td>92</td><td>93</td><td>94</td><td>95</td><td>96</td><td>97</td><td>98</td><td>99</td><td>100</td></tr>\n",
              "</tbody>\n",
              "</table>\n"
            ]
          },
          "metadata": {
            "tags": []
          }
        }
      ]
    },
    {
      "cell_type": "code",
      "metadata": {
        "id": "hr9KHSCbXpeX",
        "colab_type": "code",
        "colab": {
          "base_uri": "https://localhost:8080/",
          "height": 78
        },
        "outputId": "4f66b301-a2fc-47b5-ed35-2a12e6063930"
      },
      "source": [
        "# 행 묶음으로 행렬 객체 생성하기\n",
        "x1 <- c(1:10) \n",
        "x2 <- c(11:20)\n",
        "m <- rbind(x1,x2)\n",
        "m"
      ],
      "execution_count": null,
      "outputs": [
        {
          "output_type": "display_data",
          "data": {
            "text/plain": [
              "   [,1] [,2] [,3] [,4] [,5] [,6] [,7] [,8] [,9] [,10]\n",
              "x1  1    2    3    4    5    6    7    8    9   10   \n",
              "x2 11   12   13   14   15   16   17   18   19   20   "
            ],
            "text/latex": "A matrix: 2 × 10 of type int\n\\begin{tabular}{r|llllllllll}\n\tx1 &  1 &  2 &  3 &  4 &  5 &  6 &  7 &  8 &  9 & 10\\\\\n\tx2 & 11 & 12 & 13 & 14 & 15 & 16 & 17 & 18 & 19 & 20\\\\\n\\end{tabular}\n",
            "text/markdown": "\nA matrix: 2 × 10 of type int\n\n| x1 |  1 |  2 |  3 |  4 |  5 |  6 |  7 |  8 |  9 | 10 |\n| x2 | 11 | 12 | 13 | 14 | 15 | 16 | 17 | 18 | 19 | 20 |\n\n",
            "text/html": [
              "<table>\n",
              "<caption>A matrix: 2 × 10 of type int</caption>\n",
              "<tbody>\n",
              "\t<tr><th scope=row>x1</th><td> 1</td><td> 2</td><td> 3</td><td> 4</td><td> 5</td><td> 6</td><td> 7</td><td> 8</td><td> 9</td><td>10</td></tr>\n",
              "\t<tr><th scope=row>x2</th><td>11</td><td>12</td><td>13</td><td>14</td><td>15</td><td>16</td><td>17</td><td>18</td><td>19</td><td>20</td></tr>\n",
              "</tbody>\n",
              "</table>\n"
            ]
          },
          "metadata": {
            "tags": []
          }
        }
      ]
    },
    {
      "cell_type": "code",
      "metadata": {
        "id": "CRP4bBgbYhbO",
        "colab_type": "code",
        "colab": {
          "base_uri": "https://localhost:8080/",
          "height": 352
        },
        "outputId": "52ddf2d3-ba9d-486e-cefa-81bcba8ef0a3"
      },
      "source": [
        "# 열 묶음으로 행렬 객체 생성하기\n",
        "m <- cbind(x1,x2)\n",
        "m "
      ],
      "execution_count": null,
      "outputs": [
        {
          "output_type": "display_data",
          "data": {
            "text/plain": [
              "      x1 x2\n",
              " [1,]  1 11\n",
              " [2,]  2 12\n",
              " [3,]  3 13\n",
              " [4,]  4 14\n",
              " [5,]  5 15\n",
              " [6,]  6 16\n",
              " [7,]  7 17\n",
              " [8,]  8 18\n",
              " [9,]  9 19\n",
              "[10,] 10 20"
            ],
            "text/latex": "A matrix: 10 × 2 of type int\n\\begin{tabular}{ll}\n x1 & x2\\\\\n\\hline\n\t  1 & 11\\\\\n\t  2 & 12\\\\\n\t  3 & 13\\\\\n\t  4 & 14\\\\\n\t  5 & 15\\\\\n\t  6 & 16\\\\\n\t  7 & 17\\\\\n\t  8 & 18\\\\\n\t  9 & 19\\\\\n\t 10 & 20\\\\\n\\end{tabular}\n",
            "text/markdown": "\nA matrix: 10 × 2 of type int\n\n| x1 | x2 |\n|---|---|\n|  1 | 11 |\n|  2 | 12 |\n|  3 | 13 |\n|  4 | 14 |\n|  5 | 15 |\n|  6 | 16 |\n|  7 | 17 |\n|  8 | 18 |\n|  9 | 19 |\n| 10 | 20 |\n\n",
            "text/html": [
              "<table>\n",
              "<caption>A matrix: 10 × 2 of type int</caption>\n",
              "<thead>\n",
              "\t<tr><th scope=col>x1</th><th scope=col>x2</th></tr>\n",
              "</thead>\n",
              "<tbody>\n",
              "\t<tr><td> 1</td><td>11</td></tr>\n",
              "\t<tr><td> 2</td><td>12</td></tr>\n",
              "\t<tr><td> 3</td><td>13</td></tr>\n",
              "\t<tr><td> 4</td><td>14</td></tr>\n",
              "\t<tr><td> 5</td><td>15</td></tr>\n",
              "\t<tr><td> 6</td><td>16</td></tr>\n",
              "\t<tr><td> 7</td><td>17</td></tr>\n",
              "\t<tr><td> 8</td><td>18</td></tr>\n",
              "\t<tr><td> 9</td><td>19</td></tr>\n",
              "\t<tr><td>10</td><td>20</td></tr>\n",
              "</tbody>\n",
              "</table>\n"
            ]
          },
          "metadata": {
            "tags": []
          }
        }
      ]
    },
    {
      "cell_type": "code",
      "metadata": {
        "id": "fERAApNTY_r7",
        "colab_type": "code",
        "colab": {
          "base_uri": "https://localhost:8080/",
          "height": 129
        },
        "outputId": "579aeda9-80eb-415d-baa5-138a83e15164"
      },
      "source": [
        "# 2행으로 행렬 객체 생성하기\n",
        "# m1 <- matrix(10:20,2) # 오류 발생\n",
        "m2 <- matrix(10:19,2)\n",
        "m2\n",
        "mode(m2)\n",
        "class(m2)"
      ],
      "execution_count": null,
      "outputs": [
        {
          "output_type": "display_data",
          "data": {
            "text/plain": [
              "     [,1] [,2] [,3] [,4] [,5]\n",
              "[1,] 10   12   14   16   18  \n",
              "[2,] 11   13   15   17   19  "
            ],
            "text/latex": "A matrix: 2 × 5 of type int\n\\begin{tabular}{lllll}\n\t 10 & 12 & 14 & 16 & 18\\\\\n\t 11 & 13 & 15 & 17 & 19\\\\\n\\end{tabular}\n",
            "text/markdown": "\nA matrix: 2 × 5 of type int\n\n| 10 | 12 | 14 | 16 | 18 |\n| 11 | 13 | 15 | 17 | 19 |\n\n",
            "text/html": [
              "<table>\n",
              "<caption>A matrix: 2 × 5 of type int</caption>\n",
              "<tbody>\n",
              "\t<tr><td>10</td><td>12</td><td>14</td><td>16</td><td>18</td></tr>\n",
              "\t<tr><td>11</td><td>13</td><td>15</td><td>17</td><td>19</td></tr>\n",
              "</tbody>\n",
              "</table>\n"
            ]
          },
          "metadata": {
            "tags": []
          }
        },
        {
          "output_type": "display_data",
          "data": {
            "text/plain": [
              "[1] \"numeric\""
            ],
            "text/latex": "'numeric'",
            "text/markdown": "'numeric'",
            "text/html": [
              "'numeric'"
            ]
          },
          "metadata": {
            "tags": []
          }
        },
        {
          "output_type": "display_data",
          "data": {
            "text/plain": [
              "[1] \"matrix\""
            ],
            "text/latex": "'matrix'",
            "text/markdown": "'matrix'",
            "text/html": [
              "'matrix'"
            ]
          },
          "metadata": {
            "tags": []
          }
        }
      ]
    },
    {
      "cell_type": "code",
      "metadata": {
        "id": "dJaKB6nWaFuD",
        "colab_type": "code",
        "colab": {
          "base_uri": "https://localhost:8080/",
          "height": 34
        },
        "outputId": "9bb0acb4-6cbd-4b1d-dfe9-f120efd60045"
      },
      "source": [
        "# 첨자를 사용하여 행렬 객체에 접근하기\n",
        "m2[1,] # 1행 전체 원소 출력"
      ],
      "execution_count": null,
      "outputs": [
        {
          "output_type": "display_data",
          "data": {
            "text/plain": [
              "[1] 10 12 14 16 18"
            ],
            "text/latex": "\\begin{enumerate*}\n\\item 10\n\\item 12\n\\item 14\n\\item 16\n\\item 18\n\\end{enumerate*}\n",
            "text/markdown": "1. 10\n2. 12\n3. 14\n4. 16\n5. 18\n\n\n",
            "text/html": [
              "<style>\n",
              ".list-inline {list-style: none; margin:0; padding: 0}\n",
              ".list-inline>li {display: inline-block}\n",
              ".list-inline>li:not(:last-child)::after {content: \"\\00b7\"; padding: 0 .5ex}\n",
              "</style>\n",
              "<ol class=list-inline><li>10</li><li>12</li><li>14</li><li>16</li><li>18</li></ol>\n"
            ]
          },
          "metadata": {
            "tags": []
          }
        }
      ]
    },
    {
      "cell_type": "code",
      "metadata": {
        "id": "SytWX4fOaZaI",
        "colab_type": "code",
        "colab": {
          "base_uri": "https://localhost:8080/",
          "height": 34
        },
        "outputId": "bbb193f8-cb1e-4863-f73a-fcbc004d5207"
      },
      "source": [
        "m2[,5] # 5열 전체 원소 출력"
      ],
      "execution_count": null,
      "outputs": [
        {
          "output_type": "display_data",
          "data": {
            "text/plain": [
              "[1] 18 19"
            ],
            "text/latex": "\\begin{enumerate*}\n\\item 18\n\\item 19\n\\end{enumerate*}\n",
            "text/markdown": "1. 18\n2. 19\n\n\n",
            "text/html": [
              "<style>\n",
              ".list-inline {list-style: none; margin:0; padding: 0}\n",
              ".list-inline>li {display: inline-block}\n",
              ".list-inline>li:not(:last-child)::after {content: \"\\00b7\"; padding: 0 .5ex}\n",
              "</style>\n",
              "<ol class=list-inline><li>18</li><li>19</li></ol>\n"
            ]
          },
          "metadata": {
            "tags": []
          }
        }
      ]
    },
    {
      "cell_type": "code",
      "metadata": {
        "id": "uppz_nJ8ah2b",
        "colab_type": "code",
        "colab": {
          "base_uri": "https://localhost:8080/",
          "height": 34
        },
        "outputId": "c8a7fa79-7784-4e8d-b0a6-180a86c54dd3"
      },
      "source": [
        "m2[2,3]"
      ],
      "execution_count": null,
      "outputs": [
        {
          "output_type": "display_data",
          "data": {
            "text/plain": [
              "[1] 15"
            ],
            "text/latex": "15",
            "text/markdown": "15",
            "text/html": [
              "15"
            ]
          },
          "metadata": {
            "tags": []
          }
        }
      ]
    },
    {
      "cell_type": "code",
      "metadata": {
        "id": "4oyvDT8PaqV3",
        "colab_type": "code",
        "colab": {
          "base_uri": "https://localhost:8080/",
          "height": 34
        },
        "outputId": "9f187dc1-02ee-495b-82dc-bf4b3b349093"
      },
      "source": [
        "m3[1,c(2:5)]"
      ],
      "execution_count": null,
      "outputs": [
        {
          "output_type": "display_data",
          "data": {
            "text/plain": [
              "[1] 12 14 16 18"
            ],
            "text/latex": "\\begin{enumerate*}\n\\item 12\n\\item 14\n\\item 16\n\\item 18\n\\end{enumerate*}\n",
            "text/markdown": "1. 12\n2. 14\n3. 16\n4. 18\n\n\n",
            "text/html": [
              "<style>\n",
              ".list-inline {list-style: none; margin:0; padding: 0}\n",
              ".list-inline>li {display: inline-block}\n",
              ".list-inline>li:not(:last-child)::after {content: \"\\00b7\"; padding: 0 .5ex}\n",
              "</style>\n",
              "<ol class=list-inline><li>12</li><li>14</li><li>16</li><li>18</li></ol>\n"
            ]
          },
          "metadata": {
            "tags": []
          }
        }
      ]
    },
    {
      "cell_type": "code",
      "metadata": {
        "id": "ljdQwNXnawXz",
        "colab_type": "code",
        "colab": {
          "base_uri": "https://localhost:8080/",
          "height": 351
        },
        "outputId": "70cdeccb-e3e9-42ff-f16a-978b018e2bab"
      },
      "source": [
        "# 3*3의 행렬 객체 생성하기\n",
        "m3 <- matrix(c(1:9), nrow=3, ncol=3)\n",
        "m3\n",
        "m4 <- matrix(c(1:9), nrow=3, byrow = T)\n",
        "m4"
      ],
      "execution_count": 2,
      "outputs": [
        {
          "output_type": "display_data",
          "data": {
            "text/plain": [
              "     [,1] [,2] [,3]\n",
              "[1,] 1    4    7   \n",
              "[2,] 2    5    8   \n",
              "[3,] 3    6    9   "
            ],
            "text/latex": "A matrix: 3 × 3 of type int\n\\begin{tabular}{lll}\n\t 1 & 4 & 7\\\\\n\t 2 & 5 & 8\\\\\n\t 3 & 6 & 9\\\\\n\\end{tabular}\n",
            "text/markdown": "\nA matrix: 3 × 3 of type int\n\n| 1 | 4 | 7 |\n| 2 | 5 | 8 |\n| 3 | 6 | 9 |\n\n",
            "text/html": [
              "<table>\n",
              "<caption>A matrix: 3 × 3 of type int</caption>\n",
              "<tbody>\n",
              "\t<tr><td>1</td><td>4</td><td>7</td></tr>\n",
              "\t<tr><td>2</td><td>5</td><td>8</td></tr>\n",
              "\t<tr><td>3</td><td>6</td><td>9</td></tr>\n",
              "</tbody>\n",
              "</table>\n"
            ]
          },
          "metadata": {
            "tags": []
          }
        },
        {
          "output_type": "display_data",
          "data": {
            "text/plain": [
              "     [,1] [,2] [,3]\n",
              "[1,] 1    2    3   \n",
              "[2,] 4    5    6   \n",
              "[3,] 7    8    9   "
            ],
            "text/latex": "A matrix: 3 × 3 of type int\n\\begin{tabular}{lll}\n\t 1 & 2 & 3\\\\\n\t 4 & 5 & 6\\\\\n\t 7 & 8 & 9\\\\\n\\end{tabular}\n",
            "text/markdown": "\nA matrix: 3 × 3 of type int\n\n| 1 | 2 | 3 |\n| 4 | 5 | 6 |\n| 7 | 8 | 9 |\n\n",
            "text/html": [
              "<table>\n",
              "<caption>A matrix: 3 × 3 of type int</caption>\n",
              "<tbody>\n",
              "\t<tr><td>1</td><td>2</td><td>3</td></tr>\n",
              "\t<tr><td>4</td><td>5</td><td>6</td></tr>\n",
              "\t<tr><td>7</td><td>8</td><td>9</td></tr>\n",
              "</tbody>\n",
              "</table>\n"
            ]
          },
          "metadata": {
            "tags": []
          }
        }
      ]
    },
    {
      "cell_type": "code",
      "metadata": {
        "id": "Mufqr8BMbWNV",
        "colab_type": "code",
        "colab": {
          "base_uri": "https://localhost:8080/",
          "height": 34
        },
        "outputId": "83785ceb-7587-4360-aa57-e08301a76b4b"
      },
      "source": [
        "# 행렬 객체 처리 함수 - 자료의 갯수 보기\n",
        "length(m4)"
      ],
      "execution_count": null,
      "outputs": [
        {
          "output_type": "display_data",
          "data": {
            "text/plain": [
              "[1] 9"
            ],
            "text/latex": "9",
            "text/markdown": "9",
            "text/html": [
              "9"
            ]
          },
          "metadata": {
            "tags": []
          }
        }
      ]
    },
    {
      "cell_type": "code",
      "metadata": {
        "id": "OkZ1xc9-bncb",
        "colab_type": "code",
        "colab": {
          "base_uri": "https://localhost:8080/",
          "height": 51
        },
        "outputId": "06cd5a7a-48f4-4d65-d6dd-ebfdcb7dc03a"
      },
      "source": [
        "nrow(m4)\n",
        "ncol(m4)"
      ],
      "execution_count": null,
      "outputs": [
        {
          "output_type": "display_data",
          "data": {
            "text/plain": [
              "[1] 3"
            ],
            "text/latex": "3",
            "text/markdown": "3",
            "text/html": [
              "3"
            ]
          },
          "metadata": {
            "tags": []
          }
        },
        {
          "output_type": "display_data",
          "data": {
            "text/plain": [
              "[1] 3"
            ],
            "text/latex": "3",
            "text/markdown": "3",
            "text/html": [
              "3"
            ]
          },
          "metadata": {
            "tags": []
          }
        }
      ]
    },
    {
      "cell_type": "code",
      "metadata": {
        "id": "mX33OoN5byRV",
        "colab_type": "code",
        "colab": {
          "base_uri": "https://localhost:8080/",
          "height": 34
        },
        "outputId": "8b52ec5b-40b7-4764-d2f2-d80081979543"
      },
      "source": [
        "# apply(행렬객체, 1:행단위 | 2:열단위 , 행렬자료에 적용할 함수) 함수\n",
        "apply(m4, 1, max)"
      ],
      "execution_count": null,
      "outputs": [
        {
          "output_type": "display_data",
          "data": {
            "text/plain": [
              "[1] 3 6 9"
            ],
            "text/latex": "\\begin{enumerate*}\n\\item 3\n\\item 6\n\\item 9\n\\end{enumerate*}\n",
            "text/markdown": "1. 3\n2. 6\n3. 9\n\n\n",
            "text/html": [
              "<style>\n",
              ".list-inline {list-style: none; margin:0; padding: 0}\n",
              ".list-inline>li {display: inline-block}\n",
              ".list-inline>li:not(:last-child)::after {content: \"\\00b7\"; padding: 0 .5ex}\n",
              "</style>\n",
              "<ol class=list-inline><li>3</li><li>6</li><li>9</li></ol>\n"
            ]
          },
          "metadata": {
            "tags": []
          }
        }
      ]
    },
    {
      "cell_type": "code",
      "metadata": {
        "id": "PWIBi1qScacn",
        "colab_type": "code",
        "colab": {
          "base_uri": "https://localhost:8080/",
          "height": 34
        },
        "outputId": "90bef0e3-c42e-4cf9-cc7b-532bb8682861"
      },
      "source": [
        "apply(m4,1, mean)"
      ],
      "execution_count": null,
      "outputs": [
        {
          "output_type": "display_data",
          "data": {
            "text/plain": [
              "[1] 2 5 8"
            ],
            "text/latex": "\\begin{enumerate*}\n\\item 2\n\\item 5\n\\item 8\n\\end{enumerate*}\n",
            "text/markdown": "1. 2\n2. 5\n3. 8\n\n\n",
            "text/html": [
              "<style>\n",
              ".list-inline {list-style: none; margin:0; padding: 0}\n",
              ".list-inline>li {display: inline-block}\n",
              ".list-inline>li:not(:last-child)::after {content: \"\\00b7\"; padding: 0 .5ex}\n",
              "</style>\n",
              "<ol class=list-inline><li>2</li><li>5</li><li>8</li></ol>\n"
            ]
          },
          "metadata": {
            "tags": []
          }
        }
      ]
    },
    {
      "cell_type": "code",
      "metadata": {
        "id": "ZYWjfkzCcrMt",
        "colab_type": "code",
        "colab": {
          "base_uri": "https://localhost:8080/",
          "height": 34
        },
        "outputId": "c8ac37fe-72a0-46e4-9de9-b31a1db5fc0b"
      },
      "source": [
        "apply(m4,2,max)"
      ],
      "execution_count": null,
      "outputs": [
        {
          "output_type": "display_data",
          "data": {
            "text/plain": [
              "[1] 7 8 9"
            ],
            "text/latex": "\\begin{enumerate*}\n\\item 7\n\\item 8\n\\item 9\n\\end{enumerate*}\n",
            "text/markdown": "1. 7\n2. 8\n3. 9\n\n\n",
            "text/html": [
              "<style>\n",
              ".list-inline {list-style: none; margin:0; padding: 0}\n",
              ".list-inline>li {display: inline-block}\n",
              ".list-inline>li:not(:last-child)::after {content: \"\\00b7\"; padding: 0 .5ex}\n",
              "</style>\n",
              "<ol class=list-inline><li>7</li><li>8</li><li>9</li></ol>\n"
            ]
          },
          "metadata": {
            "tags": []
          }
        }
      ]
    },
    {
      "cell_type": "code",
      "metadata": {
        "id": "pE3DMd_-dMkq",
        "colab_type": "code",
        "colab": {
          "base_uri": "https://localhost:8080/",
          "height": 184
        },
        "outputId": "ae5033b3-f936-48c3-cd3d-68336c0ef433"
      },
      "source": [
        "# Test\n",
        "m5 <- matrix(c(9:1), nrow=3)\n",
        "m5"
      ],
      "execution_count": null,
      "outputs": [
        {
          "output_type": "display_data",
          "data": {
            "text/plain": [
              "     [,1] [,2] [,3]\n",
              "[1,] 9    6    3   \n",
              "[2,] 8    5    2   \n",
              "[3,] 7    4    1   "
            ],
            "text/latex": "A matrix: 3 × 3 of type int\n\\begin{tabular}{lll}\n\t 9 & 6 & 3\\\\\n\t 8 & 5 & 2\\\\\n\t 7 & 4 & 1\\\\\n\\end{tabular}\n",
            "text/markdown": "\nA matrix: 3 × 3 of type int\n\n| 9 | 6 | 3 |\n| 8 | 5 | 2 |\n| 7 | 4 | 1 |\n\n",
            "text/html": [
              "<table>\n",
              "<caption>A matrix: 3 × 3 of type int</caption>\n",
              "<tbody>\n",
              "\t<tr><td>9</td><td>6</td><td>3</td></tr>\n",
              "\t<tr><td>8</td><td>5</td><td>2</td></tr>\n",
              "\t<tr><td>7</td><td>4</td><td>1</td></tr>\n",
              "</tbody>\n",
              "</table>\n"
            ]
          },
          "metadata": {
            "tags": []
          }
        }
      ]
    },
    {
      "cell_type": "code",
      "metadata": {
        "id": "W1RMLDY8dYKl",
        "colab_type": "code",
        "colab": {
          "base_uri": "https://localhost:8080/",
          "height": 34
        },
        "outputId": "f8caee6a-8732-42f5-cf08-4d8fb290a959"
      },
      "source": [
        "apply(m5,2,max) # m5에서 열단위로 최대값 출력!!"
      ],
      "execution_count": null,
      "outputs": [
        {
          "output_type": "display_data",
          "data": {
            "text/plain": [
              "[1] 9 6 3"
            ],
            "text/latex": "\\begin{enumerate*}\n\\item 9\n\\item 6\n\\item 3\n\\end{enumerate*}\n",
            "text/markdown": "1. 9\n2. 6\n3. 3\n\n\n",
            "text/html": [
              "<style>\n",
              ".list-inline {list-style: none; margin:0; padding: 0}\n",
              ".list-inline>li {display: inline-block}\n",
              ".list-inline>li:not(:last-child)::after {content: \"\\00b7\"; padding: 0 .5ex}\n",
              "</style>\n",
              "<ol class=list-inline><li>9</li><li>6</li><li>3</li></ol>\n"
            ]
          },
          "metadata": {
            "tags": []
          }
        }
      ]
    },
    {
      "cell_type": "code",
      "metadata": {
        "id": "MWrTq3Fod1ZT",
        "colab_type": "code",
        "colab": {
          "base_uri": "https://localhost:8080/",
          "height": 300
        },
        "outputId": "b0285254-7067-44a2-f17d-34006a77baba"
      },
      "source": [
        "# 사용자 정의 함수\n",
        "f <- function(x) {\n",
        "  x * c(1,2,3) # Q) 행렬 연산 ???\n",
        "} \n",
        "\n",
        "m3\n",
        "r <- apply(m3, 1, f) # 행단위으로 함수 f 적용(??)\n",
        "r                    # 벡터 데이터 연산할 때 열단위로 결과 출력(https://www.youtube.com/watch?v=JpSe38UHaos) \n"
      ],
      "execution_count": null,
      "outputs": [
        {
          "output_type": "display_data",
          "data": {
            "text/plain": [
              "     [,1] [,2] [,3]\n",
              "[1,] 1    4    7   \n",
              "[2,] 2    5    8   \n",
              "[3,] 3    6    9   "
            ],
            "text/latex": "A matrix: 3 × 3 of type int\n\\begin{tabular}{lll}\n\t 1 & 4 & 7\\\\\n\t 2 & 5 & 8\\\\\n\t 3 & 6 & 9\\\\\n\\end{tabular}\n",
            "text/markdown": "\nA matrix: 3 × 3 of type int\n\n| 1 | 4 | 7 |\n| 2 | 5 | 8 |\n| 3 | 6 | 9 |\n\n",
            "text/html": [
              "<table>\n",
              "<caption>A matrix: 3 × 3 of type int</caption>\n",
              "<tbody>\n",
              "\t<tr><td>1</td><td>4</td><td>7</td></tr>\n",
              "\t<tr><td>2</td><td>5</td><td>8</td></tr>\n",
              "\t<tr><td>3</td><td>6</td><td>9</td></tr>\n",
              "</tbody>\n",
              "</table>\n"
            ]
          },
          "metadata": {
            "tags": []
          }
        },
        {
          "output_type": "display_data",
          "data": {
            "text/plain": [
              "     [,1] [,2] [,3]\n",
              "[1,]  1    2    3  \n",
              "[2,]  8   10   12  \n",
              "[3,] 21   24   27  "
            ],
            "text/latex": "A matrix: 3 × 3 of type dbl\n\\begin{tabular}{lll}\n\t  1 &  2 &  3\\\\\n\t  8 & 10 & 12\\\\\n\t 21 & 24 & 27\\\\\n\\end{tabular}\n",
            "text/markdown": "\nA matrix: 3 × 3 of type dbl\n\n|  1 |  2 |  3 |\n|  8 | 10 | 12 |\n| 21 | 24 | 27 |\n\n",
            "text/html": [
              "<table>\n",
              "<caption>A matrix: 3 × 3 of type dbl</caption>\n",
              "<tbody>\n",
              "\t<tr><td> 1</td><td> 2</td><td> 3</td></tr>\n",
              "\t<tr><td> 8</td><td>10</td><td>12</td></tr>\n",
              "\t<tr><td>21</td><td>24</td><td>27</td></tr>\n",
              "</tbody>\n",
              "</table>\n"
            ]
          },
          "metadata": {
            "tags": []
          }
        }
      ]
    },
    {
      "cell_type": "code",
      "metadata": {
        "id": "Z0_sLPRuUKdo",
        "colab_type": "code",
        "colab": {
          "base_uri": "https://localhost:8080/",
          "height": 154
        },
        "outputId": "f8c6048a-5439-4a92-aef5-06445995fc46"
      },
      "source": [
        "# 행렬 객체에 컬럼명 지정하기\n",
        "colnames(m3) <- c(\"c1\",\"c2\",\"c3\")\n",
        "rownames(m3) <- c(\"r1\",\"r2\",\"r3\")\n",
        "m3"
      ],
      "execution_count": 3,
      "outputs": [
        {
          "output_type": "display_data",
          "data": {
            "text/plain": [
              "   c1 c2 c3\n",
              "r1 1  4  7 \n",
              "r2 2  5  8 \n",
              "r3 3  6  9 "
            ],
            "text/latex": "A matrix: 3 × 3 of type int\n\\begin{tabular}{r|lll}\n  & c1 & c2 & c3\\\\\n\\hline\n\tr1 & 1 & 4 & 7\\\\\n\tr2 & 2 & 5 & 8\\\\\n\tr3 & 3 & 6 & 9\\\\\n\\end{tabular}\n",
            "text/markdown": "\nA matrix: 3 × 3 of type int\n\n| <!--/--> | c1 | c2 | c3 |\n|---|---|---|---|\n| r1 | 1 | 4 | 7 |\n| r2 | 2 | 5 | 8 |\n| r3 | 3 | 6 | 9 |\n\n",
            "text/html": [
              "<table>\n",
              "<caption>A matrix: 3 × 3 of type int</caption>\n",
              "<thead>\n",
              "\t<tr><th></th><th scope=col>c1</th><th scope=col>c2</th><th scope=col>c3</th></tr>\n",
              "</thead>\n",
              "<tbody>\n",
              "\t<tr><th scope=row>r1</th><td>1</td><td>4</td><td>7</td></tr>\n",
              "\t<tr><th scope=row>r2</th><td>2</td><td>5</td><td>8</td></tr>\n",
              "\t<tr><th scope=row>r3</th><td>3</td><td>6</td><td>9</td></tr>\n",
              "</tbody>\n",
              "</table>\n"
            ]
          },
          "metadata": {
            "tags": []
          }
        }
      ]
    }
  ]
}