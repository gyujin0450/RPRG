{
  "nbformat": 4,
  "nbformat_minor": 0,
  "metadata": {
    "colab": {
      "name": "R11_확률예제.ipynb",
      "provenance": [],
      "collapsed_sections": [],
      "toc_visible": true,
      "authorship_tag": "ABX9TyNJLL17bDSXM42yAmihHeS/",
      "include_colab_link": true
    },
    "kernelspec": {
      "name": "ir",
      "display_name": "R"
    }
  },
  "cells": [
    {
      "cell_type": "markdown",
      "metadata": {
        "id": "view-in-github",
        "colab_type": "text"
      },
      "source": [
        "<a href=\"https://colab.research.google.com/github/gyujin0450/RPRG/blob/master/R11_%ED%99%95%EB%A5%A0%EC%98%88%EC%A0%9C.ipynb\" target=\"_parent\"><img src=\"https://colab.research.google.com/assets/colab-badge.svg\" alt=\"Open In Colab\"/></a>"
      ]
    },
    {
      "cell_type": "markdown",
      "metadata": {
        "id": "eZW_P30YOTk2"
      },
      "source": [
        "# 추론 통계 개요\n",
        "기술통계는 수집한 자료가 어떤 분포와 특성을 가겼는지 분석\n",
        "추론통계는 통계자/분석자가 세운 통계적 가설을\n",
        "확률기반으로 채택여부를 판단하는 통계 기법\n",
        "\n",
        "# 추론통계에서 중요한 개념\n",
        "모집단, 표본, 표본공간, 사건, 확률\n"
      ]
    },
    {
      "cell_type": "markdown",
      "metadata": {
        "id": "nx88TP4kFKMQ"
      },
      "source": [
        "## 확률\n",
        "1) 동전 1개를 10회 던져보고, 뒤면의 수와 앞면의 수룰 출력"
      ]
    },
    {
      "cell_type": "code",
      "metadata": {
        "id": "P7Ny8G3EKKh8",
        "outputId": "74fca143-d818-4ac4-9d02-d309b797e2ab",
        "colab": {
          "base_uri": "https://localhost:8080/",
          "height": 71
        }
      },
      "source": [
        "# sample(표본공간, 횟수, 추출방법)\n",
        "# 복원추출 : replace = T \n",
        "# 비복원추출 : replace = F \n",
        "r <- sample(c(\"앞\",\"뒤\"), 10, replace = T)\n",
        "table(r)"
      ],
      "execution_count": 22,
      "outputs": [
        {
          "output_type": "display_data",
          "data": {
            "text/plain": [
              "r\n",
              "뒤 앞 \n",
              " 2  8 "
            ]
          },
          "metadata": {
            "tags": []
          }
        }
      ]
    },
    {
      "cell_type": "markdown",
      "metadata": {
        "id": "FFB9uZBHK-uB"
      },
      "source": [
        "2) 로또 번호 10개 생성"
      ]
    },
    {
      "cell_type": "code",
      "metadata": {
        "id": "_NmK39xxLVsf",
        "outputId": "fe620508-ad2b-4cc9-c1ea-f9705be2f630",
        "colab": {
          "base_uri": "https://localhost:8080/"
        }
      },
      "source": [
        "n <- c(1:10)\n",
        "sink(\"result1.txt\", append = T)\n",
        "for(i in n) {\n",
        "  r <- sample(c(1:45), 6, replace = F)\n",
        "  cat(i, \":\", r, \"\\n\")\n",
        "}\n",
        "sink()  "
      ],
      "execution_count": 69,
      "outputs": [
        {
          "output_type": "stream",
          "text": [
            "1 : 41 44 34 43 38 29 \n",
            "2 : 35 34 10 43 7 39 \n",
            "3 : 44 32 39 11 38 18 \n",
            "4 : 34 19 10 40 30 36 \n",
            "5 : 37 41 33 40 28 15 \n",
            "6 : 36 42 32 3 29 22 \n",
            "7 : 38 41 33 6 16 20 \n",
            "8 : 26 1 14 8 37 28 \n",
            "9 : 27 32 25 23 3 7 \n",
            "10 : 27 9 42 25 31 26 \n"
          ],
          "name": "stdout"
        }
      ]
    },
    {
      "cell_type": "markdown",
      "metadata": {
        "id": "FWWWYREuLvKr"
      },
      "source": [
        "3) 주사위 1개를 60,000회 던져보고, 각 눈의 나온 수룰 출력"
      ]
    },
    {
      "cell_type": "code",
      "metadata": {
        "id": "wh2gvRUKL53W",
        "outputId": "3d4d7e4b-9861-434d-f45b-7b709b32738b",
        "colab": {
          "base_uri": "https://localhost:8080/",
          "height": 71
        }
      },
      "source": [
        "r <- sample(c(1:6), 60000, replace = T)\n",
        "table(r)"
      ],
      "execution_count": 36,
      "outputs": [
        {
          "output_type": "display_data",
          "data": {
            "text/plain": [
              "r\n",
              "    1     2     3     4     5     6 \n",
              "10110  9850  9948 10056  9882 10154 "
            ]
          },
          "metadata": {
            "tags": []
          }
        }
      ]
    },
    {
      "cell_type": "markdown",
      "metadata": {
        "id": "bEYEeo17M3Ti"
      },
      "source": [
        "4) 1 ~ 45 사이 임의의수 6개를 비복원출방식으로 뽑아보세요"
      ]
    },
    {
      "cell_type": "code",
      "metadata": {
        "id": "DJPSRJpUNGX-",
        "outputId": "afc6e8b9-31bc-410a-b714-d543cd80a948",
        "colab": {
          "base_uri": "https://localhost:8080/",
          "height": 34
        }
      },
      "source": [
        "sample(c(1:45), 6, replace = F)"
      ],
      "execution_count": 38,
      "outputs": [
        {
          "output_type": "display_data",
          "data": {
            "text/plain": [
              "[1] 29  5 32 39  6 12"
            ],
            "text/latex": "\\begin{enumerate*}\n\\item 29\n\\item 5\n\\item 32\n\\item 39\n\\item 6\n\\item 12\n\\end{enumerate*}\n",
            "text/markdown": "1. 29\n2. 5\n3. 32\n4. 39\n5. 6\n6. 12\n\n\n",
            "text/html": [
              "<style>\n",
              ".list-inline {list-style: none; margin:0; padding: 0}\n",
              ".list-inline>li {display: inline-block}\n",
              ".list-inline>li:not(:last-child)::after {content: \"\\00b7\"; padding: 0 .5ex}\n",
              "</style>\n",
              "<ol class=list-inline><li>29</li><li>5</li><li>32</li><li>39</li><li>6</li><li>12</li></ol>\n"
            ]
          },
          "metadata": {
            "tags": []
          }
        }
      ]
    },
    {
      "cell_type": "markdown",
      "metadata": {
        "id": "7axKKLKbNK8Z"
      },
      "source": [
        "5) 1 ~ 45 사이 임의의수 6개를 복원출방식으로 뽑아보세요"
      ]
    },
    {
      "cell_type": "code",
      "metadata": {
        "id": "NG_w0OIpNPk-",
        "outputId": "d8697c71-3eb4-4360-c1df-1047f3ba17d2",
        "colab": {
          "base_uri": "https://localhost:8080/",
          "height": 34
        }
      },
      "source": [
        "sample(c(1:45), 6, replace = T)"
      ],
      "execution_count": 41,
      "outputs": [
        {
          "output_type": "display_data",
          "data": {
            "text/plain": [
              "[1] 24 13 37 38 18  8"
            ],
            "text/latex": "\\begin{enumerate*}\n\\item 24\n\\item 13\n\\item 37\n\\item 38\n\\item 18\n\\item 8\n\\end{enumerate*}\n",
            "text/markdown": "1. 24\n2. 13\n3. 37\n4. 38\n5. 18\n6. 8\n\n\n",
            "text/html": [
              "<style>\n",
              ".list-inline {list-style: none; margin:0; padding: 0}\n",
              ".list-inline>li {display: inline-block}\n",
              ".list-inline>li:not(:last-child)::after {content: \"\\00b7\"; padding: 0 .5ex}\n",
              "</style>\n",
              "<ol class=list-inline><li>24</li><li>13</li><li>37</li><li>38</li><li>18</li><li>8</li></ol>\n"
            ]
          },
          "metadata": {
            "tags": []
          }
        }
      ]
    },
    {
      "cell_type": "markdown",
      "metadata": {
        "id": "ynmif7dmO7Ie"
      },
      "source": [
        "# 주관적 확률 - 나이브베이즈\n",
        "https://nittaku.tistory.com/283\n",
        "\n",
        "사전확률 : 관측자가 관측하기 전에 알고 있는 확률\n",
        "- 확률 시행 전에 이미 가지고 있는 지식을 통해 부여한 확률 \n",
        "\n",
        "사후확률 : 사건 발생후에 어떤 원인으로 부터 일어난 것이라고 생각되어지는 확률\n",
        "- 추가된 정보로 부터 사전정보를 새롭게 수정한 확률 (수정 확률) \n",
        "- 베이즈 정리로 부터 구할 수 있음\n"
      ]
    },
    {
      "cell_type": "markdown",
      "metadata": {
        "id": "cGVe15ujPO-g"
      },
      "source": [
        "# 베이즈 이론 활용\n",
        "- 메일제목으로 메일종류 분석 - 스팸 분류\n",
        "- 개인나이,성별,직업등의 데이터를 토대로 영화장르 추천\n",
        "- 나이,성별,검진정보를 토대로 심장병 여부 판별"
      ]
    },
    {
      "cell_type": "markdown",
      "metadata": {
        "id": "BqHkW4SuTRXI"
      },
      "source": [
        "# 곱셈법칙\n",
        "\n",
        "상호종속적 두사건에 대한 곱셈법칙은\n",
        "다른 사건에 대한 조건부 확률과 주어진 사건의 확률의 곱을 의미\n",
        "- P(A n B ) = P(A)P(B|A)\n",
        "\n",
        "이때 곱셈법칙의 동등석을 이용해서 우변을 다음과 같이 변경\n",
        "- P(A n B ) = P(A)P(B|A) = P(A|B)P(B)\n",
        "\n",
        "이것을 이용해서 베이즈 정리를 유도할 수 있음\n",
        "- P(A)P(B|A) = P(A|B)P(B)\n",
        "- P(A|B) = P(A)P(B|A) / P(B) = P(B)P(A|B) / P(A)\n"
      ]
    },
    {
      "cell_type": "markdown",
      "metadata": {
        "id": "5l_mhqvXVMrI"
      },
      "source": [
        "베이즈 확률 vs 경험적 확률\n",
        "- 동전 100회 던졌을 때 앞면이 나올 확율은?\n",
        "- 경험적 확률에서는 '일어난 횟수/전체시도횟수'로 계산\n",
        "\n",
        "만일, A라는 도시에 수지가 태어난 경우\n",
        "이 아이가 노벨상을 받을 확률은?\n",
        "- 이것을 경험적 확률로 계산하려면? 거의 불가능\n",
        "- 이러한 상황에서는 나이브베이즈 확률을 이용함\n",
        "- 일어나지 않은 일에 대한 확률을 불확실성이라는 개념으로 말함\n"
      ]
    },
    {
      "cell_type": "markdown",
      "metadata": {
        "id": "r96CHsrAVT_w"
      },
      "source": [
        "예) 베이즈 정리 예제 (1)\n",
        "- 어떤 사람이 호흡하기 어려울 정도의 가슴 통증 유발\n",
        "- 폐암에 걸릴 확률은 1% 정도임\n",
        "- 병원 방문 후 정확도 90% 검사 실행 결과가 양성일때, 과연 폐암일까?\n",
        "\n"
      ]
    },
    {
      "cell_type": "markdown",
      "metadata": {
        "id": "4X2PetTUWuVP"
      },
      "source": [
        "양성일때 폐암일 확률 \n",
        "- P(폐암|양성) = P(폐암)P(양성|폐암) / P(양성)\n",
        "- 검사했을 때 폐암의 확률 : 90% => P(양성|폐암)\n",
        "- 폐암에 걸리 확률 : 1% => P(폐암)\n",
        "- 따라서, P(폐암)P(양성|폐암) = 0.01 * 0.9 \n",
        "\n",
        "중요! - P(양성) => 양성일 조건\n",
        "- 폐암이고 검사후 실제로 양성인 경우\n",
        "- 폐암이 아닌데, 검사후 양성인 경우\n",
        "\n",
        "** 전체 확률의 정리 **\n",
        "- P(양성) = P(양성|폐암)P(폐암) + P(양성|1-폐암)P(1-폐암) \n",
        "          = (0.9 * 0.01) + (0.1 * 0.99)\n",
        "          = 0.108\n",
        "\n",
        "따라서, P(폐암|양성) = (0.9 * 0.01) / 0.108 = 0.08333 ==> 8.3%\n",
        "\n",
        "결론 : 별거 아님\n",
        "\n"
      ]
    },
    {
      "cell_type": "markdown",
      "metadata": {
        "id": "Gpg-sGJ4XhPQ"
      },
      "source": [
        "예제] 동호회 회원수가 100명 일 때 여성은 40명, 남성은 60명이다.\n",
        "- 이중 기혼인 여성은 16명, 기혼인 남성은 30명일때\n",
        "- 임의로 뽑은 회원이 기혼이라 할 때 여성일 확율은?"
      ]
    },
    {
      "cell_type": "markdown",
      "metadata": {
        "id": "6K_GQ2eQapS5"
      },
      "source": [
        "P(여성|기혼) = P(여성)P(기혼|여성) / P(기혼)\n",
        "- P(여성) : 0.4\n",
        "- P(기혼|여성) ~ 여성 중 기혼 : 0.4\n",
        "- P(기혼) ~ 여성이면서 기혼 + 남성이면서 기혼\n",
        "          = P(기혼|여성)P(여성) + P(기혼|1-여성)P(1-여성)\n",
        "          = 0.4 * 0.4 + (30/60) * 0.6\n",
        "          = 0.46\n",
        "- P(여성|기혼) = 0.4 * 0.4 / 0.46 \n",
        "          = 0.348           "
      ]
    },
    {
      "cell_type": "markdown",
      "metadata": {
        "id": "cePd_f8kcZKa"
      },
      "source": [
        "어떤 나라에서 시민의 39%가 여성이라고 가정해 보자.\n",
        "우리는 또한 여성의 22%와 남성의 14%가 직업이 없다는 것을 알고 있다.\n",
        "그렇다면 이 나라의 인구 중에서 무작위로 뽑은 사람이 실업자 P(U)일 확률은 얼마나 될까?\n",
        "https://github.com/gyujin0450/Rstudy/blob/master/R11_%ED%99%95%EB%A5%A0%EC%98%88%EC%A0%9C.ipynb"
      ]
    },
    {
      "cell_type": "markdown",
      "metadata": {
        "id": "eB8sIYgbhvCr"
      },
      "source": [
        "예) 베이즈 정리 예제 (2)\n",
        "- 시간이 지나 다시 병원을 찾음\n",
        "- 정확도 99% 검사 실행\n",
        "- 결과가 양성\n",
        "- 의사 : 폐암에 걸리 확률이 50%로 증가\n",
        "- 과연 폐암일까?\n"
      ]
    },
    {
      "cell_type": "code",
      "metadata": {
        "id": "UNr4xVu1jBxj"
      },
      "source": [
        ""
      ],
      "execution_count": null,
      "outputs": []
    }
  ]
}