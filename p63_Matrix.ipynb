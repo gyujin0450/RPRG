{
  "nbformat": 4,
  "nbformat_minor": 0,
  "metadata": {
    "colab": {
      "name": "p63_Matrix.ipynb",
      "provenance": [],
      "collapsed_sections": [],
      "authorship_tag": "ABX9TyP7oCw1Ct8G4GdY6MYMegGp",
      "include_colab_link": true
    },
    "kernelspec": {
      "name": "ir",
      "display_name": "R"
    }
  },
  "cells": [
    {
      "cell_type": "markdown",
      "metadata": {
        "id": "view-in-github",
        "colab_type": "text"
      },
      "source": [
        "<a href=\"https://colab.research.google.com/github/gyujin0450/RPRG/blob/master/p63_Matrix.ipynb\" target=\"_parent\"><img src=\"https://colab.research.google.com/assets/colab-badge.svg\" alt=\"Open In Colab\"/></a>"
      ]
    },
    {
      "cell_type": "markdown",
      "metadata": {
        "id": "yXOkc0LiVmq-",
        "colab_type": "text"
      },
      "source": [
        "# ch2.2 Matrix 자료 구조"
      ]
    },
    {
      "cell_type": "code",
      "metadata": {
        "id": "u5_6uf5ZWQSE",
        "colab_type": "code",
        "colab": {
          "base_uri": "https://localhost:8080/",
          "height": 226
        },
        "outputId": "104cccb8-8bcd-46ea-b0d4-6a938d92fce9"
      },
      "source": [
        "# 벡터를 이용한 행렬 객체 생성\n",
        "m <- matrix(c(1:5))\n",
        "m"
      ],
      "execution_count": 4,
      "outputs": [
        {
          "output_type": "display_data",
          "data": {
            "text/plain": [
              "     [,1]\n",
              "[1,] 1   \n",
              "[2,] 2   \n",
              "[3,] 3   \n",
              "[4,] 4   \n",
              "[5,] 5   "
            ],
            "text/latex": "A matrix: 5 × 1 of type int\n\\begin{tabular}{l}\n\t 1\\\\\n\t 2\\\\\n\t 3\\\\\n\t 4\\\\\n\t 5\\\\\n\\end{tabular}\n",
            "text/markdown": "\nA matrix: 5 × 1 of type int\n\n| 1 |\n| 2 |\n| 3 |\n| 4 |\n| 5 |\n\n",
            "text/html": [
              "<table>\n",
              "<caption>A matrix: 5 × 1 of type int</caption>\n",
              "<tbody>\n",
              "\t<tr><td>1</td></tr>\n",
              "\t<tr><td>2</td></tr>\n",
              "\t<tr><td>3</td></tr>\n",
              "\t<tr><td>4</td></tr>\n",
              "\t<tr><td>5</td></tr>\n",
              "</tbody>\n",
              "</table>\n"
            ]
          },
          "metadata": {
            "tags": []
          }
        }
      ]
    },
    {
      "cell_type": "code",
      "metadata": {
        "id": "GHiGSqWAWXc_",
        "colab_type": "code",
        "colab": {
          "base_uri": "https://localhost:8080/",
          "height": 246
        },
        "outputId": "8cd3cf21-a95b-4077-caa6-c750d73af845"
      },
      "source": [
        "# 백터의 열우선(colume) 행렬 객체 생성\n",
        "m <- matrix(c(1:100), nrow=10)\n",
        "m"
      ],
      "execution_count": 10,
      "outputs": [
        {
          "output_type": "display_data",
          "data": {
            "text/plain": [
              "      [,1] [,2] [,3] [,4] [,5] [,6] [,7] [,8] [,9] [,10]\n",
              " [1,]  1   11   21   31   41   51   61   71   81    91  \n",
              " [2,]  2   12   22   32   42   52   62   72   82    92  \n",
              " [3,]  3   13   23   33   43   53   63   73   83    93  \n",
              " [4,]  4   14   24   34   44   54   64   74   84    94  \n",
              " [5,]  5   15   25   35   45   55   65   75   85    95  \n",
              " [6,]  6   16   26   36   46   56   66   76   86    96  \n",
              " [7,]  7   17   27   37   47   57   67   77   87    97  \n",
              " [8,]  8   18   28   38   48   58   68   78   88    98  \n",
              " [9,]  9   19   29   39   49   59   69   79   89    99  \n",
              "[10,] 10   20   30   40   50   60   70   80   90   100  "
            ],
            "text/latex": "A matrix: 10 × 10 of type int\n\\begin{tabular}{llllllllll}\n\t  1 & 11 & 21 & 31 & 41 & 51 & 61 & 71 & 81 &  91\\\\\n\t  2 & 12 & 22 & 32 & 42 & 52 & 62 & 72 & 82 &  92\\\\\n\t  3 & 13 & 23 & 33 & 43 & 53 & 63 & 73 & 83 &  93\\\\\n\t  4 & 14 & 24 & 34 & 44 & 54 & 64 & 74 & 84 &  94\\\\\n\t  5 & 15 & 25 & 35 & 45 & 55 & 65 & 75 & 85 &  95\\\\\n\t  6 & 16 & 26 & 36 & 46 & 56 & 66 & 76 & 86 &  96\\\\\n\t  7 & 17 & 27 & 37 & 47 & 57 & 67 & 77 & 87 &  97\\\\\n\t  8 & 18 & 28 & 38 & 48 & 58 & 68 & 78 & 88 &  98\\\\\n\t  9 & 19 & 29 & 39 & 49 & 59 & 69 & 79 & 89 &  99\\\\\n\t 10 & 20 & 30 & 40 & 50 & 60 & 70 & 80 & 90 & 100\\\\\n\\end{tabular}\n",
            "text/markdown": "\nA matrix: 10 × 10 of type int\n\n|  1 | 11 | 21 | 31 | 41 | 51 | 61 | 71 | 81 |  91 |\n|  2 | 12 | 22 | 32 | 42 | 52 | 62 | 72 | 82 |  92 |\n|  3 | 13 | 23 | 33 | 43 | 53 | 63 | 73 | 83 |  93 |\n|  4 | 14 | 24 | 34 | 44 | 54 | 64 | 74 | 84 |  94 |\n|  5 | 15 | 25 | 35 | 45 | 55 | 65 | 75 | 85 |  95 |\n|  6 | 16 | 26 | 36 | 46 | 56 | 66 | 76 | 86 |  96 |\n|  7 | 17 | 27 | 37 | 47 | 57 | 67 | 77 | 87 |  97 |\n|  8 | 18 | 28 | 38 | 48 | 58 | 68 | 78 | 88 |  98 |\n|  9 | 19 | 29 | 39 | 49 | 59 | 69 | 79 | 89 |  99 |\n| 10 | 20 | 30 | 40 | 50 | 60 | 70 | 80 | 90 | 100 |\n\n",
            "text/html": [
              "<table>\n",
              "<caption>A matrix: 10 × 10 of type int</caption>\n",
              "<tbody>\n",
              "\t<tr><td> 1</td><td>11</td><td>21</td><td>31</td><td>41</td><td>51</td><td>61</td><td>71</td><td>81</td><td> 91</td></tr>\n",
              "\t<tr><td> 2</td><td>12</td><td>22</td><td>32</td><td>42</td><td>52</td><td>62</td><td>72</td><td>82</td><td> 92</td></tr>\n",
              "\t<tr><td> 3</td><td>13</td><td>23</td><td>33</td><td>43</td><td>53</td><td>63</td><td>73</td><td>83</td><td> 93</td></tr>\n",
              "\t<tr><td> 4</td><td>14</td><td>24</td><td>34</td><td>44</td><td>54</td><td>64</td><td>74</td><td>84</td><td> 94</td></tr>\n",
              "\t<tr><td> 5</td><td>15</td><td>25</td><td>35</td><td>45</td><td>55</td><td>65</td><td>75</td><td>85</td><td> 95</td></tr>\n",
              "\t<tr><td> 6</td><td>16</td><td>26</td><td>36</td><td>46</td><td>56</td><td>66</td><td>76</td><td>86</td><td> 96</td></tr>\n",
              "\t<tr><td> 7</td><td>17</td><td>27</td><td>37</td><td>47</td><td>57</td><td>67</td><td>77</td><td>87</td><td> 97</td></tr>\n",
              "\t<tr><td> 8</td><td>18</td><td>28</td><td>38</td><td>48</td><td>58</td><td>68</td><td>78</td><td>88</td><td> 98</td></tr>\n",
              "\t<tr><td> 9</td><td>19</td><td>29</td><td>39</td><td>49</td><td>59</td><td>69</td><td>79</td><td>89</td><td> 99</td></tr>\n",
              "\t<tr><td>10</td><td>20</td><td>30</td><td>40</td><td>50</td><td>60</td><td>70</td><td>80</td><td>90</td><td>100</td></tr>\n",
              "</tbody>\n",
              "</table>\n"
            ]
          },
          "metadata": {
            "tags": []
          }
        }
      ]
    },
    {
      "cell_type": "code",
      "metadata": {
        "id": "2TfHb8XXXbEl",
        "colab_type": "code",
        "colab": {
          "base_uri": "https://localhost:8080/",
          "height": 246
        },
        "outputId": "4454b131-babc-41d2-a738-e43a7968b271"
      },
      "source": [
        "# 백터의 행우선(row) 행렬 객체 생성\n",
        "m <- matrix(c(1:100), nrow = 10, byrow = T)\n",
        "m"
      ],
      "execution_count": 12,
      "outputs": [
        {
          "output_type": "display_data",
          "data": {
            "text/plain": [
              "      [,1] [,2] [,3] [,4] [,5] [,6] [,7] [,8] [,9] [,10]\n",
              " [1,]  1    2    3    4    5    6    7    8    9    10  \n",
              " [2,] 11   12   13   14   15   16   17   18   19    20  \n",
              " [3,] 21   22   23   24   25   26   27   28   29    30  \n",
              " [4,] 31   32   33   34   35   36   37   38   39    40  \n",
              " [5,] 41   42   43   44   45   46   47   48   49    50  \n",
              " [6,] 51   52   53   54   55   56   57   58   59    60  \n",
              " [7,] 61   62   63   64   65   66   67   68   69    70  \n",
              " [8,] 71   72   73   74   75   76   77   78   79    80  \n",
              " [9,] 81   82   83   84   85   86   87   88   89    90  \n",
              "[10,] 91   92   93   94   95   96   97   98   99   100  "
            ],
            "text/latex": "A matrix: 10 × 10 of type int\n\\begin{tabular}{llllllllll}\n\t  1 &  2 &  3 &  4 &  5 &  6 &  7 &  8 &  9 &  10\\\\\n\t 11 & 12 & 13 & 14 & 15 & 16 & 17 & 18 & 19 &  20\\\\\n\t 21 & 22 & 23 & 24 & 25 & 26 & 27 & 28 & 29 &  30\\\\\n\t 31 & 32 & 33 & 34 & 35 & 36 & 37 & 38 & 39 &  40\\\\\n\t 41 & 42 & 43 & 44 & 45 & 46 & 47 & 48 & 49 &  50\\\\\n\t 51 & 52 & 53 & 54 & 55 & 56 & 57 & 58 & 59 &  60\\\\\n\t 61 & 62 & 63 & 64 & 65 & 66 & 67 & 68 & 69 &  70\\\\\n\t 71 & 72 & 73 & 74 & 75 & 76 & 77 & 78 & 79 &  80\\\\\n\t 81 & 82 & 83 & 84 & 85 & 86 & 87 & 88 & 89 &  90\\\\\n\t 91 & 92 & 93 & 94 & 95 & 96 & 97 & 98 & 99 & 100\\\\\n\\end{tabular}\n",
            "text/markdown": "\nA matrix: 10 × 10 of type int\n\n|  1 |  2 |  3 |  4 |  5 |  6 |  7 |  8 |  9 |  10 |\n| 11 | 12 | 13 | 14 | 15 | 16 | 17 | 18 | 19 |  20 |\n| 21 | 22 | 23 | 24 | 25 | 26 | 27 | 28 | 29 |  30 |\n| 31 | 32 | 33 | 34 | 35 | 36 | 37 | 38 | 39 |  40 |\n| 41 | 42 | 43 | 44 | 45 | 46 | 47 | 48 | 49 |  50 |\n| 51 | 52 | 53 | 54 | 55 | 56 | 57 | 58 | 59 |  60 |\n| 61 | 62 | 63 | 64 | 65 | 66 | 67 | 68 | 69 |  70 |\n| 71 | 72 | 73 | 74 | 75 | 76 | 77 | 78 | 79 |  80 |\n| 81 | 82 | 83 | 84 | 85 | 86 | 87 | 88 | 89 |  90 |\n| 91 | 92 | 93 | 94 | 95 | 96 | 97 | 98 | 99 | 100 |\n\n",
            "text/html": [
              "<table>\n",
              "<caption>A matrix: 10 × 10 of type int</caption>\n",
              "<tbody>\n",
              "\t<tr><td> 1</td><td> 2</td><td> 3</td><td> 4</td><td> 5</td><td> 6</td><td> 7</td><td> 8</td><td> 9</td><td> 10</td></tr>\n",
              "\t<tr><td>11</td><td>12</td><td>13</td><td>14</td><td>15</td><td>16</td><td>17</td><td>18</td><td>19</td><td> 20</td></tr>\n",
              "\t<tr><td>21</td><td>22</td><td>23</td><td>24</td><td>25</td><td>26</td><td>27</td><td>28</td><td>29</td><td> 30</td></tr>\n",
              "\t<tr><td>31</td><td>32</td><td>33</td><td>34</td><td>35</td><td>36</td><td>37</td><td>38</td><td>39</td><td> 40</td></tr>\n",
              "\t<tr><td>41</td><td>42</td><td>43</td><td>44</td><td>45</td><td>46</td><td>47</td><td>48</td><td>49</td><td> 50</td></tr>\n",
              "\t<tr><td>51</td><td>52</td><td>53</td><td>54</td><td>55</td><td>56</td><td>57</td><td>58</td><td>59</td><td> 60</td></tr>\n",
              "\t<tr><td>61</td><td>62</td><td>63</td><td>64</td><td>65</td><td>66</td><td>67</td><td>68</td><td>69</td><td> 70</td></tr>\n",
              "\t<tr><td>71</td><td>72</td><td>73</td><td>74</td><td>75</td><td>76</td><td>77</td><td>78</td><td>79</td><td> 80</td></tr>\n",
              "\t<tr><td>81</td><td>82</td><td>83</td><td>84</td><td>85</td><td>86</td><td>87</td><td>88</td><td>89</td><td> 90</td></tr>\n",
              "\t<tr><td>91</td><td>92</td><td>93</td><td>94</td><td>95</td><td>96</td><td>97</td><td>98</td><td>99</td><td>100</td></tr>\n",
              "</tbody>\n",
              "</table>\n"
            ]
          },
          "metadata": {
            "tags": []
          }
        }
      ]
    },
    {
      "cell_type": "code",
      "metadata": {
        "id": "hr9KHSCbXpeX",
        "colab_type": "code",
        "colab": {}
      },
      "source": [
        ""
      ],
      "execution_count": null,
      "outputs": []
    }
  ]
}