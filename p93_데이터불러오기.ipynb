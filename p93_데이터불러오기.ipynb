{
  "nbformat": 4,
  "nbformat_minor": 0,
  "metadata": {
    "colab": {
      "name": "p93_데이터불러오기.ipynb",
      "provenance": [],
      "collapsed_sections": [],
      "authorship_tag": "ABX9TyO+XW84+YYJQuFhwOa+Fby8",
      "include_colab_link": true
    },
    "kernelspec": {
      "name": "ir",
      "display_name": "R"
    }
  },
  "cells": [
    {
      "cell_type": "markdown",
      "metadata": {
        "id": "view-in-github",
        "colab_type": "text"
      },
      "source": [
        "<a href=\"https://colab.research.google.com/github/gyujin0450/RPRG/blob/master/p93_%EB%8D%B0%EC%9D%B4%ED%84%B0%EB%B6%88%EB%9F%AC%EC%98%A4%EA%B8%B0.ipynb\" target=\"_parent\"><img src=\"https://colab.research.google.com/assets/colab-badge.svg\" alt=\"Open In Colab\"/></a>"
      ]
    },
    {
      "cell_type": "markdown",
      "metadata": {
        "id": "fY9atOAc8EG0"
      },
      "source": [
        "# ch03.1 데이터 불러오기"
      ]
    },
    {
      "cell_type": "code",
      "metadata": {
        "id": "CdhGbfmT8fuy"
      },
      "source": [
        "# scan() 함수 이용\n",
        "# 키보드로 부터 숫자 입력하기, R Studio 에서 실행 필요\n",
        "num <- scan() "
      ],
      "execution_count": 1,
      "outputs": []
    },
    {
      "cell_type": "code",
      "metadata": {
        "id": "TweCEQcB9PsM"
      },
      "source": [
        "# 키보드로 문자 입력하기, R Studio 에서 실행 필요\n",
        "name <- scan(what = character())"
      ],
      "execution_count": null,
      "outputs": []
    },
    {
      "cell_type": "code",
      "metadata": {
        "id": "ckuJmHTQ9rJR"
      },
      "source": [
        "# 편집기를 이용한 데이터프레임 만들기, R Studio 에서 실행 필요\n",
        "df = data.frame()\n",
        "df = edit(df)\n",
        "df"
      ],
      "execution_count": null,
      "outputs": []
    },
    {
      "cell_type": "code",
      "metadata": {
        "id": "mrwy5sfu_Wzk",
        "outputId": "2a96097b-e6d1-424f-8091-54b7e3ca24cf",
        "colab": {
          "base_uri": "https://localhost:8080/",
          "height": 33
        }
      },
      "source": [
        "# read.table() 함수 이용, R Studio 에서 실행 필요\n",
        "# read.table(file=\"경로명/파일명\", sep=\"공백|탭|콜론|세미콜론|콤마\",header=\"T|F\")\n",
        "getwd()\n",
        "setwd(\"작업 디렉토리 설정\")\n",
        "student <- read.table(file = \"테이블 형식의 파일\")\n",
        "student\n",
        "names(student) <- c(\"번호\",\"이름\",\"키\",\"몸무게\")\n",
        "student"
      ],
      "execution_count": 3,
      "outputs": [
        {
          "output_type": "display_data",
          "data": {
            "text/plain": [
              "[1] \"/content\""
            ],
            "text/latex": "'/content'",
            "text/markdown": "'/content'",
            "text/html": [
              "'/content'"
            ]
          },
          "metadata": {
            "tags": []
          }
        }
      ]
    },
    {
      "cell_type": "code",
      "metadata": {
        "id": "LUklibpeA0x2"
      },
      "source": [
        "# 컬럼명이 있는 파일 불러오기, R Studio 에서 실행 필요\n",
        "student1 <- read.table(file = \"테이블 형식의 TXT 파일\",header=T)\n",
        "student1"
      ],
      "execution_count": null,
      "outputs": []
    },
    {
      "cell_type": "code",
      "metadata": {
        "id": "dDxTVomXD9Zi"
      },
      "source": [
        "# 탐색기를 통해서 파일 선택하기\n",
        "student2 <- read.table(file.choose(),header = TRUE)\n",
        "stident2"
      ],
      "execution_count": null,
      "outputs": []
    },
    {
      "cell_type": "code",
      "metadata": {
        "id": "d6vYAZhrFtWm"
      },
      "source": [
        "# 구분자가 있는 경우\n",
        "student3 <- read.table(file.choose(),sep=\",\",header = TRUE)\n",
        "student3"
      ],
      "execution_count": null,
      "outputs": []
    },
    {
      "cell_type": "code",
      "metadata": {
        "id": "mokG_XjJGIPv"
      },
      "source": [
        "# 결측치를 처리하여 파일 불러오기\n",
        "student4 <- read.table(file.choose(),sep=\",\",header = TRUE,na.strings = \"-\")\n",
        "student4"
      ],
      "execution_count": null,
      "outputs": []
    },
    {
      "cell_type": "code",
      "metadata": {
        "id": "nFVkrVgMG-VX"
      },
      "source": [
        "# read.csv() 함수 이용\n",
        "student5 <- read.csv(\"경로명/파일명\"[,sep=\",\"][,header = TRUE])\n",
        "student5"
      ],
      "execution_count": null,
      "outputs": []
    },
    {
      "cell_type": "code",
      "metadata": {
        "id": "oj6paNuaWpeJ",
        "outputId": "0fe9fef9-8b6f-4b43-80ca-43055820b7be",
        "colab": {
          "base_uri": "https://localhost:8080/",
          "height": 70
        }
      },
      "source": [
        "# read.excel() 함수 이용\n",
        "install.packages(\"readxl\")\n",
        "library(readxl)"
      ],
      "execution_count": 4,
      "outputs": [
        {
          "output_type": "stream",
          "text": [
            "Installing package into ‘/usr/local/lib/R/site-library’\n",
            "(as ‘lib’ is unspecified)\n",
            "\n"
          ],
          "name": "stderr"
        }
      ]
    },
    {
      "cell_type": "code",
      "metadata": {
        "id": "EyK5C5BvXm_P"
      },
      "source": [
        "st_excel <- read_excel(path=\"경로명/파일명\", sheet = \"시트명\")\n",
        "st_excel "
      ],
      "execution_count": null,
      "outputs": []
    },
    {
      "cell_type": "code",
      "metadata": {
        "id": "10JfEoT3Yxo7"
      },
      "source": [
        ""
      ],
      "execution_count": null,
      "outputs": []
    }
  ]
}