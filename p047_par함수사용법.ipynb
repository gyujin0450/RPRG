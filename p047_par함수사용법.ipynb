{
  "nbformat": 4,
  "nbformat_minor": 0,
  "metadata": {
    "colab": {
      "name": "p47_par함수사용법.ipynb",
      "provenance": [],
      "authorship_tag": "ABX9TyPOAMjqOoEB56Ztn1DNR6xL",
      "include_colab_link": true
    },
    "kernelspec": {
      "name": "ir",
      "display_name": "R"
    }
  },
  "cells": [
    {
      "cell_type": "markdown",
      "metadata": {
        "id": "view-in-github",
        "colab_type": "text"
      },
      "source": [
        "<a href=\"https://colab.research.google.com/github/gyujin0450/RPRG/blob/master/p047_par%ED%95%A8%EC%88%98%EC%82%AC%EC%9A%A9%EB%B2%95.ipynb\" target=\"_parent\"><img src=\"https://colab.research.google.com/assets/colab-badge.svg\" alt=\"Open In Colab\"/></a>"
      ]
    },
    {
      "cell_type": "code",
      "metadata": {
        "id": "0xlywECYbWHw",
        "outputId": "59483c26-9a61-4405-f9b9-2ac33c1bdba0",
        "colab": {
          "base_uri": "https://localhost:8080/",
          "height": 244
        }
      },
      "source": [
        "# https://m.blog.naver.com/PostView.nhn?blogId=padosori60&logNo=220803108652&proxyReferer=https:%2F%2Fwww.google.com%2F\n",
        "# par() 함수 사용법\n",
        "test1 <- read.csv('https://raw.githubusercontent.com/gyujin0450/dataset/master/2000Y-AVG.csv')\n",
        "test1"
      ],
      "execution_count": null,
      "outputs": [
        {
          "output_type": "error",
          "ename": "ERROR",
          "evalue": "ignored",
          "traceback": [
            "Error in type.convert.default(data[[i]], as.is = as.is[i], dec = dec, : invalid multibyte string at '<b9><da><c1><be>ȣ'\nTraceback:\n",
            "1. read.csv(\"https://raw.githubusercontent.com/gyujin0450/dataset/master/2000Y-AVG.csv\")",
            "2. read.table(file = file, header = header, sep = sep, quote = quote, \n .     dec = dec, fill = fill, comment.char = comment.char, ...)",
            "3. type.convert(data[[i]], as.is = as.is[i], dec = dec, numerals = numerals, \n .     na.strings = character(0L))",
            "4. type.convert.default(data[[i]], as.is = as.is[i], dec = dec, \n .     numerals = numerals, na.strings = character(0L))"
          ]
        }
      ]
    }
  ]
}