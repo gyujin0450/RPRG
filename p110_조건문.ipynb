{
  "nbformat": 4,
  "nbformat_minor": 0,
  "metadata": {
    "colab": {
      "name": "p110_조건문.ipynb",
      "provenance": [],
      "authorship_tag": "ABX9TyMibT/KpxZ+t0EJ4jOD/yTr",
      "include_colab_link": true
    },
    "kernelspec": {
      "name": "ir",
      "display_name": "R"
    }
  },
  "cells": [
    {
      "cell_type": "markdown",
      "metadata": {
        "id": "view-in-github",
        "colab_type": "text"
      },
      "source": [
        "<a href=\"https://colab.research.google.com/github/gyujin0450/RPRG/blob/master/p110_%EC%A1%B0%EA%B1%B4%EB%AC%B8.ipynb\" target=\"_parent\"><img src=\"https://colab.research.google.com/assets/colab-badge.svg\" alt=\"Open In Colab\"/></a>"
      ]
    },
    {
      "cell_type": "markdown",
      "metadata": {
        "id": "9fOcI8kclj1d"
      },
      "source": [
        "ch04.2 조건문"
      ]
    },
    {
      "cell_type": "code",
      "metadata": {
        "id": "xCPbOJR0lv7T"
      },
      "source": [
        "# 조건문 : if(), ifelse(), switch(), which() "
      ],
      "execution_count": null,
      "outputs": []
    },
    {
      "cell_type": "code",
      "metadata": {
        "id": "eKxAW4bepMuO"
      },
      "source": [
        "# if() 함수\n",
        "# if(조건식){참인 경우 처리문} else {거짓인 경우 처리문}"
      ],
      "execution_count": null,
      "outputs": []
    },
    {
      "cell_type": "code",
      "metadata": {
        "id": "sKFpTvWmpbWV"
      },
      "source": [
        "x <- 50;y <- 4; z <- x * y"
      ],
      "execution_count": null,
      "outputs": []
    },
    {
      "cell_type": "code",
      "metadata": {
        "id": "acRHKUH9pnff",
        "outputId": "776f563a-4ee8-443b-f09f-b704fd47c3c4",
        "colab": {
          "base_uri": "https://localhost:8080/",
          "height": 34
        }
      },
      "source": [
        "if(x*y >= 40) {\n",
        "  cat(\"x*y >= 40 입니다..\")\n",
        "} else {\n",
        "  cat(\"x*y >= 40 아닙니다..\")\n",
        "}"
      ],
      "execution_count": null,
      "outputs": [
        {
          "output_type": "stream",
          "text": [
            "x*y >= 40 입니다.."
          ],
          "name": "stdout"
        }
      ]
    },
    {
      "cell_type": "code",
      "metadata": {
        "id": "CpT8cn1WqIZL"
      },
      "source": [
        "score <- 90"
      ],
      "execution_count": null,
      "outputs": []
    },
    {
      "cell_type": "code",
      "metadata": {
        "id": "DldIf_JYqWSj",
        "outputId": "e73b2d29-1f91-4b24-f183-b3297b49d339",
        "colab": {
          "base_uri": "https://localhost:8080/",
          "height": 34
        }
      },
      "source": [
        "if(score >= 90){\n",
        "  r = \"A\"\n",
        "} else if (score >= 80) {\n",
        "  r = \"B\"\n",
        "} else if (score >= 70) {\n",
        "  r = \"C\"\n",
        "} else if (score >= 60) {\n",
        "  r = \"D\"\n",
        "} else {\n",
        "  r = \"F\"\n",
        "}\n",
        "cat(\"당신의 학점 : \", r) "
      ],
      "execution_count": null,
      "outputs": [
        {
          "output_type": "stream",
          "text": [
            "당신의 학점 :  A"
          ],
          "name": "stdout"
        }
      ]
    },
    {
      "cell_type": "code",
      "metadata": {
        "id": "bYg2J1hLs9_a"
      },
      "source": [
        "# ifelse() 함수\n",
        "# ifelse( 조건식, 참인 경우 처리문, 거짓인 경우 처리문)"
      ],
      "execution_count": null,
      "outputs": []
    },
    {
      "cell_type": "code",
      "metadata": {
        "id": "aVHPtlFXtW2T"
      },
      "source": [
        "score <- 90"
      ],
      "execution_count": null,
      "outputs": []
    },
    {
      "cell_type": "code",
      "metadata": {
        "id": "UqUCMYY9thrm",
        "outputId": "0d72cfb1-f401-4361-f7f7-27d40a5facda",
        "colab": {
          "base_uri": "https://localhost:8080/",
          "height": 33
        }
      },
      "source": [
        "ifelse( score >= 90, \"90점 이상\", \"90점 미만\")"
      ],
      "execution_count": null,
      "outputs": [
        {
          "output_type": "display_data",
          "data": {
            "text/plain": [
              "[1] \"90점 이상\""
            ],
            "text/latex": "'90점 이상'",
            "text/markdown": "'90점 이상'",
            "text/html": [
              "'90점 이상'"
            ]
          },
          "metadata": {
            "tags": []
          }
        }
      ]
    },
    {
      "cell_type": "code",
      "metadata": {
        "id": "MczNUyOMNL8x",
        "outputId": "a553ecf3-fa4b-40a3-df62-d8d9d11ecfc7",
        "colab": {
          "base_uri": "https://localhost:8080/",
          "height": 123
        }
      },
      "source": [
        "# 엑셀파일 읽어 sqrt() 함수 적용\n",
        "execel <- read.csv(\"excel.csv\", header = T)\n",
        "str(execel)"
      ],
      "execution_count": 2,
      "outputs": [
        {
          "output_type": "stream",
          "text": [
            "'data.frame':\t402 obs. of  5 variables:\n",
            " $ q1: int  2 1 2 3 3 4 3 4 4 4 ...\n",
            " $ q2: int  4 2 3 5 2 3 4 2 4 2 ...\n",
            " $ q3: int  4 2 4 5 4 3 4 4 5 4 ...\n",
            " $ q4: int  2 2 3 3 4 4 2 4 3 2 ...\n",
            " $ q5: int  2 2 3 3 4 2 2 4 4 3 ...\n"
          ],
          "name": "stdout"
        }
      ]
    },
    {
      "cell_type": "code",
      "metadata": {
        "id": "JpuHUxyCNq88",
        "outputId": "65827d34-b738-4174-fd17-9289f4391372",
        "colab": {
          "base_uri": "https://localhost:8080/",
          "height": 158
        }
      },
      "source": [
        "head(execel,5)"
      ],
      "execution_count": 3,
      "outputs": [
        {
          "output_type": "display_data",
          "data": {
            "text/plain": [
              "  q1 q2 q3 q4 q5\n",
              "1 2  4  4  2  2 \n",
              "2 1  2  2  2  2 \n",
              "3 2  3  4  3  3 \n",
              "4 3  5  5  3  3 \n",
              "5 3  2  4  4  4 "
            ],
            "text/latex": "A data.frame: 5 × 5\n\\begin{tabular}{r|lllll}\n  & q1 & q2 & q3 & q4 & q5\\\\\n  & <int> & <int> & <int> & <int> & <int>\\\\\n\\hline\n\t1 & 2 & 4 & 4 & 2 & 2\\\\\n\t2 & 1 & 2 & 2 & 2 & 2\\\\\n\t3 & 2 & 3 & 4 & 3 & 3\\\\\n\t4 & 3 & 5 & 5 & 3 & 3\\\\\n\t5 & 3 & 2 & 4 & 4 & 4\\\\\n\\end{tabular}\n",
            "text/markdown": "\nA data.frame: 5 × 5\n\n| <!--/--> | q1 &lt;int&gt; | q2 &lt;int&gt; | q3 &lt;int&gt; | q4 &lt;int&gt; | q5 &lt;int&gt; |\n|---|---|---|---|---|---|\n| 1 | 2 | 4 | 4 | 2 | 2 |\n| 2 | 1 | 2 | 2 | 2 | 2 |\n| 3 | 2 | 3 | 4 | 3 | 3 |\n| 4 | 3 | 5 | 5 | 3 | 3 |\n| 5 | 3 | 2 | 4 | 4 | 4 |\n\n",
            "text/html": [
              "<table>\n",
              "<caption>A data.frame: 5 × 5</caption>\n",
              "<thead>\n",
              "\t<tr><th></th><th scope=col>q1</th><th scope=col>q2</th><th scope=col>q3</th><th scope=col>q4</th><th scope=col>q5</th></tr>\n",
              "\t<tr><th></th><th scope=col>&lt;int&gt;</th><th scope=col>&lt;int&gt;</th><th scope=col>&lt;int&gt;</th><th scope=col>&lt;int&gt;</th><th scope=col>&lt;int&gt;</th></tr>\n",
              "</thead>\n",
              "<tbody>\n",
              "\t<tr><th scope=row>1</th><td>2</td><td>4</td><td>4</td><td>2</td><td>2</td></tr>\n",
              "\t<tr><th scope=row>2</th><td>1</td><td>2</td><td>2</td><td>2</td><td>2</td></tr>\n",
              "\t<tr><th scope=row>3</th><td>2</td><td>3</td><td>4</td><td>3</td><td>3</td></tr>\n",
              "\t<tr><th scope=row>4</th><td>3</td><td>5</td><td>5</td><td>3</td><td>3</td></tr>\n",
              "\t<tr><th scope=row>5</th><td>3</td><td>2</td><td>4</td><td>4</td><td>4</td></tr>\n",
              "</tbody>\n",
              "</table>\n"
            ]
          },
          "metadata": {
            "tags": []
          }
        }
      ]
    },
    {
      "cell_type": "code",
      "metadata": {
        "id": "Bi-qaOB7NwpQ"
      },
      "source": [
        "q1 <- execel$q1"
      ],
      "execution_count": 4,
      "outputs": []
    },
    {
      "cell_type": "code",
      "metadata": {
        "id": "-S5s1cZIN4s8",
        "outputId": "d6057166-8f13-4b1f-e839-67c82bb563dc",
        "colab": {
          "base_uri": "https://localhost:8080/",
          "height": 183
        }
      },
      "source": [
        "ifelse(q1 > 3, sqrt(q1), q1)"
      ],
      "execution_count": 5,
      "outputs": [
        {
          "output_type": "display_data",
          "data": {
            "text/plain": [
              "  [1] 2.000000 1.000000 2.000000 3.000000 3.000000 2.000000 3.000000 2.000000\n",
              "  [9] 2.000000 2.000000 2.000000 3.000000 3.000000 3.000000 1.000000 3.000000\n",
              " [17] 3.000000 3.000000 2.000000 3.000000 3.000000 2.000000 2.000000 2.000000\n",
              " [25] 3.000000 2.000000 2.000000 2.000000 3.000000 3.000000 1.000000 3.000000\n",
              " [33] 3.000000 3.000000 2.000000 3.000000 2.000000 2.000000 3.000000 2.000000\n",
              " [41] 2.000000 2.000000 3.000000 3.000000 2.000000 2.000000 2.000000 1.000000\n",
              " [49] 2.000000 3.000000 2.000000 2.000000 3.000000 2.000000 3.000000 2.000000\n",
              " [57] 2.000000 2.000000 2.000000 3.000000 2.000000 2.000000 2.000000 3.000000\n",
              " [65] 3.000000 3.000000 3.000000 2.000000 1.000000 2.000000 3.000000 3.000000\n",
              " [73] 3.000000 2.000000 2.000000 2.000000 1.000000 3.000000 3.000000 2.000000\n",
              " [81] 2.000000 2.000000 3.000000 2.000000 3.000000 3.000000 2.000000 3.000000\n",
              " [89] 2.000000 2.000000 2.000000 2.000000 2.000000 2.000000 1.000000 2.000000\n",
              " [97] 2.000000 2.000000 2.000000 2.000000 3.000000 3.000000 2.000000 3.000000\n",
              "[105] 3.000000 2.000000 2.000000 2.000000 2.000000 2.000000 2.000000 2.000000\n",
              "[113] 3.000000 2.000000 2.000000 2.000000 3.000000 3.000000 3.000000 2.000000\n",
              "[121] 1.000000 3.000000 2.000000 3.000000 3.000000 2.000000 3.000000 3.000000\n",
              "[129] 3.000000 2.000000 2.000000 2.000000 1.000000 3.000000 3.000000 2.000000\n",
              "[137] 3.000000 2.000000 3.000000 1.000000 2.000000 3.000000 2.236068 2.000000\n",
              "[145] 3.000000 3.000000 2.000000 2.000000 3.000000 2.000000 3.000000 3.000000\n",
              "[153] 1.000000 3.000000 2.000000 2.000000 3.000000 3.000000 2.000000 2.000000\n",
              "[161] 2.000000 2.000000 2.000000 2.000000 3.000000 3.000000 3.000000 2.000000\n",
              "[169] 2.000000 2.000000 1.000000 3.000000 3.000000 2.000000 3.000000 2.000000\n",
              "[177] 3.000000 1.000000 2.000000 3.000000 2.236068 2.000000 3.000000 3.000000\n",
              "[185] 2.000000 2.000000 3.000000 2.000000 3.000000 3.000000 1.000000 3.000000\n",
              "[193] 2.000000 2.000000 2.000000 2.000000 2.000000 2.000000 2.000000 3.000000\n",
              "[201] 2.000000 2.000000 2.000000 3.000000 3.000000 3.000000 2.000000 1.000000\n",
              "[209] 3.000000 2.000000 3.000000 3.000000 2.000000 3.000000 3.000000 1.000000\n",
              "[217] 3.000000 3.000000 2.000000 3.000000 2.000000 3.000000 1.000000 2.000000\n",
              "[225] 3.000000 2.236068 2.000000 3.000000 3.000000 2.000000 2.000000 3.000000\n",
              "[233] 2.000000 3.000000 3.000000 1.000000 3.000000 2.000000 2.000000 3.000000\n",
              "[241] 3.000000 2.000000 2.000000 2.000000 2.000000 2.000000 2.000000 3.000000\n",
              "[249] 1.000000 3.000000 2.000000 2.000000 2.000000 2.000000 2.000000 2.000000\n",
              "[257] 2.000000 3.000000 2.000000 2.000000 2.000000 3.000000 3.000000 3.000000\n",
              "[265] 2.000000 1.000000 3.000000 2.000000 3.000000 3.000000 2.000000 2.000000\n",
              "[273] 3.000000 2.000000 3.000000 3.000000 1.000000 3.000000 2.000000 2.000000\n",
              "[281] 3.000000 3.000000 2.000000 2.000000 2.000000 2.000000 2.000000 2.000000\n",
              "[289] 3.000000 1.000000 3.000000 2.000000 2.000000 2.000000 2.000000 2.000000\n",
              "[297] 2.000000 2.000000 3.000000 2.000000 2.000000 2.000000 3.000000 3.000000\n",
              "[305] 3.000000 2.000000 1.000000 3.000000 3.000000 2.000000 2.000000 3.000000\n",
              "[313] 2.000000 3.000000 3.000000 1.000000 3.000000 2.000000 2.000000 3.000000\n",
              "[321] 3.000000 2.000000 2.000000 2.000000 2.000000 2.000000 2.000000 3.000000\n",
              "[329] 1.000000 3.000000 2.000000 2.000000 2.000000 2.000000 2.000000 2.000000\n",
              "[337] 2.000000 3.000000 2.000000 2.000000 2.000000 3.000000 3.000000 3.000000\n",
              "[345] 2.000000 1.000000 2.000000 3.000000 3.000000 1.000000 3.000000 2.000000\n",
              "[353] 2.000000 3.000000 3.000000 2.000000 2.000000 2.000000 2.000000 2.000000\n",
              "[361] 2.000000 3.000000 1.000000 3.000000 2.000000 2.000000 2.000000 2.000000\n",
              "[369] 2.000000 2.000000 2.000000 3.000000 2.000000 2.000000 2.000000 3.000000\n",
              "[377] 3.000000 3.000000 2.000000 1.000000 3.000000 2.000000 3.000000 3.000000\n",
              "[385] 2.000000 2.000000 3.000000 2.000000 3.000000 3.000000 1.000000 3.000000\n",
              "[393] 2.000000 2.000000 3.000000 3.000000 2.000000 2.000000 2.000000 2.000000\n",
              "[401] 2.000000 2.000000"
            ],
            "text/latex": "\\begin{enumerate*}\n\\item 2\n\\item 1\n\\item 2\n\\item 3\n\\item 3\n\\item 2\n\\item 3\n\\item 2\n\\item 2\n\\item 2\n\\item 2\n\\item 3\n\\item 3\n\\item 3\n\\item 1\n\\item 3\n\\item 3\n\\item 3\n\\item 2\n\\item 3\n\\item 3\n\\item 2\n\\item 2\n\\item 2\n\\item 3\n\\item 2\n\\item 2\n\\item 2\n\\item 3\n\\item 3\n\\item 1\n\\item 3\n\\item 3\n\\item 3\n\\item 2\n\\item 3\n\\item 2\n\\item 2\n\\item 3\n\\item 2\n\\item 2\n\\item 2\n\\item 3\n\\item 3\n\\item 2\n\\item 2\n\\item 2\n\\item 1\n\\item 2\n\\item 3\n\\item 2\n\\item 2\n\\item 3\n\\item 2\n\\item 3\n\\item 2\n\\item 2\n\\item 2\n\\item 2\n\\item 3\n\\item 2\n\\item 2\n\\item 2\n\\item 3\n\\item 3\n\\item 3\n\\item 3\n\\item 2\n\\item 1\n\\item 2\n\\item 3\n\\item 3\n\\item 3\n\\item 2\n\\item 2\n\\item 2\n\\item 1\n\\item 3\n\\item 3\n\\item 2\n\\item 2\n\\item 2\n\\item 3\n\\item 2\n\\item 3\n\\item 3\n\\item 2\n\\item 3\n\\item 2\n\\item 2\n\\item 2\n\\item 2\n\\item 2\n\\item 2\n\\item 1\n\\item 2\n\\item 2\n\\item 2\n\\item 2\n\\item 2\n\\item 3\n\\item 3\n\\item 2\n\\item 3\n\\item 3\n\\item 2\n\\item 2\n\\item 2\n\\item 2\n\\item 2\n\\item 2\n\\item 2\n\\item 3\n\\item 2\n\\item 2\n\\item 2\n\\item 3\n\\item 3\n\\item 3\n\\item 2\n\\item 1\n\\item 3\n\\item 2\n\\item 3\n\\item 3\n\\item 2\n\\item 3\n\\item 3\n\\item 3\n\\item 2\n\\item 2\n\\item 2\n\\item 1\n\\item 3\n\\item 3\n\\item 2\n\\item 3\n\\item 2\n\\item 3\n\\item 1\n\\item 2\n\\item 3\n\\item 2.23606797749979\n\\item 2\n\\item 3\n\\item 3\n\\item 2\n\\item 2\n\\item 3\n\\item 2\n\\item 3\n\\item 3\n\\item 1\n\\item 3\n\\item 2\n\\item 2\n\\item 3\n\\item 3\n\\item 2\n\\item 2\n\\item 2\n\\item 2\n\\item 2\n\\item 2\n\\item 3\n\\item 3\n\\item 3\n\\item 2\n\\item 2\n\\item 2\n\\item 1\n\\item 3\n\\item 3\n\\item 2\n\\item 3\n\\item 2\n\\item 3\n\\item 1\n\\item 2\n\\item 3\n\\item 2.23606797749979\n\\item 2\n\\item 3\n\\item 3\n\\item 2\n\\item 2\n\\item 3\n\\item 2\n\\item 3\n\\item 3\n\\item 1\n\\item 3\n\\item 2\n\\item 2\n\\item 2\n\\item 2\n\\item 2\n\\item 2\n\\item 2\n\\item 3\n\\item ⋯\n\\item 2\n\\item 3\n\\item 3\n\\item 3\n\\item 2\n\\item 1\n\\item 3\n\\item 2\n\\item 3\n\\item 3\n\\item 2\n\\item 3\n\\item 3\n\\item 1\n\\item 3\n\\item 3\n\\item 2\n\\item 3\n\\item 2\n\\item 3\n\\item 1\n\\item 2\n\\item 3\n\\item 2.23606797749979\n\\item 2\n\\item 3\n\\item 3\n\\item 2\n\\item 2\n\\item 3\n\\item 2\n\\item 3\n\\item 3\n\\item 1\n\\item 3\n\\item 2\n\\item 2\n\\item 3\n\\item 3\n\\item 2\n\\item 2\n\\item 2\n\\item 2\n\\item 2\n\\item 2\n\\item 3\n\\item 1\n\\item 3\n\\item 2\n\\item 2\n\\item 2\n\\item 2\n\\item 2\n\\item 2\n\\item 2\n\\item 3\n\\item 2\n\\item 2\n\\item 2\n\\item 3\n\\item 3\n\\item 3\n\\item 2\n\\item 1\n\\item 3\n\\item 2\n\\item 3\n\\item 3\n\\item 2\n\\item 2\n\\item 3\n\\item 2\n\\item 3\n\\item 3\n\\item 1\n\\item 3\n\\item 2\n\\item 2\n\\item 3\n\\item 3\n\\item 2\n\\item 2\n\\item 2\n\\item 2\n\\item 2\n\\item 2\n\\item 3\n\\item 1\n\\item 3\n\\item 2\n\\item 2\n\\item 2\n\\item 2\n\\item 2\n\\item 2\n\\item 2\n\\item 3\n\\item 2\n\\item 2\n\\item 2\n\\item 3\n\\item 3\n\\item 3\n\\item 2\n\\item 1\n\\item 3\n\\item 3\n\\item 2\n\\item 2\n\\item 3\n\\item 2\n\\item 3\n\\item 3\n\\item 1\n\\item 3\n\\item 2\n\\item 2\n\\item 3\n\\item 3\n\\item 2\n\\item 2\n\\item 2\n\\item 2\n\\item 2\n\\item 2\n\\item 3\n\\item 1\n\\item 3\n\\item 2\n\\item 2\n\\item 2\n\\item 2\n\\item 2\n\\item 2\n\\item 2\n\\item 3\n\\item 2\n\\item 2\n\\item 2\n\\item 3\n\\item 3\n\\item 3\n\\item 2\n\\item 1\n\\item 2\n\\item 3\n\\item 3\n\\item 1\n\\item 3\n\\item 2\n\\item 2\n\\item 3\n\\item 3\n\\item 2\n\\item 2\n\\item 2\n\\item 2\n\\item 2\n\\item 2\n\\item 3\n\\item 1\n\\item 3\n\\item 2\n\\item 2\n\\item 2\n\\item 2\n\\item 2\n\\item 2\n\\item 2\n\\item 3\n\\item 2\n\\item 2\n\\item 2\n\\item 3\n\\item 3\n\\item 3\n\\item 2\n\\item 1\n\\item 3\n\\item 2\n\\item 3\n\\item 3\n\\item 2\n\\item 2\n\\item 3\n\\item 2\n\\item 3\n\\item 3\n\\item 1\n\\item 3\n\\item 2\n\\item 2\n\\item 3\n\\item 3\n\\item 2\n\\item 2\n\\item 2\n\\item 2\n\\item 2\n\\item 2\n\\end{enumerate*}\n",
            "text/markdown": "1. 2\n2. 1\n3. 2\n4. 3\n5. 3\n6. 2\n7. 3\n8. 2\n9. 2\n10. 2\n11. 2\n12. 3\n13. 3\n14. 3\n15. 1\n16. 3\n17. 3\n18. 3\n19. 2\n20. 3\n21. 3\n22. 2\n23. 2\n24. 2\n25. 3\n26. 2\n27. 2\n28. 2\n29. 3\n30. 3\n31. 1\n32. 3\n33. 3\n34. 3\n35. 2\n36. 3\n37. 2\n38. 2\n39. 3\n40. 2\n41. 2\n42. 2\n43. 3\n44. 3\n45. 2\n46. 2\n47. 2\n48. 1\n49. 2\n50. 3\n51. 2\n52. 2\n53. 3\n54. 2\n55. 3\n56. 2\n57. 2\n58. 2\n59. 2\n60. 3\n61. 2\n62. 2\n63. 2\n64. 3\n65. 3\n66. 3\n67. 3\n68. 2\n69. 1\n70. 2\n71. 3\n72. 3\n73. 3\n74. 2\n75. 2\n76. 2\n77. 1\n78. 3\n79. 3\n80. 2\n81. 2\n82. 2\n83. 3\n84. 2\n85. 3\n86. 3\n87. 2\n88. 3\n89. 2\n90. 2\n91. 2\n92. 2\n93. 2\n94. 2\n95. 1\n96. 2\n97. 2\n98. 2\n99. 2\n100. 2\n101. 3\n102. 3\n103. 2\n104. 3\n105. 3\n106. 2\n107. 2\n108. 2\n109. 2\n110. 2\n111. 2\n112. 2\n113. 3\n114. 2\n115. 2\n116. 2\n117. 3\n118. 3\n119. 3\n120. 2\n121. 1\n122. 3\n123. 2\n124. 3\n125. 3\n126. 2\n127. 3\n128. 3\n129. 3\n130. 2\n131. 2\n132. 2\n133. 1\n134. 3\n135. 3\n136. 2\n137. 3\n138. 2\n139. 3\n140. 1\n141. 2\n142. 3\n143. 2.23606797749979\n144. 2\n145. 3\n146. 3\n147. 2\n148. 2\n149. 3\n150. 2\n151. 3\n152. 3\n153. 1\n154. 3\n155. 2\n156. 2\n157. 3\n158. 3\n159. 2\n160. 2\n161. 2\n162. 2\n163. 2\n164. 2\n165. 3\n166. 3\n167. 3\n168. 2\n169. 2\n170. 2\n171. 1\n172. 3\n173. 3\n174. 2\n175. 3\n176. 2\n177. 3\n178. 1\n179. 2\n180. 3\n181. 2.23606797749979\n182. 2\n183. 3\n184. 3\n185. 2\n186. 2\n187. 3\n188. 2\n189. 3\n190. 3\n191. 1\n192. 3\n193. 2\n194. 2\n195. 2\n196. 2\n197. 2\n198. 2\n199. 2\n200. 3\n201. ⋯\n202. 2\n203. 3\n204. 3\n205. 3\n206. 2\n207. 1\n208. 3\n209. 2\n210. 3\n211. 3\n212. 2\n213. 3\n214. 3\n215. 1\n216. 3\n217. 3\n218. 2\n219. 3\n220. 2\n221. 3\n222. 1\n223. 2\n224. 3\n225. 2.23606797749979\n226. 2\n227. 3\n228. 3\n229. 2\n230. 2\n231. 3\n232. 2\n233. 3\n234. 3\n235. 1\n236. 3\n237. 2\n238. 2\n239. 3\n240. 3\n241. 2\n242. 2\n243. 2\n244. 2\n245. 2\n246. 2\n247. 3\n248. 1\n249. 3\n250. 2\n251. 2\n252. 2\n253. 2\n254. 2\n255. 2\n256. 2\n257. 3\n258. 2\n259. 2\n260. 2\n261. 3\n262. 3\n263. 3\n264. 2\n265. 1\n266. 3\n267. 2\n268. 3\n269. 3\n270. 2\n271. 2\n272. 3\n273. 2\n274. 3\n275. 3\n276. 1\n277. 3\n278. 2\n279. 2\n280. 3\n281. 3\n282. 2\n283. 2\n284. 2\n285. 2\n286. 2\n287. 2\n288. 3\n289. 1\n290. 3\n291. 2\n292. 2\n293. 2\n294. 2\n295. 2\n296. 2\n297. 2\n298. 3\n299. 2\n300. 2\n301. 2\n302. 3\n303. 3\n304. 3\n305. 2\n306. 1\n307. 3\n308. 3\n309. 2\n310. 2\n311. 3\n312. 2\n313. 3\n314. 3\n315. 1\n316. 3\n317. 2\n318. 2\n319. 3\n320. 3\n321. 2\n322. 2\n323. 2\n324. 2\n325. 2\n326. 2\n327. 3\n328. 1\n329. 3\n330. 2\n331. 2\n332. 2\n333. 2\n334. 2\n335. 2\n336. 2\n337. 3\n338. 2\n339. 2\n340. 2\n341. 3\n342. 3\n343. 3\n344. 2\n345. 1\n346. 2\n347. 3\n348. 3\n349. 1\n350. 3\n351. 2\n352. 2\n353. 3\n354. 3\n355. 2\n356. 2\n357. 2\n358. 2\n359. 2\n360. 2\n361. 3\n362. 1\n363. 3\n364. 2\n365. 2\n366. 2\n367. 2\n368. 2\n369. 2\n370. 2\n371. 3\n372. 2\n373. 2\n374. 2\n375. 3\n376. 3\n377. 3\n378. 2\n379. 1\n380. 3\n381. 2\n382. 3\n383. 3\n384. 2\n385. 2\n386. 3\n387. 2\n388. 3\n389. 3\n390. 1\n391. 3\n392. 2\n393. 2\n394. 3\n395. 3\n396. 2\n397. 2\n398. 2\n399. 2\n400. 2\n401. 2\n\n\n",
            "text/html": [
              "<style>\n",
              ".list-inline {list-style: none; margin:0; padding: 0}\n",
              ".list-inline>li {display: inline-block}\n",
              ".list-inline>li:not(:last-child)::after {content: \"\\00b7\"; padding: 0 .5ex}\n",
              "</style>\n",
              "<ol class=list-inline><li>2</li><li>1</li><li>2</li><li>3</li><li>3</li><li>2</li><li>3</li><li>2</li><li>2</li><li>2</li><li>2</li><li>3</li><li>3</li><li>3</li><li>1</li><li>3</li><li>3</li><li>3</li><li>2</li><li>3</li><li>3</li><li>2</li><li>2</li><li>2</li><li>3</li><li>2</li><li>2</li><li>2</li><li>3</li><li>3</li><li>1</li><li>3</li><li>3</li><li>3</li><li>2</li><li>3</li><li>2</li><li>2</li><li>3</li><li>2</li><li>2</li><li>2</li><li>3</li><li>3</li><li>2</li><li>2</li><li>2</li><li>1</li><li>2</li><li>3</li><li>2</li><li>2</li><li>3</li><li>2</li><li>3</li><li>2</li><li>2</li><li>2</li><li>2</li><li>3</li><li>2</li><li>2</li><li>2</li><li>3</li><li>3</li><li>3</li><li>3</li><li>2</li><li>1</li><li>2</li><li>3</li><li>3</li><li>3</li><li>2</li><li>2</li><li>2</li><li>1</li><li>3</li><li>3</li><li>2</li><li>2</li><li>2</li><li>3</li><li>2</li><li>3</li><li>3</li><li>2</li><li>3</li><li>2</li><li>2</li><li>2</li><li>2</li><li>2</li><li>2</li><li>1</li><li>2</li><li>2</li><li>2</li><li>2</li><li>2</li><li>3</li><li>3</li><li>2</li><li>3</li><li>3</li><li>2</li><li>2</li><li>2</li><li>2</li><li>2</li><li>2</li><li>2</li><li>3</li><li>2</li><li>2</li><li>2</li><li>3</li><li>3</li><li>3</li><li>2</li><li>1</li><li>3</li><li>2</li><li>3</li><li>3</li><li>2</li><li>3</li><li>3</li><li>3</li><li>2</li><li>2</li><li>2</li><li>1</li><li>3</li><li>3</li><li>2</li><li>3</li><li>2</li><li>3</li><li>1</li><li>2</li><li>3</li><li>2.23606797749979</li><li>2</li><li>3</li><li>3</li><li>2</li><li>2</li><li>3</li><li>2</li><li>3</li><li>3</li><li>1</li><li>3</li><li>2</li><li>2</li><li>3</li><li>3</li><li>2</li><li>2</li><li>2</li><li>2</li><li>2</li><li>2</li><li>3</li><li>3</li><li>3</li><li>2</li><li>2</li><li>2</li><li>1</li><li>3</li><li>3</li><li>2</li><li>3</li><li>2</li><li>3</li><li>1</li><li>2</li><li>3</li><li>2.23606797749979</li><li>2</li><li>3</li><li>3</li><li>2</li><li>2</li><li>3</li><li>2</li><li>3</li><li>3</li><li>1</li><li>3</li><li>2</li><li>2</li><li>2</li><li>2</li><li>2</li><li>2</li><li>2</li><li>3</li><li>⋯</li><li>2</li><li>3</li><li>3</li><li>3</li><li>2</li><li>1</li><li>3</li><li>2</li><li>3</li><li>3</li><li>2</li><li>3</li><li>3</li><li>1</li><li>3</li><li>3</li><li>2</li><li>3</li><li>2</li><li>3</li><li>1</li><li>2</li><li>3</li><li>2.23606797749979</li><li>2</li><li>3</li><li>3</li><li>2</li><li>2</li><li>3</li><li>2</li><li>3</li><li>3</li><li>1</li><li>3</li><li>2</li><li>2</li><li>3</li><li>3</li><li>2</li><li>2</li><li>2</li><li>2</li><li>2</li><li>2</li><li>3</li><li>1</li><li>3</li><li>2</li><li>2</li><li>2</li><li>2</li><li>2</li><li>2</li><li>2</li><li>3</li><li>2</li><li>2</li><li>2</li><li>3</li><li>3</li><li>3</li><li>2</li><li>1</li><li>3</li><li>2</li><li>3</li><li>3</li><li>2</li><li>2</li><li>3</li><li>2</li><li>3</li><li>3</li><li>1</li><li>3</li><li>2</li><li>2</li><li>3</li><li>3</li><li>2</li><li>2</li><li>2</li><li>2</li><li>2</li><li>2</li><li>3</li><li>1</li><li>3</li><li>2</li><li>2</li><li>2</li><li>2</li><li>2</li><li>2</li><li>2</li><li>3</li><li>2</li><li>2</li><li>2</li><li>3</li><li>3</li><li>3</li><li>2</li><li>1</li><li>3</li><li>3</li><li>2</li><li>2</li><li>3</li><li>2</li><li>3</li><li>3</li><li>1</li><li>3</li><li>2</li><li>2</li><li>3</li><li>3</li><li>2</li><li>2</li><li>2</li><li>2</li><li>2</li><li>2</li><li>3</li><li>1</li><li>3</li><li>2</li><li>2</li><li>2</li><li>2</li><li>2</li><li>2</li><li>2</li><li>3</li><li>2</li><li>2</li><li>2</li><li>3</li><li>3</li><li>3</li><li>2</li><li>1</li><li>2</li><li>3</li><li>3</li><li>1</li><li>3</li><li>2</li><li>2</li><li>3</li><li>3</li><li>2</li><li>2</li><li>2</li><li>2</li><li>2</li><li>2</li><li>3</li><li>1</li><li>3</li><li>2</li><li>2</li><li>2</li><li>2</li><li>2</li><li>2</li><li>2</li><li>3</li><li>2</li><li>2</li><li>2</li><li>3</li><li>3</li><li>3</li><li>2</li><li>1</li><li>3</li><li>2</li><li>3</li><li>3</li><li>2</li><li>2</li><li>3</li><li>2</li><li>3</li><li>3</li><li>1</li><li>3</li><li>2</li><li>2</li><li>3</li><li>3</li><li>2</li><li>2</li><li>2</li><li>2</li><li>2</li><li>2</li></ol>\n"
            ]
          },
          "metadata": {
            "tags": []
          }
        }
      ]
    },
    {
      "cell_type": "code",
      "metadata": {
        "id": "dAY6ubwkORh1"
      },
      "source": [
        "#switch() 함수\n",
        "switch(비교문, 실행문1[,실행문2][,..])"
      ],
      "execution_count": null,
      "outputs": []
    },
    {
      "cell_type": "code",
      "metadata": {
        "id": "l3yrZuXTO669",
        "outputId": "635dd54f-2e53-4e38-fb40-b697d3b44508",
        "colab": {
          "base_uri": "https://localhost:8080/",
          "height": 33
        }
      },
      "source": [
        "name <- \"choi\"\n",
        "switch(name,choi=100,jang=90)"
      ],
      "execution_count": 9,
      "outputs": [
        {
          "output_type": "display_data",
          "data": {
            "text/plain": [
              "[1] 100"
            ],
            "text/latex": "100",
            "text/markdown": "100",
            "text/html": [
              "100"
            ]
          },
          "metadata": {
            "tags": []
          }
        }
      ]
    },
    {
      "cell_type": "code",
      "metadata": {
        "id": "wc8EGv16Q1AI",
        "outputId": "363074f4-0127-4669-c3fb-ec86311a9019",
        "colab": {
          "base_uri": "https://localhost:8080/",
          "height": 33
        }
      },
      "source": [
        "# which() 함수 : 벡터 객체를 대상으로 특정 데이터를 검색함\n",
        "# which(조건) : 조건에 만족하는 벡터우너소의 위치(인텍스)를 반환함\n",
        "name <- c(\"kim\",\"lee\",\"choi\",\"jang\")\n",
        "which(name == \"choi\")"
      ],
      "execution_count": 14,
      "outputs": [
        {
          "output_type": "display_data",
          "data": {
            "text/plain": [
              "[1] 3"
            ],
            "text/latex": "3",
            "text/markdown": "3",
            "text/html": [
              "3"
            ]
          },
          "metadata": {
            "tags": []
          }
        }
      ]
    },
    {
      "cell_type": "code",
      "metadata": {
        "id": "h-hVxhrMR3Rx",
        "outputId": "b5d907d9-68fc-4c9b-c687-1c78e1f5059b",
        "colab": {
          "base_uri": "https://localhost:8080/",
          "height": 158
        }
      },
      "source": [
        "no <- c(1:5)\n",
        "name <- c(\"kim\",\"lee\",\"choi\",\"jang\",\"park\")\n",
        "score <- c(85,90,95,100,50)\n",
        "exam <- data.frame(학번=no,이름=name,성적=score)\n",
        "exam"
      ],
      "execution_count": 15,
      "outputs": [
        {
          "output_type": "display_data",
          "data": {
            "text/plain": [
              "  학번 이름 성적\n",
              "1 1    kim   85 \n",
              "2 2    lee   90 \n",
              "3 3    choi  95 \n",
              "4 4    jang 100 \n",
              "5 5    park  50 "
            ],
            "text/latex": "A data.frame: 5 × 3\n\\begin{tabular}{lll}\n 학번 & 이름 & 성적\\\\\n <int> & <fct> & <dbl>\\\\\n\\hline\n\t 1 & kim  &  85\\\\\n\t 2 & lee  &  90\\\\\n\t 3 & choi &  95\\\\\n\t 4 & jang & 100\\\\\n\t 5 & park &  50\\\\\n\\end{tabular}\n",
            "text/markdown": "\nA data.frame: 5 × 3\n\n| 학번 &lt;int&gt; | 이름 &lt;fct&gt; | 성적 &lt;dbl&gt; |\n|---|---|---|\n| 1 | kim  |  85 |\n| 2 | lee  |  90 |\n| 3 | choi |  95 |\n| 4 | jang | 100 |\n| 5 | park |  50 |\n\n",
            "text/html": [
              "<table>\n",
              "<caption>A data.frame: 5 × 3</caption>\n",
              "<thead>\n",
              "\t<tr><th scope=col>학번</th><th scope=col>이름</th><th scope=col>성적</th></tr>\n",
              "\t<tr><th scope=col>&lt;int&gt;</th><th scope=col>&lt;fct&gt;</th><th scope=col>&lt;dbl&gt;</th></tr>\n",
              "</thead>\n",
              "<tbody>\n",
              "\t<tr><td>1</td><td>kim </td><td> 85</td></tr>\n",
              "\t<tr><td>2</td><td>lee </td><td> 90</td></tr>\n",
              "\t<tr><td>3</td><td>choi</td><td> 95</td></tr>\n",
              "\t<tr><td>4</td><td>jang</td><td>100</td></tr>\n",
              "\t<tr><td>5</td><td>park</td><td> 50</td></tr>\n",
              "</tbody>\n",
              "</table>\n"
            ]
          },
          "metadata": {
            "tags": []
          }
        }
      ]
    },
    {
      "cell_type": "code",
      "metadata": {
        "id": "gT7QqWCaSfGg",
        "outputId": "fba2cd03-7d24-4df2-d730-49903c94737f",
        "colab": {
          "base_uri": "https://localhost:8080/",
          "height": 87
        }
      },
      "source": [
        "exam[which(exam$이름 == 'choi'),]"
      ],
      "execution_count": 19,
      "outputs": [
        {
          "output_type": "display_data",
          "data": {
            "text/plain": [
              "  학번 이름 성적\n",
              "3 3    choi 95  "
            ],
            "text/latex": "A data.frame: 1 × 3\n\\begin{tabular}{r|lll}\n  & 학번 & 이름 & 성적\\\\\n  & <int> & <fct> & <dbl>\\\\\n\\hline\n\t3 & 3 & choi & 95\\\\\n\\end{tabular}\n",
            "text/markdown": "\nA data.frame: 1 × 3\n\n| <!--/--> | 학번 &lt;int&gt; | 이름 &lt;fct&gt; | 성적 &lt;dbl&gt; |\n|---|---|---|---|\n| 3 | 3 | choi | 95 |\n\n",
            "text/html": [
              "<table>\n",
              "<caption>A data.frame: 1 × 3</caption>\n",
              "<thead>\n",
              "\t<tr><th></th><th scope=col>학번</th><th scope=col>이름</th><th scope=col>성적</th></tr>\n",
              "\t<tr><th></th><th scope=col>&lt;int&gt;</th><th scope=col>&lt;fct&gt;</th><th scope=col>&lt;dbl&gt;</th></tr>\n",
              "</thead>\n",
              "<tbody>\n",
              "\t<tr><th scope=row>3</th><td>3</td><td>choi</td><td>95</td></tr>\n",
              "</tbody>\n",
              "</table>\n"
            ]
          },
          "metadata": {
            "tags": []
          }
        }
      ]
    },
    {
      "cell_type": "code",
      "metadata": {
        "id": "4sNk_mUAPMii",
        "outputId": "1d015f74-6256-4cff-cc8a-b82620e011b4",
        "colab": {
          "base_uri": "https://localhost:8080/",
          "height": 282
        }
      },
      "source": [
        "# dplyr 패키지의 다중 조건문 작성\n",
        "# case_when( 조건식~참일때값, ..., TRUE~참일때값)\n",
        "library(dplyr)\n",
        "x <- 80\n",
        "case_when( x >= 90 ~ \"A\", x >= 80 ~ \"B\", x >= 70 ~ \"C\", x >= 60 ~ \"D\", TRUE ~ \"F\")"
      ],
      "execution_count": 13,
      "outputs": [
        {
          "output_type": "stream",
          "text": [
            "\n",
            "Attaching package: ‘dplyr’\n",
            "\n",
            "\n",
            "The following objects are masked from ‘package:stats’:\n",
            "\n",
            "    filter, lag\n",
            "\n",
            "\n",
            "The following objects are masked from ‘package:base’:\n",
            "\n",
            "    intersect, setdiff, setequal, union\n",
            "\n",
            "\n"
          ],
          "name": "stderr"
        },
        {
          "output_type": "display_data",
          "data": {
            "text/plain": [
              "[1] \"B\""
            ],
            "text/latex": "'B'",
            "text/markdown": "'B'",
            "text/html": [
              "'B'"
            ]
          },
          "metadata": {
            "tags": []
          }
        }
      ]
    }
  ]
}