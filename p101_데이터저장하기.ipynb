{
  "nbformat": 4,
  "nbformat_minor": 0,
  "metadata": {
    "colab": {
      "name": "p101_데이터저장하기.ipynb",
      "provenance": [],
      "authorship_tag": "ABX9TyOGS2Lf3Q8iazO4A6MsKmo3",
      "include_colab_link": true
    },
    "kernelspec": {
      "name": "ir",
      "display_name": "R"
    }
  },
  "cells": [
    {
      "cell_type": "markdown",
      "metadata": {
        "id": "view-in-github",
        "colab_type": "text"
      },
      "source": [
        "<a href=\"https://colab.research.google.com/github/gyujin0450/RPRG/blob/master/p101_%EB%8D%B0%EC%9D%B4%ED%84%B0%EC%A0%80%EC%9E%A5%ED%95%98%EA%B8%B0.ipynb\" target=\"_parent\"><img src=\"https://colab.research.google.com/assets/colab-badge.svg\" alt=\"Open In Colab\"/></a>"
      ]
    },
    {
      "cell_type": "markdown",
      "metadata": {
        "id": "O1XmBV-Acym5"
      },
      "source": [
        "ch03.2 데이터 저장하기"
      ]
    },
    {
      "cell_type": "code",
      "metadata": {
        "id": "m4DzqiCNdDM0",
        "outputId": "c94c96c9-6b1a-4b5b-c1fb-09906235cd57",
        "colab": {
          "base_uri": "https://localhost:8080/",
          "height": 34
        }
      },
      "source": [
        "# cat() 함수 이용 변수 출력\n",
        "x <- 10\n",
        "y <- 20\n",
        "z <- x + y\n",
        "cat(\"x*y의 결과는\",z,\"입니다.\\n\")"
      ],
      "execution_count": null,
      "outputs": [
        {
          "output_type": "stream",
          "text": [
            "x*y의 결과는 30 입니다.\n"
          ],
          "name": "stdout"
        }
      ]
    },
    {
      "cell_type": "code",
      "metadata": {
        "id": "0y-sSCtbdrQ6",
        "outputId": "593882b1-9376-4e43-89e1-75539fbdc4ff",
        "colab": {
          "base_uri": "https://localhost:8080/",
          "height": 34
        }
      },
      "source": [
        "cat(x,\"*\",y, \"=\",z)"
      ],
      "execution_count": null,
      "outputs": [
        {
          "output_type": "stream",
          "text": [
            "10 * 20 = 30"
          ],
          "name": "stdout"
        }
      ]
    },
    {
      "cell_type": "code",
      "metadata": {
        "id": "IcFNXoBodz_U",
        "outputId": "e5eb158c-518b-4921-ba3a-50bfe1c55872",
        "colab": {
          "base_uri": "https://localhost:8080/",
          "height": 33
        }
      },
      "source": [
        "# print() 함수\n",
        "z"
      ],
      "execution_count": null,
      "outputs": [
        {
          "output_type": "display_data",
          "data": {
            "text/plain": [
              "[1] 30"
            ],
            "text/latex": "30",
            "text/markdown": "30",
            "text/html": [
              "30"
            ]
          },
          "metadata": {
            "tags": []
          }
        }
      ]
    },
    {
      "cell_type": "code",
      "metadata": {
        "id": "8aQFSQ7qd3wm",
        "outputId": "f1ef1cae-7219-4511-f753-ec9d7da9b351",
        "colab": {
          "base_uri": "https://localhost:8080/",
          "height": 120
        }
      },
      "source": [
        "# sink() 함수\n",
        "getwd()\n",
        "install.packages(\"RSADBE\")\n",
        "library(RSADBE)\n",
        "data(Severity_Counts)\n",
        "sink(\"severity.txt\") # 저장할 파일 Open\n",
        "severity <- Severity_Counts \n",
        "severity # 변수출력 : 콘솔에 출력되지 않고 파일 저장 (R Studio에서는 파일에 저장됨) \n",
        "sink() # Open될 파일 close"
      ],
      "execution_count": 3,
      "outputs": [
        {
          "output_type": "display_data",
          "data": {
            "text/plain": [
              "[1] \"/content\""
            ],
            "text/latex": "'/content'",
            "text/markdown": "'/content'",
            "text/html": [
              "'/content'"
            ]
          },
          "metadata": {
            "tags": []
          }
        },
        {
          "output_type": "stream",
          "text": [
            "Installing package into ‘/usr/local/lib/R/site-library’\n",
            "(as ‘lib’ is unspecified)\n",
            "\n"
          ],
          "name": "stderr"
        },
        {
          "output_type": "display_data",
          "data": {
            "text/plain": [
              "      Bugs.BR       Bugs.AR    NT.Bugs.BR    NT.Bugs.AR      Major.BR \n",
              "        11605           374         10119            17          1135 \n",
              "     Major.AR   Critical.BR   Critical.AR H.Priority.BR H.Priority.AR \n",
              "           35           432            10           459             3 "
            ],
            "text/latex": "\\begin{description*}\n\\item[Bugs.BR] 11605\n\\item[Bugs.AR] 374\n\\item[NT.Bugs.BR] 10119\n\\item[NT.Bugs.AR] 17\n\\item[Major.BR] 1135\n\\item[Major.AR] 35\n\\item[Critical.BR] 432\n\\item[Critical.AR] 10\n\\item[H.Priority.BR] 459\n\\item[H.Priority.AR] 3\n\\end{description*}\n",
            "text/markdown": "Bugs.BR\n:   11605Bugs.AR\n:   374NT.Bugs.BR\n:   10119NT.Bugs.AR\n:   17Major.BR\n:   1135Major.AR\n:   35Critical.BR\n:   432Critical.AR\n:   10H.Priority.BR\n:   459H.Priority.AR\n:   3\n\n",
            "text/html": [
              "<style>\n",
              ".dl-inline {width: auto; margin:0; padding: 0}\n",
              ".dl-inline>dt, .dl-inline>dd {float: none; width: auto; display: inline-block}\n",
              ".dl-inline>dt::after {content: \":\\0020\"; padding-right: .5ex}\n",
              ".dl-inline>dt:not(:first-of-type) {padding-left: .5ex}\n",
              "</style><dl class=dl-inline><dt>Bugs.BR</dt><dd>11605</dd><dt>Bugs.AR</dt><dd>374</dd><dt>NT.Bugs.BR</dt><dd>10119</dd><dt>NT.Bugs.AR</dt><dd>17</dd><dt>Major.BR</dt><dd>1135</dd><dt>Major.AR</dt><dd>35</dd><dt>Critical.BR</dt><dd>432</dd><dt>Critical.AR</dt><dd>10</dd><dt>H.Priority.BR</dt><dd>459</dd><dt>H.Priority.AR</dt><dd>3</dd></dl>\n"
            ]
          },
          "metadata": {
            "tags": []
          }
        }
      ]
    },
    {
      "cell_type": "code",
      "metadata": {
        "id": "_YHs-wmPfY5B",
        "outputId": "200a205e-029b-4642-bd5a-bc109de759d7",
        "colab": {
          "base_uri": "https://localhost:8080/",
          "height": 225
        }
      },
      "source": [
        "# write.table() 함수\n",
        "titanic <- read.csv('https://raw.githubusercontent.com/gyujin0450/dataset/master/titanic.csv')\n",
        "head(titanic,5)"
      ],
      "execution_count": 11,
      "outputs": [
        {
          "output_type": "display_data",
          "data": {
            "text/plain": [
              "  pclass survived name                                            sex   \n",
              "1 1      1        Allen, Miss. Elisabeth Walton                   female\n",
              "2 1      1        Allison, Master. Hudson Trevor                  male  \n",
              "3 1      0        Allison, Miss. Helen Loraine                    female\n",
              "4 1      0        Allison, Mr. Hudson Joshua Creighton            male  \n",
              "5 1      0        Allison, Mrs. Hudson J C (Bessie Waldo Daniels) female\n",
              "  age     sibsp parch ticket fare     cabin   embarked\n",
              "1 29.0000 0     0     24160  211.3375 B5      S       \n",
              "2  0.9167 1     2     113781 151.5500 C22 C26 S       \n",
              "3  2.0000 1     2     113781 151.5500 C22 C26 S       \n",
              "4 30.0000 1     2     113781 151.5500 C22 C26 S       \n",
              "5 25.0000 1     2     113781 151.5500 C22 C26 S       "
            ],
            "text/latex": "A data.frame: 5 × 11\n\\begin{tabular}{r|lllllllllll}\n  & pclass & survived & name & sex & age & sibsp & parch & ticket & fare & cabin & embarked\\\\\n  & <int> & <int> & <fct> & <fct> & <dbl> & <int> & <int> & <fct> & <dbl> & <fct> & <fct>\\\\\n\\hline\n\t1 & 1 & 1 & Allen, Miss. Elisabeth Walton                   & female & 29.0000 & 0 & 0 & 24160  & 211.3375 & B5      & S\\\\\n\t2 & 1 & 1 & Allison, Master. Hudson Trevor                  & male   &  0.9167 & 1 & 2 & 113781 & 151.5500 & C22 C26 & S\\\\\n\t3 & 1 & 0 & Allison, Miss. Helen Loraine                    & female &  2.0000 & 1 & 2 & 113781 & 151.5500 & C22 C26 & S\\\\\n\t4 & 1 & 0 & Allison, Mr. Hudson Joshua Creighton            & male   & 30.0000 & 1 & 2 & 113781 & 151.5500 & C22 C26 & S\\\\\n\t5 & 1 & 0 & Allison, Mrs. Hudson J C (Bessie Waldo Daniels) & female & 25.0000 & 1 & 2 & 113781 & 151.5500 & C22 C26 & S\\\\\n\\end{tabular}\n",
            "text/markdown": "\nA data.frame: 5 × 11\n\n| <!--/--> | pclass &lt;int&gt; | survived &lt;int&gt; | name &lt;fct&gt; | sex &lt;fct&gt; | age &lt;dbl&gt; | sibsp &lt;int&gt; | parch &lt;int&gt; | ticket &lt;fct&gt; | fare &lt;dbl&gt; | cabin &lt;fct&gt; | embarked &lt;fct&gt; |\n|---|---|---|---|---|---|---|---|---|---|---|---|\n| 1 | 1 | 1 | Allen, Miss. Elisabeth Walton                   | female | 29.0000 | 0 | 0 | 24160  | 211.3375 | B5      | S |\n| 2 | 1 | 1 | Allison, Master. Hudson Trevor                  | male   |  0.9167 | 1 | 2 | 113781 | 151.5500 | C22 C26 | S |\n| 3 | 1 | 0 | Allison, Miss. Helen Loraine                    | female |  2.0000 | 1 | 2 | 113781 | 151.5500 | C22 C26 | S |\n| 4 | 1 | 0 | Allison, Mr. Hudson Joshua Creighton            | male   | 30.0000 | 1 | 2 | 113781 | 151.5500 | C22 C26 | S |\n| 5 | 1 | 0 | Allison, Mrs. Hudson J C (Bessie Waldo Daniels) | female | 25.0000 | 1 | 2 | 113781 | 151.5500 | C22 C26 | S |\n\n",
            "text/html": [
              "<table>\n",
              "<caption>A data.frame: 5 × 11</caption>\n",
              "<thead>\n",
              "\t<tr><th></th><th scope=col>pclass</th><th scope=col>survived</th><th scope=col>name</th><th scope=col>sex</th><th scope=col>age</th><th scope=col>sibsp</th><th scope=col>parch</th><th scope=col>ticket</th><th scope=col>fare</th><th scope=col>cabin</th><th scope=col>embarked</th></tr>\n",
              "\t<tr><th></th><th scope=col>&lt;int&gt;</th><th scope=col>&lt;int&gt;</th><th scope=col>&lt;fct&gt;</th><th scope=col>&lt;fct&gt;</th><th scope=col>&lt;dbl&gt;</th><th scope=col>&lt;int&gt;</th><th scope=col>&lt;int&gt;</th><th scope=col>&lt;fct&gt;</th><th scope=col>&lt;dbl&gt;</th><th scope=col>&lt;fct&gt;</th><th scope=col>&lt;fct&gt;</th></tr>\n",
              "</thead>\n",
              "<tbody>\n",
              "\t<tr><th scope=row>1</th><td>1</td><td>1</td><td>Allen, Miss. Elisabeth Walton                  </td><td>female</td><td>29.0000</td><td>0</td><td>0</td><td>24160 </td><td>211.3375</td><td>B5     </td><td>S</td></tr>\n",
              "\t<tr><th scope=row>2</th><td>1</td><td>1</td><td>Allison, Master. Hudson Trevor                 </td><td>male  </td><td> 0.9167</td><td>1</td><td>2</td><td>113781</td><td>151.5500</td><td>C22 C26</td><td>S</td></tr>\n",
              "\t<tr><th scope=row>3</th><td>1</td><td>0</td><td>Allison, Miss. Helen Loraine                   </td><td>female</td><td> 2.0000</td><td>1</td><td>2</td><td>113781</td><td>151.5500</td><td>C22 C26</td><td>S</td></tr>\n",
              "\t<tr><th scope=row>4</th><td>1</td><td>0</td><td>Allison, Mr. Hudson Joshua Creighton           </td><td>male  </td><td>30.0000</td><td>1</td><td>2</td><td>113781</td><td>151.5500</td><td>C22 C26</td><td>S</td></tr>\n",
              "\t<tr><th scope=row>5</th><td>1</td><td>0</td><td>Allison, Mrs. Hudson J C (Bessie Waldo Daniels)</td><td>female</td><td>25.0000</td><td>1</td><td>2</td><td>113781</td><td>151.5500</td><td>C22 C26</td><td>S</td></tr>\n",
              "</tbody>\n",
              "</table>\n"
            ]
          },
          "metadata": {
            "tags": []
          }
        }
      ]
    },
    {
      "cell_type": "code",
      "metadata": {
        "id": "615LErlkbHja"
      },
      "source": [
        "write.table(titanic, \"titanic.txt\", row.names = FALSE)"
      ],
      "execution_count": 12,
      "outputs": []
    },
    {
      "cell_type": "code",
      "metadata": {
        "id": "pydadOadbpfA",
        "outputId": "0bc1129b-e551-4a18-f6ec-9ffcd9bd174a",
        "colab": {
          "base_uri": "https://localhost:8080/",
          "height": 225
        }
      },
      "source": [
        "titanic_df <- read.table(file=\"titanic.txt\", sep=\"\", header = T)\n",
        "head(titanic_df,5)"
      ],
      "execution_count": 13,
      "outputs": [
        {
          "output_type": "display_data",
          "data": {
            "text/plain": [
              "  pclass survived name                                            sex   \n",
              "1 1      1        Allen, Miss. Elisabeth Walton                   female\n",
              "2 1      1        Allison, Master. Hudson Trevor                  male  \n",
              "3 1      0        Allison, Miss. Helen Loraine                    female\n",
              "4 1      0        Allison, Mr. Hudson Joshua Creighton            male  \n",
              "5 1      0        Allison, Mrs. Hudson J C (Bessie Waldo Daniels) female\n",
              "  age     sibsp parch ticket fare     cabin   embarked\n",
              "1 29.0000 0     0     24160  211.3375 B5      S       \n",
              "2  0.9167 1     2     113781 151.5500 C22 C26 S       \n",
              "3  2.0000 1     2     113781 151.5500 C22 C26 S       \n",
              "4 30.0000 1     2     113781 151.5500 C22 C26 S       \n",
              "5 25.0000 1     2     113781 151.5500 C22 C26 S       "
            ],
            "text/latex": "A data.frame: 5 × 11\n\\begin{tabular}{r|lllllllllll}\n  & pclass & survived & name & sex & age & sibsp & parch & ticket & fare & cabin & embarked\\\\\n  & <int> & <int> & <fct> & <fct> & <dbl> & <int> & <int> & <fct> & <dbl> & <fct> & <fct>\\\\\n\\hline\n\t1 & 1 & 1 & Allen, Miss. Elisabeth Walton                   & female & 29.0000 & 0 & 0 & 24160  & 211.3375 & B5      & S\\\\\n\t2 & 1 & 1 & Allison, Master. Hudson Trevor                  & male   &  0.9167 & 1 & 2 & 113781 & 151.5500 & C22 C26 & S\\\\\n\t3 & 1 & 0 & Allison, Miss. Helen Loraine                    & female &  2.0000 & 1 & 2 & 113781 & 151.5500 & C22 C26 & S\\\\\n\t4 & 1 & 0 & Allison, Mr. Hudson Joshua Creighton            & male   & 30.0000 & 1 & 2 & 113781 & 151.5500 & C22 C26 & S\\\\\n\t5 & 1 & 0 & Allison, Mrs. Hudson J C (Bessie Waldo Daniels) & female & 25.0000 & 1 & 2 & 113781 & 151.5500 & C22 C26 & S\\\\\n\\end{tabular}\n",
            "text/markdown": "\nA data.frame: 5 × 11\n\n| <!--/--> | pclass &lt;int&gt; | survived &lt;int&gt; | name &lt;fct&gt; | sex &lt;fct&gt; | age &lt;dbl&gt; | sibsp &lt;int&gt; | parch &lt;int&gt; | ticket &lt;fct&gt; | fare &lt;dbl&gt; | cabin &lt;fct&gt; | embarked &lt;fct&gt; |\n|---|---|---|---|---|---|---|---|---|---|---|---|\n| 1 | 1 | 1 | Allen, Miss. Elisabeth Walton                   | female | 29.0000 | 0 | 0 | 24160  | 211.3375 | B5      | S |\n| 2 | 1 | 1 | Allison, Master. Hudson Trevor                  | male   |  0.9167 | 1 | 2 | 113781 | 151.5500 | C22 C26 | S |\n| 3 | 1 | 0 | Allison, Miss. Helen Loraine                    | female |  2.0000 | 1 | 2 | 113781 | 151.5500 | C22 C26 | S |\n| 4 | 1 | 0 | Allison, Mr. Hudson Joshua Creighton            | male   | 30.0000 | 1 | 2 | 113781 | 151.5500 | C22 C26 | S |\n| 5 | 1 | 0 | Allison, Mrs. Hudson J C (Bessie Waldo Daniels) | female | 25.0000 | 1 | 2 | 113781 | 151.5500 | C22 C26 | S |\n\n",
            "text/html": [
              "<table>\n",
              "<caption>A data.frame: 5 × 11</caption>\n",
              "<thead>\n",
              "\t<tr><th></th><th scope=col>pclass</th><th scope=col>survived</th><th scope=col>name</th><th scope=col>sex</th><th scope=col>age</th><th scope=col>sibsp</th><th scope=col>parch</th><th scope=col>ticket</th><th scope=col>fare</th><th scope=col>cabin</th><th scope=col>embarked</th></tr>\n",
              "\t<tr><th></th><th scope=col>&lt;int&gt;</th><th scope=col>&lt;int&gt;</th><th scope=col>&lt;fct&gt;</th><th scope=col>&lt;fct&gt;</th><th scope=col>&lt;dbl&gt;</th><th scope=col>&lt;int&gt;</th><th scope=col>&lt;int&gt;</th><th scope=col>&lt;fct&gt;</th><th scope=col>&lt;dbl&gt;</th><th scope=col>&lt;fct&gt;</th><th scope=col>&lt;fct&gt;</th></tr>\n",
              "</thead>\n",
              "<tbody>\n",
              "\t<tr><th scope=row>1</th><td>1</td><td>1</td><td>Allen, Miss. Elisabeth Walton                  </td><td>female</td><td>29.0000</td><td>0</td><td>0</td><td>24160 </td><td>211.3375</td><td>B5     </td><td>S</td></tr>\n",
              "\t<tr><th scope=row>2</th><td>1</td><td>1</td><td>Allison, Master. Hudson Trevor                 </td><td>male  </td><td> 0.9167</td><td>1</td><td>2</td><td>113781</td><td>151.5500</td><td>C22 C26</td><td>S</td></tr>\n",
              "\t<tr><th scope=row>3</th><td>1</td><td>0</td><td>Allison, Miss. Helen Loraine                   </td><td>female</td><td> 2.0000</td><td>1</td><td>2</td><td>113781</td><td>151.5500</td><td>C22 C26</td><td>S</td></tr>\n",
              "\t<tr><th scope=row>4</th><td>1</td><td>0</td><td>Allison, Mr. Hudson Joshua Creighton           </td><td>male  </td><td>30.0000</td><td>1</td><td>2</td><td>113781</td><td>151.5500</td><td>C22 C26</td><td>S</td></tr>\n",
              "\t<tr><th scope=row>5</th><td>1</td><td>0</td><td>Allison, Mrs. Hudson J C (Bessie Waldo Daniels)</td><td>female</td><td>25.0000</td><td>1</td><td>2</td><td>113781</td><td>151.5500</td><td>C22 C26</td><td>S</td></tr>\n",
              "</tbody>\n",
              "</table>\n"
            ]
          },
          "metadata": {
            "tags": []
          }
        }
      ]
    },
    {
      "cell_type": "code",
      "metadata": {
        "id": "aCcVeV5Bc8Ag",
        "outputId": "7a207d43-6eb5-4931-dede-f9fda995b049",
        "colab": {
          "base_uri": "https://localhost:8080/",
          "height": 194
        }
      },
      "source": [
        "# write.csv() 함수\n",
        "install.packages(\"readxl\")\n",
        "library(readxl)"
      ],
      "execution_count": 17,
      "outputs": [
        {
          "output_type": "stream",
          "text": [
            "Installing package into ‘/usr/local/lib/R/site-library’\n",
            "(as ‘lib’ is unspecified)\n",
            "\n",
            "Warning message in install.packages(\"readxl\"):\n",
            "“installation of package ‘readxl’ had non-zero exit status”\n"
          ],
          "name": "stderr"
        },
        {
          "output_type": "display_data",
          "data": {
            "text/plain": [
              "  학번 이름   성적 평가\n",
              "1 101  홍길동 90   A   \n",
              "2 102  이순신 80   B   "
            ],
            "text/latex": "A tibble: 2 × 4\n\\begin{tabular}{llll}\n 학번 & 이름 & 성적 & 평가\\\\\n <dbl> & <chr> & <dbl> & <chr>\\\\\n\\hline\n\t 101 & 홍길동 & 90 & A\\\\\n\t 102 & 이순신 & 80 & B\\\\\n\\end{tabular}\n",
            "text/markdown": "\nA tibble: 2 × 4\n\n| 학번 &lt;dbl&gt; | 이름 &lt;chr&gt; | 성적 &lt;dbl&gt; | 평가 &lt;chr&gt; |\n|---|---|---|---|\n| 101 | 홍길동 | 90 | A |\n| 102 | 이순신 | 80 | B |\n\n",
            "text/html": [
              "<table>\n",
              "<caption>A tibble: 2 × 4</caption>\n",
              "<thead>\n",
              "\t<tr><th scope=col>학번</th><th scope=col>이름</th><th scope=col>성적</th><th scope=col>평가</th></tr>\n",
              "\t<tr><th scope=col>&lt;dbl&gt;</th><th scope=col>&lt;chr&gt;</th><th scope=col>&lt;dbl&gt;</th><th scope=col>&lt;chr&gt;</th></tr>\n",
              "</thead>\n",
              "<tbody>\n",
              "\t<tr><td>101</td><td>홍길동</td><td>90</td><td>A</td></tr>\n",
              "\t<tr><td>102</td><td>이순신</td><td>80</td><td>B</td></tr>\n",
              "</tbody>\n",
              "</table>\n"
            ]
          },
          "metadata": {
            "tags": []
          }
        }
      ]
    },
    {
      "cell_type": "code",
      "metadata": {
        "id": "4Rpm-RUXetcZ"
      },
      "source": [
        "st_excel <- read_excel(path=\"studentexcel.xlsx\", sheet=\"Sheet1\")\n",
        "st_excel"
      ],
      "execution_count": null,
      "outputs": []
    },
    {
      "cell_type": "code",
      "metadata": {
        "id": "WoCSiK-6eyGr"
      },
      "source": [
        "write.csv(st_excel,\"st_excel.csv\", row.names = F, quote = F)"
      ],
      "execution_count": 18,
      "outputs": []
    },
    {
      "cell_type": "code",
      "metadata": {
        "id": "hSfnpFibfRDJ",
        "outputId": "42f07f7d-79b7-47f4-ebb2-522e7e000639",
        "colab": {
          "base_uri": "https://localhost:8080/",
          "height": 70
        }
      },
      "source": [
        "# write_xlsx() 함수\n",
        "install.packages(\"writexl\")\n",
        "library(writexl)"
      ],
      "execution_count": 19,
      "outputs": [
        {
          "output_type": "stream",
          "text": [
            "Installing package into ‘/usr/local/lib/R/site-library’\n",
            "(as ‘lib’ is unspecified)\n",
            "\n"
          ],
          "name": "stderr"
        }
      ]
    },
    {
      "cell_type": "code",
      "metadata": {
        "id": "i2WX6IYKfoZz"
      },
      "source": [
        "write_xlsx(x=st_excel, path=\"st_excel.xlsx\", col_names = TRUE)"
      ],
      "execution_count": 20,
      "outputs": []
    }
  ]
}