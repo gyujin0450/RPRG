{
  "nbformat": 4,
  "nbformat_minor": 0,
  "metadata": {
    "colab": {
      "name": "p78_List자료구조.ipynb",
      "provenance": [],
      "authorship_tag": "ABX9TyMf4mxioJ+4J3vsyo9XEu1h",
      "include_colab_link": true
    },
    "kernelspec": {
      "name": "ir",
      "display_name": "R"
    }
  },
  "cells": [
    {
      "cell_type": "markdown",
      "metadata": {
        "id": "view-in-github",
        "colab_type": "text"
      },
      "source": [
        "<a href=\"https://colab.research.google.com/github/gyujin0450/RPRG/blob/master/p078_List%EC%9E%90%EB%A3%8C%EA%B5%AC%EC%A1%B0.ipynb\" target=\"_parent\"><img src=\"https://colab.research.google.com/assets/colab-badge.svg\" alt=\"Open In Colab\"/></a>"
      ]
    },
    {
      "cell_type": "markdown",
      "metadata": {
        "id": "N7QbGgz9fl6w"
      },
      "source": [
        "ch02.5 List 자료구조"
      ]
    },
    {
      "cell_type": "code",
      "metadata": {
        "id": "7Zit1Babf7mN"
      },
      "source": [
        "# 리스트 : 성격이 다른 자료형(문자열, 숫자형,논리형 등)과 자료구조(벡터, 행렬, 리스트, 데이터프레임 등)를 객체로 생성\n",
        "# 하나의 메모리 영역에는 키, 값이 한 쌍으로 저장됨\n",
        "# C언어의 구조체, Python의 dict 자료 구조와 유사\n",
        "# key 를 통해서 value를 불러올 수 있는데, value에 해당되는 자료는 Vector, Matrix, Array, List, DataFrame 등 R 자료구조의 객체가 저장\n",
        "# 함수내에서 여러 값을 하나의 키로 묶어서 반환\n",
        "# 리스트 생성 함수 : list()\n",
        "# 리스트 자료 처리 함수 : unlist(), lapply(), sapply()"
      ],
      "execution_count": null,
      "outputs": []
    },
    {
      "cell_type": "code",
      "metadata": {
        "id": "0b_Ks75EhjDO",
        "outputId": "41a1db12-dfe1-419b-9bd7-db4d07a9ebfe",
        "colab": {
          "base_uri": "https://localhost:8080/",
          "height": 94
        }
      },
      "source": [
        "# key를 생략한 list 생성하기\n",
        "list <- list(\"lee\",\"이순신\",95)\n",
        "list"
      ],
      "execution_count": null,
      "outputs": [
        {
          "output_type": "display_data",
          "data": {
            "text/plain": [
              "[[1]]\n",
              "[1] \"lee\"\n",
              "\n",
              "[[2]]\n",
              "[1] \"이순신\"\n",
              "\n",
              "[[3]]\n",
              "[1] 95\n"
            ],
            "text/latex": "\\begin{enumerate}\n\\item 'lee'\n\\item '이순신'\n\\item 95\n\\end{enumerate}\n",
            "text/markdown": "1. 'lee'\n2. '이순신'\n3. 95\n\n\n",
            "text/html": [
              "<ol>\n",
              "\t<li>'lee'</li>\n",
              "\t<li>'이순신'</li>\n",
              "\t<li>95</li>\n",
              "</ol>\n"
            ]
          },
          "metadata": {
            "tags": []
          }
        }
      ]
    },
    {
      "cell_type": "code",
      "metadata": {
        "id": "dY6pESsch3UI",
        "outputId": "61ecf3d3-950c-404d-fe3a-6ab6755a5d5b",
        "colab": {
          "base_uri": "https://localhost:8080/",
          "height": 33
        }
      },
      "source": [
        "# 리스트를 벡터 구조로 변견하기\n",
        "unlist <- unlist(list)\n",
        "unlist"
      ],
      "execution_count": null,
      "outputs": [
        {
          "output_type": "display_data",
          "data": {
            "text/plain": [
              "[1] \"lee\"    \"이순신\" \"95\"    "
            ],
            "text/latex": "\\begin{enumerate*}\n\\item 'lee'\n\\item '이순신'\n\\item '95'\n\\end{enumerate*}\n",
            "text/markdown": "1. 'lee'\n2. '이순신'\n3. '95'\n\n\n",
            "text/html": [
              "<style>\n",
              ".list-inline {list-style: none; margin:0; padding: 0}\n",
              ".list-inline>li {display: inline-block}\n",
              ".list-inline>li:not(:last-child)::after {content: \"\\00b7\"; padding: 0 .5ex}\n",
              "</style>\n",
              "<ol class=list-inline><li>'lee'</li><li>'이순신'</li><li>'95'</li></ol>\n"
            ]
          },
          "metadata": {
            "tags": []
          }
        }
      ]
    },
    {
      "cell_type": "code",
      "metadata": {
        "id": "D5l3gqUyiKVF",
        "outputId": "d9f2ba06-c83f-4f93-ea03-73ea27c27561",
        "colab": {
          "base_uri": "https://localhost:8080/",
          "height": 77
        }
      },
      "source": [
        "# 1개 이상의 값을 갖는 리스트 객체 생성하기\n",
        "num <- list(c(1:5),c(6,10))\n",
        "num"
      ],
      "execution_count": null,
      "outputs": [
        {
          "output_type": "display_data",
          "data": {
            "text/plain": [
              "[[1]]\n",
              "[1] 1 2 3 4 5\n",
              "\n",
              "[[2]]\n",
              "[1]  6 10\n"
            ],
            "text/latex": "\\begin{enumerate}\n\\item \\begin{enumerate*}\n\\item 1\n\\item 2\n\\item 3\n\\item 4\n\\item 5\n\\end{enumerate*}\n\n\\item \\begin{enumerate*}\n\\item 6\n\\item 10\n\\end{enumerate*}\n\n\\end{enumerate}\n",
            "text/markdown": "1. 1. 1\n2. 2\n3. 3\n4. 4\n5. 5\n\n\n\n2. 1. 6\n2. 10\n\n\n\n\n\n",
            "text/html": [
              "<ol>\n",
              "\t<li><style>\n",
              ".list-inline {list-style: none; margin:0; padding: 0}\n",
              ".list-inline>li {display: inline-block}\n",
              ".list-inline>li:not(:last-child)::after {content: \"\\00b7\"; padding: 0 .5ex}\n",
              "</style>\n",
              "<ol class=list-inline><li>1</li><li>2</li><li>3</li><li>4</li><li>5</li></ol>\n",
              "</li>\n",
              "\t<li><style>\n",
              ".list-inline {list-style: none; margin:0; padding: 0}\n",
              ".list-inline>li {display: inline-block}\n",
              ".list-inline>li:not(:last-child)::after {content: \"\\00b7\"; padding: 0 .5ex}\n",
              "</style>\n",
              "<ol class=list-inline><li>6</li><li>10</li></ol>\n",
              "</li>\n",
              "</ol>\n"
            ]
          },
          "metadata": {
            "tags": []
          }
        }
      ]
    },
    {
      "cell_type": "code",
      "metadata": {
        "id": "KJ_IUMbHimUF",
        "outputId": "56d9b35e-a060-4d64-feeb-a67343b2338f",
        "colab": {
          "base_uri": "https://localhost:8080/",
          "height": 211
        }
      },
      "source": [
        "# key와 value 형식으로 리스트 객체 생성하기\n",
        "# list( key= value, ...)\n",
        "member <- list(\n",
        "  name = c(\"홍길동\",\"유관순\"),\n",
        "  age = c(35,25),\n",
        "  address = c(\"한양\",\"충남\"),\n",
        "  gender = c(\"남\",\"여\"),\n",
        "  htype = c(\"아파트\",\"오피스텔\")\n",
        ")\n",
        "member"
      ],
      "execution_count": null,
      "outputs": [
        {
          "output_type": "display_data",
          "data": {
            "text/plain": [
              "$name\n",
              "[1] \"홍길동\" \"유관순\"\n",
              "\n",
              "$age\n",
              "[1] 35 25\n",
              "\n",
              "$address\n",
              "[1] \"한양\" \"충남\"\n",
              "\n",
              "$gender\n",
              "[1] \"남\" \"여\"\n",
              "\n",
              "$htype\n",
              "[1] \"아파트\"   \"오피스텔\"\n"
            ],
            "text/latex": "\\begin{description}\n\\item[\\$name] \\begin{enumerate*}\n\\item '홍길동'\n\\item '유관순'\n\\end{enumerate*}\n\n\\item[\\$age] \\begin{enumerate*}\n\\item 35\n\\item 25\n\\end{enumerate*}\n\n\\item[\\$address] \\begin{enumerate*}\n\\item '한양'\n\\item '충남'\n\\end{enumerate*}\n\n\\item[\\$gender] \\begin{enumerate*}\n\\item '남'\n\\item '여'\n\\end{enumerate*}\n\n\\item[\\$htype] \\begin{enumerate*}\n\\item '아파트'\n\\item '오피스텔'\n\\end{enumerate*}\n\n\\end{description}\n",
            "text/markdown": "$name\n:   1. '홍길동'\n2. '유관순'\n\n\n\n$age\n:   1. 35\n2. 25\n\n\n\n$address\n:   1. '한양'\n2. '충남'\n\n\n\n$gender\n:   1. '남'\n2. '여'\n\n\n\n$htype\n:   1. '아파트'\n2. '오피스텔'\n\n\n\n\n\n",
            "text/html": [
              "<dl>\n",
              "\t<dt>$name</dt>\n",
              "\t\t<dd><style>\n",
              ".list-inline {list-style: none; margin:0; padding: 0}\n",
              ".list-inline>li {display: inline-block}\n",
              ".list-inline>li:not(:last-child)::after {content: \"\\00b7\"; padding: 0 .5ex}\n",
              "</style>\n",
              "<ol class=list-inline><li>'홍길동'</li><li>'유관순'</li></ol>\n",
              "</dd>\n",
              "\t<dt>$age</dt>\n",
              "\t\t<dd><style>\n",
              ".list-inline {list-style: none; margin:0; padding: 0}\n",
              ".list-inline>li {display: inline-block}\n",
              ".list-inline>li:not(:last-child)::after {content: \"\\00b7\"; padding: 0 .5ex}\n",
              "</style>\n",
              "<ol class=list-inline><li>35</li><li>25</li></ol>\n",
              "</dd>\n",
              "\t<dt>$address</dt>\n",
              "\t\t<dd><style>\n",
              ".list-inline {list-style: none; margin:0; padding: 0}\n",
              ".list-inline>li {display: inline-block}\n",
              ".list-inline>li:not(:last-child)::after {content: \"\\00b7\"; padding: 0 .5ex}\n",
              "</style>\n",
              "<ol class=list-inline><li>'한양'</li><li>'충남'</li></ol>\n",
              "</dd>\n",
              "\t<dt>$gender</dt>\n",
              "\t\t<dd><style>\n",
              ".list-inline {list-style: none; margin:0; padding: 0}\n",
              ".list-inline>li {display: inline-block}\n",
              ".list-inline>li:not(:last-child)::after {content: \"\\00b7\"; padding: 0 .5ex}\n",
              "</style>\n",
              "<ol class=list-inline><li>'남'</li><li>'여'</li></ol>\n",
              "</dd>\n",
              "\t<dt>$htype</dt>\n",
              "\t\t<dd><style>\n",
              ".list-inline {list-style: none; margin:0; padding: 0}\n",
              ".list-inline>li {display: inline-block}\n",
              ".list-inline>li:not(:last-child)::after {content: \"\\00b7\"; padding: 0 .5ex}\n",
              "</style>\n",
              "<ol class=list-inline><li>'아파트'</li><li>'오피스텔'</li></ol>\n",
              "</dd>\n",
              "</dl>\n"
            ]
          },
          "metadata": {
            "tags": []
          }
        }
      ]
    },
    {
      "cell_type": "code",
      "metadata": {
        "id": "4uhOc9ijjdMV",
        "outputId": "7f856364-23f0-47c6-d676-e0aa24d53809",
        "colab": {
          "base_uri": "https://localhost:8080/",
          "height": 277
        }
      },
      "source": [
        "# key를 이용하여 value에 접근하기\n",
        "member$age[1] <- 45  # age key의 첫번째 원소 수정\n",
        "member$id <- c(\"hong\",\"ryu\")  # id key 추가\n",
        "member$pwd <- \"1234\" # pwd 키 추가\n",
        "member"
      ],
      "execution_count": null,
      "outputs": [
        {
          "output_type": "display_data",
          "data": {
            "text/plain": [
              "$name\n",
              "[1] \"홍길동\" \"유관순\"\n",
              "\n",
              "$age\n",
              "[1] 45 25\n",
              "\n",
              "$address\n",
              "[1] \"한양\" \"충남\"\n",
              "\n",
              "$gender\n",
              "[1] \"남\" \"여\"\n",
              "\n",
              "$htype\n",
              "[1] \"아파트\"   \"오피스텔\"\n",
              "\n",
              "$id\n",
              "[1] \"hong\" \"ryu\" \n",
              "\n",
              "$pwd\n",
              "[1] \"1234\"\n"
            ],
            "text/latex": "\\begin{description}\n\\item[\\$name] \\begin{enumerate*}\n\\item '홍길동'\n\\item '유관순'\n\\end{enumerate*}\n\n\\item[\\$age] \\begin{enumerate*}\n\\item 45\n\\item 25\n\\end{enumerate*}\n\n\\item[\\$address] \\begin{enumerate*}\n\\item '한양'\n\\item '충남'\n\\end{enumerate*}\n\n\\item[\\$gender] \\begin{enumerate*}\n\\item '남'\n\\item '여'\n\\end{enumerate*}\n\n\\item[\\$htype] \\begin{enumerate*}\n\\item '아파트'\n\\item '오피스텔'\n\\end{enumerate*}\n\n\\item[\\$id] \\begin{enumerate*}\n\\item 'hong'\n\\item 'ryu'\n\\end{enumerate*}\n\n\\item[\\$pwd] '1234'\n\\end{description}\n",
            "text/markdown": "$name\n:   1. '홍길동'\n2. '유관순'\n\n\n\n$age\n:   1. 45\n2. 25\n\n\n\n$address\n:   1. '한양'\n2. '충남'\n\n\n\n$gender\n:   1. '남'\n2. '여'\n\n\n\n$htype\n:   1. '아파트'\n2. '오피스텔'\n\n\n\n$id\n:   1. 'hong'\n2. 'ryu'\n\n\n\n$pwd\n:   '1234'\n\n\n",
            "text/html": [
              "<dl>\n",
              "\t<dt>$name</dt>\n",
              "\t\t<dd><style>\n",
              ".list-inline {list-style: none; margin:0; padding: 0}\n",
              ".list-inline>li {display: inline-block}\n",
              ".list-inline>li:not(:last-child)::after {content: \"\\00b7\"; padding: 0 .5ex}\n",
              "</style>\n",
              "<ol class=list-inline><li>'홍길동'</li><li>'유관순'</li></ol>\n",
              "</dd>\n",
              "\t<dt>$age</dt>\n",
              "\t\t<dd><style>\n",
              ".list-inline {list-style: none; margin:0; padding: 0}\n",
              ".list-inline>li {display: inline-block}\n",
              ".list-inline>li:not(:last-child)::after {content: \"\\00b7\"; padding: 0 .5ex}\n",
              "</style>\n",
              "<ol class=list-inline><li>45</li><li>25</li></ol>\n",
              "</dd>\n",
              "\t<dt>$address</dt>\n",
              "\t\t<dd><style>\n",
              ".list-inline {list-style: none; margin:0; padding: 0}\n",
              ".list-inline>li {display: inline-block}\n",
              ".list-inline>li:not(:last-child)::after {content: \"\\00b7\"; padding: 0 .5ex}\n",
              "</style>\n",
              "<ol class=list-inline><li>'한양'</li><li>'충남'</li></ol>\n",
              "</dd>\n",
              "\t<dt>$gender</dt>\n",
              "\t\t<dd><style>\n",
              ".list-inline {list-style: none; margin:0; padding: 0}\n",
              ".list-inline>li {display: inline-block}\n",
              ".list-inline>li:not(:last-child)::after {content: \"\\00b7\"; padding: 0 .5ex}\n",
              "</style>\n",
              "<ol class=list-inline><li>'남'</li><li>'여'</li></ol>\n",
              "</dd>\n",
              "\t<dt>$htype</dt>\n",
              "\t\t<dd><style>\n",
              ".list-inline {list-style: none; margin:0; padding: 0}\n",
              ".list-inline>li {display: inline-block}\n",
              ".list-inline>li:not(:last-child)::after {content: \"\\00b7\"; padding: 0 .5ex}\n",
              "</style>\n",
              "<ol class=list-inline><li>'아파트'</li><li>'오피스텔'</li></ol>\n",
              "</dd>\n",
              "\t<dt>$id</dt>\n",
              "\t\t<dd><style>\n",
              ".list-inline {list-style: none; margin:0; padding: 0}\n",
              ".list-inline>li {display: inline-block}\n",
              ".list-inline>li:not(:last-child)::after {content: \"\\00b7\"; padding: 0 .5ex}\n",
              "</style>\n",
              "<ol class=list-inline><li>'hong'</li><li>'ryu'</li></ol>\n",
              "</dd>\n",
              "\t<dt>$pwd</dt>\n",
              "\t\t<dd>'1234'</dd>\n",
              "</dl>\n"
            ]
          },
          "metadata": {
            "tags": []
          }
        }
      ]
    },
    {
      "cell_type": "code",
      "metadata": {
        "id": "JNJwuabhlBIz",
        "outputId": "0e481c9d-db67-47ae-bee9-c55e8eefb016",
        "colab": {
          "base_uri": "https://localhost:8080/",
          "height": 33
        }
      },
      "source": [
        "length(member)"
      ],
      "execution_count": null,
      "outputs": [
        {
          "output_type": "display_data",
          "data": {
            "text/plain": [
              "[1] 7"
            ],
            "text/latex": "7",
            "text/markdown": "7",
            "text/html": [
              "7"
            ]
          },
          "metadata": {
            "tags": []
          }
        }
      ]
    },
    {
      "cell_type": "code",
      "metadata": {
        "id": "TP8In-tylRF6",
        "outputId": "7f2910c9-5f5b-4f41-c40b-773e3f8a4d0a",
        "colab": {
          "base_uri": "https://localhost:8080/",
          "height": 50
        }
      },
      "source": [
        "mode(member);class(member)"
      ],
      "execution_count": null,
      "outputs": [
        {
          "output_type": "display_data",
          "data": {
            "text/plain": [
              "[1] \"list\""
            ],
            "text/latex": "'list'",
            "text/markdown": "'list'",
            "text/html": [
              "'list'"
            ]
          },
          "metadata": {
            "tags": []
          }
        },
        {
          "output_type": "display_data",
          "data": {
            "text/plain": [
              "[1] \"list\""
            ],
            "text/latex": "'list'",
            "text/markdown": "'list'",
            "text/html": [
              "'list'"
            ]
          },
          "metadata": {
            "tags": []
          }
        }
      ]
    },
    {
      "cell_type": "code",
      "metadata": {
        "id": "IPtiaAaLlX82",
        "outputId": "ec042659-5ed3-4d9a-9b16-1306e5c8001a",
        "colab": {
          "base_uri": "https://localhost:8080/",
          "height": 77
        }
      },
      "source": [
        "# 리스트 객체의 자료 처리 함수\n",
        "a <- list(c(1:5))  # 리스트 객체 생성\n",
        "b <- list(c(6:10)) # 리스트 객체 생성\n",
        "lapply(c(a,b), max)"
      ],
      "execution_count": null,
      "outputs": [
        {
          "output_type": "display_data",
          "data": {
            "text/plain": [
              "[[1]]\n",
              "[1] 5\n",
              "\n",
              "[[2]]\n",
              "[1] 10\n"
            ],
            "text/latex": "\\begin{enumerate}\n\\item 5\n\\item 10\n\\end{enumerate}\n",
            "text/markdown": "1. 5\n2. 10\n\n\n",
            "text/html": [
              "<ol>\n",
              "\t<li>5</li>\n",
              "\t<li>10</li>\n",
              "</ol>\n"
            ]
          },
          "metadata": {
            "tags": []
          }
        }
      ]
    },
    {
      "cell_type": "code",
      "metadata": {
        "id": "XczMp_i2my7I",
        "outputId": "144a209b-a25d-4c53-ab9d-1208feea1d22",
        "colab": {
          "base_uri": "https://localhost:8080/",
          "height": 33
        }
      },
      "source": [
        "# 리스트 형식을 벡터 형식으로 반환하기\n",
        "sapply(c(a,b), max)"
      ],
      "execution_count": null,
      "outputs": [
        {
          "output_type": "display_data",
          "data": {
            "text/plain": [
              "[1]  5 10"
            ],
            "text/latex": "\\begin{enumerate*}\n\\item 5\n\\item 10\n\\end{enumerate*}\n",
            "text/markdown": "1. 5\n2. 10\n\n\n",
            "text/html": [
              "<style>\n",
              ".list-inline {list-style: none; margin:0; padding: 0}\n",
              ".list-inline>li {display: inline-block}\n",
              ".list-inline>li:not(:last-child)::after {content: \"\\00b7\"; padding: 0 .5ex}\n",
              "</style>\n",
              "<ol class=list-inline><li>5</li><li>10</li></ol>\n"
            ]
          },
          "metadata": {
            "tags": []
          }
        }
      ]
    },
    {
      "cell_type": "code",
      "metadata": {
        "id": "YNM2Ywg1nJbV",
        "outputId": "857ec4f5-100f-4f9a-d90a-c69f2e106590",
        "colab": {
          "base_uri": "https://localhost:8080/",
          "height": 506
        }
      },
      "source": [
        "# 다차원 리스트 객체 생성하기\n",
        "multi_list <- list(\n",
        "  c1 = list(1,2,3),\n",
        "  c2 = list(10,20,30),\n",
        "  c3 = list(100,200,300)\n",
        ")\n",
        "multi_list\n",
        "multi_list$c1;multi_list$c2;multi_list$c3"
      ],
      "execution_count": null,
      "outputs": [
        {
          "output_type": "display_data",
          "data": {
            "text/plain": [
              "$c1\n",
              "$c1[[1]]\n",
              "[1] 1\n",
              "\n",
              "$c1[[2]]\n",
              "[1] 2\n",
              "\n",
              "$c1[[3]]\n",
              "[1] 3\n",
              "\n",
              "\n",
              "$c2\n",
              "$c2[[1]]\n",
              "[1] 10\n",
              "\n",
              "$c2[[2]]\n",
              "[1] 20\n",
              "\n",
              "$c2[[3]]\n",
              "[1] 30\n",
              "\n",
              "\n",
              "$c3\n",
              "$c3[[1]]\n",
              "[1] 100\n",
              "\n",
              "$c3[[2]]\n",
              "[1] 200\n",
              "\n",
              "$c3[[3]]\n",
              "[1] 300\n",
              "\n"
            ],
            "text/latex": "\\begin{description}\n\\item[\\$c1] \\begin{enumerate}\n\\item 1\n\\item 2\n\\item 3\n\\end{enumerate}\n\n\\item[\\$c2] \\begin{enumerate}\n\\item 10\n\\item 20\n\\item 30\n\\end{enumerate}\n\n\\item[\\$c3] \\begin{enumerate}\n\\item 100\n\\item 200\n\\item 300\n\\end{enumerate}\n\n\\end{description}\n",
            "text/markdown": "$c1\n:   1. 1\n2. 2\n3. 3\n\n\n\n$c2\n:   1. 10\n2. 20\n3. 30\n\n\n\n$c3\n:   1. 100\n2. 200\n3. 300\n\n\n\n\n\n",
            "text/html": [
              "<dl>\n",
              "\t<dt>$c1</dt>\n",
              "\t\t<dd><ol>\n",
              "\t<li>1</li>\n",
              "\t<li>2</li>\n",
              "\t<li>3</li>\n",
              "</ol>\n",
              "</dd>\n",
              "\t<dt>$c2</dt>\n",
              "\t\t<dd><ol>\n",
              "\t<li>10</li>\n",
              "\t<li>20</li>\n",
              "\t<li>30</li>\n",
              "</ol>\n",
              "</dd>\n",
              "\t<dt>$c3</dt>\n",
              "\t\t<dd><ol>\n",
              "\t<li>100</li>\n",
              "\t<li>200</li>\n",
              "\t<li>300</li>\n",
              "</ol>\n",
              "</dd>\n",
              "</dl>\n"
            ]
          },
          "metadata": {
            "tags": []
          }
        },
        {
          "output_type": "display_data",
          "data": {
            "text/plain": [
              "[[1]]\n",
              "[1] 1\n",
              "\n",
              "[[2]]\n",
              "[1] 2\n",
              "\n",
              "[[3]]\n",
              "[1] 3\n"
            ],
            "text/latex": "\\begin{enumerate}\n\\item 1\n\\item 2\n\\item 3\n\\end{enumerate}\n",
            "text/markdown": "1. 1\n2. 2\n3. 3\n\n\n",
            "text/html": [
              "<ol>\n",
              "\t<li>1</li>\n",
              "\t<li>2</li>\n",
              "\t<li>3</li>\n",
              "</ol>\n"
            ]
          },
          "metadata": {
            "tags": []
          }
        },
        {
          "output_type": "display_data",
          "data": {
            "text/plain": [
              "[[1]]\n",
              "[1] 10\n",
              "\n",
              "[[2]]\n",
              "[1] 20\n",
              "\n",
              "[[3]]\n",
              "[1] 30\n"
            ],
            "text/latex": "\\begin{enumerate}\n\\item 10\n\\item 20\n\\item 30\n\\end{enumerate}\n",
            "text/markdown": "1. 10\n2. 20\n3. 30\n\n\n",
            "text/html": [
              "<ol>\n",
              "\t<li>10</li>\n",
              "\t<li>20</li>\n",
              "\t<li>30</li>\n",
              "</ol>\n"
            ]
          },
          "metadata": {
            "tags": []
          }
        },
        {
          "output_type": "display_data",
          "data": {
            "text/plain": [
              "[[1]]\n",
              "[1] 100\n",
              "\n",
              "[[2]]\n",
              "[1] 200\n",
              "\n",
              "[[3]]\n",
              "[1] 300\n"
            ],
            "text/latex": "\\begin{enumerate}\n\\item 100\n\\item 200\n\\item 300\n\\end{enumerate}\n",
            "text/markdown": "1. 100\n2. 200\n3. 300\n\n\n",
            "text/html": [
              "<ol>\n",
              "\t<li>100</li>\n",
              "\t<li>200</li>\n",
              "\t<li>300</li>\n",
              "</ol>\n"
            ]
          },
          "metadata": {
            "tags": []
          }
        }
      ]
    },
    {
      "cell_type": "code",
      "metadata": {
        "id": "qqRXBQEQoE1Q",
        "outputId": "29ab59e0-4607-4dd7-9cee-0cd08988a7dc",
        "colab": {
          "base_uri": "https://localhost:8080/",
          "height": 123
        }
      },
      "source": [
        "# 다차원 리스트를 열 단위로 바인딩하기\n",
        "# cbind : 컬럼 묶음\n",
        "do.call(cbind, multi_list)"
      ],
      "execution_count": null,
      "outputs": [
        {
          "output_type": "display_data",
          "data": {
            "text/plain": [
              "     c1 c2 c3 \n",
              "[1,] 1  10 100\n",
              "[2,] 2  20 200\n",
              "[3,] 3  30 300"
            ],
            "text/latex": "A matrix: 3 × 3\n\\begin{tabular}{lll}\n c1 & c2 & c3\\\\\n <dbl> & <dbl> & <dbl> & <dbl> & <dbl> & <dbl> & <dbl> & <dbl> & <dbl>\\\\\n\\hline\n\t 1 & 10 & 100\\\\\n\t 2 & 20 & 200\\\\\n\t 3 & 30 & 300\\\\\n\\end{tabular}\n",
            "text/markdown": "\nA matrix: 3 × 3\n\n| c1 &lt;dbl&gt; | c2 &lt;dbl&gt; | c3 &lt;dbl&gt; | c1 &lt;dbl&gt; | c2 &lt;dbl&gt; | c3 &lt;dbl&gt; | c1 &lt;dbl&gt; | c2 &lt;dbl&gt; | c3 &lt;dbl&gt; |\n|---|---|---|\n| 1 | 10 | 100 |\n| 2 | 20 | 200 |\n| 3 | 30 | 300 |\n\n",
            "text/html": [
              "<table>\n",
              "<caption>A matrix: 3 × 3</caption>\n",
              "<thead>\n",
              "\t<tr><th scope=col>c1</th><th scope=col>c2</th><th scope=col>c3</th></tr>\n",
              "\t<tr><th scope=col>&lt;dbl&gt;</th><th scope=col>&lt;dbl&gt;</th><th scope=col>&lt;dbl&gt;</th><th scope=col>&lt;dbl&gt;</th><th scope=col>&lt;dbl&gt;</th><th scope=col>&lt;dbl&gt;</th><th scope=col>&lt;dbl&gt;</th><th scope=col>&lt;dbl&gt;</th><th scope=col>&lt;dbl&gt;</th></tr>\n",
              "</thead>\n",
              "<tbody>\n",
              "\t<tr><td>1</td><td>10</td><td>100</td></tr>\n",
              "\t<tr><td>2</td><td>20</td><td>200</td></tr>\n",
              "\t<tr><td>3</td><td>30</td><td>300</td></tr>\n",
              "</tbody>\n",
              "</table>\n"
            ]
          },
          "metadata": {
            "tags": []
          }
        }
      ]
    },
    {
      "cell_type": "code",
      "metadata": {
        "id": "SSb8wxUApxOo",
        "outputId": "aa98eabb-4948-42b5-efa1-1129a2f9782c",
        "colab": {
          "base_uri": "https://localhost:8080/",
          "height": 87
        }
      },
      "source": [
        "do.call(rbind, multi_list)"
      ],
      "execution_count": null,
      "outputs": [
        {
          "output_type": "display_data",
          "data": {
            "text/plain": [
              "   [,1] [,2] [,3]\n",
              "c1 1    2    3   \n",
              "c2 10   20   30  \n",
              "c3 100  200  300 "
            ],
            "text/latex": "A matrix: 3 × 3\n\\begin{tabular}{r|lll}\n\tc1 & 1 & 2 & 3\\\\\n\tc2 & 10 & 20 & 30\\\\\n\tc3 & 100 & 200 & 300\\\\\n\\end{tabular}\n",
            "text/markdown": "\nA matrix: 3 × 3\n\n| c1 | 1 | 2 | 3 |\n| c2 | 10 | 20 | 30 |\n| c3 | 100 | 200 | 300 |\n\n",
            "text/html": [
              "<table>\n",
              "<caption>A matrix: 3 × 3</caption>\n",
              "<tbody>\n",
              "\t<tr><th scope=row>c1</th><td>1</td><td>2</td><td>3</td></tr>\n",
              "\t<tr><th scope=row>c2</th><td>10</td><td>20</td><td>30</td></tr>\n",
              "\t<tr><th scope=row>c3</th><td>100</td><td>200</td><td>300</td></tr>\n",
              "</tbody>\n",
              "</table>\n"
            ]
          },
          "metadata": {
            "tags": []
          }
        }
      ]
    },
    {
      "cell_type": "code",
      "metadata": {
        "id": "UILg1K6gob49",
        "outputId": "dc6b3768-d88f-4cf4-aeac-88bf3fbb46a3",
        "colab": {
          "base_uri": "https://localhost:8080/",
          "height": 33
        }
      },
      "source": [
        "class(do.call(cbind, multi_list)) # R Studio에서 결과가 다소 다름"
      ],
      "execution_count": null,
      "outputs": [
        {
          "output_type": "display_data",
          "data": {
            "text/plain": [
              "[1] \"matrix\""
            ],
            "text/latex": "'matrix'",
            "text/markdown": "'matrix'",
            "text/html": [
              "'matrix'"
            ]
          },
          "metadata": {
            "tags": []
          }
        }
      ]
    }
  ]
}