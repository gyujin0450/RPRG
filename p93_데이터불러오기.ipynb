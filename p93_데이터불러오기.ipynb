{
  "nbformat": 4,
  "nbformat_minor": 0,
  "metadata": {
    "colab": {
      "name": "p93_데이터불러오기.ipynb",
      "provenance": [],
      "authorship_tag": "ABX9TyMknGQU3RcFtS+lAv+VI9tu",
      "include_colab_link": true
    },
    "kernelspec": {
      "name": "ir",
      "display_name": "R"
    }
  },
  "cells": [
    {
      "cell_type": "markdown",
      "metadata": {
        "id": "view-in-github",
        "colab_type": "text"
      },
      "source": [
        "<a href=\"https://colab.research.google.com/github/gyujin0450/RPRG/blob/master/p93_%EB%8D%B0%EC%9D%B4%ED%84%B0%EB%B6%88%EB%9F%AC%EC%98%A4%EA%B8%B0.ipynb\" target=\"_parent\"><img src=\"https://colab.research.google.com/assets/colab-badge.svg\" alt=\"Open In Colab\"/></a>"
      ]
    },
    {
      "cell_type": "markdown",
      "metadata": {
        "id": "fY9atOAc8EG0"
      },
      "source": [
        "# ch03.1 데이터 불러오기"
      ]
    },
    {
      "cell_type": "code",
      "metadata": {
        "id": "CdhGbfmT8fuy"
      },
      "source": [
        "# scan() 함수 이용\n",
        "# 키보드로 부터 숫자 입력하기, R Studio 에서 실행 필요\n",
        "num <- scan() "
      ],
      "execution_count": 1,
      "outputs": []
    },
    {
      "cell_type": "code",
      "metadata": {
        "id": "TweCEQcB9PsM"
      },
      "source": [
        "# 키보드로 문자 입력하기, R Studio 에서 실행 필요\n",
        "name <- scan(what = character())"
      ],
      "execution_count": null,
      "outputs": []
    },
    {
      "cell_type": "code",
      "metadata": {
        "id": "ckuJmHTQ9rJR"
      },
      "source": [
        "# 편집기를 이용한 데이터프레임 만들기, R Studio 에서 실행 필요\n",
        "df = data.frame()\n",
        "df = edit(df)\n",
        "df"
      ],
      "execution_count": null,
      "outputs": []
    },
    {
      "cell_type": "code",
      "metadata": {
        "id": "mrwy5sfu_Wzk"
      },
      "source": [
        ""
      ],
      "execution_count": null,
      "outputs": []
    }
  ]
}