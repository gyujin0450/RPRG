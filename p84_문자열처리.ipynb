{
  "nbformat": 4,
  "nbformat_minor": 0,
  "metadata": {
    "colab": {
      "name": "p84_문자열처리.ipynb",
      "provenance": [],
      "authorship_tag": "ABX9TyNHhbPTb1kzByTLyH0dpHQy",
      "include_colab_link": true
    },
    "kernelspec": {
      "name": "ir",
      "display_name": "R"
    }
  },
  "cells": [
    {
      "cell_type": "markdown",
      "metadata": {
        "id": "view-in-github",
        "colab_type": "text"
      },
      "source": [
        "<a href=\"https://colab.research.google.com/github/gyujin0450/RPRG/blob/master/p84_%EB%AC%B8%EC%9E%90%EC%97%B4%EC%B2%98%EB%A6%AC.ipynb\" target=\"_parent\"><img src=\"https://colab.research.google.com/assets/colab-badge.svg\" alt=\"Open In Colab\"/></a>"
      ]
    },
    {
      "cell_type": "markdown",
      "metadata": {
        "id": "7wIvZZ9Gq4qW"
      },
      "source": [
        "# ch2.6 문자열 처리"
      ]
    },
    {
      "cell_type": "code",
      "metadata": {
        "id": "BZX8lT6nrEFj"
      },
      "source": [
        "# 텍스트 자료나 SNS에서 가공 처리된 빅데이터를 처리하기 위해서는 \n",
        "# 필요한 문자열을 적절하게 자르고, 교체하고, 추출하는 작업이 빈번하게 발생"
      ],
      "execution_count": null,
      "outputs": []
    },
    {
      "cell_type": "code",
      "metadata": {
        "id": "wIsFNerdrnEs",
        "outputId": "ba3dfbd4-72d2-451e-8d3e-627b2214584c",
        "colab": {
          "base_uri": "https://localhost:8080/",
          "height": 70
        }
      },
      "source": [
        "# 문자열 추출하기\n",
        "install.packages(\"stringr\")\n",
        "library(stringr)"
      ],
      "execution_count": 1,
      "outputs": [
        {
          "output_type": "stream",
          "text": [
            "Installing package into ‘/usr/local/lib/R/site-library’\n",
            "(as ‘lib’ is unspecified)\n",
            "\n"
          ],
          "name": "stderr"
        }
      ]
    },
    {
      "cell_type": "code",
      "metadata": {
        "id": "GXtlUlBUr8x_",
        "outputId": "671e1164-5875-4959-e450-2794d8b312da",
        "colab": {
          "base_uri": "https://localhost:8080/",
          "height": 33
        }
      },
      "source": [
        "# 정규표현식(숫자[1-9] 2개가 연속되는 경우)과 일치하는 가장 처음에 발견된 문자열 추출\n",
        "str_extract(\"홍길동35이순신45유관순25\",\"[1-9]{2}\") "
      ],
      "execution_count": 2,
      "outputs": [
        {
          "output_type": "display_data",
          "data": {
            "text/plain": [
              "[1] \"35\""
            ],
            "text/latex": "'35'",
            "text/markdown": "'35'",
            "text/html": [
              "'35'"
            ]
          },
          "metadata": {
            "tags": []
          }
        }
      ]
    },
    {
      "cell_type": "code",
      "metadata": {
        "id": "M4C6lJDqsZ4-",
        "outputId": "f4664a0c-a2f7-45ee-dc2c-2f0466f1fe4d",
        "colab": {
          "base_uri": "https://localhost:8080/",
          "height": 61
        }
      },
      "source": [
        "# 정규표현식(숫자[1-9] 2개가 연속되는 경우)과 일치하는 문자열 전체 추출\n",
        "str_extract_all(\"홍길동35이순신45유관순25\",\"[1-9]{2}\")"
      ],
      "execution_count": 3,
      "outputs": [
        {
          "output_type": "display_data",
          "data": {
            "text/plain": [
              "[[1]]\n",
              "[1] \"35\" \"45\" \"25\"\n"
            ],
            "text/latex": "\\begin{enumerate}\n\\item \\begin{enumerate*}\n\\item '35'\n\\item '45'\n\\item '25'\n\\end{enumerate*}\n\n\\end{enumerate}\n",
            "text/markdown": "1. 1. '35'\n2. '45'\n3. '25'\n\n\n\n\n\n",
            "text/html": [
              "<ol>\n",
              "\t<li><style>\n",
              ".list-inline {list-style: none; margin:0; padding: 0}\n",
              ".list-inline>li {display: inline-block}\n",
              ".list-inline>li:not(:last-child)::after {content: \"\\00b7\"; padding: 0 .5ex}\n",
              "</style>\n",
              "<ol class=list-inline><li>'35'</li><li>'45'</li><li>'25'</li></ol>\n",
              "</li>\n",
              "</ol>\n"
            ]
          },
          "metadata": {
            "tags": []
          }
        }
      ]
    },
    {
      "cell_type": "code",
      "metadata": {
        "id": "0hL5F6DZtUIM"
      },
      "source": [
        ""
      ],
      "execution_count": null,
      "outputs": []
    }
  ]
}