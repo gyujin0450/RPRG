{
  "nbformat": 4,
  "nbformat_minor": 0,
  "metadata": {
    "colab": {
      "name": "p39_변수와자료형.ipynb",
      "provenance": [],
      "collapsed_sections": [],
      "authorship_tag": "ABX9TyNx1JLEVcY+xJ2BuMGe7quI",
      "include_colab_link": true
    },
    "kernelspec": {
      "name": "ir",
      "display_name": "R"
    }
  },
  "cells": [
    {
      "cell_type": "markdown",
      "metadata": {
        "id": "view-in-github",
        "colab_type": "text"
      },
      "source": [
        "<a href=\"https://colab.research.google.com/github/gyujin0450/RPRG/blob/master/p39_%EB%B3%80%EC%88%98%EC%99%80%EC%9E%90%EB%A3%8C%ED%98%95.ipynb\" target=\"_parent\"><img src=\"https://colab.research.google.com/assets/colab-badge.svg\" alt=\"Open In Colab\"/></a>"
      ]
    },
    {
      "cell_type": "markdown",
      "metadata": {
        "id": "Gr8kkYfRNMEb",
        "colab_type": "text"
      },
      "source": [
        "# 변수와 자료형"
      ]
    },
    {
      "cell_type": "code",
      "metadata": {
        "id": "Mg6s-fPkNv5x",
        "colab_type": "code",
        "colab": {
          "base_uri": "https://localhost:8080/",
          "height": 53
        },
        "outputId": "8acd4130-53e5-4b7c-f7ec-a969989e4cdb"
      },
      "source": [
        "# R의 모든 변수는 객체 형태로 생성된다.(p40)\n",
        "goods.code <- 'a001'\n",
        "goods.name <- '냉장고'\n",
        "goods.price <- 850000\n",
        "goods.des <- '최고사향, 동급 최고 품질'\n",
        "print(goods.code)\n",
        "print(goods.price)"
      ],
      "execution_count": null,
      "outputs": [
        {
          "output_type": "stream",
          "text": [
            "[1] \"a001\"\n",
            "[1] 850000\n"
          ],
          "name": "stdout"
        }
      ]
    },
    {
      "cell_type": "code",
      "metadata": {
        "id": "nxk-_KaSN4go",
        "colab_type": "code",
        "colab": {
          "base_uri": "https://localhost:8080/",
          "height": 51
        },
        "outputId": "c6979e69-c6a8-4e45-fe4f-fea8dba2ad72"
      },
      "source": [
        "# 스카라 변수 사용(p42)\n",
        "sum(10, 20, 20, NA, na.rm = T)\n",
        "\n",
        "ls()  # 현재 사용중인 변수 보기기"
      ],
      "execution_count": null,
      "outputs": [
        {
          "output_type": "display_data",
          "data": {
            "text/plain": [
              "[1] 50"
            ],
            "text/latex": "50",
            "text/markdown": "50",
            "text/html": [
              "50"
            ]
          },
          "metadata": {
            "tags": []
          }
        },
        {
          "output_type": "display_data",
          "data": {
            "text/plain": [
              "[1] \"goods.code\"  \"goods.des\"   \"goods.name\"  \"goods.price\""
            ],
            "text/latex": "\\begin{enumerate*}\n\\item 'goods.code'\n\\item 'goods.des'\n\\item 'goods.name'\n\\item 'goods.price'\n\\end{enumerate*}\n",
            "text/markdown": "1. 'goods.code'\n2. 'goods.des'\n3. 'goods.name'\n4. 'goods.price'\n\n\n",
            "text/html": [
              "<style>\n",
              ".list-inline {list-style: none; margin:0; padding: 0}\n",
              ".list-inline>li {display: inline-block}\n",
              ".list-inline>li:not(:last-child)::after {content: \"\\00b7\"; padding: 0 .5ex}\n",
              "</style>\n",
              "<ol class=list-inline><li>'goods.code'</li><li>'goods.des'</li><li>'goods.name'</li><li>'goods.price'</li></ol>\n"
            ]
          },
          "metadata": {
            "tags": []
          }
        }
      ]
    },
    {
      "cell_type": "code",
      "metadata": {
        "id": "tmLR5gkXN-fk",
        "colab_type": "code",
        "colab": {
          "base_uri": "https://localhost:8080/",
          "height": 34
        },
        "outputId": "fa1b462b-e80f-44fa-b343-f3b075fd5e47"
      },
      "source": [
        "# 자료형 확인(P42)\n",
        "is.numeric(goods.code)"
      ],
      "execution_count": null,
      "outputs": [
        {
          "output_type": "display_data",
          "data": {
            "text/plain": [
              "[1] FALSE"
            ],
            "text/latex": "FALSE",
            "text/markdown": "FALSE",
            "text/html": [
              "FALSE"
            ]
          },
          "metadata": {
            "tags": []
          }
        }
      ]
    },
    {
      "cell_type": "code",
      "metadata": {
        "id": "PgWFFjkiONCc",
        "colab_type": "code",
        "colab": {
          "base_uri": "https://localhost:8080/",
          "height": 68
        },
        "outputId": "8f2a3330-3332-4df1-b5a4-2b48a44f0af6"
      },
      "source": [
        "# 자료형 변환 (p43)\n",
        "x <- c(1, 2, '3')\n",
        "x\n",
        "\n",
        "# r <- x * 3 # 오류 발생\n",
        "\n",
        "r <- as.numeric(x) * 3\n",
        "r\n",
        "\n",
        "r <- as.integer(x) * 4\n",
        "r\n"
      ],
      "execution_count": null,
      "outputs": [
        {
          "output_type": "display_data",
          "data": {
            "text/plain": [
              "[1] \"1\" \"2\" \"3\""
            ],
            "text/latex": "\\begin{enumerate*}\n\\item '1'\n\\item '2'\n\\item '3'\n\\end{enumerate*}\n",
            "text/markdown": "1. '1'\n2. '2'\n3. '3'\n\n\n",
            "text/html": [
              "<style>\n",
              ".list-inline {list-style: none; margin:0; padding: 0}\n",
              ".list-inline>li {display: inline-block}\n",
              ".list-inline>li:not(:last-child)::after {content: \"\\00b7\"; padding: 0 .5ex}\n",
              "</style>\n",
              "<ol class=list-inline><li>'1'</li><li>'2'</li><li>'3'</li></ol>\n"
            ]
          },
          "metadata": {
            "tags": []
          }
        },
        {
          "output_type": "display_data",
          "data": {
            "text/plain": [
              "[1] 3 6 9"
            ],
            "text/latex": "\\begin{enumerate*}\n\\item 3\n\\item 6\n\\item 9\n\\end{enumerate*}\n",
            "text/markdown": "1. 3\n2. 6\n3. 9\n\n\n",
            "text/html": [
              "<style>\n",
              ".list-inline {list-style: none; margin:0; padding: 0}\n",
              ".list-inline>li {display: inline-block}\n",
              ".list-inline>li:not(:last-child)::after {content: \"\\00b7\"; padding: 0 .5ex}\n",
              "</style>\n",
              "<ol class=list-inline><li>3</li><li>6</li><li>9</li></ol>\n"
            ]
          },
          "metadata": {
            "tags": []
          }
        },
        {
          "output_type": "display_data",
          "data": {
            "text/plain": [
              "[1]  4  8 12"
            ],
            "text/latex": "\\begin{enumerate*}\n\\item 4\n\\item 8\n\\item 12\n\\end{enumerate*}\n",
            "text/markdown": "1. 4\n2. 8\n3. 12\n\n\n",
            "text/html": [
              "<style>\n",
              ".list-inline {list-style: none; margin:0; padding: 0}\n",
              ".list-inline>li {display: inline-block}\n",
              ".list-inline>li:not(:last-child)::after {content: \"\\00b7\"; padding: 0 .5ex}\n",
              "</style>\n",
              "<ol class=list-inline><li>4</li><li>8</li><li>12</li></ol>\n"
            ]
          },
          "metadata": {
            "tags": []
          }
        }
      ]
    },
    {
      "cell_type": "code",
      "metadata": {
        "id": "Kz0qO5fQOW2u",
        "colab_type": "code",
        "colab": {
          "base_uri": "https://localhost:8080/",
          "height": 102
        },
        "outputId": "d0db9b61-03ee-4076-dbb2-2e66657c53f6"
      },
      "source": [
        "# 복소수 자료 생성과 형 변환(p44)\n",
        "z <- 5.3 - 3i\n",
        "\n",
        "Re(z) # 실수부 출력\n",
        "Im(z) # 허수부 출력\n",
        "\n",
        "is.complex(x)\n",
        "is.complex(z)\n",
        "\n",
        "as.complex(5.3)"
      ],
      "execution_count": null,
      "outputs": [
        {
          "output_type": "display_data",
          "data": {
            "text/plain": [
              "[1] 5.3"
            ],
            "text/latex": "5.3",
            "text/markdown": "5.3",
            "text/html": [
              "5.3"
            ]
          },
          "metadata": {
            "tags": []
          }
        },
        {
          "output_type": "display_data",
          "data": {
            "text/plain": [
              "[1] -3"
            ],
            "text/latex": "-3",
            "text/markdown": "-3",
            "text/html": [
              "-3"
            ]
          },
          "metadata": {
            "tags": []
          }
        },
        {
          "output_type": "display_data",
          "data": {
            "text/plain": [
              "[1] FALSE"
            ],
            "text/latex": "FALSE",
            "text/markdown": "FALSE",
            "text/html": [
              "FALSE"
            ]
          },
          "metadata": {
            "tags": []
          }
        },
        {
          "output_type": "display_data",
          "data": {
            "text/plain": [
              "[1] TRUE"
            ],
            "text/latex": "TRUE",
            "text/markdown": "TRUE",
            "text/html": [
              "TRUE"
            ]
          },
          "metadata": {
            "tags": []
          }
        },
        {
          "output_type": "display_data",
          "data": {
            "text/plain": [
              "[1] 5.3+0i"
            ],
            "text/latex": "5.3+0i",
            "text/markdown": "5.3+0i",
            "text/html": [
              "5.3+0i"
            ]
          },
          "metadata": {
            "tags": []
          }
        }
      ]
    },
    {
      "cell_type": "code",
      "metadata": {
        "id": "tHOrop9OOj0o",
        "colab_type": "code",
        "colab": {
          "base_uri": "https://localhost:8080/",
          "height": 85
        },
        "outputId": "e8ae378e-59cc-46bc-a258-b350e089b93c"
      },
      "source": [
        "# mode(변수) : 자료형(type)을 알려줌 \n",
        "mode(x)\n",
        "mode(r)\n",
        "\n",
        "# class(변수) : 자료구조(메모리 구조)의 유형(type)을 알려줌\n",
        "class(x)\n",
        "class(r)"
      ],
      "execution_count": null,
      "outputs": [
        {
          "output_type": "display_data",
          "data": {
            "text/plain": [
              "[1] \"character\""
            ],
            "text/latex": "'character'",
            "text/markdown": "'character'",
            "text/html": [
              "'character'"
            ]
          },
          "metadata": {
            "tags": []
          }
        },
        {
          "output_type": "display_data",
          "data": {
            "text/plain": [
              "[1] \"numeric\""
            ],
            "text/latex": "'numeric'",
            "text/markdown": "'numeric'",
            "text/html": [
              "'numeric'"
            ]
          },
          "metadata": {
            "tags": []
          }
        },
        {
          "output_type": "display_data",
          "data": {
            "text/plain": [
              "[1] \"character\""
            ],
            "text/latex": "'character'",
            "text/markdown": "'character'",
            "text/html": [
              "'character'"
            ]
          },
          "metadata": {
            "tags": []
          }
        },
        {
          "output_type": "display_data",
          "data": {
            "text/plain": [
              "[1] \"numeric\""
            ],
            "text/latex": "'numeric'",
            "text/markdown": "'numeric'",
            "text/html": [
              "'numeric'"
            ]
          },
          "metadata": {
            "tags": []
          }
        }
      ]
    },
    {
      "cell_type": "code",
      "metadata": {
        "id": "829W1D0zQBfZ",
        "colab_type": "code",
        "colab": {
          "base_uri": "https://localhost:8080/",
          "height": 455
        },
        "outputId": "0e7d2550-04e6-4029-dd60-8137155d7eb9"
      },
      "source": [
        "# Factor형 변환\n",
        "gender <- c('man','woman','man','woman','man','man')\n",
        "str(gender)\n",
        "# plot(gender) # 수치데이터만 사용 가능\n",
        "Ngender <- as.factor(gender)\n",
        "barplot(table(Ngender))"
      ],
      "execution_count": 2,
      "outputs": [
        {
          "output_type": "stream",
          "text": [
            " chr [1:6] \"man\" \"woman\" \"man\" \"woman\" \"man\" \"man\"\n"
          ],
          "name": "stdout"
        },
        {
          "output_type": "display_data",
          "data": {
            "image/png": "[encoded data removed]",
            "text/plain": [
              "plot without title"
            ]
          },
          "metadata": {
            "tags": [],
            "image/png": {
              "width": 420,
              "height": 420
            }
          }
        }
      ]
    },
    {
      "cell_type": "code",
      "metadata": {
        "id": "IVklrzFyV6Ig",
        "colab_type": "code",
        "colab": {
          "base_uri": "https://localhost:8080/",
          "height": 51
        },
        "outputId": "a9bd2db4-44b6-4fb6-add7-ac17abc70f81"
      },
      "source": [
        "# 자료형 보기\n",
        "mode(gender)\n",
        "mode(Ngender)"
      ],
      "execution_count": 5,
      "outputs": [
        {
          "output_type": "display_data",
          "data": {
            "text/plain": [
              "[1] \"character\""
            ],
            "text/latex": "'character'",
            "text/markdown": "'character'",
            "text/html": [
              "'character'"
            ]
          },
          "metadata": {
            "tags": []
          }
        },
        {
          "output_type": "display_data",
          "data": {
            "text/plain": [
              "[1] \"numeric\""
            ],
            "text/latex": "'numeric'",
            "text/markdown": "'numeric'",
            "text/html": [
              "'numeric'"
            ]
          },
          "metadata": {
            "tags": []
          }
        }
      ]
    },
    {
      "cell_type": "code",
      "metadata": {
        "id": "ZOC4oPbqWRlY",
        "colab_type": "code",
        "colab": {
          "base_uri": "https://localhost:8080/",
          "height": 51
        },
        "outputId": "2ae3854e-6dcc-460b-d9c0-25d413d1febf"
      },
      "source": [
        "# 자료구조 보기\n",
        "class(gender)\n",
        "class(Ngender)"
      ],
      "execution_count": 6,
      "outputs": [
        {
          "output_type": "display_data",
          "data": {
            "text/plain": [
              "[1] \"character\""
            ],
            "text/latex": "'character'",
            "text/markdown": "'character'",
            "text/html": [
              "'character'"
            ]
          },
          "metadata": {
            "tags": []
          }
        },
        {
          "output_type": "display_data",
          "data": {
            "text/plain": [
              "[1] \"factor\""
            ],
            "text/latex": "'factor'",
            "text/markdown": "'factor'",
            "text/html": [
              "'factor'"
            ]
          },
          "metadata": {
            "tags": []
          }
        }
      ]
    },
    {
      "cell_type": "code",
      "metadata": {
        "id": "SSnZYrJhWlFc",
        "colab_type": "code",
        "colab": {
          "base_uri": "https://localhost:8080/",
          "height": 51
        },
        "outputId": "e2f7f641-fcf7-4732-b5e4-cc898db47c74"
      },
      "source": [
        "is.factor(gender)\n",
        "is.factor(Ngender)"
      ],
      "execution_count": 8,
      "outputs": [
        {
          "output_type": "display_data",
          "data": {
            "text/plain": [
              "[1] FALSE"
            ],
            "text/latex": "FALSE",
            "text/markdown": "FALSE",
            "text/html": [
              "FALSE"
            ]
          },
          "metadata": {
            "tags": []
          }
        },
        {
          "output_type": "display_data",
          "data": {
            "text/plain": [
              "[1] TRUE"
            ],
            "text/latex": "TRUE",
            "text/markdown": "TRUE",
            "text/html": [
              "TRUE"
            ]
          },
          "metadata": {
            "tags": []
          }
        }
      ]
    },
    {
      "cell_type": "code",
      "metadata": {
        "id": "h7u9vcitW9gZ",
        "colab_type": "code",
        "colab": {
          "base_uri": "https://localhost:8080/",
          "height": 34
        },
        "outputId": "21454fdf-c55c-4e33-98be-6888c0d52dc9"
      },
      "source": [
        "gender"
      ],
      "execution_count": 10,
      "outputs": [
        {
          "output_type": "display_data",
          "data": {
            "text/plain": [
              "[1] \"man\"   \"woman\" \"man\"   \"woman\" \"man\"   \"man\"  "
            ],
            "text/latex": "\\begin{enumerate*}\n\\item 'man'\n\\item 'woman'\n\\item 'man'\n\\item 'woman'\n\\item 'man'\n\\item 'man'\n\\end{enumerate*}\n",
            "text/markdown": "1. 'man'\n2. 'woman'\n3. 'man'\n4. 'woman'\n5. 'man'\n6. 'man'\n\n\n",
            "text/html": [
              "<style>\n",
              ".list-inline {list-style: none; margin:0; padding: 0}\n",
              ".list-inline>li {display: inline-block}\n",
              ".list-inline>li:not(:last-child)::after {content: \"\\00b7\"; padding: 0 .5ex}\n",
              "</style>\n",
              "<ol class=list-inline><li>'man'</li><li>'woman'</li><li>'man'</li><li>'woman'</li><li>'man'</li><li>'man'</li></ol>\n"
            ]
          },
          "metadata": {
            "tags": []
          }
        }
      ]
    },
    {
      "cell_type": "code",
      "metadata": {
        "id": "7C2xnt_mXNht",
        "colab_type": "code",
        "colab": {
          "base_uri": "https://localhost:8080/",
          "height": 68
        },
        "outputId": "c96de751-6789-498c-a22f-9b0e9227ce27"
      },
      "source": [
        "Ngender"
      ],
      "execution_count": 11,
      "outputs": [
        {
          "output_type": "display_data",
          "data": {
            "text/plain": [
              "[1] man   woman man   woman man   man  \n",
              "Levels: man woman"
            ],
            "text/latex": "\\begin{enumerate*}\n\\item man\n\\item woman\n\\item man\n\\item woman\n\\item man\n\\item man\n\\end{enumerate*}\n\n\\emph{Levels}: \\begin{enumerate*}\n\\item 'man'\n\\item 'woman'\n\\end{enumerate*}\n",
            "text/markdown": "1. man\n2. woman\n3. man\n4. woman\n5. man\n6. man\n\n\n\n**Levels**: 1. 'man'\n2. 'woman'\n\n\n",
            "text/html": [
              "<style>\n",
              ".list-inline {list-style: none; margin:0; padding: 0}\n",
              ".list-inline>li {display: inline-block}\n",
              ".list-inline>li:not(:last-child)::after {content: \"\\00b7\"; padding: 0 .5ex}\n",
              "</style>\n",
              "<ol class=list-inline><li>man</li><li>woman</li><li>man</li><li>woman</li><li>man</li><li>man</li></ol>\n",
              "\n",
              "<details>\n",
              "\t<summary style=display:list-item;cursor:pointer>\n",
              "\t\t<strong>Levels</strong>:\n",
              "\t</summary>\n",
              "\t<style>\n",
              "\t.list-inline {list-style: none; margin:0; padding: 0}\n",
              "\t.list-inline>li {display: inline-block}\n",
              "\t.list-inline>li:not(:last-child)::after {content: \"\\00b7\"; padding: 0 .5ex}\n",
              "\t</style>\n",
              "\t<ol class=list-inline><li>'man'</li><li>'woman'</li></ol>\n",
              "</details>"
            ]
          },
          "metadata": {
            "tags": []
          }
        }
      ]
    },
    {
      "cell_type": "code",
      "metadata": {
        "id": "LkkJC-hhXS96",
        "colab_type": "code",
        "colab": {
          "base_uri": "https://localhost:8080/",
          "height": 68
        },
        "outputId": "694e83eb-79df-4d5d-cc68-4568ca34ae0b"
      },
      "source": [
        "# Factor Ordinal : 범주의 순서를 사용자가 지정한 순서대로 정렬하는 기능\n",
        "args(factor) # factor()의 매개변수 보기"
      ],
      "execution_count": 12,
      "outputs": [
        {
          "output_type": "display_data",
          "data": {
            "text/plain": [
              "function (x = character(), levels, labels = levels, exclude = NA, \n",
              "    ordered = is.ordered(x), nmax = NA) \n",
              "NULL"
            ],
            "text/latex": "\\begin{minted}{r}\nfunction (x = character(), levels, labels = levels, exclude = NA, \n    ordered = is.ordered(x), nmax = NA) \nNULL\n\\end{minted}",
            "text/markdown": "```r\nfunction (x = character(), levels, labels = levels, exclude = NA, \n    ordered = is.ordered(x), nmax = NA) \nNULL\n```",
            "text/html": [
              "<pre class=language-r><code>function (x = character(), levels, labels = levels, exclude = NA, \n",
              "<span style=white-space:pre-wrap>    ordered = is.ordered(x), nmax = NA) </span>\n",
              "NULL</code></pre>"
            ]
          },
          "metadata": {
            "tags": []
          }
        }
      ]
    },
    {
      "cell_type": "code",
      "metadata": {
        "id": "qsi_aGTMXkro",
        "colab_type": "code",
        "colab": {
          "base_uri": "https://localhost:8080/",
          "height": 68
        },
        "outputId": "f46a0eeb-e957-48be-ba9a-53f53364ac33"
      },
      "source": [
        "Ogender <- factor(gender, level=c('woman','man'), ordered=T)\n",
        "Ogender"
      ],
      "execution_count": 13,
      "outputs": [
        {
          "output_type": "display_data",
          "data": {
            "text/plain": [
              "[1] man   woman man   woman man   man  \n",
              "Levels: woman < man"
            ],
            "text/latex": "\\begin{enumerate*}\n\\item man\n\\item woman\n\\item man\n\\item woman\n\\item man\n\\item man\n\\end{enumerate*}\n\n\\emph{Levels}: \\begin{enumerate*}\n\\item 'woman'\n\\item 'man'\n\\end{enumerate*}\n",
            "text/markdown": "1. man\n2. woman\n3. man\n4. woman\n5. man\n6. man\n\n\n\n**Levels**: 1. 'woman'\n2. 'man'\n\n\n",
            "text/html": [
              "<style>\n",
              ".list-inline {list-style: none; margin:0; padding: 0}\n",
              ".list-inline>li {display: inline-block}\n",
              ".list-inline>li:not(:last-child)::after {content: \"\\00b7\"; padding: 0 .5ex}\n",
              "</style>\n",
              "<ol class=list-inline><li>man</li><li>woman</li><li>man</li><li>woman</li><li>man</li><li>man</li></ol>\n",
              "\n",
              "<details>\n",
              "\t<summary style=display:list-item;cursor:pointer>\n",
              "\t\t<strong>Levels</strong>:\n",
              "\t</summary>\n",
              "\t<style>\n",
              "\t.list-inline {list-style: none; margin:0; padding: 0}\n",
              "\t.list-inline>li {display: inline-block}\n",
              "\t.list-inline>li:not(:last-child)::after {content: \"\\00b7\"; padding: 0 .5ex}\n",
              "\t</style>\n",
              "\t<ol class=list-inline><li>'woman'</li><li>'man'</li></ol>\n",
              "</details>"
            ]
          },
          "metadata": {
            "tags": []
          }
        }
      ]
    },
    {
      "cell_type": "code",
      "metadata": {
        "id": "gBYR_eV5Zcei",
        "colab_type": "code",
        "colab": {
          "base_uri": "https://localhost:8080/",
          "height": 51
        },
        "outputId": "85b5872e-2d3e-468c-aaa6-5f71f6548cb6"
      },
      "source": [
        "args(par)"
      ],
      "execution_count": 19,
      "outputs": [
        {
          "output_type": "display_data",
          "data": {
            "text/plain": [
              "function (..., no.readonly = FALSE) \n",
              "NULL"
            ],
            "text/latex": "\\begin{minted}{r}\nfunction (..., no.readonly = FALSE) \nNULL\n\\end{minted}",
            "text/markdown": "```r\nfunction (..., no.readonly = FALSE) \nNULL\n```",
            "text/html": [
              "<pre class=language-r><code>function (..., no.readonly = FALSE) \n",
              "NULL</code></pre>"
            ]
          },
          "metadata": {
            "tags": []
          }
        }
      ]
    },
    {
      "cell_type": "code",
      "metadata": {
        "id": "bM6ElPtDYjfV",
        "colab_type": "code",
        "colab": {
          "base_uri": "https://localhost:8080/",
          "height": 857
        },
        "outputId": "7811800e-4bd7-40ac-f8b5-4fa41a8e78f1"
      },
      "source": [
        "par(mfrow = c(1,2)) # 그래프의 모양을 다양하게 조절할 수 있는 함수\n",
        "barplot(table(gender)) # gender : char 이므로 barplot(table())\n",
        "plot(Ngender)          # Ngender: factoer 이므로 plot() 가능\n",
        "plot(Ogender)"
      ],
      "execution_count": 26,
      "outputs": [
        {
          "output_type": "display_data",
          "data": {
            "image/png": "[encoded data removed]",
            "text/plain": [
              "plot without title"
            ]
          },
          "metadata": {
            "tags": [],
            "image/png": {
              "width": 420,
              "height": 420
            }
          }
        },
        {
          "output_type": "display_data",
          "data": {
            "image/png": "[encoded data removed]",
            "text/plain": [
              "plot without title"
            ]
          },
          "metadata": {
            "tags": [],
            "image/png": {
              "width": 420,
              "height": 420
            }
          }
        }
      ]
    },
    {
      "cell_type": "code",
      "metadata": {
        "id": "5JBWw52HcvhO",
        "colab_type": "code",
        "colab": {
          "base_uri": "https://localhost:8080/",
          "height": 51
        },
        "outputId": "ca86dd0c-d6be-405e-d3b5-71fd0f88e2d3"
      },
      "source": [
        "# 날짜형 변환(p47)\n",
        "as.Date('20/02/28', '%y/%m/%d')\n",
        "as.Date('02/28/20', '%m/%d/%y')"
      ],
      "execution_count": 28,
      "outputs": [
        {
          "output_type": "display_data",
          "data": {
            "text/plain": [
              "[1] \"2020-02-28\""
            ],
            "text/latex": "2020-02-28",
            "text/markdown": "2020-02-28",
            "text/html": [
              "<time datetime=\"2020-02-28\">2020-02-28</time>"
            ]
          },
          "metadata": {
            "tags": []
          }
        },
        {
          "output_type": "display_data",
          "data": {
            "text/plain": [
              "[1] \"2020-02-28\""
            ],
            "text/latex": "2020-02-28",
            "text/markdown": "2020-02-28",
            "text/html": [
              "<time datetime=\"2020-02-28\">2020-02-28</time>"
            ]
          },
          "metadata": {
            "tags": []
          }
        }
      ]
    },
    {
      "cell_type": "code",
      "metadata": {
        "id": "Ce4fI3hJeVNY",
        "colab_type": "code",
        "colab": {
          "base_uri": "https://localhost:8080/",
          "height": 34
        },
        "outputId": "d399cced-f3e9-4f90-9870-8bdd4148214a"
      },
      "source": [
        "class(as.Date('20/02/28', '%y/%m/%d'))"
      ],
      "execution_count": 30,
      "outputs": [
        {
          "output_type": "display_data",
          "data": {
            "text/plain": [
              "[1] \"Date\""
            ],
            "text/latex": "'Date'",
            "text/markdown": "'Date'",
            "text/html": [
              "'Date'"
            ]
          },
          "metadata": {
            "tags": []
          }
        }
      ]
    },
    {
      "cell_type": "code",
      "metadata": {
        "id": "05U8PRPXeur-",
        "colab_type": "code",
        "colab": {
          "base_uri": "https://localhost:8080/",
          "height": 85
        },
        "outputId": "72644f3a-6822-4205-9bb5-3af290a05e94"
      },
      "source": [
        "dates <- c('02/28/2020','02/29/2020','02/30/2020','03/01/2020')\n",
        "as.Date(dates, '%m/%d/%Y') # %Y(년도4자리) 하면 4자리 출력 <정상>\n",
        "as.Date(dates, '%m/%d/%y') # 벡터의 년도가 4자리인 경우, %y 해도 4자리 출력 <정상>\n",
        "dates <- c('02/28/19','02/29/19','02/30/19','03/01/19')\n",
        "as.Date(dates, '%m/%d/%y') # %y(년도2자리) 하면 4자리 출력 <정상>\n",
        "as.Date(dates, '%m/%d/%Y') # 벡터의 년도가 2자리인 경우, %Y 하면 2자리 출력 <오류?> "
      ],
      "execution_count": 43,
      "outputs": [
        {
          "output_type": "display_data",
          "data": {
            "text/plain": [
              "[1] \"2020-02-28\" \"2020-02-29\" NA           \"2020-03-01\""
            ],
            "text/latex": "\\begin{enumerate*}\n\\item 2020-02-28\n\\item 2020-02-29\n\\item <NA>\n\\item 2020-03-01\n\\end{enumerate*}\n",
            "text/markdown": "1. 2020-02-28\n2. 2020-02-29\n3. &lt;NA&gt;\n4. 2020-03-01\n\n\n",
            "text/html": [
              "<style>\n",
              ".list-inline {list-style: none; margin:0; padding: 0}\n",
              ".list-inline>li {display: inline-block}\n",
              ".list-inline>li:not(:last-child)::after {content: \"\\00b7\"; padding: 0 .5ex}\n",
              "</style>\n",
              "<ol class=list-inline><li><time datetime=\"2020-02-28\">2020-02-28</time></li><li><time datetime=\"2020-02-29\">2020-02-29</time></li><li><time datetime=\"&lt;NA&gt;\">&lt;NA&gt;</time></li><li><time datetime=\"2020-03-01\">2020-03-01</time></li></ol>\n"
            ]
          },
          "metadata": {
            "tags": []
          }
        },
        {
          "output_type": "display_data",
          "data": {
            "text/plain": [
              "[1] \"2020-02-28\" \"2020-02-29\" NA           \"2020-03-01\""
            ],
            "text/latex": "\\begin{enumerate*}\n\\item 2020-02-28\n\\item 2020-02-29\n\\item <NA>\n\\item 2020-03-01\n\\end{enumerate*}\n",
            "text/markdown": "1. 2020-02-28\n2. 2020-02-29\n3. &lt;NA&gt;\n4. 2020-03-01\n\n\n",
            "text/html": [
              "<style>\n",
              ".list-inline {list-style: none; margin:0; padding: 0}\n",
              ".list-inline>li {display: inline-block}\n",
              ".list-inline>li:not(:last-child)::after {content: \"\\00b7\"; padding: 0 .5ex}\n",
              "</style>\n",
              "<ol class=list-inline><li><time datetime=\"2020-02-28\">2020-02-28</time></li><li><time datetime=\"2020-02-29\">2020-02-29</time></li><li><time datetime=\"&lt;NA&gt;\">&lt;NA&gt;</time></li><li><time datetime=\"2020-03-01\">2020-03-01</time></li></ol>\n"
            ]
          },
          "metadata": {
            "tags": []
          }
        },
        {
          "output_type": "display_data",
          "data": {
            "text/plain": [
              "[1] \"2019-02-28\" NA           NA           \"2019-03-01\""
            ],
            "text/latex": "\\begin{enumerate*}\n\\item 2019-02-28\n\\item <NA>\n\\item <NA>\n\\item 2019-03-01\n\\end{enumerate*}\n",
            "text/markdown": "1. 2019-02-28\n2. &lt;NA&gt;\n3. &lt;NA&gt;\n4. 2019-03-01\n\n\n",
            "text/html": [
              "<style>\n",
              ".list-inline {list-style: none; margin:0; padding: 0}\n",
              ".list-inline>li {display: inline-block}\n",
              ".list-inline>li:not(:last-child)::after {content: \"\\00b7\"; padding: 0 .5ex}\n",
              "</style>\n",
              "<ol class=list-inline><li><time datetime=\"2019-02-28\">2019-02-28</time></li><li><time datetime=\"&lt;NA&gt;\">&lt;NA&gt;</time></li><li><time datetime=\"&lt;NA&gt;\">&lt;NA&gt;</time></li><li><time datetime=\"2019-03-01\">2019-03-01</time></li></ol>\n"
            ]
          },
          "metadata": {
            "tags": []
          }
        },
        {
          "output_type": "display_data",
          "data": {
            "text/plain": [
              "[1] \"19-02-28\" NA         NA         \"19-03-01\""
            ],
            "text/latex": "\\begin{enumerate*}\n\\item 19-02-28\n\\item <NA>\n\\item <NA>\n\\item 19-03-01\n\\end{enumerate*}\n",
            "text/markdown": "1. 19-02-28\n2. &lt;NA&gt;\n3. &lt;NA&gt;\n4. 19-03-01\n\n\n",
            "text/html": [
              "<style>\n",
              ".list-inline {list-style: none; margin:0; padding: 0}\n",
              ".list-inline>li {display: inline-block}\n",
              ".list-inline>li:not(:last-child)::after {content: \"\\00b7\"; padding: 0 .5ex}\n",
              "</style>\n",
              "<ol class=list-inline><li><time datetime=\"19-02-28\">19-02-28</time></li><li><time datetime=\"&lt;NA&gt;\">&lt;NA&gt;</time></li><li><time datetime=\"&lt;NA&gt;\">&lt;NA&gt;</time></li><li><time datetime=\"19-03-01\">19-03-01</time></li></ol>\n"
            ]
          },
          "metadata": {
            "tags": []
          }
        }
      ]
    },
    {
      "cell_type": "code",
      "metadata": {
        "id": "ob5e0IRfggyG",
        "colab_type": "code",
        "colab": {
          "base_uri": "https://localhost:8080/",
          "height": 68
        },
        "outputId": "7e4b0e9f-58db-48e4-cb45-db9f871aa588"
      },
      "source": [
        "# 시스템 로케일(locale) 정보 확인\n",
        "Sys.getlocale(category = \"LC_ALL\")     # 현재 로케일 전체 보기\n",
        "Sys.getlocale(category = \"LC_COLLATE\") # 지역정보만 보기"
      ],
      "execution_count": 45,
      "outputs": [
        {
          "output_type": "display_data",
          "data": {
            "text/plain": [
              "[1] \"LC_CTYPE=en_US.UTF-8;LC_NUMERIC=C;LC_TIME=en_US.UTF-8;LC_COLLATE=en_US.UTF-8;LC_MONETARY=en_US.UTF-8;LC_MESSAGES=en_US.UTF-8;LC_PAPER=en_US.UTF-8;LC_NAME=C;LC_ADDRESS=C;LC_TELEPHONE=C;LC_MEASUREMENT=en_US.UTF-8;LC_IDENTIFICATION=C\""
            ],
            "text/latex": "'LC\\_CTYPE=en\\_US.UTF-8;LC\\_NUMERIC=C;LC\\_TIME=en\\_US.UTF-8;LC\\_COLLATE=en\\_US.UTF-8;LC\\_MONETARY=en\\_US.UTF-8;LC\\_MESSAGES=en\\_US.UTF-8;LC\\_PAPER=en\\_US.UTF-8;LC\\_NAME=C;LC\\_ADDRESS=C;LC\\_TELEPHONE=C;LC\\_MEASUREMENT=en\\_US.UTF-8;LC\\_IDENTIFICATION=C'",
            "text/markdown": "'LC_CTYPE=en_US.UTF-8;LC_NUMERIC=C;LC_TIME=en_US.UTF-8;LC_COLLATE=en_US.UTF-8;LC_MONETARY=en_US.UTF-8;LC_MESSAGES=en_US.UTF-8;LC_PAPER=en_US.UTF-8;LC_NAME=C;LC_ADDRESS=C;LC_TELEPHONE=C;LC_MEASUREMENT=en_US.UTF-8;LC_IDENTIFICATION=C'",
            "text/html": [
              "'LC_CTYPE=en_US.UTF-8;LC_NUMERIC=C;LC_TIME=en_US.UTF-8;LC_COLLATE=en_US.UTF-8;LC_MONETARY=en_US.UTF-8;LC_MESSAGES=en_US.UTF-8;LC_PAPER=en_US.UTF-8;LC_NAME=C;LC_ADDRESS=C;LC_TELEPHONE=C;LC_MEASUREMENT=en_US.UTF-8;LC_IDENTIFICATION=C'"
            ]
          },
          "metadata": {
            "tags": []
          }
        },
        {
          "output_type": "display_data",
          "data": {
            "text/plain": [
              "[1] \"en_US.UTF-8\""
            ],
            "text/latex": "'en\\_US.UTF-8'",
            "text/markdown": "'en_US.UTF-8'",
            "text/html": [
              "'en_US.UTF-8'"
            ]
          },
          "metadata": {
            "tags": []
          }
        }
      ]
    }
  ]
}