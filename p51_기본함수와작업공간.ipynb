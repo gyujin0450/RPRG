{
  "nbformat": 4,
  "nbformat_minor": 0,
  "metadata": {
    "colab": {
      "name": "p51_기본함수와작업공간.ipynb",
      "provenance": [],
      "authorship_tag": "ABX9TyOD3RoKSemzbiLpSsFPqDhr",
      "include_colab_link": true
    },
    "kernelspec": {
      "name": "ir",
      "display_name": "R"
    }
  },
  "cells": [
    {
      "cell_type": "markdown",
      "metadata": {
        "id": "view-in-github",
        "colab_type": "text"
      },
      "source": [
        "<a href=\"https://colab.research.google.com/github/gyujin0450/RPRG/blob/master/p51_%EA%B8%B0%EB%B3%B8%ED%95%A8%EC%88%98%EC%99%80%EC%9E%91%EC%97%85%EA%B3%B5%EA%B0%84.ipynb\" target=\"_parent\"><img src=\"https://colab.research.google.com/assets/colab-badge.svg\" alt=\"Open In Colab\"/></a>"
      ]
    },
    {
      "cell_type": "markdown",
      "metadata": {
        "id": "6SAJasdR0OTa",
        "colab_type": "text"
      },
      "source": [
        "# 5.기본함수와 작업공간"
      ]
    },
    {
      "cell_type": "code",
      "metadata": {
        "id": "AWpmyH8q1dnL",
        "colab_type": "code",
        "colab": {}
      },
      "source": [
        "# R 프로그램을 설치하면 기본적으로 7개 패키지가 설치됨\n",
        "# 구글에서 함수 도움말 찾기 : '함수명() in r'"
      ],
      "execution_count": null,
      "outputs": []
    },
    {
      "cell_type": "code",
      "metadata": {
        "id": "oj7C5YhY27d5",
        "colab_type": "code",
        "colab": {
          "base_uri": "https://localhost:8080/",
          "height": 51
        },
        "outputId": "e36273cf-1761-4180-a9fd-5a0a3474acf3"
      },
      "source": [
        "# 함수 파라미터 확인\n",
        "args(max)"
      ],
      "execution_count": 1,
      "outputs": [
        {
          "output_type": "display_data",
          "data": {
            "text/plain": [
              "function (..., na.rm = FALSE) \n",
              "NULL"
            ],
            "text/latex": "\\begin{minted}{r}\nfunction (..., na.rm = FALSE) \nNULL\n\\end{minted}",
            "text/markdown": "```r\nfunction (..., na.rm = FALSE) \nNULL\n```",
            "text/html": [
              "<pre class=language-r><code>function (..., na.rm = FALSE) \n",
              "NULL</code></pre>"
            ]
          },
          "metadata": {
            "tags": []
          }
        }
      ]
    },
    {
      "cell_type": "code",
      "metadata": {
        "id": "dj8pWbwb3LUN",
        "colab_type": "code",
        "colab": {
          "base_uri": "https://localhost:8080/",
          "height": 34
        },
        "outputId": "0fe2860a-cc0e-42e4-dfe2-121a23eed766"
      },
      "source": [
        "max(10,20,30,NA,na.rm = TRUE) # NA 제외하고 최대값을 보여 줌!!"
      ],
      "execution_count": 5,
      "outputs": [
        {
          "output_type": "display_data",
          "data": {
            "text/plain": [
              "[1] 30"
            ],
            "text/latex": "30",
            "text/markdown": "30",
            "text/html": [
              "30"
            ]
          },
          "metadata": {
            "tags": []
          }
        }
      ]
    }
  ]
}