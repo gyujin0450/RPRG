{
  "nbformat": 4,
  "nbformat_minor": 0,
  "metadata": {
    "colab": {
      "name": "p71_DataFrame.ipynb",
      "provenance": [],
      "authorship_tag": "ABX9TyOiZvshlzIayzuPqXbntTKE",
      "include_colab_link": true
    },
    "kernelspec": {
      "name": "ir",
      "display_name": "R"
    }
  },
  "cells": [
    {
      "cell_type": "markdown",
      "metadata": {
        "id": "view-in-github",
        "colab_type": "text"
      },
      "source": [
        "<a href=\"https://colab.research.google.com/github/gyujin0450/RPRG/blob/master/p71_DataFrame.ipynb\" target=\"_parent\"><img src=\"https://colab.research.google.com/assets/colab-badge.svg\" alt=\"Open In Colab\"/></a>"
      ]
    },
    {
      "cell_type": "markdown",
      "metadata": {
        "id": "fV6QiMjVzwQ9",
        "colab_type": "text"
      },
      "source": [
        "# ch02.4 DataFrame 자료구조"
      ]
    },
    {
      "cell_type": "code",
      "metadata": {
        "id": "Ct_mijZA0L8E",
        "colab_type": "code",
        "colab": {}
      },
      "source": [
        "# dataFrame 생성\n",
        "\n",
        "# 열단위로 서로 다른 자료형을 포함할 수 있음\n",
        "# 벡터와 행렬을 이용하여 데이터프레임 객체를 생성할 수 있음\n",
        "\n",
        "# data.frame(컬럼1 = 자료, 컬럼2 = 자료, ... 컬럼n = 자료)"
      ],
      "execution_count": 1,
      "outputs": []
    },
    {
      "cell_type": "code",
      "metadata": {
        "id": "-8CH2imE1KWN",
        "colab_type": "code",
        "colab": {
          "base_uri": "https://localhost:8080/",
          "height": 141
        },
        "outputId": "17fbfb75-4edf-45c0-d0fa-779ec0a9c3ee"
      },
      "source": [
        "no <- c(1,2,3)\n",
        "name <- c(\"hong\",\"lee\",\"kim\")\n",
        "pay <- c(150,250,300)\n",
        "vemp <- data.frame(No = no, Name = name, Pay = pay) # 컬럼명 지정\n",
        "vemp"
      ],
      "execution_count": 2,
      "outputs": [
        {
          "output_type": "display_data",
          "data": {
            "text/plain": [
              "  No Name Pay\n",
              "1 1  hong 150\n",
              "2 2  lee  250\n",
              "3 3  kim  300"
            ],
            "text/latex": "A data.frame: 3 × 3\n\\begin{tabular}{lll}\n No & Name & Pay\\\\\n <dbl> & <fct> & <dbl>\\\\\n\\hline\n\t 1 & hong & 150\\\\\n\t 2 & lee  & 250\\\\\n\t 3 & kim  & 300\\\\\n\\end{tabular}\n",
            "text/markdown": "\nA data.frame: 3 × 3\n\n| No &lt;dbl&gt; | Name &lt;fct&gt; | Pay &lt;dbl&gt; |\n|---|---|---|\n| 1 | hong | 150 |\n| 2 | lee  | 250 |\n| 3 | kim  | 300 |\n\n",
            "text/html": [
              "<table>\n",
              "<caption>A data.frame: 3 × 3</caption>\n",
              "<thead>\n",
              "\t<tr><th scope=col>No</th><th scope=col>Name</th><th scope=col>Pay</th></tr>\n",
              "\t<tr><th scope=col>&lt;dbl&gt;</th><th scope=col>&lt;fct&gt;</th><th scope=col>&lt;dbl&gt;</th></tr>\n",
              "</thead>\n",
              "<tbody>\n",
              "\t<tr><td>1</td><td>hong</td><td>150</td></tr>\n",
              "\t<tr><td>2</td><td>lee </td><td>250</td></tr>\n",
              "\t<tr><td>3</td><td>kim </td><td>300</td></tr>\n",
              "</tbody>\n",
              "</table>\n"
            ]
          },
          "metadata": {
            "tags": []
          }
        }
      ]
    },
    {
      "cell_type": "code",
      "metadata": {
        "id": "KP5dsYgQ19w_",
        "colab_type": "code",
        "colab": {
          "base_uri": "https://localhost:8080/",
          "height": 141
        },
        "outputId": "8b3f45c4-f23a-4b35-d7db-7721e90bf6e4"
      },
      "source": [
        "m <- matrix(c(\n",
        "  1, \"hong\", 150,\n",
        "  2, \"lee\", 250,\n",
        "  3, \"kim\", 300\n",
        "), 3, byrow = T)\n",
        "memp <- data.frame(m)\n",
        "memp"
      ],
      "execution_count": 3,
      "outputs": [
        {
          "output_type": "display_data",
          "data": {
            "text/plain": [
              "  X1 X2   X3 \n",
              "1 1  hong 150\n",
              "2 2  lee  250\n",
              "3 3  kim  300"
            ],
            "text/latex": "A data.frame: 3 × 3\n\\begin{tabular}{lll}\n X1 & X2 & X3\\\\\n <fct> & <fct> & <fct>\\\\\n\\hline\n\t 1 & hong & 150\\\\\n\t 2 & lee  & 250\\\\\n\t 3 & kim  & 300\\\\\n\\end{tabular}\n",
            "text/markdown": "\nA data.frame: 3 × 3\n\n| X1 &lt;fct&gt; | X2 &lt;fct&gt; | X3 &lt;fct&gt; |\n|---|---|---|\n| 1 | hong | 150 |\n| 2 | lee  | 250 |\n| 3 | kim  | 300 |\n\n",
            "text/html": [
              "<table>\n",
              "<caption>A data.frame: 3 × 3</caption>\n",
              "<thead>\n",
              "\t<tr><th scope=col>X1</th><th scope=col>X2</th><th scope=col>X3</th></tr>\n",
              "\t<tr><th scope=col>&lt;fct&gt;</th><th scope=col>&lt;fct&gt;</th><th scope=col>&lt;fct&gt;</th></tr>\n",
              "</thead>\n",
              "<tbody>\n",
              "\t<tr><td>1</td><td>hong</td><td>150</td></tr>\n",
              "\t<tr><td>2</td><td>lee </td><td>250</td></tr>\n",
              "\t<tr><td>3</td><td>kim </td><td>300</td></tr>\n",
              "</tbody>\n",
              "</table>\n"
            ]
          },
          "metadata": {
            "tags": []
          }
        }
      ]
    },
    {
      "cell_type": "code",
      "metadata": {
        "id": "M8bKjyoy2jwa",
        "colab_type": "code",
        "colab": {
          "base_uri": "https://localhost:8080/",
          "height": 158
        },
        "outputId": "b547ce2d-8d67-4ace-e9a4-654c1b3e36e9"
      },
      "source": [
        "getwd()\n",
        "# txtemp <- read.table('https://raw.githubusercontent.com/gyujin0450/dataset/master/emp.txt', header = 1, sep = \"\")\n",
        "csvtmp <- read.csv('https://raw.githubusercontent.com/gyujin0450/dataset/master/emp.csv', header = T) # 제목있음, 칼럼 콤마 구분\n",
        "csvtmp"
      ],
      "execution_count": 20,
      "outputs": [
        {
          "output_type": "display_data",
          "data": {
            "text/plain": [
              "[1] \"/content\""
            ],
            "text/latex": "'/content'",
            "text/markdown": "'/content'",
            "text/html": [
              "'/content'"
            ]
          },
          "metadata": {
            "tags": []
          }
        },
        {
          "output_type": "display_data",
          "data": {
            "text/plain": [
              "  no  name pay\n",
              "1 101 hong 150\n",
              "2 201 lee  250\n",
              "3 310 kim  300"
            ],
            "text/latex": "A data.frame: 3 × 3\n\\begin{tabular}{lll}\n no & name & pay\\\\\n <int> & <fct> & <int>\\\\\n\\hline\n\t 101 & hong & 150\\\\\n\t 201 & lee  & 250\\\\\n\t 310 & kim  & 300\\\\\n\\end{tabular}\n",
            "text/markdown": "\nA data.frame: 3 × 3\n\n| no &lt;int&gt; | name &lt;fct&gt; | pay &lt;int&gt; |\n|---|---|---|\n| 101 | hong | 150 |\n| 201 | lee  | 250 |\n| 310 | kim  | 300 |\n\n",
            "text/html": [
              "<table>\n",
              "<caption>A data.frame: 3 × 3</caption>\n",
              "<thead>\n",
              "\t<tr><th scope=col>no</th><th scope=col>name</th><th scope=col>pay</th></tr>\n",
              "\t<tr><th scope=col>&lt;int&gt;</th><th scope=col>&lt;fct&gt;</th><th scope=col>&lt;int&gt;</th></tr>\n",
              "</thead>\n",
              "<tbody>\n",
              "\t<tr><td>101</td><td>hong</td><td>150</td></tr>\n",
              "\t<tr><td>201</td><td>lee </td><td>250</td></tr>\n",
              "\t<tr><td>310</td><td>kim </td><td>300</td></tr>\n",
              "</tbody>\n",
              "</table>\n"
            ]
          },
          "metadata": {
            "tags": []
          }
        }
      ]
    },
    {
      "cell_type": "code",
      "metadata": {
        "id": "idLDm--H9Gq4",
        "colab_type": "code",
        "colab": {
          "base_uri": "https://localhost:8080/",
          "height": 141
        },
        "outputId": "d8ceaade-7f86-4cb1-dacc-155f6198c958"
      },
      "source": [
        "# help(read.csv)\n",
        "name <- c('사번','이름','급여')\n",
        "read.csv(\"https://raw.githubusercontent.com/gyujin0450/dataset/master/emp2.csv\", header = F, col.names = name)"
      ],
      "execution_count": 25,
      "outputs": [
        {
          "output_type": "display_data",
          "data": {
            "text/plain": [
              "  사번 이름 급여\n",
              "1 101  hong 150 \n",
              "2 201  lee  250 \n",
              "3 310  kim  300 "
            ],
            "text/latex": "A data.frame: 3 × 3\n\\begin{tabular}{lll}\n 사번 & 이름 & 급여\\\\\n <int> & <fct> & <int>\\\\\n\\hline\n\t 101 & hong & 150\\\\\n\t 201 & lee  & 250\\\\\n\t 310 & kim  & 300\\\\\n\\end{tabular}\n",
            "text/markdown": "\nA data.frame: 3 × 3\n\n| 사번 &lt;int&gt; | 이름 &lt;fct&gt; | 급여 &lt;int&gt; |\n|---|---|---|\n| 101 | hong | 150 |\n| 201 | lee  | 250 |\n| 310 | kim  | 300 |\n\n",
            "text/html": [
              "<table>\n",
              "<caption>A data.frame: 3 × 3</caption>\n",
              "<thead>\n",
              "\t<tr><th scope=col>사번</th><th scope=col>이름</th><th scope=col>급여</th></tr>\n",
              "\t<tr><th scope=col>&lt;int&gt;</th><th scope=col>&lt;fct&gt;</th><th scope=col>&lt;int&gt;</th></tr>\n",
              "</thead>\n",
              "<tbody>\n",
              "\t<tr><td>101</td><td>hong</td><td>150</td></tr>\n",
              "\t<tr><td>201</td><td>lee </td><td>250</td></tr>\n",
              "\t<tr><td>310</td><td>kim </td><td>300</td></tr>\n",
              "</tbody>\n",
              "</table>\n"
            ]
          },
          "metadata": {
            "tags": []
          }
        }
      ]
    },
    {
      "cell_type": "code",
      "metadata": {
        "id": "kNhyhY89_HzV",
        "colab_type": "code",
        "colab": {
          "base_uri": "https://localhost:8080/",
          "height": 183
        },
        "outputId": "181b28a6-f052-458c-c780-0bceebfde900"
      },
      "source": [
        "df <- data.frame(x = c(1:5), y = seq(2,10,2), z = c('a','b','c','d','e'))\n",
        "df"
      ],
      "execution_count": 26,
      "outputs": [
        {
          "output_type": "display_data",
          "data": {
            "text/plain": [
              "  x y  z\n",
              "1 1  2 a\n",
              "2 2  4 b\n",
              "3 3  6 c\n",
              "4 4  8 d\n",
              "5 5 10 e"
            ],
            "text/latex": "A data.frame: 5 × 3\n\\begin{tabular}{lll}\n x & y & z\\\\\n <int> & <dbl> & <fct>\\\\\n\\hline\n\t 1 &  2 & a\\\\\n\t 2 &  4 & b\\\\\n\t 3 &  6 & c\\\\\n\t 4 &  8 & d\\\\\n\t 5 & 10 & e\\\\\n\\end{tabular}\n",
            "text/markdown": "\nA data.frame: 5 × 3\n\n| x &lt;int&gt; | y &lt;dbl&gt; | z &lt;fct&gt; |\n|---|---|---|\n| 1 |  2 | a |\n| 2 |  4 | b |\n| 3 |  6 | c |\n| 4 |  8 | d |\n| 5 | 10 | e |\n\n",
            "text/html": [
              "<table>\n",
              "<caption>A data.frame: 5 × 3</caption>\n",
              "<thead>\n",
              "\t<tr><th scope=col>x</th><th scope=col>y</th><th scope=col>z</th></tr>\n",
              "\t<tr><th scope=col>&lt;int&gt;</th><th scope=col>&lt;dbl&gt;</th><th scope=col>&lt;fct&gt;</th></tr>\n",
              "</thead>\n",
              "<tbody>\n",
              "\t<tr><td>1</td><td> 2</td><td>a</td></tr>\n",
              "\t<tr><td>2</td><td> 4</td><td>b</td></tr>\n",
              "\t<tr><td>3</td><td> 6</td><td>c</td></tr>\n",
              "\t<tr><td>4</td><td> 8</td><td>d</td></tr>\n",
              "\t<tr><td>5</td><td>10</td><td>e</td></tr>\n",
              "</tbody>\n",
              "</table>\n"
            ]
          },
          "metadata": {
            "tags": []
          }
        }
      ]
    },
    {
      "cell_type": "code",
      "metadata": {
        "id": "utxrcR1nBEA9",
        "colab_type": "code",
        "colab": {
          "base_uri": "https://localhost:8080/",
          "height": 34
        },
        "outputId": "01cfceb3-a0bc-4f54-d971-88f1cd9ca150"
      },
      "source": [
        "df$x"
      ],
      "execution_count": 27,
      "outputs": [
        {
          "output_type": "display_data",
          "data": {
            "text/plain": [
              "[1] 1 2 3 4 5"
            ],
            "text/latex": "\\begin{enumerate*}\n\\item 1\n\\item 2\n\\item 3\n\\item 4\n\\item 5\n\\end{enumerate*}\n",
            "text/markdown": "1. 1\n2. 2\n3. 3\n4. 4\n5. 5\n\n\n",
            "text/html": [
              "<style>\n",
              ".list-inline {list-style: none; margin:0; padding: 0}\n",
              ".list-inline>li {display: inline-block}\n",
              ".list-inline>li:not(:last-child)::after {content: \"\\00b7\"; padding: 0 .5ex}\n",
              "</style>\n",
              "<ol class=list-inline><li>1</li><li>2</li><li>3</li><li>4</li><li>5</li></ol>\n"
            ]
          },
          "metadata": {
            "tags": []
          }
        }
      ]
    },
    {
      "cell_type": "code",
      "metadata": {
        "id": "PM6rrBWYBKt_",
        "colab_type": "code",
        "colab": {
          "base_uri": "https://localhost:8080/",
          "height": 89
        },
        "outputId": "d7796eeb-4748-4bf9-8ba9-f19de8c8d0c9"
      },
      "source": [
        "str(df)"
      ],
      "execution_count": 28,
      "outputs": [
        {
          "output_type": "stream",
          "text": [
            "'data.frame':\t5 obs. of  3 variables:\n",
            " $ x: int  1 2 3 4 5\n",
            " $ y: num  2 4 6 8 10\n",
            " $ z: Factor w/ 5 levels \"a\",\"b\",\"c\",\"d\",..: 1 2 3 4 5\n"
          ],
          "name": "stdout"
        }
      ]
    },
    {
      "cell_type": "code",
      "metadata": {
        "id": "gsBMvZUPBQ1k",
        "colab_type": "code",
        "colab": {
          "base_uri": "https://localhost:8080/",
          "height": 34
        },
        "outputId": "5d70795a-2a88-4f25-d825-6841e18cadc5"
      },
      "source": [
        "ncol(df)"
      ],
      "execution_count": 29,
      "outputs": [
        {
          "output_type": "display_data",
          "data": {
            "text/plain": [
              "[1] 3"
            ],
            "text/latex": "3",
            "text/markdown": "3",
            "text/html": [
              "3"
            ]
          },
          "metadata": {
            "tags": []
          }
        }
      ]
    },
    {
      "cell_type": "code",
      "metadata": {
        "id": "RrKEAQKIBVEy",
        "colab_type": "code",
        "colab": {
          "base_uri": "https://localhost:8080/",
          "height": 34
        },
        "outputId": "2d7597da-6eae-419a-ab4f-b7683dfb4936"
      },
      "source": [
        "nrow(df)"
      ],
      "execution_count": 30,
      "outputs": [
        {
          "output_type": "display_data",
          "data": {
            "text/plain": [
              "[1] 5"
            ],
            "text/latex": "5",
            "text/markdown": "5",
            "text/html": [
              "5"
            ]
          },
          "metadata": {
            "tags": []
          }
        }
      ]
    },
    {
      "cell_type": "code",
      "metadata": {
        "id": "Q8pAa8S0BYD4",
        "colab_type": "code",
        "colab": {
          "base_uri": "https://localhost:8080/",
          "height": 34
        },
        "outputId": "e5084812-3cca-4e98-c2c4-0766aac4f408"
      },
      "source": [
        "names(df)"
      ],
      "execution_count": 31,
      "outputs": [
        {
          "output_type": "display_data",
          "data": {
            "text/plain": [
              "[1] \"x\" \"y\" \"z\""
            ],
            "text/latex": "\\begin{enumerate*}\n\\item 'x'\n\\item 'y'\n\\item 'z'\n\\end{enumerate*}\n",
            "text/markdown": "1. 'x'\n2. 'y'\n3. 'z'\n\n\n",
            "text/html": [
              "<style>\n",
              ".list-inline {list-style: none; margin:0; padding: 0}\n",
              ".list-inline>li {display: inline-block}\n",
              ".list-inline>li:not(:last-child)::after {content: \"\\00b7\"; padding: 0 .5ex}\n",
              "</style>\n",
              "<ol class=list-inline><li>'x'</li><li>'y'</li><li>'z'</li></ol>\n"
            ]
          },
          "metadata": {
            "tags": []
          }
        }
      ]
    },
    {
      "cell_type": "code",
      "metadata": {
        "id": "E-vSWEUaBc81",
        "colab_type": "code",
        "colab": {
          "base_uri": "https://localhost:8080/",
          "height": 217
        },
        "outputId": "789beca7-0abc-4e88-8689-a51e54d2d686"
      },
      "source": [
        "df[c(2:3)] \n",
        "df[c(2:3),1] # 데이터프레임 객체의 특정 행 출력(??)"
      ],
      "execution_count": 41,
      "outputs": [
        {
          "output_type": "display_data",
          "data": {
            "text/plain": [
              "  y  z\n",
              "1  2 a\n",
              "2  4 b\n",
              "3  6 c\n",
              "4  8 d\n",
              "5 10 e"
            ],
            "text/latex": "A data.frame: 5 × 2\n\\begin{tabular}{ll}\n y & z\\\\\n <dbl> & <fct>\\\\\n\\hline\n\t  2 & a\\\\\n\t  4 & b\\\\\n\t  6 & c\\\\\n\t  8 & d\\\\\n\t 10 & e\\\\\n\\end{tabular}\n",
            "text/markdown": "\nA data.frame: 5 × 2\n\n| y &lt;dbl&gt; | z &lt;fct&gt; |\n|---|---|\n|  2 | a |\n|  4 | b |\n|  6 | c |\n|  8 | d |\n| 10 | e |\n\n",
            "text/html": [
              "<table>\n",
              "<caption>A data.frame: 5 × 2</caption>\n",
              "<thead>\n",
              "\t<tr><th scope=col>y</th><th scope=col>z</th></tr>\n",
              "\t<tr><th scope=col>&lt;dbl&gt;</th><th scope=col>&lt;fct&gt;</th></tr>\n",
              "</thead>\n",
              "<tbody>\n",
              "\t<tr><td> 2</td><td>a</td></tr>\n",
              "\t<tr><td> 4</td><td>b</td></tr>\n",
              "\t<tr><td> 6</td><td>c</td></tr>\n",
              "\t<tr><td> 8</td><td>d</td></tr>\n",
              "\t<tr><td>10</td><td>e</td></tr>\n",
              "</tbody>\n",
              "</table>\n"
            ]
          },
          "metadata": {
            "tags": []
          }
        },
        {
          "output_type": "display_data",
          "data": {
            "text/plain": [
              "[1] 2 3"
            ],
            "text/latex": "\\begin{enumerate*}\n\\item 2\n\\item 3\n\\end{enumerate*}\n",
            "text/markdown": "1. 2\n2. 3\n\n\n",
            "text/html": [
              "<style>\n",
              ".list-inline {list-style: none; margin:0; padding: 0}\n",
              ".list-inline>li {display: inline-block}\n",
              ".list-inline>li:not(:last-child)::after {content: \"\\00b7\"; padding: 0 .5ex}\n",
              "</style>\n",
              "<ol class=list-inline><li>2</li><li>3</li></ol>\n"
            ]
          },
          "metadata": {
            "tags": []
          }
        }
      ]
    },
    {
      "cell_type": "code",
      "metadata": {
        "id": "-29W7dzfCwV0",
        "colab_type": "code",
        "colab": {
          "base_uri": "https://localhost:8080/",
          "height": 143
        },
        "outputId": "32f99c72-2cfd-47fb-a901-c4b73d77e0bd"
      },
      "source": [
        "summary(df)"
      ],
      "execution_count": 42,
      "outputs": [
        {
          "output_type": "display_data",
          "data": {
            "text/plain": [
              "       x           y      z    \n",
              " Min.   :1   Min.   : 2   a:1  \n",
              " 1st Qu.:2   1st Qu.: 4   b:1  \n",
              " Median :3   Median : 6   c:1  \n",
              " Mean   :3   Mean   : 6   d:1  \n",
              " 3rd Qu.:4   3rd Qu.: 8   e:1  \n",
              " Max.   :5   Max.   :10        "
            ]
          },
          "metadata": {
            "tags": []
          }
        }
      ]
    },
    {
      "cell_type": "code",
      "metadata": {
        "id": "tWcw4FzYC2ih",
        "colab_type": "code",
        "colab": {
          "base_uri": "https://localhost:8080/",
          "height": 34
        },
        "outputId": "79f325ea-306d-4385-9c61-6aaeb5fe9e6f"
      },
      "source": [
        "apply(df[c(1,2)], 2, sum) # apply(데이터프레임, 행/열, 함수)"
      ],
      "execution_count": 44,
      "outputs": [
        {
          "output_type": "display_data",
          "data": {
            "text/plain": [
              " x  y \n",
              "15 30 "
            ],
            "text/latex": "\\begin{description*}\n\\item[x] 15\n\\item[y] 30\n\\end{description*}\n",
            "text/markdown": "x\n:   15y\n:   30\n\n",
            "text/html": [
              "<style>\n",
              ".dl-inline {width: auto; margin:0; padding: 0}\n",
              ".dl-inline>dt, .dl-inline>dd {float: none; width: auto; display: inline-block}\n",
              ".dl-inline>dt::after {content: \":\\0020\"; padding-right: .5ex}\n",
              ".dl-inline>dt:not(:first-of-type) {padding-left: .5ex}\n",
              "</style><dl class=dl-inline><dt>x</dt><dd>15</dd><dt>y</dt><dd>30</dd></dl>\n"
            ]
          },
          "metadata": {
            "tags": []
          }
        }
      ]
    },
    {
      "cell_type": "code",
      "metadata": {
        "id": "H4YZwogjDhbJ",
        "colab_type": "code",
        "colab": {
          "base_uri": "https://localhost:8080/",
          "height": 141
        },
        "outputId": "b361682c-19f6-4cfe-b42d-687d96f0d862"
      },
      "source": [
        "x1 <- subset(df, x >= 3) # x가 3이상인 행을 대상으로 서브셋 생성\n",
        "x1"
      ],
      "execution_count": 46,
      "outputs": [
        {
          "output_type": "display_data",
          "data": {
            "text/plain": [
              "  x y  z\n",
              "3 3  6 c\n",
              "4 4  8 d\n",
              "5 5 10 e"
            ],
            "text/latex": "A data.frame: 3 × 3\n\\begin{tabular}{r|lll}\n  & x & y & z\\\\\n  & <int> & <dbl> & <fct>\\\\\n\\hline\n\t3 & 3 &  6 & c\\\\\n\t4 & 4 &  8 & d\\\\\n\t5 & 5 & 10 & e\\\\\n\\end{tabular}\n",
            "text/markdown": "\nA data.frame: 3 × 3\n\n| <!--/--> | x &lt;int&gt; | y &lt;dbl&gt; | z &lt;fct&gt; |\n|---|---|---|---|\n| 3 | 3 |  6 | c |\n| 4 | 4 |  8 | d |\n| 5 | 5 | 10 | e |\n\n",
            "text/html": [
              "<table>\n",
              "<caption>A data.frame: 3 × 3</caption>\n",
              "<thead>\n",
              "\t<tr><th></th><th scope=col>x</th><th scope=col>y</th><th scope=col>z</th></tr>\n",
              "\t<tr><th></th><th scope=col>&lt;int&gt;</th><th scope=col>&lt;dbl&gt;</th><th scope=col>&lt;fct&gt;</th></tr>\n",
              "</thead>\n",
              "<tbody>\n",
              "\t<tr><th scope=row>3</th><td>3</td><td> 6</td><td>c</td></tr>\n",
              "\t<tr><th scope=row>4</th><td>4</td><td> 8</td><td>d</td></tr>\n",
              "\t<tr><th scope=row>5</th><td>5</td><td>10</td><td>e</td></tr>\n",
              "</tbody>\n",
              "</table>\n"
            ]
          },
          "metadata": {
            "tags": []
          }
        }
      ]
    },
    {
      "cell_type": "code",
      "metadata": {
        "id": "1yLcwIVFEAVe",
        "colab_type": "code",
        "colab": {
          "base_uri": "https://localhost:8080/",
          "height": 162
        },
        "outputId": "b1a98667-224a-4616-ae1a-b0cbca1dd841"
      },
      "source": [
        "y1 <- subset(df, y <= 8)\n",
        "y1"
      ],
      "execution_count": 47,
      "outputs": [
        {
          "output_type": "display_data",
          "data": {
            "text/plain": [
              "  x y z\n",
              "1 1 2 a\n",
              "2 2 4 b\n",
              "3 3 6 c\n",
              "4 4 8 d"
            ],
            "text/latex": "A data.frame: 4 × 3\n\\begin{tabular}{r|lll}\n  & x & y & z\\\\\n  & <int> & <dbl> & <fct>\\\\\n\\hline\n\t1 & 1 & 2 & a\\\\\n\t2 & 2 & 4 & b\\\\\n\t3 & 3 & 6 & c\\\\\n\t4 & 4 & 8 & d\\\\\n\\end{tabular}\n",
            "text/markdown": "\nA data.frame: 4 × 3\n\n| <!--/--> | x &lt;int&gt; | y &lt;dbl&gt; | z &lt;fct&gt; |\n|---|---|---|---|\n| 1 | 1 | 2 | a |\n| 2 | 2 | 4 | b |\n| 3 | 3 | 6 | c |\n| 4 | 4 | 8 | d |\n\n",
            "text/html": [
              "<table>\n",
              "<caption>A data.frame: 4 × 3</caption>\n",
              "<thead>\n",
              "\t<tr><th></th><th scope=col>x</th><th scope=col>y</th><th scope=col>z</th></tr>\n",
              "\t<tr><th></th><th scope=col>&lt;int&gt;</th><th scope=col>&lt;dbl&gt;</th><th scope=col>&lt;fct&gt;</th></tr>\n",
              "</thead>\n",
              "<tbody>\n",
              "\t<tr><th scope=row>1</th><td>1</td><td>2</td><td>a</td></tr>\n",
              "\t<tr><th scope=row>2</th><td>2</td><td>4</td><td>b</td></tr>\n",
              "\t<tr><th scope=row>3</th><td>3</td><td>6</td><td>c</td></tr>\n",
              "\t<tr><th scope=row>4</th><td>4</td><td>8</td><td>d</td></tr>\n",
              "</tbody>\n",
              "</table>\n"
            ]
          },
          "metadata": {
            "tags": []
          }
        }
      ]
    },
    {
      "cell_type": "code",
      "metadata": {
        "id": "grYq3d8gEKkR",
        "colab_type": "code",
        "colab": {
          "base_uri": "https://localhost:8080/",
          "height": 120
        },
        "outputId": "5ac25861-1b3f-4d3b-a4ae-5e93dfb68292"
      },
      "source": [
        "xyand <- subset(df, x >= 2 & y <= 6)\n",
        "xyand"
      ],
      "execution_count": 48,
      "outputs": [
        {
          "output_type": "display_data",
          "data": {
            "text/plain": [
              "  x y z\n",
              "2 2 4 b\n",
              "3 3 6 c"
            ],
            "text/latex": "A data.frame: 2 × 3\n\\begin{tabular}{r|lll}\n  & x & y & z\\\\\n  & <int> & <dbl> & <fct>\\\\\n\\hline\n\t2 & 2 & 4 & b\\\\\n\t3 & 3 & 6 & c\\\\\n\\end{tabular}\n",
            "text/markdown": "\nA data.frame: 2 × 3\n\n| <!--/--> | x &lt;int&gt; | y &lt;dbl&gt; | z &lt;fct&gt; |\n|---|---|---|---|\n| 2 | 2 | 4 | b |\n| 3 | 3 | 6 | c |\n\n",
            "text/html": [
              "<table>\n",
              "<caption>A data.frame: 2 × 3</caption>\n",
              "<thead>\n",
              "\t<tr><th></th><th scope=col>x</th><th scope=col>y</th><th scope=col>z</th></tr>\n",
              "\t<tr><th></th><th scope=col>&lt;int&gt;</th><th scope=col>&lt;dbl&gt;</th><th scope=col>&lt;fct&gt;</th></tr>\n",
              "</thead>\n",
              "<tbody>\n",
              "\t<tr><th scope=row>2</th><td>2</td><td>4</td><td>b</td></tr>\n",
              "\t<tr><th scope=row>3</th><td>3</td><td>6</td><td>c</td></tr>\n",
              "</tbody>\n",
              "</table>\n"
            ]
          },
          "metadata": {
            "tags": []
          }
        }
      ]
    },
    {
      "cell_type": "code",
      "metadata": {
        "id": "BxuF4XZTEXZC",
        "colab_type": "code",
        "colab": {
          "base_uri": "https://localhost:8080/",
          "height": 183
        },
        "outputId": "10017021-84cc-467b-c4da-dc1904be8d88"
      },
      "source": [
        "xyor <- subset(df, x >= 2 | y <= 6)\n",
        "xyor"
      ],
      "execution_count": 49,
      "outputs": [
        {
          "output_type": "display_data",
          "data": {
            "text/plain": [
              "  x y  z\n",
              "1 1  2 a\n",
              "2 2  4 b\n",
              "3 3  6 c\n",
              "4 4  8 d\n",
              "5 5 10 e"
            ],
            "text/latex": "A data.frame: 5 × 3\n\\begin{tabular}{r|lll}\n  & x & y & z\\\\\n  & <int> & <dbl> & <fct>\\\\\n\\hline\n\t1 & 1 &  2 & a\\\\\n\t2 & 2 &  4 & b\\\\\n\t3 & 3 &  6 & c\\\\\n\t4 & 4 &  8 & d\\\\\n\t5 & 5 & 10 & e\\\\\n\\end{tabular}\n",
            "text/markdown": "\nA data.frame: 5 × 3\n\n| <!--/--> | x &lt;int&gt; | y &lt;dbl&gt; | z &lt;fct&gt; |\n|---|---|---|---|\n| 1 | 1 |  2 | a |\n| 2 | 2 |  4 | b |\n| 3 | 3 |  6 | c |\n| 4 | 4 |  8 | d |\n| 5 | 5 | 10 | e |\n\n",
            "text/html": [
              "<table>\n",
              "<caption>A data.frame: 5 × 3</caption>\n",
              "<thead>\n",
              "\t<tr><th></th><th scope=col>x</th><th scope=col>y</th><th scope=col>z</th></tr>\n",
              "\t<tr><th></th><th scope=col>&lt;int&gt;</th><th scope=col>&lt;dbl&gt;</th><th scope=col>&lt;fct&gt;</th></tr>\n",
              "</thead>\n",
              "<tbody>\n",
              "\t<tr><th scope=row>1</th><td>1</td><td> 2</td><td>a</td></tr>\n",
              "\t<tr><th scope=row>2</th><td>2</td><td> 4</td><td>b</td></tr>\n",
              "\t<tr><th scope=row>3</th><td>3</td><td> 6</td><td>c</td></tr>\n",
              "\t<tr><th scope=row>4</th><td>4</td><td> 8</td><td>d</td></tr>\n",
              "\t<tr><th scope=row>5</th><td>5</td><td>10</td><td>e</td></tr>\n",
              "</tbody>\n",
              "</table>\n"
            ]
          },
          "metadata": {
            "tags": []
          }
        }
      ]
    },
    {
      "cell_type": "code",
      "metadata": {
        "id": "t2_pvQQvEiBr",
        "colab_type": "code",
        "colab": {
          "base_uri": "https://localhost:8080/",
          "height": 162
        },
        "outputId": "d743fec5-7481-4e29-a969-54ff348b7103"
      },
      "source": [
        "# 벡터 객체 생성\n",
        "sid = c(\"A\",\"B\",\"C\",\"D\")\n",
        "score = c(90,80,70,60)\n",
        "subject = c(\"컴퓨터\",\"국어국문\",\"소프트웨어\",\"유아교육\")\n",
        "\n",
        "# 데이터프레임 생성\n",
        "student <- data.frame(sid, score, subject)\n",
        "student"
      ],
      "execution_count": 50,
      "outputs": [
        {
          "output_type": "display_data",
          "data": {
            "text/plain": [
              "  sid score subject   \n",
              "1 A   90    컴퓨터    \n",
              "2 B   80    국어국문  \n",
              "3 C   70    소프트웨어\n",
              "4 D   60    유아교육  "
            ],
            "text/latex": "A data.frame: 4 × 3\n\\begin{tabular}{lll}\n sid & score & subject\\\\\n <fct> & <dbl> & <fct>\\\\\n\\hline\n\t A & 90 & 컴퓨터    \\\\\n\t B & 80 & 국어국문  \\\\\n\t C & 70 & 소프트웨어\\\\\n\t D & 60 & 유아교육  \\\\\n\\end{tabular}\n",
            "text/markdown": "\nA data.frame: 4 × 3\n\n| sid &lt;fct&gt; | score &lt;dbl&gt; | subject &lt;fct&gt; |\n|---|---|---|\n| A | 90 | 컴퓨터     |\n| B | 80 | 국어국문   |\n| C | 70 | 소프트웨어 |\n| D | 60 | 유아교육   |\n\n",
            "text/html": [
              "<table>\n",
              "<caption>A data.frame: 4 × 3</caption>\n",
              "<thead>\n",
              "\t<tr><th scope=col>sid</th><th scope=col>score</th><th scope=col>subject</th></tr>\n",
              "\t<tr><th scope=col>&lt;fct&gt;</th><th scope=col>&lt;dbl&gt;</th><th scope=col>&lt;fct&gt;</th></tr>\n",
              "</thead>\n",
              "<tbody>\n",
              "\t<tr><td>A</td><td>90</td><td>컴퓨터    </td></tr>\n",
              "\t<tr><td>B</td><td>80</td><td>국어국문  </td></tr>\n",
              "\t<tr><td>C</td><td>70</td><td>소프트웨어</td></tr>\n",
              "\t<tr><td>D</td><td>60</td><td>유아교육  </td></tr>\n",
              "</tbody>\n",
              "</table>\n"
            ]
          },
          "metadata": {
            "tags": []
          }
        }
      ]
    },
    {
      "cell_type": "code",
      "metadata": {
        "id": "DRy3-4RQFbLk",
        "colab_type": "code",
        "colab": {
          "base_uri": "https://localhost:8080/",
          "height": 51
        },
        "outputId": "536e8ca3-f2a5-417b-8249-d701ad6f63f1"
      },
      "source": [
        "mode(student);class(student)"
      ],
      "execution_count": 51,
      "outputs": [
        {
          "output_type": "display_data",
          "data": {
            "text/plain": [
              "[1] \"list\""
            ],
            "text/latex": "'list'",
            "text/markdown": "'list'",
            "text/html": [
              "'list'"
            ]
          },
          "metadata": {
            "tags": []
          }
        },
        {
          "output_type": "display_data",
          "data": {
            "text/plain": [
              "[1] \"data.frame\""
            ],
            "text/latex": "'data.frame'",
            "text/markdown": "'data.frame'",
            "text/html": [
              "'data.frame'"
            ]
          },
          "metadata": {
            "tags": []
          }
        }
      ]
    },
    {
      "cell_type": "code",
      "metadata": {
        "id": "ocdoOLheFmNE",
        "colab_type": "code",
        "colab": {
          "base_uri": "https://localhost:8080/",
          "height": 71
        },
        "outputId": "7cd0620f-43eb-4f5b-847c-109b08a181fd"
      },
      "source": [
        "str(sid);str(score);str(subject)"
      ],
      "execution_count": 52,
      "outputs": [
        {
          "output_type": "stream",
          "text": [
            " chr [1:4] \"A\" \"B\" \"C\" \"D\"\n",
            " num [1:4] 90 80 70 60\n",
            " chr [1:4] \"컴퓨터\" \"국어국문\" \"소프트웨어\" \"유아교육\"\n"
          ],
          "name": "stdout"
        }
      ]
    },
    {
      "cell_type": "code",
      "metadata": {
        "id": "UucfDdITFtv_",
        "colab_type": "code",
        "colab": {
          "base_uri": "https://localhost:8080/",
          "height": 89
        },
        "outputId": "4f44e265-2342-4b56-80dc-ad9cca596f2e"
      },
      "source": [
        "str(student)"
      ],
      "execution_count": 53,
      "outputs": [
        {
          "output_type": "stream",
          "text": [
            "'data.frame':\t4 obs. of  3 variables:\n",
            " $ sid    : Factor w/ 4 levels \"A\",\"B\",\"C\",\"D\": 1 2 3 4\n",
            " $ score  : num  90 80 70 60\n",
            " $ subject: Factor w/ 4 levels \"국어국문\",\"소프트웨어\",..: 4 1 2 3\n"
          ],
          "name": "stdout"
        }
      ]
    }
  ]
}