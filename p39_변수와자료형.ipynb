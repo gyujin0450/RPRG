{
  "nbformat": 4,
  "nbformat_minor": 0,
  "metadata": {
    "colab": {
      "name": "p39_변수와자료형.ipynb",
      "provenance": [],
      "collapsed_sections": [],
      "authorship_tag": "ABX9TyNbiDbT7xY4V0XtvO64YGxs",
      "include_colab_link": true
    },
    "kernelspec": {
      "name": "ir",
      "display_name": "R"
    }
  },
  "cells": [
    {
      "cell_type": "markdown",
      "metadata": {
        "id": "view-in-github",
        "colab_type": "text"
      },
      "source": [
        "<a href=\"https://colab.research.google.com/github/gyujin0450/RPRG/blob/master/p39_%EB%B3%80%EC%88%98%EC%99%80%EC%9E%90%EB%A3%8C%ED%98%95.ipynb\" target=\"_parent\"><img src=\"https://colab.research.google.com/assets/colab-badge.svg\" alt=\"Open In Colab\"/></a>"
      ]
    },
    {
      "cell_type": "markdown",
      "metadata": {
        "id": "Gr8kkYfRNMEb",
        "colab_type": "text"
      },
      "source": [
        "# 변수와 자료형"
      ]
    },
    {
      "cell_type": "code",
      "metadata": {
        "id": "Mg6s-fPkNv5x",
        "colab_type": "code",
        "colab": {
          "base_uri": "https://localhost:8080/",
          "height": 53
        },
        "outputId": "8acd4130-53e5-4b7c-f7ec-a969989e4cdb"
      },
      "source": [
        "# R의 모든 변수는 객체 형태로 생성된다.(p40)\n",
        "goods.code <- 'a001'\n",
        "goods.name <- '냉장고'\n",
        "goods.price <- 850000\n",
        "goods.des <- '최고사향, 동급 최고 품질'\n",
        "print(goods.code)\n",
        "print(goods.price)"
      ],
      "execution_count": 1,
      "outputs": [
        {
          "output_type": "stream",
          "text": [
            "[1] \"a001\"\n",
            "[1] 850000\n"
          ],
          "name": "stdout"
        }
      ]
    },
    {
      "cell_type": "code",
      "metadata": {
        "id": "nxk-_KaSN4go",
        "colab_type": "code",
        "colab": {
          "base_uri": "https://localhost:8080/",
          "height": 51
        },
        "outputId": "c6979e69-c6a8-4e45-fe4f-fea8dba2ad72"
      },
      "source": [
        "# 스카라 변수 사용(p42)\n",
        "sum(10, 20, 20, NA, na.rm = T)\n",
        "\n",
        "ls()  # 현재 사용중인 변수 보기기"
      ],
      "execution_count": 2,
      "outputs": [
        {
          "output_type": "display_data",
          "data": {
            "text/plain": [
              "[1] 50"
            ],
            "text/latex": "50",
            "text/markdown": "50",
            "text/html": [
              "50"
            ]
          },
          "metadata": {
            "tags": []
          }
        },
        {
          "output_type": "display_data",
          "data": {
            "text/plain": [
              "[1] \"goods.code\"  \"goods.des\"   \"goods.name\"  \"goods.price\""
            ],
            "text/latex": "\\begin{enumerate*}\n\\item 'goods.code'\n\\item 'goods.des'\n\\item 'goods.name'\n\\item 'goods.price'\n\\end{enumerate*}\n",
            "text/markdown": "1. 'goods.code'\n2. 'goods.des'\n3. 'goods.name'\n4. 'goods.price'\n\n\n",
            "text/html": [
              "<style>\n",
              ".list-inline {list-style: none; margin:0; padding: 0}\n",
              ".list-inline>li {display: inline-block}\n",
              ".list-inline>li:not(:last-child)::after {content: \"\\00b7\"; padding: 0 .5ex}\n",
              "</style>\n",
              "<ol class=list-inline><li>'goods.code'</li><li>'goods.des'</li><li>'goods.name'</li><li>'goods.price'</li></ol>\n"
            ]
          },
          "metadata": {
            "tags": []
          }
        }
      ]
    },
    {
      "cell_type": "code",
      "metadata": {
        "id": "tmLR5gkXN-fk",
        "colab_type": "code",
        "colab": {
          "base_uri": "https://localhost:8080/",
          "height": 34
        },
        "outputId": "fa1b462b-e80f-44fa-b343-f3b075fd5e47"
      },
      "source": [
        "# 자료형 확인(P42)\n",
        "is.numeric(goods.code)"
      ],
      "execution_count": 3,
      "outputs": [
        {
          "output_type": "display_data",
          "data": {
            "text/plain": [
              "[1] FALSE"
            ],
            "text/latex": "FALSE",
            "text/markdown": "FALSE",
            "text/html": [
              "FALSE"
            ]
          },
          "metadata": {
            "tags": []
          }
        }
      ]
    },
    {
      "cell_type": "code",
      "metadata": {
        "id": "PgWFFjkiONCc",
        "colab_type": "code",
        "colab": {
          "base_uri": "https://localhost:8080/",
          "height": 68
        },
        "outputId": "8f2a3330-3332-4df1-b5a4-2b48a44f0af6"
      },
      "source": [
        "# 자료형 변환 (p43)\n",
        "x <- c(1, 2, '3')\n",
        "x\n",
        "\n",
        "# r <- x * 3 # 오류 발생\n",
        "\n",
        "r <- as.numeric(x) * 3\n",
        "r\n",
        "\n",
        "r <- as.integer(x) * 4\n",
        "r\n"
      ],
      "execution_count": 5,
      "outputs": [
        {
          "output_type": "display_data",
          "data": {
            "text/plain": [
              "[1] \"1\" \"2\" \"3\""
            ],
            "text/latex": "\\begin{enumerate*}\n\\item '1'\n\\item '2'\n\\item '3'\n\\end{enumerate*}\n",
            "text/markdown": "1. '1'\n2. '2'\n3. '3'\n\n\n",
            "text/html": [
              "<style>\n",
              ".list-inline {list-style: none; margin:0; padding: 0}\n",
              ".list-inline>li {display: inline-block}\n",
              ".list-inline>li:not(:last-child)::after {content: \"\\00b7\"; padding: 0 .5ex}\n",
              "</style>\n",
              "<ol class=list-inline><li>'1'</li><li>'2'</li><li>'3'</li></ol>\n"
            ]
          },
          "metadata": {
            "tags": []
          }
        },
        {
          "output_type": "display_data",
          "data": {
            "text/plain": [
              "[1] 3 6 9"
            ],
            "text/latex": "\\begin{enumerate*}\n\\item 3\n\\item 6\n\\item 9\n\\end{enumerate*}\n",
            "text/markdown": "1. 3\n2. 6\n3. 9\n\n\n",
            "text/html": [
              "<style>\n",
              ".list-inline {list-style: none; margin:0; padding: 0}\n",
              ".list-inline>li {display: inline-block}\n",
              ".list-inline>li:not(:last-child)::after {content: \"\\00b7\"; padding: 0 .5ex}\n",
              "</style>\n",
              "<ol class=list-inline><li>3</li><li>6</li><li>9</li></ol>\n"
            ]
          },
          "metadata": {
            "tags": []
          }
        },
        {
          "output_type": "display_data",
          "data": {
            "text/plain": [
              "[1]  4  8 12"
            ],
            "text/latex": "\\begin{enumerate*}\n\\item 4\n\\item 8\n\\item 12\n\\end{enumerate*}\n",
            "text/markdown": "1. 4\n2. 8\n3. 12\n\n\n",
            "text/html": [
              "<style>\n",
              ".list-inline {list-style: none; margin:0; padding: 0}\n",
              ".list-inline>li {display: inline-block}\n",
              ".list-inline>li:not(:last-child)::after {content: \"\\00b7\"; padding: 0 .5ex}\n",
              "</style>\n",
              "<ol class=list-inline><li>4</li><li>8</li><li>12</li></ol>\n"
            ]
          },
          "metadata": {
            "tags": []
          }
        }
      ]
    },
    {
      "cell_type": "code",
      "metadata": {
        "id": "Kz0qO5fQOW2u",
        "colab_type": "code",
        "colab": {
          "base_uri": "https://localhost:8080/",
          "height": 102
        },
        "outputId": "d0db9b61-03ee-4076-dbb2-2e66657c53f6"
      },
      "source": [
        "# 복소수 자료 생성과 형 변환(p44)\n",
        "z <- 5.3 - 3i\n",
        "\n",
        "Re(z) # 실수부 출력\n",
        "Im(z) # 허수부 출력\n",
        "\n",
        "is.complex(x)\n",
        "is.complex(z)\n",
        "\n",
        "as.complex(5.3)"
      ],
      "execution_count": 6,
      "outputs": [
        {
          "output_type": "display_data",
          "data": {
            "text/plain": [
              "[1] 5.3"
            ],
            "text/latex": "5.3",
            "text/markdown": "5.3",
            "text/html": [
              "5.3"
            ]
          },
          "metadata": {
            "tags": []
          }
        },
        {
          "output_type": "display_data",
          "data": {
            "text/plain": [
              "[1] -3"
            ],
            "text/latex": "-3",
            "text/markdown": "-3",
            "text/html": [
              "-3"
            ]
          },
          "metadata": {
            "tags": []
          }
        },
        {
          "output_type": "display_data",
          "data": {
            "text/plain": [
              "[1] FALSE"
            ],
            "text/latex": "FALSE",
            "text/markdown": "FALSE",
            "text/html": [
              "FALSE"
            ]
          },
          "metadata": {
            "tags": []
          }
        },
        {
          "output_type": "display_data",
          "data": {
            "text/plain": [
              "[1] TRUE"
            ],
            "text/latex": "TRUE",
            "text/markdown": "TRUE",
            "text/html": [
              "TRUE"
            ]
          },
          "metadata": {
            "tags": []
          }
        },
        {
          "output_type": "display_data",
          "data": {
            "text/plain": [
              "[1] 5.3+0i"
            ],
            "text/latex": "5.3+0i",
            "text/markdown": "5.3+0i",
            "text/html": [
              "5.3+0i"
            ]
          },
          "metadata": {
            "tags": []
          }
        }
      ]
    },
    {
      "cell_type": "code",
      "metadata": {
        "id": "tHOrop9OOj0o",
        "colab_type": "code",
        "colab": {
          "base_uri": "https://localhost:8080/",
          "height": 85
        },
        "outputId": "e8ae378e-59cc-46bc-a258-b350e089b93c"
      },
      "source": [
        "# mode(변수) : 자료형(type)을 알려줌 \n",
        "mode(x)\n",
        "mode(r)\n",
        "\n",
        "# class(변수) : 자료구조(메모리 구조)의 유형(type)을 알려줌\n",
        "class(x)\n",
        "class(r)"
      ],
      "execution_count": 13,
      "outputs": [
        {
          "output_type": "display_data",
          "data": {
            "text/plain": [
              "[1] \"character\""
            ],
            "text/latex": "'character'",
            "text/markdown": "'character'",
            "text/html": [
              "'character'"
            ]
          },
          "metadata": {
            "tags": []
          }
        },
        {
          "output_type": "display_data",
          "data": {
            "text/plain": [
              "[1] \"numeric\""
            ],
            "text/latex": "'numeric'",
            "text/markdown": "'numeric'",
            "text/html": [
              "'numeric'"
            ]
          },
          "metadata": {
            "tags": []
          }
        },
        {
          "output_type": "display_data",
          "data": {
            "text/plain": [
              "[1] \"character\""
            ],
            "text/latex": "'character'",
            "text/markdown": "'character'",
            "text/html": [
              "'character'"
            ]
          },
          "metadata": {
            "tags": []
          }
        },
        {
          "output_type": "display_data",
          "data": {
            "text/plain": [
              "[1] \"numeric\""
            ],
            "text/latex": "'numeric'",
            "text/markdown": "'numeric'",
            "text/html": [
              "'numeric'"
            ]
          },
          "metadata": {
            "tags": []
          }
        }
      ]
    },
    {
      "cell_type": "code",
      "metadata": {
        "id": "829W1D0zQBfZ",
        "colab_type": "code",
        "colab": {
          "base_uri": "https://localhost:8080/",
          "height": 455
        },
        "outputId": "ad0f8b97-6534-44a4-8dde-a81d465418e9"
      },
      "source": [
        "# Factor형 변환\n",
        "gender <- c('man','woman','man','woman','man','man')\n",
        "str(gender)\n",
        "# plot(gender) # 수치데이터만 사용 가능\n",
        "Ngender <- as.factor(gender)\n",
        "barplot(table(Ngender))"
      ],
      "execution_count": 1,
      "outputs": [
        {
          "output_type": "stream",
          "text": [
            " chr [1:6] \"man\" \"woman\" \"man\" \"woman\" \"man\" \"man\"\n"
          ],
          "name": "stdout"
        },
        {
          "output_type": "display_data",
          "data": {
            "image/png": "[encoded data removed]",
            "text/plain": [
              "plot without title"
            ]
          },
          "metadata": {
            "tags": [],
            "image/png": {
              "width": 420,
              "height": 420
            }
          }
        }
      ]
    }
  ]
}