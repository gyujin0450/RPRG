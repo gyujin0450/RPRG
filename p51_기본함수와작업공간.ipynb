{
  "nbformat": 4,
  "nbformat_minor": 0,
  "metadata": {
    "colab": {
      "name": "p51_기본함수와작업공간.ipynb",
      "provenance": [],
      "authorship_tag": "ABX9TyNq4DH6Wzr8MeqLedTbXOBi",
      "include_colab_link": true
    },
    "kernelspec": {
      "name": "ir",
      "display_name": "R"
    }
  },
  "cells": [
    {
      "cell_type": "markdown",
      "metadata": {
        "id": "view-in-github",
        "colab_type": "text"
      },
      "source": [
        "<a href=\"https://colab.research.google.com/github/gyujin0450/RPRG/blob/master/p51_%EA%B8%B0%EB%B3%B8%ED%95%A8%EC%88%98%EC%99%80%EC%9E%91%EC%97%85%EA%B3%B5%EA%B0%84.ipynb\" target=\"_parent\"><img src=\"https://colab.research.google.com/assets/colab-badge.svg\" alt=\"Open In Colab\"/></a>"
      ]
    },
    {
      "cell_type": "markdown",
      "metadata": {
        "id": "6SAJasdR0OTa",
        "colab_type": "text"
      },
      "source": [
        "# 5.기본함수와 작업공간"
      ]
    },
    {
      "cell_type": "code",
      "metadata": {
        "id": "AWpmyH8q1dnL",
        "colab_type": "code",
        "colab": {}
      },
      "source": [
        ""
      ],
      "execution_count": null,
      "outputs": []
    }
  ]
}