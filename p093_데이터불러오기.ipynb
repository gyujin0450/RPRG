{
  "nbformat": 4,
  "nbformat_minor": 0,
  "metadata": {
    "colab": {
      "name": "p93_데이터불러오기.ipynb",
      "provenance": [],
      "collapsed_sections": [],
      "authorship_tag": "ABX9TyPF6nTzaABkPsbdMhn43cGN",
      "include_colab_link": true
    },
    "kernelspec": {
      "name": "ir",
      "display_name": "R"
    }
  },
  "cells": [
    {
      "cell_type": "markdown",
      "metadata": {
        "id": "view-in-github",
        "colab_type": "text"
      },
      "source": [
        "<a href=\"https://colab.research.google.com/github/gyujin0450/RPRG/blob/master/p093_%EB%8D%B0%EC%9D%B4%ED%84%B0%EB%B6%88%EB%9F%AC%EC%98%A4%EA%B8%B0.ipynb\" target=\"_parent\"><img src=\"https://colab.research.google.com/assets/colab-badge.svg\" alt=\"Open In Colab\"/></a>"
      ]
    },
    {
      "cell_type": "markdown",
      "metadata": {
        "id": "fY9atOAc8EG0"
      },
      "source": [
        "# ch03.1 데이터 불러오기"
      ]
    },
    {
      "cell_type": "code",
      "metadata": {
        "id": "CdhGbfmT8fuy"
      },
      "source": [
        "# scan() 함수 이용\n",
        "# 키보드로 부터 숫자 입력하기, R Studio 에서 실행 필요\n",
        "num <- scan() "
      ],
      "execution_count": null,
      "outputs": []
    },
    {
      "cell_type": "code",
      "metadata": {
        "id": "TweCEQcB9PsM"
      },
      "source": [
        "# 키보드로 문자 입력하기, R Studio 에서 실행 필요\n",
        "name <- scan(what = character())"
      ],
      "execution_count": null,
      "outputs": []
    },
    {
      "cell_type": "code",
      "metadata": {
        "id": "ckuJmHTQ9rJR"
      },
      "source": [
        "# 편집기를 이용한 데이터프레임 만들기, R Studio 에서 실행 필요\n",
        "df = data.frame()\n",
        "df = edit(df)\n",
        "df"
      ],
      "execution_count": null,
      "outputs": []
    },
    {
      "cell_type": "code",
      "metadata": {
        "id": "mrwy5sfu_Wzk",
        "outputId": "2a96097b-e6d1-424f-8091-54b7e3ca24cf",
        "colab": {
          "base_uri": "https://localhost:8080/",
          "height": 33
        }
      },
      "source": [
        "# read.table() 함수 이용, R Studio 에서 실행 필요\n",
        "# read.table(file=\"경로명/파일명\", sep=\"공백|탭|콜론|세미콜론|콤마\",header=\"T|F\")\n",
        "getwd()\n",
        "setwd(\"작업 디렉토리 설정\")\n",
        "student <- read.table(file = \"테이블 형식의 파일\")\n",
        "student\n",
        "names(student) <- c(\"번호\",\"이름\",\"키\",\"몸무게\")\n",
        "student"
      ],
      "execution_count": null,
      "outputs": [
        {
          "output_type": "display_data",
          "data": {
            "text/plain": [
              "[1] \"/content\""
            ],
            "text/latex": "'/content'",
            "text/markdown": "'/content'",
            "text/html": [
              "'/content'"
            ]
          },
          "metadata": {
            "tags": []
          }
        }
      ]
    },
    {
      "cell_type": "code",
      "metadata": {
        "id": "LUklibpeA0x2"
      },
      "source": [
        "# 컬럼명이 있는 파일 불러오기, R Studio 에서 실행 필요\n",
        "student1 <- read.table(file = \"테이블 형식의 TXT 파일\",header=T)\n",
        "student1"
      ],
      "execution_count": null,
      "outputs": []
    },
    {
      "cell_type": "code",
      "metadata": {
        "id": "dDxTVomXD9Zi"
      },
      "source": [
        "# 탐색기를 통해서 파일 선택하기\n",
        "student2 <- read.table(file.choose(),header = TRUE)\n",
        "stident2"
      ],
      "execution_count": null,
      "outputs": []
    },
    {
      "cell_type": "code",
      "metadata": {
        "id": "d6vYAZhrFtWm"
      },
      "source": [
        "# 구분자가 있는 경우\n",
        "student3 <- read.table(file.choose(),sep=\",\",header = TRUE)\n",
        "student3"
      ],
      "execution_count": null,
      "outputs": []
    },
    {
      "cell_type": "code",
      "metadata": {
        "id": "mokG_XjJGIPv"
      },
      "source": [
        "# 결측치를 처리하여 파일 불러오기\n",
        "student4 <- read.table(file.choose(),sep=\",\",header = TRUE,na.strings = \"-\")\n",
        "student4"
      ],
      "execution_count": null,
      "outputs": []
    },
    {
      "cell_type": "code",
      "metadata": {
        "id": "nFVkrVgMG-VX"
      },
      "source": [
        "# read.csv() 함수 이용\n",
        "student5 <- read.csv(\"경로명/파일명\"[,sep=\",\"][,header = TRUE])\n",
        "student5"
      ],
      "execution_count": null,
      "outputs": []
    },
    {
      "cell_type": "code",
      "metadata": {
        "id": "oj6paNuaWpeJ",
        "outputId": "0fe9fef9-8b6f-4b43-80ca-43055820b7be",
        "colab": {
          "base_uri": "https://localhost:8080/",
          "height": 70
        }
      },
      "source": [
        "# read.excel() 함수 이용\n",
        "install.packages(\"readxl\")\n",
        "library(readxl)"
      ],
      "execution_count": null,
      "outputs": [
        {
          "output_type": "stream",
          "text": [
            "Installing package into ‘/usr/local/lib/R/site-library’\n",
            "(as ‘lib’ is unspecified)\n",
            "\n"
          ],
          "name": "stderr"
        }
      ]
    },
    {
      "cell_type": "code",
      "metadata": {
        "id": "EyK5C5BvXm_P"
      },
      "source": [
        "st_excel <- read_excel(path=\"경로명/파일명\", sheet = \"시트명\")\n",
        "st_excel "
      ],
      "execution_count": null,
      "outputs": []
    },
    {
      "cell_type": "code",
      "metadata": {
        "id": "10JfEoT3Yxo7",
        "outputId": "87fbcbc2-eecb-44c9-9afe-0321b4738aa9",
        "colab": {
          "base_uri": "https://localhost:8080/",
          "height": 1000
        }
      },
      "source": [
        "# 인터넷에서 파일 가져오기\n",
        "titanic <- read.csv(\"https://raw.githubusercontent.com/gyujin0450/dataset/master/titanic.csv\")\n",
        "titanic"
      ],
      "execution_count": null,
      "outputs": [
        {
          "output_type": "display_data",
          "data": {
            "text/plain": [
              "     pclass survived name                                              sex   \n",
              "1    1      1        Allen, Miss. Elisabeth Walton                     female\n",
              "2    1      1        Allison, Master. Hudson Trevor                    male  \n",
              "3    1      0        Allison, Miss. Helen Loraine                      female\n",
              "4    1      0        Allison, Mr. Hudson Joshua Creighton              male  \n",
              "5    1      0        Allison, Mrs. Hudson J C (Bessie Waldo Daniels)   female\n",
              "6    1      1        Anderson, Mr. Harry                               male  \n",
              "7    1      1        Andrews, Miss. Kornelia Theodosia                 female\n",
              "8    1      0        Andrews, Mr. Thomas Jr                            male  \n",
              "9    1      1        Appleton, Mrs. Edward Dale (Charlotte Lamson)     female\n",
              "10   1      0        Artagaveytia, Mr. Ramon                           male  \n",
              "11   1      0        Astor, Col. John Jacob                            male  \n",
              "12   1      1        Astor, Mrs. John Jacob (Madeleine Talmadge Force) female\n",
              "13   1      1        Aubart, Mme. Leontine Pauline                     female\n",
              "14   1      1        Barber, Miss. Ellen \"Nellie\"                      female\n",
              "15   1      1        Barkworth, Mr. Algernon Henry Wilson              male  \n",
              "16   1      0        Baumann, Mr. John D                               male  \n",
              "17   1      0        Baxter, Mr. Quigg Edmond                          male  \n",
              "18   1      1        Baxter, Mrs. James (Helene DeLaudeniere Chaput)   female\n",
              "19   1      1        Bazzani, Miss. Albina                             female\n",
              "20   1      0        Beattie, Mr. Thomson                              male  \n",
              "21   1      1        Beckwith, Mr. Richard Leonard                     male  \n",
              "22   1      1        Beckwith, Mrs. Richard Leonard (Sallie Monypeny)  female\n",
              "23   1      1        Behr, Mr. Karl Howell                             male  \n",
              "24   1      1        Bidois, Miss. Rosalie                             female\n",
              "25   1      1        Bird, Miss. Ellen                                 female\n",
              "26   1      0        Birnbaum, Mr. Jakob                               male  \n",
              "27   1      1        Bishop, Mr. Dickinson H                           male  \n",
              "28   1      1        Bishop, Mrs. Dickinson H (Helen Walton)           female\n",
              "29   1      1        Bissette, Miss. Amelia                            female\n",
              "30   1      1        Bjornstrom-Steffansson, Mr. Mauritz Hakan         male  \n",
              "⋮    ⋮      ⋮        ⋮                                                 ⋮     \n",
              "1281  3      0       Vovk, Mr. Janko                                   male  \n",
              "1282  3      0       Waelens, Mr. Achille                              male  \n",
              "1283  3      0       Ware, Mr. Frederick                               male  \n",
              "1284  3      0       Warren, Mr. Charles William                       male  \n",
              "1285  3      0       Webber, Mr. James                                 male  \n",
              "1286  3      0       Wenzel, Mr. Linhart                               male  \n",
              "1287  3      1       Whabee, Mrs. George Joseph (Shawneene Abi-Saab)   female\n",
              "1288  3      0       Widegren, Mr. Carl/Charles Peter                  male  \n",
              "1289  3      0       Wiklund, Mr. Jakob Alfred                         male  \n",
              "1290  3      0       Wiklund, Mr. Karl Johan                           male  \n",
              "1291  3      1       Wilkes, Mrs. James (Ellen Needs)                  female\n",
              "1292  3      0       Willer, Mr. Aaron (\"Abi Weller\")                  male  \n",
              "1293  3      0       Willey, Mr. Edward                                male  \n",
              "1294  3      0       Williams, Mr. Howard Hugh \"Harry\"                 male  \n",
              "1295  3      0       Williams, Mr. Leslie                              male  \n",
              "1296  3      0       Windelov, Mr. Einar                               male  \n",
              "1297  3      0       Wirz, Mr. Albert                                  male  \n",
              "1298  3      0       Wiseman, Mr. Phillippe                            male  \n",
              "1299  3      0       Wittevrongel, Mr. Camille                         male  \n",
              "1300  3      0       Yasbeck, Mr. Antoni                               male  \n",
              "1301  3      1       Yasbeck, Mrs. Antoni (Selini Alexander)           female\n",
              "1302  3      0       Youseff, Mr. Gerious                              male  \n",
              "1303  3      0       Yousif, Mr. Wazli                                 male  \n",
              "1304  3      0       Yousseff, Mr. Gerious                             male  \n",
              "1305  3      0       Zabour, Miss. Hileni                              female\n",
              "1306  3      0       Zabour, Miss. Thamine                             female\n",
              "1307  3      0       Zakarian, Mr. Mapriededer                         male  \n",
              "1308  3      0       Zakarian, Mr. Ortin                               male  \n",
              "1309  3      0       Zimmerman, Mr. Leo                                male  \n",
              "1310 NA     NA                                                               \n",
              "     age     sibsp parch ticket           fare     cabin   embarked\n",
              "1    29.0000 0     0     24160            211.3375 B5      S       \n",
              "2     0.9167 1     2     113781           151.5500 C22 C26 S       \n",
              "3     2.0000 1     2     113781           151.5500 C22 C26 S       \n",
              "4    30.0000 1     2     113781           151.5500 C22 C26 S       \n",
              "5    25.0000 1     2     113781           151.5500 C22 C26 S       \n",
              "6    48.0000 0     0     19952             26.5500 E12     S       \n",
              "7    63.0000 1     0     13502             77.9583 D7      S       \n",
              "8    39.0000 0     0     112050             0.0000 A36     S       \n",
              "9    53.0000 2     0     11769             51.4792 C101    S       \n",
              "10   71.0000 0     0     PC 17609          49.5042         C       \n",
              "11   47.0000 1     0     PC 17757         227.5250 C62 C64 C       \n",
              "12   18.0000 1     0     PC 17757         227.5250 C62 C64 C       \n",
              "13   24.0000 0     0     PC 17477          69.3000 B35     C       \n",
              "14   26.0000 0     0     19877             78.8500         S       \n",
              "15   80.0000 0     0     27042             30.0000 A23     S       \n",
              "16        NA 0     0     PC 17318          25.9250         S       \n",
              "17   24.0000 0     1     PC 17558         247.5208 B58 B60 C       \n",
              "18   50.0000 0     1     PC 17558         247.5208 B58 B60 C       \n",
              "19   32.0000 0     0     11813             76.2917 D15     C       \n",
              "20   36.0000 0     0     13050             75.2417 C6      C       \n",
              "21   37.0000 1     1     11751             52.5542 D35     S       \n",
              "22   47.0000 1     1     11751             52.5542 D35     S       \n",
              "23   26.0000 0     0     111369            30.0000 C148    C       \n",
              "24   42.0000 0     0     PC 17757         227.5250         C       \n",
              "25   29.0000 0     0     PC 17483         221.7792 C97     S       \n",
              "26   25.0000 0     0     13905             26.0000         C       \n",
              "27   25.0000 1     0     11967             91.0792 B49     C       \n",
              "28   19.0000 1     0     11967             91.0792 B49     C       \n",
              "29   35.0000 0     0     PC 17760         135.6333 C99     S       \n",
              "30   28.0000 0     0     110564            26.5500 C52     S       \n",
              "⋮    ⋮       ⋮     ⋮     ⋮                ⋮        ⋮       ⋮       \n",
              "1281 22.0     0     0    349252            7.8958          S       \n",
              "1282 22.0     0     0    345767            9.0000          S       \n",
              "1283   NA     0     0    359309            8.0500          S       \n",
              "1284   NA     0     0    C.A. 49867        7.5500          S       \n",
              "1285   NA     0     0    SOTON/OQ 3101316  8.0500          S       \n",
              "1286 32.5     0     0    345775            9.5000          S       \n",
              "1287 38.0     0     0    2688              7.2292          C       \n",
              "1288 51.0     0     0    347064            7.7500          S       \n",
              "1289 18.0     1     0    3101267           6.4958          S       \n",
              "1290 21.0     1     0    3101266           6.4958          S       \n",
              "1291 47.0     1     0    363272            7.0000          S       \n",
              "1292   NA     0     0    3410              8.7125          S       \n",
              "1293   NA     0     0    S.O./P.P. 751     7.5500          S       \n",
              "1294   NA     0     0    A/5 2466          8.0500          S       \n",
              "1295 28.5     0     0    54636            16.1000          S       \n",
              "1296 21.0     0     0    SOTON/OQ 3101317  7.2500          S       \n",
              "1297 27.0     0     0    315154            8.6625          S       \n",
              "1298   NA     0     0    A/4. 34244        7.2500          S       \n",
              "1299 36.0     0     0    345771            9.5000          S       \n",
              "1300 27.0     1     0    2659             14.4542          C       \n",
              "1301 15.0     1     0    2659             14.4542          C       \n",
              "1302 45.5     0     0    2628              7.2250          C       \n",
              "1303   NA     0     0    2647              7.2250          C       \n",
              "1304   NA     0     0    2627             14.4583          C       \n",
              "1305 14.5     1     0    2665             14.4542          C       \n",
              "1306   NA     1     0    2665             14.4542          C       \n",
              "1307 26.5     0     0    2656              7.2250          C       \n",
              "1308 27.0     0     0    2670              7.2250          C       \n",
              "1309 29.0     0     0    315082            7.8750          S       \n",
              "1310   NA    NA    NA                          NA                  "
            ],
            "text/latex": "A data.frame: 1310 × 11\n\\begin{tabular}{lllllllllll}\n pclass & survived & name & sex & age & sibsp & parch & ticket & fare & cabin & embarked\\\\\n <int> & <int> & <fct> & <fct> & <dbl> & <int> & <int> & <fct> & <dbl> & <fct> & <fct>\\\\\n\\hline\n\t 1 & 1 & Allen, Miss. Elisabeth Walton                     & female & 29.0000 & 0 & 0 & 24160    & 211.3375 & B5      & S\\\\\n\t 1 & 1 & Allison, Master. Hudson Trevor                    & male   &  0.9167 & 1 & 2 & 113781   & 151.5500 & C22 C26 & S\\\\\n\t 1 & 0 & Allison, Miss. Helen Loraine                      & female &  2.0000 & 1 & 2 & 113781   & 151.5500 & C22 C26 & S\\\\\n\t 1 & 0 & Allison, Mr. Hudson Joshua Creighton              & male   & 30.0000 & 1 & 2 & 113781   & 151.5500 & C22 C26 & S\\\\\n\t 1 & 0 & Allison, Mrs. Hudson J C (Bessie Waldo Daniels)   & female & 25.0000 & 1 & 2 & 113781   & 151.5500 & C22 C26 & S\\\\\n\t 1 & 1 & Anderson, Mr. Harry                               & male   & 48.0000 & 0 & 0 & 19952    &  26.5500 & E12     & S\\\\\n\t 1 & 1 & Andrews, Miss. Kornelia Theodosia                 & female & 63.0000 & 1 & 0 & 13502    &  77.9583 & D7      & S\\\\\n\t 1 & 0 & Andrews, Mr. Thomas Jr                            & male   & 39.0000 & 0 & 0 & 112050   &   0.0000 & A36     & S\\\\\n\t 1 & 1 & Appleton, Mrs. Edward Dale (Charlotte Lamson)     & female & 53.0000 & 2 & 0 & 11769    &  51.4792 & C101    & S\\\\\n\t 1 & 0 & Artagaveytia, Mr. Ramon                           & male   & 71.0000 & 0 & 0 & PC 17609 &  49.5042 &         & C\\\\\n\t 1 & 0 & Astor, Col. John Jacob                            & male   & 47.0000 & 1 & 0 & PC 17757 & 227.5250 & C62 C64 & C\\\\\n\t 1 & 1 & Astor, Mrs. John Jacob (Madeleine Talmadge Force) & female & 18.0000 & 1 & 0 & PC 17757 & 227.5250 & C62 C64 & C\\\\\n\t 1 & 1 & Aubart, Mme. Leontine Pauline                     & female & 24.0000 & 0 & 0 & PC 17477 &  69.3000 & B35     & C\\\\\n\t 1 & 1 & Barber, Miss. Ellen \"Nellie\"                      & female & 26.0000 & 0 & 0 & 19877    &  78.8500 &         & S\\\\\n\t 1 & 1 & Barkworth, Mr. Algernon Henry Wilson              & male   & 80.0000 & 0 & 0 & 27042    &  30.0000 & A23     & S\\\\\n\t 1 & 0 & Baumann, Mr. John D                               & male   &      NA & 0 & 0 & PC 17318 &  25.9250 &         & S\\\\\n\t 1 & 0 & Baxter, Mr. Quigg Edmond                          & male   & 24.0000 & 0 & 1 & PC 17558 & 247.5208 & B58 B60 & C\\\\\n\t 1 & 1 & Baxter, Mrs. James (Helene DeLaudeniere Chaput)   & female & 50.0000 & 0 & 1 & PC 17558 & 247.5208 & B58 B60 & C\\\\\n\t 1 & 1 & Bazzani, Miss. Albina                             & female & 32.0000 & 0 & 0 & 11813    &  76.2917 & D15     & C\\\\\n\t 1 & 0 & Beattie, Mr. Thomson                              & male   & 36.0000 & 0 & 0 & 13050    &  75.2417 & C6      & C\\\\\n\t 1 & 1 & Beckwith, Mr. Richard Leonard                     & male   & 37.0000 & 1 & 1 & 11751    &  52.5542 & D35     & S\\\\\n\t 1 & 1 & Beckwith, Mrs. Richard Leonard (Sallie Monypeny)  & female & 47.0000 & 1 & 1 & 11751    &  52.5542 & D35     & S\\\\\n\t 1 & 1 & Behr, Mr. Karl Howell                             & male   & 26.0000 & 0 & 0 & 111369   &  30.0000 & C148    & C\\\\\n\t 1 & 1 & Bidois, Miss. Rosalie                             & female & 42.0000 & 0 & 0 & PC 17757 & 227.5250 &         & C\\\\\n\t 1 & 1 & Bird, Miss. Ellen                                 & female & 29.0000 & 0 & 0 & PC 17483 & 221.7792 & C97     & S\\\\\n\t 1 & 0 & Birnbaum, Mr. Jakob                               & male   & 25.0000 & 0 & 0 & 13905    &  26.0000 &         & C\\\\\n\t 1 & 1 & Bishop, Mr. Dickinson H                           & male   & 25.0000 & 1 & 0 & 11967    &  91.0792 & B49     & C\\\\\n\t 1 & 1 & Bishop, Mrs. Dickinson H (Helen Walton)           & female & 19.0000 & 1 & 0 & 11967    &  91.0792 & B49     & C\\\\\n\t 1 & 1 & Bissette, Miss. Amelia                            & female & 35.0000 & 0 & 0 & PC 17760 & 135.6333 & C99     & S\\\\\n\t 1 & 1 & Bjornstrom-Steffansson, Mr. Mauritz Hakan         & male   & 28.0000 & 0 & 0 & 110564   &  26.5500 & C52     & S\\\\\n\t ⋮ & ⋮ & ⋮ & ⋮ & ⋮ & ⋮ & ⋮ & ⋮ & ⋮ & ⋮ & ⋮\\\\\n\t  3 &  0 & Vovk, Mr. Janko                                 & male   & 22.0 &  0 &  0 & 349252           &  7.8958 &  & S\\\\\n\t  3 &  0 & Waelens, Mr. Achille                            & male   & 22.0 &  0 &  0 & 345767           &  9.0000 &  & S\\\\\n\t  3 &  0 & Ware, Mr. Frederick                             & male   &   NA &  0 &  0 & 359309           &  8.0500 &  & S\\\\\n\t  3 &  0 & Warren, Mr. Charles William                     & male   &   NA &  0 &  0 & C.A. 49867       &  7.5500 &  & S\\\\\n\t  3 &  0 & Webber, Mr. James                               & male   &   NA &  0 &  0 & SOTON/OQ 3101316 &  8.0500 &  & S\\\\\n\t  3 &  0 & Wenzel, Mr. Linhart                             & male   & 32.5 &  0 &  0 & 345775           &  9.5000 &  & S\\\\\n\t  3 &  1 & Whabee, Mrs. George Joseph (Shawneene Abi-Saab) & female & 38.0 &  0 &  0 & 2688             &  7.2292 &  & C\\\\\n\t  3 &  0 & Widegren, Mr. Carl/Charles Peter                & male   & 51.0 &  0 &  0 & 347064           &  7.7500 &  & S\\\\\n\t  3 &  0 & Wiklund, Mr. Jakob Alfred                       & male   & 18.0 &  1 &  0 & 3101267          &  6.4958 &  & S\\\\\n\t  3 &  0 & Wiklund, Mr. Karl Johan                         & male   & 21.0 &  1 &  0 & 3101266          &  6.4958 &  & S\\\\\n\t  3 &  1 & Wilkes, Mrs. James (Ellen Needs)                & female & 47.0 &  1 &  0 & 363272           &  7.0000 &  & S\\\\\n\t  3 &  0 & Willer, Mr. Aaron (\"Abi Weller\")                & male   &   NA &  0 &  0 & 3410             &  8.7125 &  & S\\\\\n\t  3 &  0 & Willey, Mr. Edward                              & male   &   NA &  0 &  0 & S.O./P.P. 751    &  7.5500 &  & S\\\\\n\t  3 &  0 & Williams, Mr. Howard Hugh \"Harry\"               & male   &   NA &  0 &  0 & A/5 2466         &  8.0500 &  & S\\\\\n\t  3 &  0 & Williams, Mr. Leslie                            & male   & 28.5 &  0 &  0 & 54636            & 16.1000 &  & S\\\\\n\t  3 &  0 & Windelov, Mr. Einar                             & male   & 21.0 &  0 &  0 & SOTON/OQ 3101317 &  7.2500 &  & S\\\\\n\t  3 &  0 & Wirz, Mr. Albert                                & male   & 27.0 &  0 &  0 & 315154           &  8.6625 &  & S\\\\\n\t  3 &  0 & Wiseman, Mr. Phillippe                          & male   &   NA &  0 &  0 & A/4. 34244       &  7.2500 &  & S\\\\\n\t  3 &  0 & Wittevrongel, Mr. Camille                       & male   & 36.0 &  0 &  0 & 345771           &  9.5000 &  & S\\\\\n\t  3 &  0 & Yasbeck, Mr. Antoni                             & male   & 27.0 &  1 &  0 & 2659             & 14.4542 &  & C\\\\\n\t  3 &  1 & Yasbeck, Mrs. Antoni (Selini Alexander)         & female & 15.0 &  1 &  0 & 2659             & 14.4542 &  & C\\\\\n\t  3 &  0 & Youseff, Mr. Gerious                            & male   & 45.5 &  0 &  0 & 2628             &  7.2250 &  & C\\\\\n\t  3 &  0 & Yousif, Mr. Wazli                               & male   &   NA &  0 &  0 & 2647             &  7.2250 &  & C\\\\\n\t  3 &  0 & Yousseff, Mr. Gerious                           & male   &   NA &  0 &  0 & 2627             & 14.4583 &  & C\\\\\n\t  3 &  0 & Zabour, Miss. Hileni                            & female & 14.5 &  1 &  0 & 2665             & 14.4542 &  & C\\\\\n\t  3 &  0 & Zabour, Miss. Thamine                           & female &   NA &  1 &  0 & 2665             & 14.4542 &  & C\\\\\n\t  3 &  0 & Zakarian, Mr. Mapriededer                       & male   & 26.5 &  0 &  0 & 2656             &  7.2250 &  & C\\\\\n\t  3 &  0 & Zakarian, Mr. Ortin                             & male   & 27.0 &  0 &  0 & 2670             &  7.2250 &  & C\\\\\n\t  3 &  0 & Zimmerman, Mr. Leo                              & male   & 29.0 &  0 &  0 & 315082           &  7.8750 &  & S\\\\\n\t NA & NA &                                                 &        &   NA & NA & NA &                  &      NA &  &  \\\\\n\\end{tabular}\n",
            "text/markdown": "\nA data.frame: 1310 × 11\n\n| pclass &lt;int&gt; | survived &lt;int&gt; | name &lt;fct&gt; | sex &lt;fct&gt; | age &lt;dbl&gt; | sibsp &lt;int&gt; | parch &lt;int&gt; | ticket &lt;fct&gt; | fare &lt;dbl&gt; | cabin &lt;fct&gt; | embarked &lt;fct&gt; |\n|---|---|---|---|---|---|---|---|---|---|---|\n| 1 | 1 | Allen, Miss. Elisabeth Walton                     | female | 29.0000 | 0 | 0 | 24160    | 211.3375 | B5      | S |\n| 1 | 1 | Allison, Master. Hudson Trevor                    | male   |  0.9167 | 1 | 2 | 113781   | 151.5500 | C22 C26 | S |\n| 1 | 0 | Allison, Miss. Helen Loraine                      | female |  2.0000 | 1 | 2 | 113781   | 151.5500 | C22 C26 | S |\n| 1 | 0 | Allison, Mr. Hudson Joshua Creighton              | male   | 30.0000 | 1 | 2 | 113781   | 151.5500 | C22 C26 | S |\n| 1 | 0 | Allison, Mrs. Hudson J C (Bessie Waldo Daniels)   | female | 25.0000 | 1 | 2 | 113781   | 151.5500 | C22 C26 | S |\n| 1 | 1 | Anderson, Mr. Harry                               | male   | 48.0000 | 0 | 0 | 19952    |  26.5500 | E12     | S |\n| 1 | 1 | Andrews, Miss. Kornelia Theodosia                 | female | 63.0000 | 1 | 0 | 13502    |  77.9583 | D7      | S |\n| 1 | 0 | Andrews, Mr. Thomas Jr                            | male   | 39.0000 | 0 | 0 | 112050   |   0.0000 | A36     | S |\n| 1 | 1 | Appleton, Mrs. Edward Dale (Charlotte Lamson)     | female | 53.0000 | 2 | 0 | 11769    |  51.4792 | C101    | S |\n| 1 | 0 | Artagaveytia, Mr. Ramon                           | male   | 71.0000 | 0 | 0 | PC 17609 |  49.5042 | <!----> | C |\n| 1 | 0 | Astor, Col. John Jacob                            | male   | 47.0000 | 1 | 0 | PC 17757 | 227.5250 | C62 C64 | C |\n| 1 | 1 | Astor, Mrs. John Jacob (Madeleine Talmadge Force) | female | 18.0000 | 1 | 0 | PC 17757 | 227.5250 | C62 C64 | C |\n| 1 | 1 | Aubart, Mme. Leontine Pauline                     | female | 24.0000 | 0 | 0 | PC 17477 |  69.3000 | B35     | C |\n| 1 | 1 | Barber, Miss. Ellen \"Nellie\"                      | female | 26.0000 | 0 | 0 | 19877    |  78.8500 | <!----> | S |\n| 1 | 1 | Barkworth, Mr. Algernon Henry Wilson              | male   | 80.0000 | 0 | 0 | 27042    |  30.0000 | A23     | S |\n| 1 | 0 | Baumann, Mr. John D                               | male   |      NA | 0 | 0 | PC 17318 |  25.9250 | <!----> | S |\n| 1 | 0 | Baxter, Mr. Quigg Edmond                          | male   | 24.0000 | 0 | 1 | PC 17558 | 247.5208 | B58 B60 | C |\n| 1 | 1 | Baxter, Mrs. James (Helene DeLaudeniere Chaput)   | female | 50.0000 | 0 | 1 | PC 17558 | 247.5208 | B58 B60 | C |\n| 1 | 1 | Bazzani, Miss. Albina                             | female | 32.0000 | 0 | 0 | 11813    |  76.2917 | D15     | C |\n| 1 | 0 | Beattie, Mr. Thomson                              | male   | 36.0000 | 0 | 0 | 13050    |  75.2417 | C6      | C |\n| 1 | 1 | Beckwith, Mr. Richard Leonard                     | male   | 37.0000 | 1 | 1 | 11751    |  52.5542 | D35     | S |\n| 1 | 1 | Beckwith, Mrs. Richard Leonard (Sallie Monypeny)  | female | 47.0000 | 1 | 1 | 11751    |  52.5542 | D35     | S |\n| 1 | 1 | Behr, Mr. Karl Howell                             | male   | 26.0000 | 0 | 0 | 111369   |  30.0000 | C148    | C |\n| 1 | 1 | Bidois, Miss. Rosalie                             | female | 42.0000 | 0 | 0 | PC 17757 | 227.5250 | <!----> | C |\n| 1 | 1 | Bird, Miss. Ellen                                 | female | 29.0000 | 0 | 0 | PC 17483 | 221.7792 | C97     | S |\n| 1 | 0 | Birnbaum, Mr. Jakob                               | male   | 25.0000 | 0 | 0 | 13905    |  26.0000 | <!----> | C |\n| 1 | 1 | Bishop, Mr. Dickinson H                           | male   | 25.0000 | 1 | 0 | 11967    |  91.0792 | B49     | C |\n| 1 | 1 | Bishop, Mrs. Dickinson H (Helen Walton)           | female | 19.0000 | 1 | 0 | 11967    |  91.0792 | B49     | C |\n| 1 | 1 | Bissette, Miss. Amelia                            | female | 35.0000 | 0 | 0 | PC 17760 | 135.6333 | C99     | S |\n| 1 | 1 | Bjornstrom-Steffansson, Mr. Mauritz Hakan         | male   | 28.0000 | 0 | 0 | 110564   |  26.5500 | C52     | S |\n| ⋮ | ⋮ | ⋮ | ⋮ | ⋮ | ⋮ | ⋮ | ⋮ | ⋮ | ⋮ | ⋮ |\n|  3 |  0 | Vovk, Mr. Janko                                 | male   | 22.0 |  0 |  0 | 349252           |  7.8958 | <!----> | S |\n|  3 |  0 | Waelens, Mr. Achille                            | male   | 22.0 |  0 |  0 | 345767           |  9.0000 | <!----> | S |\n|  3 |  0 | Ware, Mr. Frederick                             | male   |   NA |  0 |  0 | 359309           |  8.0500 | <!----> | S |\n|  3 |  0 | Warren, Mr. Charles William                     | male   |   NA |  0 |  0 | C.A. 49867       |  7.5500 | <!----> | S |\n|  3 |  0 | Webber, Mr. James                               | male   |   NA |  0 |  0 | SOTON/OQ 3101316 |  8.0500 | <!----> | S |\n|  3 |  0 | Wenzel, Mr. Linhart                             | male   | 32.5 |  0 |  0 | 345775           |  9.5000 | <!----> | S |\n|  3 |  1 | Whabee, Mrs. George Joseph (Shawneene Abi-Saab) | female | 38.0 |  0 |  0 | 2688             |  7.2292 | <!----> | C |\n|  3 |  0 | Widegren, Mr. Carl/Charles Peter                | male   | 51.0 |  0 |  0 | 347064           |  7.7500 | <!----> | S |\n|  3 |  0 | Wiklund, Mr. Jakob Alfred                       | male   | 18.0 |  1 |  0 | 3101267          |  6.4958 | <!----> | S |\n|  3 |  0 | Wiklund, Mr. Karl Johan                         | male   | 21.0 |  1 |  0 | 3101266          |  6.4958 | <!----> | S |\n|  3 |  1 | Wilkes, Mrs. James (Ellen Needs)                | female | 47.0 |  1 |  0 | 363272           |  7.0000 | <!----> | S |\n|  3 |  0 | Willer, Mr. Aaron (\"Abi Weller\")                | male   |   NA |  0 |  0 | 3410             |  8.7125 | <!----> | S |\n|  3 |  0 | Willey, Mr. Edward                              | male   |   NA |  0 |  0 | S.O./P.P. 751    |  7.5500 | <!----> | S |\n|  3 |  0 | Williams, Mr. Howard Hugh \"Harry\"               | male   |   NA |  0 |  0 | A/5 2466         |  8.0500 | <!----> | S |\n|  3 |  0 | Williams, Mr. Leslie                            | male   | 28.5 |  0 |  0 | 54636            | 16.1000 | <!----> | S |\n|  3 |  0 | Windelov, Mr. Einar                             | male   | 21.0 |  0 |  0 | SOTON/OQ 3101317 |  7.2500 | <!----> | S |\n|  3 |  0 | Wirz, Mr. Albert                                | male   | 27.0 |  0 |  0 | 315154           |  8.6625 | <!----> | S |\n|  3 |  0 | Wiseman, Mr. Phillippe                          | male   |   NA |  0 |  0 | A/4. 34244       |  7.2500 | <!----> | S |\n|  3 |  0 | Wittevrongel, Mr. Camille                       | male   | 36.0 |  0 |  0 | 345771           |  9.5000 | <!----> | S |\n|  3 |  0 | Yasbeck, Mr. Antoni                             | male   | 27.0 |  1 |  0 | 2659             | 14.4542 | <!----> | C |\n|  3 |  1 | Yasbeck, Mrs. Antoni (Selini Alexander)         | female | 15.0 |  1 |  0 | 2659             | 14.4542 | <!----> | C |\n|  3 |  0 | Youseff, Mr. Gerious                            | male   | 45.5 |  0 |  0 | 2628             |  7.2250 | <!----> | C |\n|  3 |  0 | Yousif, Mr. Wazli                               | male   |   NA |  0 |  0 | 2647             |  7.2250 | <!----> | C |\n|  3 |  0 | Yousseff, Mr. Gerious                           | male   |   NA |  0 |  0 | 2627             | 14.4583 | <!----> | C |\n|  3 |  0 | Zabour, Miss. Hileni                            | female | 14.5 |  1 |  0 | 2665             | 14.4542 | <!----> | C |\n|  3 |  0 | Zabour, Miss. Thamine                           | female |   NA |  1 |  0 | 2665             | 14.4542 | <!----> | C |\n|  3 |  0 | Zakarian, Mr. Mapriededer                       | male   | 26.5 |  0 |  0 | 2656             |  7.2250 | <!----> | C |\n|  3 |  0 | Zakarian, Mr. Ortin                             | male   | 27.0 |  0 |  0 | 2670             |  7.2250 | <!----> | C |\n|  3 |  0 | Zimmerman, Mr. Leo                              | male   | 29.0 |  0 |  0 | 315082           |  7.8750 | <!----> | S |\n| NA | NA | <!----> | <!----> |   NA | NA | NA | <!----> |      NA | <!----> | <!----> |\n\n",
            "text/html": [
              "<table>\n",
              "<caption>A data.frame: 1310 × 11</caption>\n",
              "<thead>\n",
              "\t<tr><th scope=col>pclass</th><th scope=col>survived</th><th scope=col>name</th><th scope=col>sex</th><th scope=col>age</th><th scope=col>sibsp</th><th scope=col>parch</th><th scope=col>ticket</th><th scope=col>fare</th><th scope=col>cabin</th><th scope=col>embarked</th></tr>\n",
              "\t<tr><th scope=col>&lt;int&gt;</th><th scope=col>&lt;int&gt;</th><th scope=col>&lt;fct&gt;</th><th scope=col>&lt;fct&gt;</th><th scope=col>&lt;dbl&gt;</th><th scope=col>&lt;int&gt;</th><th scope=col>&lt;int&gt;</th><th scope=col>&lt;fct&gt;</th><th scope=col>&lt;dbl&gt;</th><th scope=col>&lt;fct&gt;</th><th scope=col>&lt;fct&gt;</th></tr>\n",
              "</thead>\n",
              "<tbody>\n",
              "\t<tr><td>1</td><td>1</td><td>Allen, Miss. Elisabeth Walton                    </td><td>female</td><td>29.0000</td><td>0</td><td>0</td><td>24160   </td><td>211.3375</td><td>B5     </td><td>S</td></tr>\n",
              "\t<tr><td>1</td><td>1</td><td>Allison, Master. Hudson Trevor                   </td><td>male  </td><td> 0.9167</td><td>1</td><td>2</td><td>113781  </td><td>151.5500</td><td>C22 C26</td><td>S</td></tr>\n",
              "\t<tr><td>1</td><td>0</td><td>Allison, Miss. Helen Loraine                     </td><td>female</td><td> 2.0000</td><td>1</td><td>2</td><td>113781  </td><td>151.5500</td><td>C22 C26</td><td>S</td></tr>\n",
              "\t<tr><td>1</td><td>0</td><td>Allison, Mr. Hudson Joshua Creighton             </td><td>male  </td><td>30.0000</td><td>1</td><td>2</td><td>113781  </td><td>151.5500</td><td>C22 C26</td><td>S</td></tr>\n",
              "\t<tr><td>1</td><td>0</td><td>Allison, Mrs. Hudson J C (Bessie Waldo Daniels)  </td><td>female</td><td>25.0000</td><td>1</td><td>2</td><td>113781  </td><td>151.5500</td><td>C22 C26</td><td>S</td></tr>\n",
              "\t<tr><td>1</td><td>1</td><td>Anderson, Mr. Harry                              </td><td>male  </td><td>48.0000</td><td>0</td><td>0</td><td>19952   </td><td> 26.5500</td><td>E12    </td><td>S</td></tr>\n",
              "\t<tr><td>1</td><td>1</td><td>Andrews, Miss. Kornelia Theodosia                </td><td>female</td><td>63.0000</td><td>1</td><td>0</td><td>13502   </td><td> 77.9583</td><td>D7     </td><td>S</td></tr>\n",
              "\t<tr><td>1</td><td>0</td><td>Andrews, Mr. Thomas Jr                           </td><td>male  </td><td>39.0000</td><td>0</td><td>0</td><td>112050  </td><td>  0.0000</td><td>A36    </td><td>S</td></tr>\n",
              "\t<tr><td>1</td><td>1</td><td>Appleton, Mrs. Edward Dale (Charlotte Lamson)    </td><td>female</td><td>53.0000</td><td>2</td><td>0</td><td>11769   </td><td> 51.4792</td><td>C101   </td><td>S</td></tr>\n",
              "\t<tr><td>1</td><td>0</td><td>Artagaveytia, Mr. Ramon                          </td><td>male  </td><td>71.0000</td><td>0</td><td>0</td><td>PC 17609</td><td> 49.5042</td><td>       </td><td>C</td></tr>\n",
              "\t<tr><td>1</td><td>0</td><td>Astor, Col. John Jacob                           </td><td>male  </td><td>47.0000</td><td>1</td><td>0</td><td>PC 17757</td><td>227.5250</td><td>C62 C64</td><td>C</td></tr>\n",
              "\t<tr><td>1</td><td>1</td><td>Astor, Mrs. John Jacob (Madeleine Talmadge Force)</td><td>female</td><td>18.0000</td><td>1</td><td>0</td><td>PC 17757</td><td>227.5250</td><td>C62 C64</td><td>C</td></tr>\n",
              "\t<tr><td>1</td><td>1</td><td>Aubart, Mme. Leontine Pauline                    </td><td>female</td><td>24.0000</td><td>0</td><td>0</td><td>PC 17477</td><td> 69.3000</td><td>B35    </td><td>C</td></tr>\n",
              "\t<tr><td>1</td><td>1</td><td>Barber, Miss. Ellen \"Nellie\"                     </td><td>female</td><td>26.0000</td><td>0</td><td>0</td><td>19877   </td><td> 78.8500</td><td>       </td><td>S</td></tr>\n",
              "\t<tr><td>1</td><td>1</td><td>Barkworth, Mr. Algernon Henry Wilson             </td><td>male  </td><td>80.0000</td><td>0</td><td>0</td><td>27042   </td><td> 30.0000</td><td>A23    </td><td>S</td></tr>\n",
              "\t<tr><td>1</td><td>0</td><td>Baumann, Mr. John D                              </td><td>male  </td><td>     NA</td><td>0</td><td>0</td><td>PC 17318</td><td> 25.9250</td><td>       </td><td>S</td></tr>\n",
              "\t<tr><td>1</td><td>0</td><td>Baxter, Mr. Quigg Edmond                         </td><td>male  </td><td>24.0000</td><td>0</td><td>1</td><td>PC 17558</td><td>247.5208</td><td>B58 B60</td><td>C</td></tr>\n",
              "\t<tr><td>1</td><td>1</td><td>Baxter, Mrs. James (Helene DeLaudeniere Chaput)  </td><td>female</td><td>50.0000</td><td>0</td><td>1</td><td>PC 17558</td><td>247.5208</td><td>B58 B60</td><td>C</td></tr>\n",
              "\t<tr><td>1</td><td>1</td><td>Bazzani, Miss. Albina                            </td><td>female</td><td>32.0000</td><td>0</td><td>0</td><td>11813   </td><td> 76.2917</td><td>D15    </td><td>C</td></tr>\n",
              "\t<tr><td>1</td><td>0</td><td>Beattie, Mr. Thomson                             </td><td>male  </td><td>36.0000</td><td>0</td><td>0</td><td>13050   </td><td> 75.2417</td><td>C6     </td><td>C</td></tr>\n",
              "\t<tr><td>1</td><td>1</td><td>Beckwith, Mr. Richard Leonard                    </td><td>male  </td><td>37.0000</td><td>1</td><td>1</td><td>11751   </td><td> 52.5542</td><td>D35    </td><td>S</td></tr>\n",
              "\t<tr><td>1</td><td>1</td><td>Beckwith, Mrs. Richard Leonard (Sallie Monypeny) </td><td>female</td><td>47.0000</td><td>1</td><td>1</td><td>11751   </td><td> 52.5542</td><td>D35    </td><td>S</td></tr>\n",
              "\t<tr><td>1</td><td>1</td><td>Behr, Mr. Karl Howell                            </td><td>male  </td><td>26.0000</td><td>0</td><td>0</td><td>111369  </td><td> 30.0000</td><td>C148   </td><td>C</td></tr>\n",
              "\t<tr><td>1</td><td>1</td><td>Bidois, Miss. Rosalie                            </td><td>female</td><td>42.0000</td><td>0</td><td>0</td><td>PC 17757</td><td>227.5250</td><td>       </td><td>C</td></tr>\n",
              "\t<tr><td>1</td><td>1</td><td>Bird, Miss. Ellen                                </td><td>female</td><td>29.0000</td><td>0</td><td>0</td><td>PC 17483</td><td>221.7792</td><td>C97    </td><td>S</td></tr>\n",
              "\t<tr><td>1</td><td>0</td><td>Birnbaum, Mr. Jakob                              </td><td>male  </td><td>25.0000</td><td>0</td><td>0</td><td>13905   </td><td> 26.0000</td><td>       </td><td>C</td></tr>\n",
              "\t<tr><td>1</td><td>1</td><td>Bishop, Mr. Dickinson H                          </td><td>male  </td><td>25.0000</td><td>1</td><td>0</td><td>11967   </td><td> 91.0792</td><td>B49    </td><td>C</td></tr>\n",
              "\t<tr><td>1</td><td>1</td><td>Bishop, Mrs. Dickinson H (Helen Walton)          </td><td>female</td><td>19.0000</td><td>1</td><td>0</td><td>11967   </td><td> 91.0792</td><td>B49    </td><td>C</td></tr>\n",
              "\t<tr><td>1</td><td>1</td><td>Bissette, Miss. Amelia                           </td><td>female</td><td>35.0000</td><td>0</td><td>0</td><td>PC 17760</td><td>135.6333</td><td>C99    </td><td>S</td></tr>\n",
              "\t<tr><td>1</td><td>1</td><td>Bjornstrom-Steffansson, Mr. Mauritz Hakan        </td><td>male  </td><td>28.0000</td><td>0</td><td>0</td><td>110564  </td><td> 26.5500</td><td>C52    </td><td>S</td></tr>\n",
              "\t<tr><td>⋮</td><td>⋮</td><td>⋮</td><td>⋮</td><td>⋮</td><td>⋮</td><td>⋮</td><td>⋮</td><td>⋮</td><td>⋮</td><td>⋮</td></tr>\n",
              "\t<tr><td> 3</td><td> 0</td><td>Vovk, Mr. Janko                                </td><td>male  </td><td>22.0</td><td> 0</td><td> 0</td><td>349252          </td><td> 7.8958</td><td></td><td>S</td></tr>\n",
              "\t<tr><td> 3</td><td> 0</td><td>Waelens, Mr. Achille                           </td><td>male  </td><td>22.0</td><td> 0</td><td> 0</td><td>345767          </td><td> 9.0000</td><td></td><td>S</td></tr>\n",
              "\t<tr><td> 3</td><td> 0</td><td>Ware, Mr. Frederick                            </td><td>male  </td><td>  NA</td><td> 0</td><td> 0</td><td>359309          </td><td> 8.0500</td><td></td><td>S</td></tr>\n",
              "\t<tr><td> 3</td><td> 0</td><td>Warren, Mr. Charles William                    </td><td>male  </td><td>  NA</td><td> 0</td><td> 0</td><td>C.A. 49867      </td><td> 7.5500</td><td></td><td>S</td></tr>\n",
              "\t<tr><td> 3</td><td> 0</td><td>Webber, Mr. James                              </td><td>male  </td><td>  NA</td><td> 0</td><td> 0</td><td>SOTON/OQ 3101316</td><td> 8.0500</td><td></td><td>S</td></tr>\n",
              "\t<tr><td> 3</td><td> 0</td><td>Wenzel, Mr. Linhart                            </td><td>male  </td><td>32.5</td><td> 0</td><td> 0</td><td>345775          </td><td> 9.5000</td><td></td><td>S</td></tr>\n",
              "\t<tr><td> 3</td><td> 1</td><td>Whabee, Mrs. George Joseph (Shawneene Abi-Saab)</td><td>female</td><td>38.0</td><td> 0</td><td> 0</td><td>2688            </td><td> 7.2292</td><td></td><td>C</td></tr>\n",
              "\t<tr><td> 3</td><td> 0</td><td>Widegren, Mr. Carl/Charles Peter               </td><td>male  </td><td>51.0</td><td> 0</td><td> 0</td><td>347064          </td><td> 7.7500</td><td></td><td>S</td></tr>\n",
              "\t<tr><td> 3</td><td> 0</td><td>Wiklund, Mr. Jakob Alfred                      </td><td>male  </td><td>18.0</td><td> 1</td><td> 0</td><td>3101267         </td><td> 6.4958</td><td></td><td>S</td></tr>\n",
              "\t<tr><td> 3</td><td> 0</td><td>Wiklund, Mr. Karl Johan                        </td><td>male  </td><td>21.0</td><td> 1</td><td> 0</td><td>3101266         </td><td> 6.4958</td><td></td><td>S</td></tr>\n",
              "\t<tr><td> 3</td><td> 1</td><td>Wilkes, Mrs. James (Ellen Needs)               </td><td>female</td><td>47.0</td><td> 1</td><td> 0</td><td>363272          </td><td> 7.0000</td><td></td><td>S</td></tr>\n",
              "\t<tr><td> 3</td><td> 0</td><td>Willer, Mr. Aaron (\"Abi Weller\")               </td><td>male  </td><td>  NA</td><td> 0</td><td> 0</td><td>3410            </td><td> 8.7125</td><td></td><td>S</td></tr>\n",
              "\t<tr><td> 3</td><td> 0</td><td>Willey, Mr. Edward                             </td><td>male  </td><td>  NA</td><td> 0</td><td> 0</td><td>S.O./P.P. 751   </td><td> 7.5500</td><td></td><td>S</td></tr>\n",
              "\t<tr><td> 3</td><td> 0</td><td>Williams, Mr. Howard Hugh \"Harry\"              </td><td>male  </td><td>  NA</td><td> 0</td><td> 0</td><td>A/5 2466        </td><td> 8.0500</td><td></td><td>S</td></tr>\n",
              "\t<tr><td> 3</td><td> 0</td><td>Williams, Mr. Leslie                           </td><td>male  </td><td>28.5</td><td> 0</td><td> 0</td><td>54636           </td><td>16.1000</td><td></td><td>S</td></tr>\n",
              "\t<tr><td> 3</td><td> 0</td><td>Windelov, Mr. Einar                            </td><td>male  </td><td>21.0</td><td> 0</td><td> 0</td><td>SOTON/OQ 3101317</td><td> 7.2500</td><td></td><td>S</td></tr>\n",
              "\t<tr><td> 3</td><td> 0</td><td>Wirz, Mr. Albert                               </td><td>male  </td><td>27.0</td><td> 0</td><td> 0</td><td>315154          </td><td> 8.6625</td><td></td><td>S</td></tr>\n",
              "\t<tr><td> 3</td><td> 0</td><td>Wiseman, Mr. Phillippe                         </td><td>male  </td><td>  NA</td><td> 0</td><td> 0</td><td>A/4. 34244      </td><td> 7.2500</td><td></td><td>S</td></tr>\n",
              "\t<tr><td> 3</td><td> 0</td><td>Wittevrongel, Mr. Camille                      </td><td>male  </td><td>36.0</td><td> 0</td><td> 0</td><td>345771          </td><td> 9.5000</td><td></td><td>S</td></tr>\n",
              "\t<tr><td> 3</td><td> 0</td><td>Yasbeck, Mr. Antoni                            </td><td>male  </td><td>27.0</td><td> 1</td><td> 0</td><td>2659            </td><td>14.4542</td><td></td><td>C</td></tr>\n",
              "\t<tr><td> 3</td><td> 1</td><td>Yasbeck, Mrs. Antoni (Selini Alexander)        </td><td>female</td><td>15.0</td><td> 1</td><td> 0</td><td>2659            </td><td>14.4542</td><td></td><td>C</td></tr>\n",
              "\t<tr><td> 3</td><td> 0</td><td>Youseff, Mr. Gerious                           </td><td>male  </td><td>45.5</td><td> 0</td><td> 0</td><td>2628            </td><td> 7.2250</td><td></td><td>C</td></tr>\n",
              "\t<tr><td> 3</td><td> 0</td><td>Yousif, Mr. Wazli                              </td><td>male  </td><td>  NA</td><td> 0</td><td> 0</td><td>2647            </td><td> 7.2250</td><td></td><td>C</td></tr>\n",
              "\t<tr><td> 3</td><td> 0</td><td>Yousseff, Mr. Gerious                          </td><td>male  </td><td>  NA</td><td> 0</td><td> 0</td><td>2627            </td><td>14.4583</td><td></td><td>C</td></tr>\n",
              "\t<tr><td> 3</td><td> 0</td><td>Zabour, Miss. Hileni                           </td><td>female</td><td>14.5</td><td> 1</td><td> 0</td><td>2665            </td><td>14.4542</td><td></td><td>C</td></tr>\n",
              "\t<tr><td> 3</td><td> 0</td><td>Zabour, Miss. Thamine                          </td><td>female</td><td>  NA</td><td> 1</td><td> 0</td><td>2665            </td><td>14.4542</td><td></td><td>C</td></tr>\n",
              "\t<tr><td> 3</td><td> 0</td><td>Zakarian, Mr. Mapriededer                      </td><td>male  </td><td>26.5</td><td> 0</td><td> 0</td><td>2656            </td><td> 7.2250</td><td></td><td>C</td></tr>\n",
              "\t<tr><td> 3</td><td> 0</td><td>Zakarian, Mr. Ortin                            </td><td>male  </td><td>27.0</td><td> 0</td><td> 0</td><td>2670            </td><td> 7.2250</td><td></td><td>C</td></tr>\n",
              "\t<tr><td> 3</td><td> 0</td><td>Zimmerman, Mr. Leo                             </td><td>male  </td><td>29.0</td><td> 0</td><td> 0</td><td>315082          </td><td> 7.8750</td><td></td><td>S</td></tr>\n",
              "\t<tr><td>NA</td><td>NA</td><td>                                               </td><td>      </td><td>  NA</td><td>NA</td><td>NA</td><td>                </td><td>     NA</td><td></td><td> </td></tr>\n",
              "</tbody>\n",
              "</table>\n"
            ]
          },
          "metadata": {
            "tags": []
          }
        }
      ]
    },
    {
      "cell_type": "code",
      "metadata": {
        "id": "3zCiGBZqZ4Tp",
        "outputId": "ae6c4875-e3b8-491f-a3c4-faad32850766",
        "colab": {
          "base_uri": "https://localhost:8080/",
          "height": 33
        }
      },
      "source": [
        "dim(titanic)"
      ],
      "execution_count": null,
      "outputs": [
        {
          "output_type": "display_data",
          "data": {
            "text/plain": [
              "[1] 1310   11"
            ],
            "text/latex": "\\begin{enumerate*}\n\\item 1310\n\\item 11\n\\end{enumerate*}\n",
            "text/markdown": "1. 1310\n2. 11\n\n\n",
            "text/html": [
              "<style>\n",
              ".list-inline {list-style: none; margin:0; padding: 0}\n",
              ".list-inline>li {display: inline-block}\n",
              ".list-inline>li:not(:last-child)::after {content: \"\\00b7\"; padding: 0 .5ex}\n",
              "</style>\n",
              "<ol class=list-inline><li>1310</li><li>11</li></ol>\n"
            ]
          },
          "metadata": {
            "tags": []
          }
        }
      ]
    },
    {
      "cell_type": "code",
      "metadata": {
        "id": "UIMJHydHZ8Mk",
        "outputId": "6b624c7a-3e43-4366-9d91-92fe0b0deb53",
        "colab": {
          "base_uri": "https://localhost:8080/",
          "height": 230
        }
      },
      "source": [
        "str(titanic)"
      ],
      "execution_count": null,
      "outputs": [
        {
          "output_type": "stream",
          "text": [
            "'data.frame':\t1310 obs. of  11 variables:\n",
            " $ pclass  : int  1 1 1 1 1 1 1 1 1 1 ...\n",
            " $ survived: int  1 1 0 0 0 1 1 0 1 0 ...\n",
            " $ name    : Factor w/ 1308 levels \"\",\"Abbing, Mr. Anthony\",..: 23 25 26 27 28 32 47 48 52 56 ...\n",
            " $ sex     : Factor w/ 3 levels \"\",\"female\",\"male\": 2 3 2 3 2 3 2 3 2 3 ...\n",
            " $ age     : num  29 0.917 2 30 25 ...\n",
            " $ sibsp   : int  0 1 1 1 1 0 1 0 2 0 ...\n",
            " $ parch   : int  0 2 2 2 2 0 0 0 0 0 ...\n",
            " $ ticket  : Factor w/ 930 levels \"\",\"110152\",\"110413\",..: 189 51 51 51 51 126 94 17 78 827 ...\n",
            " $ fare    : num  211 152 152 152 152 ...\n",
            " $ cabin   : Factor w/ 187 levels \"\",\"A10\",\"A11\",..: 45 81 81 81 81 151 147 17 63 1 ...\n",
            " $ embarked: Factor w/ 4 levels \"\",\"C\",\"Q\",\"S\": 4 4 4 4 4 4 4 4 4 2 ...\n"
          ],
          "name": "stdout"
        }
      ]
    },
    {
      "cell_type": "code",
      "metadata": {
        "id": "0YtpM4P4Z_97",
        "outputId": "b5c56bf3-b249-4796-cf25-178989aed2c6",
        "colab": {
          "base_uri": "https://localhost:8080/",
          "height": 70
        }
      },
      "source": [
        "table(titanic$embarked)"
      ],
      "execution_count": null,
      "outputs": [
        {
          "output_type": "display_data",
          "data": {
            "text/plain": [
              "\n",
              "      C   Q   S \n",
              "  3 270 123 914 "
            ]
          },
          "metadata": {
            "tags": []
          }
        }
      ]
    },
    {
      "cell_type": "code",
      "metadata": {
        "id": "FN344nVJaJRd",
        "outputId": "4fd5627d-8972-40c7-afad-dbac7c35ada9",
        "colab": {
          "base_uri": "https://localhost:8080/",
          "height": 70
        }
      },
      "source": [
        "table(titanic$sex)"
      ],
      "execution_count": null,
      "outputs": [
        {
          "output_type": "display_data",
          "data": {
            "text/plain": [
              "\n",
              "       female   male \n",
              "     1    466    843 "
            ]
          },
          "metadata": {
            "tags": []
          }
        }
      ]
    },
    {
      "cell_type": "code",
      "metadata": {
        "id": "ll54qPL5abLS",
        "outputId": "a8c19ac7-c1e6-4a42-bdc5-501008f53156",
        "colab": {
          "base_uri": "https://localhost:8080/",
          "height": 70
        }
      },
      "source": [
        "table(titanic$survived)"
      ],
      "execution_count": null,
      "outputs": [
        {
          "output_type": "display_data",
          "data": {
            "text/plain": [
              "\n",
              "  0   1 \n",
              "809 500 "
            ]
          },
          "metadata": {
            "tags": []
          }
        }
      ]
    },
    {
      "cell_type": "code",
      "metadata": {
        "id": "SiW9XRHkbW95",
        "outputId": "0f2f144d-737e-413a-93a7-38864d6aa1e5",
        "colab": {
          "base_uri": "https://localhost:8080/",
          "height": 87
        }
      },
      "source": [
        "tab <- table(titanic$survived,titanic$sex)\n",
        "tab"
      ],
      "execution_count": null,
      "outputs": [
        {
          "output_type": "display_data",
          "data": {
            "text/plain": [
              "   \n",
              "        female male\n",
              "  0   0    127  682\n",
              "  1   0    339  161"
            ]
          },
          "metadata": {
            "tags": []
          }
        }
      ]
    },
    {
      "cell_type": "code",
      "metadata": {
        "id": "RcMUKJvDb3fd",
        "outputId": "00c6bf1a-99df-4a27-9dab-cce04bbab90e",
        "colab": {
          "base_uri": "https://localhost:8080/",
          "height": 436
        }
      },
      "source": [
        "barplot(tab, col = rainbow(2), main = \"성별에 따른 생존 여부\")"
      ],
      "execution_count": null,
      "outputs": [
        {
          "output_type": "display_data",
          "data": {
            "image/png": "[encoded data removed]",
            "text/plain": [
              "Plot with title “성별에 따른 생존 여부”"
            ]
          },
          "metadata": {
            "tags": [],
            "image/png": {
              "width": 420,
              "height": 420
            }
          }
        }
      ]
    }
  ]
}