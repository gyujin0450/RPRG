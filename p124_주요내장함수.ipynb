{
  "nbformat": 4,
  "nbformat_minor": 0,
  "metadata": {
    "colab": {
      "name": "p124_주요내장함수.ipynb",
      "provenance": [],
      "collapsed_sections": [],
      "authorship_tag": "ABX9TyP6iku53urMk3WzZ9T75r6Z",
      "include_colab_link": true
    },
    "kernelspec": {
      "name": "ir",
      "display_name": "R"
    }
  },
  "cells": [
    {
      "cell_type": "markdown",
      "metadata": {
        "id": "view-in-github",
        "colab_type": "text"
      },
      "source": [
        "<a href=\"https://colab.research.google.com/github/gyujin0450/RPRG/blob/master/p124_%EC%A3%BC%EC%9A%94%EB%82%B4%EC%9E%A5%ED%95%A8%EC%88%98.ipynb\" target=\"_parent\"><img src=\"https://colab.research.google.com/assets/colab-badge.svg\" alt=\"Open In Colab\"/></a>"
      ]
    },
    {
      "cell_type": "markdown",
      "metadata": {
        "id": "3sd_L00FGuNh"
      },
      "source": [
        "ch05.5 주요내장함수"
      ]
    },
    {
      "cell_type": "code",
      "metadata": {
        "id": "qLU5YoK_G4sK"
      },
      "source": [
        "# 기술통계량 내장함수 ( v : vector, x : ??)\n",
        "# min(v), max(v), range(v), mean(v), median(v), sum(v)\n",
        "# sd(v), summary(v), table(v)\n",
        "# sort(v)  : 벡터 데이터 정렬 함수\n",
        "# order(x) : 벡터의 정렬된 값의 색인(index)을 보여주는 함수\n",
        "# rank(x)  : 벡터의 각 원소의 순위를 제공하는 함수\n",
        "# sample(x,y) : x 범위에서 y 만큼 sample 데이터를 생성하는 함수"
      ],
      "execution_count": null,
      "outputs": []
    },
    {
      "cell_type": "code",
      "metadata": {
        "id": "VSlO3uiUL_up"
      },
      "source": [
        "## 행/컬럼 단위의 합계와 평균 구하기(p125)"
      ],
      "execution_count": null,
      "outputs": []
    },
    {
      "cell_type": "code",
      "metadata": {
        "id": "YlyGPji4JmJ2",
        "outputId": "4df984db-a676-45ad-d9e3-425b30810f03",
        "colab": {
          "base_uri": "https://localhost:8080/",
          "height": 71
        }
      },
      "source": [
        "# 데이터셋 불러오기\n",
        "install.packages(\"RSADBE\")\n",
        "library(RSADBE)"
      ],
      "execution_count": 2,
      "outputs": [
        {
          "output_type": "stream",
          "text": [
            "Installing package into ‘/usr/local/lib/R/site-library’\n",
            "(as ‘lib’ is unspecified)\n",
            "\n"
          ],
          "name": "stderr"
        }
      ]
    },
    {
      "cell_type": "code",
      "metadata": {
        "id": "iiucP9bsJ5eX",
        "outputId": "2cf7e742-148c-4014-a96c-9f37f6ad42c7",
        "colab": {
          "base_uri": "https://localhost:8080/",
          "height": 359
        }
      },
      "source": [
        "data(\"Bug_Metrics_Software\")\n",
        "Bug_Metrics_Software"
      ],
      "execution_count": 8,
      "outputs": [
        {
          "output_type": "display_data",
          "data": {
            "text/plain": [
              ", , BA_Ind = Before\n",
              "\n",
              "         Bugs\n",
              "Software   Bugs NT.Bugs Major Critical H.Priority\n",
              "  JDT     11605   10119  1135      432        459\n",
              "  PDE      5803    4191   362      100         96\n",
              "  Equinox   325    1393   156       71         14\n",
              "  Lucene   1714    1714     0        0          0\n",
              "  Mylyn   14577    6806   592      235       8804\n",
              "\n",
              ", , BA_Ind = After\n",
              "\n",
              "         Bugs\n",
              "Software   Bugs NT.Bugs Major Critical H.Priority\n",
              "  JDT       374      17    35       10          3\n",
              "  PDE       341      14    57        6          0\n",
              "  Equinox   244       3     4        1          0\n",
              "  Lucene     97       0     0        0          0\n",
              "  Mylyn     340     187    18        3         36\n"
            ]
          },
          "metadata": {
            "tags": []
          }
        }
      ]
    },
    {
      "cell_type": "code",
      "metadata": {
        "id": "roY3HQdPKoLc",
        "outputId": "e2db7974-532c-42a2-d497-174770e88b7c",
        "colab": {
          "base_uri": "https://localhost:8080/",
          "height": 34
        }
      },
      "source": [
        "rowSums(Bug_Metrics_Software[,,1]) # Before의 행 단위 합 구하기"
      ],
      "execution_count": 13,
      "outputs": [
        {
          "output_type": "display_data",
          "data": {
            "text/plain": [
              "    JDT     PDE Equinox  Lucene   Mylyn \n",
              "  23750   10552    1959    3428   31014 "
            ],
            "text/latex": "\\begin{description*}\n\\item[JDT] 23750\n\\item[PDE] 10552\n\\item[Equinox] 1959\n\\item[Lucene] 3428\n\\item[Mylyn] 31014\n\\end{description*}\n",
            "text/markdown": "JDT\n:   23750PDE\n:   10552Equinox\n:   1959Lucene\n:   3428Mylyn\n:   31014\n\n",
            "text/html": [
              "<style>\n",
              ".dl-inline {width: auto; margin:0; padding: 0}\n",
              ".dl-inline>dt, .dl-inline>dd {float: none; width: auto; display: inline-block}\n",
              ".dl-inline>dt::after {content: \":\\0020\"; padding-right: .5ex}\n",
              ".dl-inline>dt:not(:first-of-type) {padding-left: .5ex}\n",
              "</style><dl class=dl-inline><dt>JDT</dt><dd>23750</dd><dt>PDE</dt><dd>10552</dd><dt>Equinox</dt><dd>1959</dd><dt>Lucene</dt><dd>3428</dd><dt>Mylyn</dt><dd>31014</dd></dl>\n"
            ]
          },
          "metadata": {
            "tags": []
          }
        }
      ]
    },
    {
      "cell_type": "code",
      "metadata": {
        "id": "gErHGscOLBe9",
        "outputId": "c06344d5-e93b-4984-ec05-c8921f5e7ecd",
        "colab": {
          "base_uri": "https://localhost:8080/",
          "height": 34
        }
      },
      "source": [
        "rowMeans(Bug_Metrics_Software[,,1]) # Before의 행 단위 평균 구하기"
      ],
      "execution_count": 11,
      "outputs": [
        {
          "output_type": "display_data",
          "data": {
            "text/plain": [
              "    JDT     PDE Equinox  Lucene   Mylyn \n",
              " 4750.0  2110.4   391.8   685.6  6202.8 "
            ],
            "text/latex": "\\begin{description*}\n\\item[JDT] 4750\n\\item[PDE] 2110.4\n\\item[Equinox] 391.8\n\\item[Lucene] 685.6\n\\item[Mylyn] 6202.8\n\\end{description*}\n",
            "text/markdown": "JDT\n:   4750PDE\n:   2110.4Equinox\n:   391.8Lucene\n:   685.6Mylyn\n:   6202.8\n\n",
            "text/html": [
              "<style>\n",
              ".dl-inline {width: auto; margin:0; padding: 0}\n",
              ".dl-inline>dt, .dl-inline>dd {float: none; width: auto; display: inline-block}\n",
              ".dl-inline>dt::after {content: \":\\0020\"; padding-right: .5ex}\n",
              ".dl-inline>dt:not(:first-of-type) {padding-left: .5ex}\n",
              "</style><dl class=dl-inline><dt>JDT</dt><dd>4750</dd><dt>PDE</dt><dd>2110.4</dd><dt>Equinox</dt><dd>391.8</dd><dt>Lucene</dt><dd>685.6</dd><dt>Mylyn</dt><dd>6202.8</dd></dl>\n"
            ]
          },
          "metadata": {
            "tags": []
          }
        }
      ]
    },
    {
      "cell_type": "code",
      "metadata": {
        "id": "U1GaMKRCLoqu",
        "outputId": "aeb3cb33-cc45-42d5-b967-7feb7c88f295",
        "colab": {
          "base_uri": "https://localhost:8080/",
          "height": 34
        }
      },
      "source": [
        "colSums(Bug_Metrics_Software[,,1]) # Before의 열 단위 합 구하기"
      ],
      "execution_count": 15,
      "outputs": [
        {
          "output_type": "display_data",
          "data": {
            "text/plain": [
              "      Bugs    NT.Bugs      Major   Critical H.Priority \n",
              "     34024      24223       2245        838       9373 "
            ],
            "text/latex": "\\begin{description*}\n\\item[Bugs] 34024\n\\item[NT.Bugs] 24223\n\\item[Major] 2245\n\\item[Critical] 838\n\\item[H.Priority] 9373\n\\end{description*}\n",
            "text/markdown": "Bugs\n:   34024NT.Bugs\n:   24223Major\n:   2245Critical\n:   838H.Priority\n:   9373\n\n",
            "text/html": [
              "<style>\n",
              ".dl-inline {width: auto; margin:0; padding: 0}\n",
              ".dl-inline>dt, .dl-inline>dd {float: none; width: auto; display: inline-block}\n",
              ".dl-inline>dt::after {content: \":\\0020\"; padding-right: .5ex}\n",
              ".dl-inline>dt:not(:first-of-type) {padding-left: .5ex}\n",
              "</style><dl class=dl-inline><dt>Bugs</dt><dd>34024</dd><dt>NT.Bugs</dt><dd>24223</dd><dt>Major</dt><dd>2245</dd><dt>Critical</dt><dd>838</dd><dt>H.Priority</dt><dd>9373</dd></dl>\n"
            ]
          },
          "metadata": {
            "tags": []
          }
        }
      ]
    },
    {
      "cell_type": "code",
      "metadata": {
        "id": "cREUV2y5LtJb",
        "outputId": "35bf0cda-3744-4de4-c4a6-169b2ba79a73",
        "colab": {
          "base_uri": "https://localhost:8080/",
          "height": 34
        }
      },
      "source": [
        "colMeans(Bug_Metrics_Software[,,1]) # Before의 열 단위 평균 구하기"
      ],
      "execution_count": 16,
      "outputs": [
        {
          "output_type": "display_data",
          "data": {
            "text/plain": [
              "      Bugs    NT.Bugs      Major   Critical H.Priority \n",
              "    6804.8     4844.6      449.0      167.6     1874.6 "
            ],
            "text/latex": "\\begin{description*}\n\\item[Bugs] 6804.8\n\\item[NT.Bugs] 4844.6\n\\item[Major] 449\n\\item[Critical] 167.6\n\\item[H.Priority] 1874.6\n\\end{description*}\n",
            "text/markdown": "Bugs\n:   6804.8NT.Bugs\n:   4844.6Major\n:   449Critical\n:   167.6H.Priority\n:   1874.6\n\n",
            "text/html": [
              "<style>\n",
              ".dl-inline {width: auto; margin:0; padding: 0}\n",
              ".dl-inline>dt, .dl-inline>dd {float: none; width: auto; display: inline-block}\n",
              ".dl-inline>dt::after {content: \":\\0020\"; padding-right: .5ex}\n",
              ".dl-inline>dt:not(:first-of-type) {padding-left: .5ex}\n",
              "</style><dl class=dl-inline><dt>Bugs</dt><dd>6804.8</dd><dt>NT.Bugs</dt><dd>4844.6</dd><dt>Major</dt><dd>449</dd><dt>Critical</dt><dd>167.6</dd><dt>H.Priority</dt><dd>1874.6</dd></dl>\n"
            ]
          },
          "metadata": {
            "tags": []
          }
        }
      ]
    },
    {
      "cell_type": "code",
      "metadata": {
        "id": "xFXRUF7xL6Uc",
        "outputId": "bf89bdf6-692b-4ecc-9e47-40474f6b077e",
        "colab": {
          "base_uri": "https://localhost:8080/",
          "height": 34
        }
      },
      "source": [
        "## 기술통계량 관련 내장함수 사용하기\n",
        "seq(-2,2,by=.2) # -2 ~ 2 까지 0.2 씩 증가"
      ],
      "execution_count": 17,
      "outputs": [
        {
          "output_type": "display_data",
          "data": {
            "text/plain": [
              " [1] -2.0 -1.8 -1.6 -1.4 -1.2 -1.0 -0.8 -0.6 -0.4 -0.2  0.0  0.2  0.4  0.6  0.8\n",
              "[16]  1.0  1.2  1.4  1.6  1.8  2.0"
            ],
            "text/latex": "\\begin{enumerate*}\n\\item -2\n\\item -1.8\n\\item -1.6\n\\item -1.4\n\\item -1.2\n\\item -1\n\\item -0.8\n\\item -0.6\n\\item -0.4\n\\item -0.2\n\\item 0\n\\item 0.2\n\\item 0.4\n\\item 0.6\n\\item 0.8\n\\item 1\n\\item 1.2\n\\item 1.4\n\\item 1.6\n\\item 1.8\n\\item 2\n\\end{enumerate*}\n",
            "text/markdown": "1. -2\n2. -1.8\n3. -1.6\n4. -1.4\n5. -1.2\n6. -1\n7. -0.8\n8. -0.6\n9. -0.4\n10. -0.2\n11. 0\n12. 0.2\n13. 0.4\n14. 0.6\n15. 0.8\n16. 1\n17. 1.2\n18. 1.4\n19. 1.6\n20. 1.8\n21. 2\n\n\n",
            "text/html": [
              "<style>\n",
              ".list-inline {list-style: none; margin:0; padding: 0}\n",
              ".list-inline>li {display: inline-block}\n",
              ".list-inline>li:not(:last-child)::after {content: \"\\00b7\"; padding: 0 .5ex}\n",
              "</style>\n",
              "<ol class=list-inline><li>-2</li><li>-1.8</li><li>-1.6</li><li>-1.4</li><li>-1.2</li><li>-1</li><li>-0.8</li><li>-0.6</li><li>-0.4</li><li>-0.2</li><li>0</li><li>0.2</li><li>0.4</li><li>0.6</li><li>0.8</li><li>1</li><li>1.2</li><li>1.4</li><li>1.6</li><li>1.8</li><li>2</li></ol>\n"
            ]
          },
          "metadata": {
            "tags": []
          }
        }
      ]
    },
    {
      "cell_type": "code",
      "metadata": {
        "id": "syiT92SnMgmm",
        "outputId": "6a77d492-eab1-49d5-ea20-4c7ad7c1d3d3",
        "colab": {
          "base_uri": "https://localhost:8080/",
          "height": 34
        }
      },
      "source": [
        "v <- seq(20,1, by=-2)\n",
        "v"
      ],
      "execution_count": 35,
      "outputs": [
        {
          "output_type": "display_data",
          "data": {
            "text/plain": [
              " [1] 20 18 16 14 12 10  8  6  4  2"
            ],
            "text/latex": "\\begin{enumerate*}\n\\item 20\n\\item 18\n\\item 16\n\\item 14\n\\item 12\n\\item 10\n\\item 8\n\\item 6\n\\item 4\n\\item 2\n\\end{enumerate*}\n",
            "text/markdown": "1. 20\n2. 18\n3. 16\n4. 14\n5. 12\n6. 10\n7. 8\n8. 6\n9. 4\n10. 2\n\n\n",
            "text/html": [
              "<style>\n",
              ".list-inline {list-style: none; margin:0; padding: 0}\n",
              ".list-inline>li {display: inline-block}\n",
              ".list-inline>li:not(:last-child)::after {content: \"\\00b7\"; padding: 0 .5ex}\n",
              "</style>\n",
              "<ol class=list-inline><li>20</li><li>18</li><li>16</li><li>14</li><li>12</li><li>10</li><li>8</li><li>6</li><li>4</li><li>2</li></ol>\n"
            ]
          },
          "metadata": {
            "tags": []
          }
        }
      ]
    },
    {
      "cell_type": "code",
      "metadata": {
        "id": "95GvAZ8BMo3x",
        "outputId": "f79164b9-4e27-461c-ce31-376fdd243647",
        "colab": {
          "base_uri": "https://localhost:8080/",
          "height": 119
        }
      },
      "source": [
        "min(v);max(v);range(v);mean(v);median(v);sum(v)"
      ],
      "execution_count": 36,
      "outputs": [
        {
          "output_type": "display_data",
          "data": {
            "text/plain": [
              "[1] 2"
            ],
            "text/latex": "2",
            "text/markdown": "2",
            "text/html": [
              "2"
            ]
          },
          "metadata": {
            "tags": []
          }
        },
        {
          "output_type": "display_data",
          "data": {
            "text/plain": [
              "[1] 20"
            ],
            "text/latex": "20",
            "text/markdown": "20",
            "text/html": [
              "20"
            ]
          },
          "metadata": {
            "tags": []
          }
        },
        {
          "output_type": "display_data",
          "data": {
            "text/plain": [
              "[1]  2 20"
            ],
            "text/latex": "\\begin{enumerate*}\n\\item 2\n\\item 20\n\\end{enumerate*}\n",
            "text/markdown": "1. 2\n2. 20\n\n\n",
            "text/html": [
              "<style>\n",
              ".list-inline {list-style: none; margin:0; padding: 0}\n",
              ".list-inline>li {display: inline-block}\n",
              ".list-inline>li:not(:last-child)::after {content: \"\\00b7\"; padding: 0 .5ex}\n",
              "</style>\n",
              "<ol class=list-inline><li>2</li><li>20</li></ol>\n"
            ]
          },
          "metadata": {
            "tags": []
          }
        },
        {
          "output_type": "display_data",
          "data": {
            "text/plain": [
              "[1] 11"
            ],
            "text/latex": "11",
            "text/markdown": "11",
            "text/html": [
              "11"
            ]
          },
          "metadata": {
            "tags": []
          }
        },
        {
          "output_type": "display_data",
          "data": {
            "text/plain": [
              "[1] 11"
            ],
            "text/latex": "11",
            "text/markdown": "11",
            "text/html": [
              "11"
            ]
          },
          "metadata": {
            "tags": []
          }
        },
        {
          "output_type": "display_data",
          "data": {
            "text/plain": [
              "[1] 110"
            ],
            "text/latex": "110",
            "text/markdown": "110",
            "text/html": [
              "110"
            ]
          },
          "metadata": {
            "tags": []
          }
        }
      ]
    },
    {
      "cell_type": "code",
      "metadata": {
        "id": "V3S_nBF0M6SW",
        "outputId": "411952e2-ef91-4eb2-cef3-f558a9bfc65e",
        "colab": {
          "base_uri": "https://localhost:8080/",
          "height": 34
        }
      },
      "source": [
        "sd(v)"
      ],
      "execution_count": 37,
      "outputs": [
        {
          "output_type": "display_data",
          "data": {
            "text/plain": [
              "[1] 6.055301"
            ],
            "text/latex": "6.05530070819498",
            "text/markdown": "6.05530070819498",
            "text/html": [
              "6.05530070819498"
            ]
          },
          "metadata": {
            "tags": []
          }
        }
      ]
    },
    {
      "cell_type": "code",
      "metadata": {
        "id": "vluyhcI5NHHH",
        "outputId": "196c2dad-1759-445f-c55d-ee7c3ad0080e",
        "colab": {
          "base_uri": "https://localhost:8080/",
          "height": 53
        }
      },
      "source": [
        "summary(v)"
      ],
      "execution_count": 38,
      "outputs": [
        {
          "output_type": "display_data",
          "data": {
            "text/plain": [
              "   Min. 1st Qu.  Median    Mean 3rd Qu.    Max. \n",
              "    2.0     6.5    11.0    11.0    15.5    20.0 "
            ]
          },
          "metadata": {
            "tags": []
          }
        }
      ]
    },
    {
      "cell_type": "code",
      "metadata": {
        "id": "Qg0hEj63NM5s",
        "outputId": "76346c7f-e95f-4aa2-b124-763e80c78d7a",
        "colab": {
          "base_uri": "https://localhost:8080/",
          "height": 71
        }
      },
      "source": [
        "table(v)"
      ],
      "execution_count": 39,
      "outputs": [
        {
          "output_type": "display_data",
          "data": {
            "text/plain": [
              "v\n",
              " 2  4  6  8 10 12 14 16 18 20 \n",
              " 1  1  1  1  1  1  1  1  1  1 "
            ]
          },
          "metadata": {
            "tags": []
          }
        }
      ]
    },
    {
      "cell_type": "code",
      "metadata": {
        "id": "ujKAJpVnNTKg",
        "outputId": "33763fc7-7646-469e-dd60-1437f08ece4e",
        "colab": {
          "base_uri": "https://localhost:8080/",
          "height": 68
        }
      },
      "source": [
        "# sort(v)  : 벡터 데이터 정렬 함수\n",
        "# order(x) : 벡터의 정렬된 값의 색인(index)을 보여주는 함수\n",
        "# https://rfriend.tistory.com/50\n",
        "v\n",
        "sort(v)\n",
        "sort(v, decreasing = T) # 내림차순 정렬"
      ],
      "execution_count": 47,
      "outputs": [
        {
          "output_type": "display_data",
          "data": {
            "text/plain": [
              " [1] 20 18 16 14 12 10  8  6  4  2"
            ],
            "text/latex": "\\begin{enumerate*}\n\\item 20\n\\item 18\n\\item 16\n\\item 14\n\\item 12\n\\item 10\n\\item 8\n\\item 6\n\\item 4\n\\item 2\n\\end{enumerate*}\n",
            "text/markdown": "1. 20\n2. 18\n3. 16\n4. 14\n5. 12\n6. 10\n7. 8\n8. 6\n9. 4\n10. 2\n\n\n",
            "text/html": [
              "<style>\n",
              ".list-inline {list-style: none; margin:0; padding: 0}\n",
              ".list-inline>li {display: inline-block}\n",
              ".list-inline>li:not(:last-child)::after {content: \"\\00b7\"; padding: 0 .5ex}\n",
              "</style>\n",
              "<ol class=list-inline><li>20</li><li>18</li><li>16</li><li>14</li><li>12</li><li>10</li><li>8</li><li>6</li><li>4</li><li>2</li></ol>\n"
            ]
          },
          "metadata": {
            "tags": []
          }
        },
        {
          "output_type": "display_data",
          "data": {
            "text/plain": [
              " [1]  2  4  6  8 10 12 14 16 18 20"
            ],
            "text/latex": "\\begin{enumerate*}\n\\item 2\n\\item 4\n\\item 6\n\\item 8\n\\item 10\n\\item 12\n\\item 14\n\\item 16\n\\item 18\n\\item 20\n\\end{enumerate*}\n",
            "text/markdown": "1. 2\n2. 4\n3. 6\n4. 8\n5. 10\n6. 12\n7. 14\n8. 16\n9. 18\n10. 20\n\n\n",
            "text/html": [
              "<style>\n",
              ".list-inline {list-style: none; margin:0; padding: 0}\n",
              ".list-inline>li {display: inline-block}\n",
              ".list-inline>li:not(:last-child)::after {content: \"\\00b7\"; padding: 0 .5ex}\n",
              "</style>\n",
              "<ol class=list-inline><li>2</li><li>4</li><li>6</li><li>8</li><li>10</li><li>12</li><li>14</li><li>16</li><li>18</li><li>20</li></ol>\n"
            ]
          },
          "metadata": {
            "tags": []
          }
        },
        {
          "output_type": "display_data",
          "data": {
            "text/plain": [
              " [1] 20 18 16 14 12 10  8  6  4  2"
            ],
            "text/latex": "\\begin{enumerate*}\n\\item 20\n\\item 18\n\\item 16\n\\item 14\n\\item 12\n\\item 10\n\\item 8\n\\item 6\n\\item 4\n\\item 2\n\\end{enumerate*}\n",
            "text/markdown": "1. 20\n2. 18\n3. 16\n4. 14\n5. 12\n6. 10\n7. 8\n8. 6\n9. 4\n10. 2\n\n\n",
            "text/html": [
              "<style>\n",
              ".list-inline {list-style: none; margin:0; padding: 0}\n",
              ".list-inline>li {display: inline-block}\n",
              ".list-inline>li:not(:last-child)::after {content: \"\\00b7\"; padding: 0 .5ex}\n",
              "</style>\n",
              "<ol class=list-inline><li>20</li><li>18</li><li>16</li><li>14</li><li>12</li><li>10</li><li>8</li><li>6</li><li>4</li><li>2</li></ol>\n"
            ]
          },
          "metadata": {
            "tags": []
          }
        }
      ]
    },
    {
      "cell_type": "code",
      "metadata": {
        "id": "-0Ol-rwINY1G",
        "outputId": "9b09ab70-69fd-4508-aec8-30afeef566eb",
        "colab": {
          "base_uri": "https://localhost:8080/",
          "height": 51
        }
      },
      "source": [
        "order(v)\n",
        "v[order(v)]"
      ],
      "execution_count": 48,
      "outputs": [
        {
          "output_type": "display_data",
          "data": {
            "text/plain": [
              " [1] 10  9  8  7  6  5  4  3  2  1"
            ],
            "text/latex": "\\begin{enumerate*}\n\\item 10\n\\item 9\n\\item 8\n\\item 7\n\\item 6\n\\item 5\n\\item 4\n\\item 3\n\\item 2\n\\item 1\n\\end{enumerate*}\n",
            "text/markdown": "1. 10\n2. 9\n3. 8\n4. 7\n5. 6\n6. 5\n7. 4\n8. 3\n9. 2\n10. 1\n\n\n",
            "text/html": [
              "<style>\n",
              ".list-inline {list-style: none; margin:0; padding: 0}\n",
              ".list-inline>li {display: inline-block}\n",
              ".list-inline>li:not(:last-child)::after {content: \"\\00b7\"; padding: 0 .5ex}\n",
              "</style>\n",
              "<ol class=list-inline><li>10</li><li>9</li><li>8</li><li>7</li><li>6</li><li>5</li><li>4</li><li>3</li><li>2</li><li>1</li></ol>\n"
            ]
          },
          "metadata": {
            "tags": []
          }
        },
        {
          "output_type": "display_data",
          "data": {
            "text/plain": [
              " [1]  2  4  6  8 10 12 14 16 18 20"
            ],
            "text/latex": "\\begin{enumerate*}\n\\item 2\n\\item 4\n\\item 6\n\\item 8\n\\item 10\n\\item 12\n\\item 14\n\\item 16\n\\item 18\n\\item 20\n\\end{enumerate*}\n",
            "text/markdown": "1. 2\n2. 4\n3. 6\n4. 8\n5. 10\n6. 12\n7. 14\n8. 16\n9. 18\n10. 20\n\n\n",
            "text/html": [
              "<style>\n",
              ".list-inline {list-style: none; margin:0; padding: 0}\n",
              ".list-inline>li {display: inline-block}\n",
              ".list-inline>li:not(:last-child)::after {content: \"\\00b7\"; padding: 0 .5ex}\n",
              "</style>\n",
              "<ol class=list-inline><li>2</li><li>4</li><li>6</li><li>8</li><li>10</li><li>12</li><li>14</li><li>16</li><li>18</li><li>20</li></ol>\n"
            ]
          },
          "metadata": {
            "tags": []
          }
        }
      ]
    },
    {
      "cell_type": "code",
      "metadata": {
        "id": "qaMD7MRGNk7-",
        "outputId": "5447908f-674a-4f2c-c0fa-6978ceaaa86d",
        "colab": {
          "base_uri": "https://localhost:8080/",
          "height": 34
        }
      },
      "source": [
        "# rank(x)  : 벡터의 각 원소의 순위를 제공하는 함수\n",
        "rank(v) ## ??"
      ],
      "execution_count": 42,
      "outputs": [
        {
          "output_type": "display_data",
          "data": {
            "text/plain": [
              " [1] 10  9  8  7  6  5  4  3  2  1"
            ],
            "text/latex": "\\begin{enumerate*}\n\\item 10\n\\item 9\n\\item 8\n\\item 7\n\\item 6\n\\item 5\n\\item 4\n\\item 3\n\\item 2\n\\item 1\n\\end{enumerate*}\n",
            "text/markdown": "1. 10\n2. 9\n3. 8\n4. 7\n5. 6\n6. 5\n7. 4\n8. 3\n9. 2\n10. 1\n\n\n",
            "text/html": [
              "<style>\n",
              ".list-inline {list-style: none; margin:0; padding: 0}\n",
              ".list-inline>li {display: inline-block}\n",
              ".list-inline>li:not(:last-child)::after {content: \"\\00b7\"; padding: 0 .5ex}\n",
              "</style>\n",
              "<ol class=list-inline><li>10</li><li>9</li><li>8</li><li>7</li><li>6</li><li>5</li><li>4</li><li>3</li><li>2</li><li>1</li></ol>\n"
            ]
          },
          "metadata": {
            "tags": []
          }
        }
      ]
    },
    {
      "cell_type": "code",
      "metadata": {
        "id": "CPAIlYoROuk1",
        "outputId": "3aeb5301-effe-4552-ff5d-77579605ec84",
        "colab": {
          "base_uri": "https://localhost:8080/",
          "height": 68
        }
      },
      "source": [
        "# sample(x,y) : x 범위에서 y 만큼 sample 데이터를 생성하는 함수\n",
        "sample(v,2);sample(v,2);sample(v,2)"
      ],
      "execution_count": 45,
      "outputs": [
        {
          "output_type": "display_data",
          "data": {
            "text/plain": [
              "[1]  6 10"
            ],
            "text/latex": "\\begin{enumerate*}\n\\item 6\n\\item 10\n\\end{enumerate*}\n",
            "text/markdown": "1. 6\n2. 10\n\n\n",
            "text/html": [
              "<style>\n",
              ".list-inline {list-style: none; margin:0; padding: 0}\n",
              ".list-inline>li {display: inline-block}\n",
              ".list-inline>li:not(:last-child)::after {content: \"\\00b7\"; padding: 0 .5ex}\n",
              "</style>\n",
              "<ol class=list-inline><li>6</li><li>10</li></ol>\n"
            ]
          },
          "metadata": {
            "tags": []
          }
        },
        {
          "output_type": "display_data",
          "data": {
            "text/plain": [
              "[1]  2 16"
            ],
            "text/latex": "\\begin{enumerate*}\n\\item 2\n\\item 16\n\\end{enumerate*}\n",
            "text/markdown": "1. 2\n2. 16\n\n\n",
            "text/html": [
              "<style>\n",
              ".list-inline {list-style: none; margin:0; padding: 0}\n",
              ".list-inline>li {display: inline-block}\n",
              ".list-inline>li:not(:last-child)::after {content: \"\\00b7\"; padding: 0 .5ex}\n",
              "</style>\n",
              "<ol class=list-inline><li>2</li><li>16</li></ol>\n"
            ]
          },
          "metadata": {
            "tags": []
          }
        },
        {
          "output_type": "display_data",
          "data": {
            "text/plain": [
              "[1]  2 18"
            ],
            "text/latex": "\\begin{enumerate*}\n\\item 2\n\\item 18\n\\end{enumerate*}\n",
            "text/markdown": "1. 2\n2. 18\n\n\n",
            "text/html": [
              "<style>\n",
              ".list-inline {list-style: none; margin:0; padding: 0}\n",
              ".list-inline>li {display: inline-block}\n",
              ".list-inline>li:not(:last-child)::after {content: \"\\00b7\"; padding: 0 .5ex}\n",
              "</style>\n",
              "<ol class=list-inline><li>2</li><li>18</li></ol>\n"
            ]
          },
          "metadata": {
            "tags": []
          }
        }
      ]
    }
  ]
}