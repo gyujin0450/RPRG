{
  "nbformat": 4,
  "nbformat_minor": 0,
  "metadata": {
    "colab": {
      "name": "p93_데이터불러오기.ipynb",
      "provenance": [],
      "collapsed_sections": [],
      "authorship_tag": "ABX9TyPfIesqSGIDUBoyUQn8Up+h",
      "include_colab_link": true
    },
    "kernelspec": {
      "name": "ir",
      "display_name": "R"
    }
  },
  "cells": [
    {
      "cell_type": "markdown",
      "metadata": {
        "id": "view-in-github",
        "colab_type": "text"
      },
      "source": [
        "<a href=\"https://colab.research.google.com/github/gyujin0450/RPRG/blob/master/p93_%EB%8D%B0%EC%9D%B4%ED%84%B0%EB%B6%88%EB%9F%AC%EC%98%A4%EA%B8%B0.ipynb\" target=\"_parent\"><img src=\"https://colab.research.google.com/assets/colab-badge.svg\" alt=\"Open In Colab\"/></a>"
      ]
    },
    {
      "cell_type": "markdown",
      "metadata": {
        "id": "fY9atOAc8EG0"
      },
      "source": [
        "# ch03.1 데이터 불러오기"
      ]
    },
    {
      "cell_type": "code",
      "metadata": {
        "id": "CdhGbfmT8fuy"
      },
      "source": [
        "# scan() 함수 이용\n",
        "# 키보드로 부터 숫자 입력하기, R Studio 에서 실행 필요\n",
        "num <- scan() "
      ],
      "execution_count": 1,
      "outputs": []
    },
    {
      "cell_type": "code",
      "metadata": {
        "id": "TweCEQcB9PsM"
      },
      "source": [
        "# 키보드로 문자 입력하기, R Studio 에서 실행 필요\n",
        "name <- scan(what = character())"
      ],
      "execution_count": null,
      "outputs": []
    },
    {
      "cell_type": "code",
      "metadata": {
        "id": "ckuJmHTQ9rJR"
      },
      "source": [
        "# 편집기를 이용한 데이터프레임 만들기, R Studio 에서 실행 필요\n",
        "df = data.frame()\n",
        "df = edit(df)\n",
        "df"
      ],
      "execution_count": null,
      "outputs": []
    },
    {
      "cell_type": "code",
      "metadata": {
        "id": "mrwy5sfu_Wzk",
        "outputId": "2a96097b-e6d1-424f-8091-54b7e3ca24cf",
        "colab": {
          "base_uri": "https://localhost:8080/",
          "height": 33
        }
      },
      "source": [
        "# read.table() 함수 이용, R Studio 에서 실행 필요\n",
        "# read.table(file=\"경로명/파일명\", sep=\"공백|탭|콜론|세미콜론|콤마\",header=\"T|F\")\n",
        "getwd()\n",
        "setwd(\"작업 디렉토리 설정\")\n",
        "student <- read.table(file = \"테이블 형식의 파일\")\n",
        "student\n",
        "names(student) <- c(\"번호\",\"이름\",\"키\",\"몸무게\")\n",
        "student"
      ],
      "execution_count": 3,
      "outputs": [
        {
          "output_type": "display_data",
          "data": {
            "text/plain": [
              "[1] \"/content\""
            ],
            "text/latex": "'/content'",
            "text/markdown": "'/content'",
            "text/html": [
              "'/content'"
            ]
          },
          "metadata": {
            "tags": []
          }
        }
      ]
    },
    {
      "cell_type": "code",
      "metadata": {
        "id": "LUklibpeA0x2"
      },
      "source": [
        "# 컬럼명이 있는 파일 불러오기, R Studio 에서 실행 필요\n",
        "student <- read.table(file = \"테이블 형식의 파일\",header=T)\n",
        "student"
      ],
      "execution_count": null,
      "outputs": []
    }
  ]
}