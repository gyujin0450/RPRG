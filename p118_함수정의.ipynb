{
  "nbformat": 4,
  "nbformat_minor": 0,
  "metadata": {
    "colab": {
      "name": "p118_함수정의.ipynb",
      "provenance": [],
      "authorship_tag": "ABX9TyPnmSxqiizJyO4yBwfNDe85",
      "include_colab_link": true
    },
    "kernelspec": {
      "name": "ir",
      "display_name": "R"
    }
  },
  "cells": [
    {
      "cell_type": "markdown",
      "metadata": {
        "id": "view-in-github",
        "colab_type": "text"
      },
      "source": [
        "<a href=\"https://colab.research.google.com/github/gyujin0450/RPRG/blob/master/p118_%ED%95%A8%EC%88%98%EC%A0%95%EC%9D%98.ipynb\" target=\"_parent\"><img src=\"https://colab.research.google.com/assets/colab-badge.svg\" alt=\"Open In Colab\"/></a>"
      ]
    },
    {
      "cell_type": "markdown",
      "metadata": {
        "id": "hhnlar9cZUam"
      },
      "source": [
        "Ch4.4 함수 정의"
      ]
    },
    {
      "cell_type": "code",
      "metadata": {
        "id": "0HfeI-hbPZoc"
      },
      "source": [
        "# cat() : https://lightblog.tistory.com/35\n",
        "# concatenate(사슬을 같이 잊다) 의미로 벡터를 합쳐서 보여줌!! \n",
        "# print(), sprintf() 와 비교\n",
        "# https://m.blog.naver.com/PostView.nhn?blogId=liberty264&logNo=220991679196&proxyReferer=https:%2F%2Fwww.google.com%2F"
      ],
      "execution_count": 62,
      "outputs": []
    },
    {
      "cell_type": "code",
      "metadata": {
        "id": "pNMFsS1uZfKq"
      },
      "source": [
        "# 매개변수가 없는 사용자 함수 정의\n",
        "f1 <- function() {\n",
        "  cat(\"매개변수가 없는 함수\")\n",
        "}"
      ],
      "execution_count": 2,
      "outputs": []
    },
    {
      "cell_type": "code",
      "metadata": {
        "id": "TZE9jIos7rVV",
        "outputId": "6a5f5d27-dacc-4a83-f586-03bdc181265d",
        "colab": {
          "base_uri": "https://localhost:8080/",
          "height": 34
        }
      },
      "source": [
        "f1()"
      ],
      "execution_count": 3,
      "outputs": [
        {
          "output_type": "stream",
          "text": [
            "매개변수가 없는 함수"
          ],
          "name": "stdout"
        }
      ]
    },
    {
      "cell_type": "code",
      "metadata": {
        "id": "b864ar0r7vnB"
      },
      "source": [
        "f3 <- function(x,y) {\n",
        "  add <- x + y\n",
        "  return(add)\n",
        "}"
      ],
      "execution_count": 6,
      "outputs": []
    },
    {
      "cell_type": "code",
      "metadata": {
        "id": "tiXG5enj76o7",
        "outputId": "54008790-fc43-45c9-a300-0842e794c61b",
        "colab": {
          "base_uri": "https://localhost:8080/",
          "height": 33
        }
      },
      "source": [
        "add <- f3(10,20)\n",
        "add"
      ],
      "execution_count": 7,
      "outputs": [
        {
          "output_type": "display_data",
          "data": {
            "text/plain": [
              "[1] 30"
            ],
            "text/latex": "30",
            "text/markdown": "30",
            "text/html": [
              "30"
            ]
          },
          "metadata": {
            "tags": []
          }
        }
      ]
    },
    {
      "cell_type": "code",
      "metadata": {
        "id": "8VrAnqPF8G1r"
      },
      "source": [
        "# 기술 통계량을 계산하는 함수 정의"
      ],
      "execution_count": null,
      "outputs": []
    },
    {
      "cell_type": "code",
      "metadata": {
        "id": "upphMXkX8OLP",
        "outputId": "eab659b2-f5eb-45d9-ec42-83b48767729e",
        "colab": {
          "base_uri": "https://localhost:8080/",
          "height": 176
        }
      },
      "source": [
        "# 1) 파일 불러오기\n",
        "test <- read.csv(\"test.csv\", header = TRUE)\n",
        "head(test)"
      ],
      "execution_count": 8,
      "outputs": [
        {
          "output_type": "display_data",
          "data": {
            "text/plain": [
              "  A B C D E\n",
              "1 2 4 4 2 2\n",
              "2 1 2 2 2 2\n",
              "3 2 3 4 3 3\n",
              "4 3 5 5 3 3\n",
              "5 3 2 4 4 4\n",
              "6 4 3 3 4 2"
            ],
            "text/latex": "A data.frame: 6 × 5\n\\begin{tabular}{r|lllll}\n  & A & B & C & D & E\\\\\n  & <int> & <int> & <int> & <int> & <int>\\\\\n\\hline\n\t1 & 2 & 4 & 4 & 2 & 2\\\\\n\t2 & 1 & 2 & 2 & 2 & 2\\\\\n\t3 & 2 & 3 & 4 & 3 & 3\\\\\n\t4 & 3 & 5 & 5 & 3 & 3\\\\\n\t5 & 3 & 2 & 4 & 4 & 4\\\\\n\t6 & 4 & 3 & 3 & 4 & 2\\\\\n\\end{tabular}\n",
            "text/markdown": "\nA data.frame: 6 × 5\n\n| <!--/--> | A &lt;int&gt; | B &lt;int&gt; | C &lt;int&gt; | D &lt;int&gt; | E &lt;int&gt; |\n|---|---|---|---|---|---|\n| 1 | 2 | 4 | 4 | 2 | 2 |\n| 2 | 1 | 2 | 2 | 2 | 2 |\n| 3 | 2 | 3 | 4 | 3 | 3 |\n| 4 | 3 | 5 | 5 | 3 | 3 |\n| 5 | 3 | 2 | 4 | 4 | 4 |\n| 6 | 4 | 3 | 3 | 4 | 2 |\n\n",
            "text/html": [
              "<table>\n",
              "<caption>A data.frame: 6 × 5</caption>\n",
              "<thead>\n",
              "\t<tr><th></th><th scope=col>A</th><th scope=col>B</th><th scope=col>C</th><th scope=col>D</th><th scope=col>E</th></tr>\n",
              "\t<tr><th></th><th scope=col>&lt;int&gt;</th><th scope=col>&lt;int&gt;</th><th scope=col>&lt;int&gt;</th><th scope=col>&lt;int&gt;</th><th scope=col>&lt;int&gt;</th></tr>\n",
              "</thead>\n",
              "<tbody>\n",
              "\t<tr><th scope=row>1</th><td>2</td><td>4</td><td>4</td><td>2</td><td>2</td></tr>\n",
              "\t<tr><th scope=row>2</th><td>1</td><td>2</td><td>2</td><td>2</td><td>2</td></tr>\n",
              "\t<tr><th scope=row>3</th><td>2</td><td>3</td><td>4</td><td>3</td><td>3</td></tr>\n",
              "\t<tr><th scope=row>4</th><td>3</td><td>5</td><td>5</td><td>3</td><td>3</td></tr>\n",
              "\t<tr><th scope=row>5</th><td>3</td><td>2</td><td>4</td><td>4</td><td>4</td></tr>\n",
              "\t<tr><th scope=row>6</th><td>4</td><td>3</td><td>3</td><td>4</td><td>2</td></tr>\n",
              "</tbody>\n",
              "</table>\n"
            ]
          },
          "metadata": {
            "tags": []
          }
        }
      ]
    },
    {
      "cell_type": "code",
      "metadata": {
        "id": "k8WBY_PO8vr7",
        "outputId": "f5b8f03f-28c7-461c-bfd4-ad7e1297402d",
        "colab": {
          "base_uri": "https://localhost:8080/",
          "height": 141
        }
      },
      "source": [
        "# 2) 요약 통계량 구하기 + 구조 및 결측치 체크!!\n",
        "summary(test)"
      ],
      "execution_count": 9,
      "outputs": [
        {
          "output_type": "display_data",
          "data": {
            "text/plain": [
              "       A               B               C               D              E        \n",
              " Min.   :1.000   Min.   :1.000   Min.   :1.000   Min.   :1.00   Min.   :1.000  \n",
              " 1st Qu.:2.000   1st Qu.:2.000   1st Qu.:3.000   1st Qu.:2.00   1st Qu.:3.000  \n",
              " Median :3.000   Median :3.000   Median :4.000   Median :2.00   Median :4.000  \n",
              " Mean   :2.734   Mean   :2.908   Mean   :3.622   Mean   :2.51   Mean   :3.386  \n",
              " 3rd Qu.:3.000   3rd Qu.:4.000   3rd Qu.:4.000   3rd Qu.:3.00   3rd Qu.:4.000  \n",
              " Max.   :5.000   Max.   :5.000   Max.   :5.000   Max.   :4.00   Max.   :5.000  "
            ]
          },
          "metadata": {
            "tags": []
          }
        }
      ]
    },
    {
      "cell_type": "code",
      "metadata": {
        "id": "03f-fvvh89Ak",
        "outputId": "6675986e-e8f5-4c3e-b442-4d75310fbf42",
        "colab": {
          "base_uri": "https://localhost:8080/",
          "height": 123
        }
      },
      "source": [
        "str(test)"
      ],
      "execution_count": 10,
      "outputs": [
        {
          "output_type": "stream",
          "text": [
            "'data.frame':\t402 obs. of  5 variables:\n",
            " $ A: int  2 1 2 3 3 4 3 4 4 4 ...\n",
            " $ B: int  4 2 3 5 2 3 4 2 4 2 ...\n",
            " $ C: int  4 2 4 5 4 3 4 4 5 4 ...\n",
            " $ D: int  2 2 3 3 4 4 2 4 3 2 ...\n",
            " $ E: int  2 2 3 3 4 2 2 4 4 3 ...\n"
          ],
          "name": "stdout"
        }
      ]
    },
    {
      "cell_type": "code",
      "metadata": {
        "id": "bILJucfR9T-X",
        "outputId": "651e0331-cad9-4d75-df42-6e9f518e39d9",
        "colab": {
          "base_uri": "https://localhost:8080/",
          "height": 33
        }
      },
      "source": [
        "colSums(is.na(test))"
      ],
      "execution_count": 13,
      "outputs": [
        {
          "output_type": "display_data",
          "data": {
            "text/plain": [
              "A B C D E \n",
              "0 0 0 0 0 "
            ],
            "text/latex": "\\begin{description*}\n\\item[A] 0\n\\item[B] 0\n\\item[C] 0\n\\item[D] 0\n\\item[E] 0\n\\end{description*}\n",
            "text/markdown": "A\n:   0B\n:   0C\n:   0D\n:   0E\n:   0\n\n",
            "text/html": [
              "<style>\n",
              ".dl-inline {width: auto; margin:0; padding: 0}\n",
              ".dl-inline>dt, .dl-inline>dd {float: none; width: auto; display: inline-block}\n",
              ".dl-inline>dt::after {content: \":\\0020\"; padding-right: .5ex}\n",
              ".dl-inline>dt:not(:first-of-type) {padding-left: .5ex}\n",
              "</style><dl class=dl-inline><dt>A</dt><dd>0</dd><dt>B</dt><dd>0</dd><dt>C</dt><dd>0</dd><dt>D</dt><dd>0</dd><dt>E</dt><dd>0</dd></dl>\n"
            ]
          },
          "metadata": {
            "tags": []
          }
        }
      ]
    },
    {
      "cell_type": "code",
      "metadata": {
        "id": "7J35Mvp39fFI",
        "outputId": "2cd2cdb6-1545-4c6a-c54c-4477eab20059",
        "colab": {
          "base_uri": "https://localhost:8080/",
          "height": 70
        }
      },
      "source": [
        "# 3) 특정 변수의 빈도수 구하기\n",
        "table(test$A)"
      ],
      "execution_count": 14,
      "outputs": [
        {
          "output_type": "display_data",
          "data": {
            "text/plain": [
              "\n",
              "  1   2   3   4   5 \n",
              " 30 133 156  80   3 "
            ]
          },
          "metadata": {
            "tags": []
          }
        }
      ]
    },
    {
      "cell_type": "code",
      "metadata": {
        "id": "TRnVb0WI-RIV"
      },
      "source": [
        "# 4) 각 컬럼 단위의 빈도수와 최대값, 최소값 계산을 위한 사용자 함수 정의\n",
        "data_pro <- function(x) {\n",
        "\n",
        "  # i번째 빈도수 구하기\n",
        "  for(i in 1:length(x)){\n",
        "    cat(i,\"번째 컬럼 빈도 분석 결과\\n\")\n",
        "    cat(table(x[i]))\n",
        "    cat(\"\\n\")\n",
        "  }\n",
        "\n",
        "  # i번째 최대값/최소값 구하기\n",
        "  for(i in 1:length(x)){\n",
        "    f <- table(x[i])\n",
        "    cat(i, \"번째 컬럼 빈도의 최대값/최소값\\n\")\n",
        "    cat(\"max = \", max(f), \"min = \", min(f), \"\\n\")\n",
        "  }\n",
        "}"
      ],
      "execution_count": 32,
      "outputs": []
    },
    {
      "cell_type": "code",
      "metadata": {
        "id": "K2h6xSrC_At3",
        "outputId": "8800c517-73a7-4c63-95fa-8227328087d8",
        "colab": {
          "base_uri": "https://localhost:8080/",
          "height": 372
        }
      },
      "source": [
        "# length(test)\n",
        "# cat(table(test[1]))\n",
        "# max(test[1]) --> 5\n",
        "# min(test[1]) --> 1\n",
        "# max(table(test[1])) --> 156\n",
        "# min(table(test[1])) --> 3\n",
        "data_pro(test)"
      ],
      "execution_count": 33,
      "outputs": [
        {
          "output_type": "stream",
          "text": [
            "1 번째 컬럼 빈도 분석 결과\n",
            "30 133 156 80 3\n",
            "2 번째 컬럼 빈도 분석 결과\n",
            "16 150 98 131 7\n",
            "3 번째 컬럼 빈도 분석 결과\n",
            "3 74 72 176 77\n",
            "4 번째 컬럼 빈도 분석 결과\n",
            "30 178 153 41\n",
            "5 번째 컬럼 빈도 분석 결과\n",
            "8 81 107 160 46\n",
            "1 번째 컬럼 빈도의 최대값/최소값\n",
            "max =  156 min =  3 \n",
            "2 번째 컬럼 빈도의 최대값/최소값\n",
            "max =  150 min =  7 \n",
            "3 번째 컬럼 빈도의 최대값/최소값\n",
            "max =  176 min =  3 \n",
            "4 번째 컬럼 빈도의 최대값/최소값\n",
            "max =  178 min =  30 \n",
            "5 번째 컬럼 빈도의 최대값/최소값\n",
            "max =  160 min =  8 \n"
          ],
          "name": "stdout"
        }
      ]
    },
    {
      "cell_type": "code",
      "metadata": {
        "id": "7gs5V9ogCfFw"
      },
      "source": [
        "# 분산과 표준 편차를 구하는 사용자 함수 정의\n",
        "# https://thebook.io/006723/ch07/02/01/\n",
        "var_sd <- function(x) {\n",
        "  var <- sum((x - mean(x))^2)/(length(x)-1)\n",
        "  sd <- sqrt(var)\n",
        "  cat(\"표준분산:\",var,\"\\n\")\n",
        "  cat(\"표본표준편차:\",sd,\"\\n\")\n",
        "}"
      ],
      "execution_count": 42,
      "outputs": []
    },
    {
      "cell_type": "code",
      "metadata": {
        "id": "yvhfK-L1EK8J",
        "outputId": "a568dad3-99af-4766-a496-a689c35d9c38",
        "colab": {
          "base_uri": "https://localhost:8080/",
          "height": 52
        }
      },
      "source": [
        "x1 <- c(20,24,37,36,31)\n",
        "var_sd(x1)"
      ],
      "execution_count": 43,
      "outputs": [
        {
          "output_type": "stream",
          "text": [
            "표준분산: 55.3 \n",
            "표본표준편차: 7.436397 \n"
          ],
          "name": "stdout"
        }
      ]
    },
    {
      "cell_type": "code",
      "metadata": {
        "id": "unLUOE8pF8RV",
        "outputId": "5beafbd3-f417-413e-8181-0a4b8b674b20",
        "colab": {
          "base_uri": "https://localhost:8080/",
          "height": 52
        }
      },
      "source": [
        "x2 <- c(7,5,12,9,15,6)\n",
        "var_sd(x2)"
      ],
      "execution_count": 44,
      "outputs": [
        {
          "output_type": "stream",
          "text": [
            "표준분산: 14.8 \n",
            "표본표준편차: 3.847077 \n"
          ],
          "name": "stdout"
        }
      ]
    },
    {
      "cell_type": "code",
      "metadata": {
        "id": "E4yOEnuKGJ4s",
        "outputId": "c318555d-6be0-4a1f-89c4-9b02061e4ae5",
        "colab": {
          "base_uri": "https://localhost:8080/",
          "height": 50
        }
      },
      "source": [
        "var(x1,na.rm=FALSE)\n",
        "var(x2,na.rm=FALSE)"
      ],
      "execution_count": 46,
      "outputs": [
        {
          "output_type": "display_data",
          "data": {
            "text/plain": [
              "[1] 55.3"
            ],
            "text/latex": "55.3",
            "text/markdown": "55.3",
            "text/html": [
              "55.3"
            ]
          },
          "metadata": {
            "tags": []
          }
        },
        {
          "output_type": "display_data",
          "data": {
            "text/plain": [
              "[1] 14.8"
            ],
            "text/latex": "14.8",
            "text/markdown": "14.8",
            "text/html": [
              "14.8"
            ]
          },
          "metadata": {
            "tags": []
          }
        }
      ]
    },
    {
      "cell_type": "code",
      "metadata": {
        "id": "KD3culWHIMOz",
        "outputId": "e8a038bb-c39a-4af1-a130-c719e273c263",
        "colab": {
          "base_uri": "https://localhost:8080/",
          "height": 194
        }
      },
      "source": [
        "# 피타고라스 정의\n",
        "# http://mathman.kr/math/pita.htm\n",
        "# https://namu.wiki/w/%ED%94%BC%ED%83%80%EA%B3%A0%EB%9D%BC%EC%8A%A4%20%EC%84%B8%20%EC%8C%8D\n",
        "pytha <- function(s,t){\n",
        "  # s,t 의미 설명 필요\n",
        "  a <- s^2 - t^2\n",
        "  b <- 2*s*t\n",
        "  c <- s^2 + t^2\n",
        "  \n",
        "  cat(\"pytha(\",s,\",\",t,\") \\n\")\n",
        "  cat(\"원시 피타고라스 3쌍 : 3개의 변수(a,b,c):\",a,b,c,\"\\n\")\n",
        "  cat(\"검산 : c^2 :\", c^2,\"\\n\")\n",
        "  cat(\"검산 : a^2 + b^2 :\", a^2+b^2,\"\\n\\n\")\n",
        "}\n",
        "\n",
        "pytha(2,1)\n",
        "pytha(3,2)"
      ],
      "execution_count": 60,
      "outputs": [
        {
          "output_type": "stream",
          "text": [
            "pytha( 2 , 1 ) \n",
            "원시 피타고라스 3쌍 : 3개의 변수(a,b,c): 3 4 5 \n",
            "검산 : c^2 : 25 \n",
            "검산 : a^2 + b^2 : 25 \n",
            "\n",
            "pytha( 3 , 2 ) \n",
            "원시 피타고라스 3쌍 : 3개의 변수(a,b,c): 5 12 13 \n",
            "검산 : c^2 : 169 \n",
            "검산 : a^2 + b^2 : 169 \n",
            "\n"
          ],
          "name": "stdout"
        }
      ]
    },
    {
      "cell_type": "code",
      "metadata": {
        "id": "vFKEtbh8KWcD",
        "outputId": "a9fabd0f-1a9c-4996-be4d-d00c82f7a361",
        "colab": {
          "base_uri": "https://localhost:8080/",
          "height": 215
        }
      },
      "source": [
        "# 구구단 함수 정의\n",
        "gugu <- function(i){\n",
        "  for(x in i){\n",
        "    cat(\"**\",x,\"단 **\\n\")\n",
        "    for(y in c(1:9)){\n",
        "      cat(x,\"*\",y,\"=\",x*y,\"\\n\")\n",
        "    }\n",
        "    cat(\"\\n\")\n",
        "  }\n",
        "}\n",
        "\n",
        "gugu(2) # 구구단 : 2단\n"
      ],
      "execution_count": 67,
      "outputs": [
        {
          "output_type": "stream",
          "text": [
            "** 2 단 **\n",
            "2 * 1 = 2 \n",
            "2 * 2 = 4 \n",
            "2 * 3 = 6 \n",
            "2 * 4 = 8 \n",
            "2 * 5 = 10 \n",
            "2 * 6 = 12 \n",
            "2 * 7 = 14 \n",
            "2 * 8 = 16 \n",
            "2 * 9 = 18 \n",
            "\n"
          ],
          "name": "stdout"
        }
      ]
    },
    {
      "cell_type": "code",
      "metadata": {
        "id": "sbq4oTgkUqhJ"
      },
      "source": [
        "# 결측치(NA) 포함 자료의 평균 계산 함수\n",
        "na <- function(x){\n",
        "  # 방법1 : N/A 제거\n",
        "  cat(\"** 결측치 평균 계산(N/A 제거) **\\n\")\n",
        "  cat(\"입력값 : \",x, \"\\n\")\n",
        "  cat(\"평균값 :\", mean(x,na.rm = T),\"\\n\\n\")\n",
        "\n",
        "  # 방법2 : N/A 를 0으로 대체\n",
        "  cat(\"** 결측치 평균 계산(N/A -> 0 으로 대체) **\\n\")\n",
        "  data <- ifelse(is.na(x),0,x)\n",
        "  cat(\"입력값 : \",x, \"\\n\")\n",
        "  cat(\"대체값 : \",data, \"\\n\")\n",
        "  cat(\"평균값 :\", mean(data),\"\\n\")\n",
        "  cat(\"** 분모가 늘어 방법1과 다른 결과가 나옴..\\n\")\n",
        "  cat(\"** 산출적으로 어떤 방법이 맞는거죠?..\\n\\n\")\n",
        "\n",
        "  # 방법3: N/A 를 평균으로 대체\n",
        "  cat(\"** 결측치 평균 계산(N/A -> 평균으로 대체) **\\n\")\n",
        "  data2 <- ifelse(!is.na(x),x,round(mean(x,na.rm = T),2))\n",
        "  cat(\"입력값 : \",x, \"\\n\")\n",
        "  cat(\"대체값 : \",data2, \"\\n\")\n",
        "  cat(\"평균값 :\", mean(data2),\"\\n\")\n",
        "  cat(\"** 방법2,3과 같이 해야 데이터 손실을 예방한다고 함!!..\\n\\n\")\n",
        "\n",
        "}"
      ],
      "execution_count": 106,
      "outputs": []
    },
    {
      "cell_type": "code",
      "metadata": {
        "id": "qAkctKWAVSG4",
        "outputId": "d0a4fb94-3dc3-40f5-b94e-fd132a04dbf5",
        "colab": {
          "base_uri": "https://localhost:8080/",
          "height": 323
        }
      },
      "source": [
        "naData <- c(1:10,NA)\n",
        "na(naData)"
      ],
      "execution_count": 107,
      "outputs": [
        {
          "output_type": "stream",
          "text": [
            "** 결측치 평균 계산(N/A 제거) **\n",
            "입력값 :  1 2 3 4 5 6 7 8 9 10 NA \n",
            "평균값 : 5.5 \n",
            "\n",
            "** 결측치 평균 계산(N/A -> 0 으로 대체) **\n",
            "입력값 :  1 2 3 4 5 6 7 8 9 10 NA \n",
            "대체값 :  1 2 3 4 5 6 7 8 9 10 0 \n",
            "평균값 : 5 \n",
            "** 분모가 늘어 방법1과 다른 결과가 나옴..\n",
            "** 산출적으로 어떤 방법이 맞는거죠?..\n",
            "\n",
            "** 결측치 평균 계산(N/A -> 평균으로 대체) **\n",
            "입력값 :  1 2 3 4 5 6 7 8 9 10 NA \n",
            "대체값 :  1 2 3 4 5 6 7 8 9 10 5.5 \n",
            "평균값 : 5.5 \n",
            "** 방법2,3과 같이 해야 데이터 손실을 예방한다고 함!!..\n",
            "\n"
          ],
          "name": "stdout"
        }
      ]
    },
    {
      "cell_type": "code",
      "metadata": {
        "id": "dh8dG_9dZ5YV"
      },
      "source": [
        "# 몬테카를로 시뮬레이션 함수 정의\n",
        "# 현실적으로 불가능한 문제의 해답을 얻기 위해서 난수의 확률 분포를 \n",
        "# 이용하는 모의시험으로 근사적 해를 구하는 기법\n",
        "\n",
        "# 단계1 : 동전 앞면(0)과 뒷면(1)의 난수 확률분포 함수 정의\n",
        "coin <- function(n){\n",
        "  r <- runif(n, min = 0, max =1 )\n",
        "  result <- numeric()\n",
        "  for(i in 1:n){\n",
        "    if(r[i] <= 0.5)\n",
        "      result[i] <- 0 # 앞면\n",
        "    else\n",
        "      result[i] <- 1 # 뒤면  \n",
        "  }\n",
        "  return(result)\n",
        "}"
      ],
      "execution_count": 2,
      "outputs": []
    },
    {
      "cell_type": "code",
      "metadata": {
        "id": "_lLroRoFeOOD",
        "outputId": "13777192-0796-47e4-bf5c-012eeb192857",
        "colab": {
          "base_uri": "https://localhost:8080/",
          "height": 71
        }
      },
      "source": [
        "# 2단계 : 동전 던지기 횟수 n회인 경우 앞면,뒤면이 나오는 벡터값\n",
        "# 랜덤 확률(0.5)을 정한 것이니 실제 동전 1000번 수행하는 결과와는 다르군~\n",
        "# http://www.pandora.tv/view/kyh3423/38921442#31387160_new\n",
        "\n",
        "v <- coin(1000)\n",
        "table(v)\n"
      ],
      "execution_count": 3,
      "outputs": [
        {
          "output_type": "display_data",
          "data": {
            "text/plain": [
              "v\n",
              "  0   1 \n",
              "486 514 "
            ]
          },
          "metadata": {
            "tags": []
          }
        }
      ]
    },
    {
      "cell_type": "code",
      "metadata": {
        "id": "6IaX2B1GeUBn"
      },
      "source": [
        "# 3단계 : 몬테카를로 시뮬레이션 함수 정의\n",
        "montaCoin <- function(n){\n",
        "  cnt <- 0\n",
        "  for(i in 1:n){        # coin를 n 번 던지기\n",
        "    coin <- coin(1)     # coin를 1번 던저 나온 숫자 대입     \n",
        "    cnt <- cnt + coin   # 뒤면(1)이 나올때 숫자 누적  \n",
        "    # cat(i,\"-\",coin,\"-\",cnt,\"\\n\") \n",
        "  }  \n",
        "  result <- cnt/n       # 뒤면(1)이 나온 확률 계산\n",
        "  return(result)\n",
        "\n",
        "}"
      ],
      "execution_count": 9,
      "outputs": []
    },
    {
      "cell_type": "code",
      "metadata": {
        "id": "-_7QttP5knxN",
        "outputId": "c5c206b4-c9dd-452e-f3c5-5259a9d53a21",
        "colab": {
          "base_uri": "https://localhost:8080/",
          "height": 34
        }
      },
      "source": [
        "# 4단계 : 몬테카를로 시뮬레이션 함수 호출\n",
        "montaCoin(10000)  # 동전을 n 번 던저 뒤면이 나온 확율"
      ],
      "execution_count": 11,
      "outputs": [
        {
          "output_type": "display_data",
          "data": {
            "text/plain": [
              "[1] 0.4977"
            ],
            "text/latex": "0.4977",
            "text/markdown": "0.4977",
            "text/html": [
              "0.4977"
            ]
          },
          "metadata": {
            "tags": []
          }
        }
      ]
    },
    {
      "cell_type": "code",
      "metadata": {
        "id": "meIqJLE0CTbU",
        "outputId": "1900e861-3f00-4748-f92c-9836ce7dbe09",
        "colab": {
          "base_uri": "https://localhost:8080/",
          "height": 437
        }
      },
      "source": [
        "# 4단계를 참고하여 동전을 100번씩 던저 나온 확율을 벡터에 대입하고\n",
        "# 이를 n번 수행했을 때의 확율분포표를 그림\n",
        "n <- 1000\n",
        "cntTail <- c(1:n)\n",
        "for(i in 1:n){\n",
        "  cntTail[i] <- montaCoin(100)\n",
        "}\n",
        "barplot(table(round(cntTail,3)))"
      ],
      "execution_count": 21,
      "outputs": [
        {
          "output_type": "display_data",
          "data": {
            "image/png": "[encoded data removed]",
            "text/plain": [
              "plot without title"
            ]
          },
          "metadata": {
            "tags": [],
            "image/png": {
              "width": 420,
              "height": 420
            }
          }
        }
      ]
    }
  ]
}