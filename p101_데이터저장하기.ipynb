{
  "nbformat": 4,
  "nbformat_minor": 0,
  "metadata": {
    "colab": {
      "name": "p101_데이터저장하기.ipynb",
      "provenance": [],
      "authorship_tag": "ABX9TyPnNJDHLtP9EK53CMEjEzyr",
      "include_colab_link": true
    },
    "kernelspec": {
      "name": "ir",
      "display_name": "R"
    }
  },
  "cells": [
    {
      "cell_type": "markdown",
      "metadata": {
        "id": "view-in-github",
        "colab_type": "text"
      },
      "source": [
        "<a href=\"https://colab.research.google.com/github/gyujin0450/RPRG/blob/master/p101_%EB%8D%B0%EC%9D%B4%ED%84%B0%EC%A0%80%EC%9E%A5%ED%95%98%EA%B8%B0.ipynb\" target=\"_parent\"><img src=\"https://colab.research.google.com/assets/colab-badge.svg\" alt=\"Open In Colab\"/></a>"
      ]
    },
    {
      "cell_type": "markdown",
      "metadata": {
        "id": "O1XmBV-Acym5"
      },
      "source": [
        "ch03.2 데이터 저장하기"
      ]
    },
    {
      "cell_type": "code",
      "metadata": {
        "id": "m4DzqiCNdDM0",
        "outputId": "c94c96c9-6b1a-4b5b-c1fb-09906235cd57",
        "colab": {
          "base_uri": "https://localhost:8080/",
          "height": 34
        }
      },
      "source": [
        "# cat() 함수 이용 변수 출력\n",
        "x <- 10\n",
        "y <- 20\n",
        "z <- x + y\n",
        "cat(\"x*y의 결과는\",z,\"입니다.\\n\")"
      ],
      "execution_count": null,
      "outputs": [
        {
          "output_type": "stream",
          "text": [
            "x*y의 결과는 30 입니다.\n"
          ],
          "name": "stdout"
        }
      ]
    },
    {
      "cell_type": "code",
      "metadata": {
        "id": "0y-sSCtbdrQ6",
        "outputId": "593882b1-9376-4e43-89e1-75539fbdc4ff",
        "colab": {
          "base_uri": "https://localhost:8080/",
          "height": 34
        }
      },
      "source": [
        "cat(x,\"*\",y, \"=\",z)"
      ],
      "execution_count": null,
      "outputs": [
        {
          "output_type": "stream",
          "text": [
            "10 * 20 = 30"
          ],
          "name": "stdout"
        }
      ]
    },
    {
      "cell_type": "code",
      "metadata": {
        "id": "IcFNXoBodz_U",
        "outputId": "e5eb158c-518b-4921-ba3a-50bfe1c55872",
        "colab": {
          "base_uri": "https://localhost:8080/",
          "height": 33
        }
      },
      "source": [
        "# print() 함수\n",
        "z"
      ],
      "execution_count": null,
      "outputs": [
        {
          "output_type": "display_data",
          "data": {
            "text/plain": [
              "[1] 30"
            ],
            "text/latex": "30",
            "text/markdown": "30",
            "text/html": [
              "30"
            ]
          },
          "metadata": {
            "tags": []
          }
        }
      ]
    },
    {
      "cell_type": "code",
      "metadata": {
        "id": "8aQFSQ7qd3wm",
        "outputId": "f1ef1cae-7219-4511-f753-ec9d7da9b351",
        "colab": {
          "base_uri": "https://localhost:8080/",
          "height": 120
        }
      },
      "source": [
        "# sink() 함수\n",
        "getwd()\n",
        "install.packages(\"RSADBE\")\n",
        "library(RSADBE)\n",
        "data(Severity_Counts)\n",
        "sink(\"severity.txt\") # 저장할 파일 Open\n",
        "severity <- Severity_Counts \n",
        "severity # 변수출력 : 콘솔에 출력되지 않고 파일 저장 (R Studio에서는 파일에 저장됨) \n",
        "sink() # Open될 파일 close"
      ],
      "execution_count": 3,
      "outputs": [
        {
          "output_type": "display_data",
          "data": {
            "text/plain": [
              "[1] \"/content\""
            ],
            "text/latex": "'/content'",
            "text/markdown": "'/content'",
            "text/html": [
              "'/content'"
            ]
          },
          "metadata": {
            "tags": []
          }
        },
        {
          "output_type": "stream",
          "text": [
            "Installing package into ‘/usr/local/lib/R/site-library’\n",
            "(as ‘lib’ is unspecified)\n",
            "\n"
          ],
          "name": "stderr"
        },
        {
          "output_type": "display_data",
          "data": {
            "text/plain": [
              "      Bugs.BR       Bugs.AR    NT.Bugs.BR    NT.Bugs.AR      Major.BR \n",
              "        11605           374         10119            17          1135 \n",
              "     Major.AR   Critical.BR   Critical.AR H.Priority.BR H.Priority.AR \n",
              "           35           432            10           459             3 "
            ],
            "text/latex": "\\begin{description*}\n\\item[Bugs.BR] 11605\n\\item[Bugs.AR] 374\n\\item[NT.Bugs.BR] 10119\n\\item[NT.Bugs.AR] 17\n\\item[Major.BR] 1135\n\\item[Major.AR] 35\n\\item[Critical.BR] 432\n\\item[Critical.AR] 10\n\\item[H.Priority.BR] 459\n\\item[H.Priority.AR] 3\n\\end{description*}\n",
            "text/markdown": "Bugs.BR\n:   11605Bugs.AR\n:   374NT.Bugs.BR\n:   10119NT.Bugs.AR\n:   17Major.BR\n:   1135Major.AR\n:   35Critical.BR\n:   432Critical.AR\n:   10H.Priority.BR\n:   459H.Priority.AR\n:   3\n\n",
            "text/html": [
              "<style>\n",
              ".dl-inline {width: auto; margin:0; padding: 0}\n",
              ".dl-inline>dt, .dl-inline>dd {float: none; width: auto; display: inline-block}\n",
              ".dl-inline>dt::after {content: \":\\0020\"; padding-right: .5ex}\n",
              ".dl-inline>dt:not(:first-of-type) {padding-left: .5ex}\n",
              "</style><dl class=dl-inline><dt>Bugs.BR</dt><dd>11605</dd><dt>Bugs.AR</dt><dd>374</dd><dt>NT.Bugs.BR</dt><dd>10119</dd><dt>NT.Bugs.AR</dt><dd>17</dd><dt>Major.BR</dt><dd>1135</dd><dt>Major.AR</dt><dd>35</dd><dt>Critical.BR</dt><dd>432</dd><dt>Critical.AR</dt><dd>10</dd><dt>H.Priority.BR</dt><dd>459</dd><dt>H.Priority.AR</dt><dd>3</dd></dl>\n"
            ]
          },
          "metadata": {
            "tags": []
          }
        }
      ]
    },
    {
      "cell_type": "code",
      "metadata": {
        "id": "_YHs-wmPfY5B"
      },
      "source": [
        "# write.table() 함수이용\n",
        "titanic"
      ],
      "execution_count": null,
      "outputs": []
    }
  ]
}