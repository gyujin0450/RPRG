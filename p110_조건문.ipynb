{
  "nbformat": 4,
  "nbformat_minor": 0,
  "metadata": {
    "colab": {
      "name": "p110_조건문.ipynb",
      "provenance": [],
      "authorship_tag": "ABX9TyO8ODyYuChBn/8V2nGqHOIv",
      "include_colab_link": true
    },
    "kernelspec": {
      "name": "ir",
      "display_name": "R"
    }
  },
  "cells": [
    {
      "cell_type": "markdown",
      "metadata": {
        "id": "view-in-github",
        "colab_type": "text"
      },
      "source": [
        "<a href=\"https://colab.research.google.com/github/gyujin0450/RPRG/blob/master/p110_%EC%A1%B0%EA%B1%B4%EB%AC%B8.ipynb\" target=\"_parent\"><img src=\"https://colab.research.google.com/assets/colab-badge.svg\" alt=\"Open In Colab\"/></a>"
      ]
    },
    {
      "cell_type": "markdown",
      "metadata": {
        "id": "9fOcI8kclj1d"
      },
      "source": [
        "ch04.2 조건문"
      ]
    },
    {
      "cell_type": "code",
      "metadata": {
        "id": "xCPbOJR0lv7T"
      },
      "source": [
        "# 조건문 : if(), ifelse(), switch(), which() "
      ],
      "execution_count": null,
      "outputs": []
    },
    {
      "cell_type": "code",
      "metadata": {
        "id": "eKxAW4bepMuO"
      },
      "source": [
        "# if() 함수\n",
        "# if(조건식){참인 경우 처리문} else {거짓인 경우 처리문}"
      ],
      "execution_count": null,
      "outputs": []
    },
    {
      "cell_type": "code",
      "metadata": {
        "id": "sKFpTvWmpbWV"
      },
      "source": [
        "x <- 50;y <- 4; z <- x * y"
      ],
      "execution_count": null,
      "outputs": []
    },
    {
      "cell_type": "code",
      "metadata": {
        "id": "acRHKUH9pnff",
        "outputId": "776f563a-4ee8-443b-f09f-b704fd47c3c4",
        "colab": {
          "base_uri": "https://localhost:8080/",
          "height": 34
        }
      },
      "source": [
        "if(x*y >= 40) {\n",
        "  cat(\"x*y >= 40 입니다..\")\n",
        "} else {\n",
        "  cat(\"x*y >= 40 아닙니다..\")\n",
        "}"
      ],
      "execution_count": null,
      "outputs": [
        {
          "output_type": "stream",
          "text": [
            "x*y >= 40 입니다.."
          ],
          "name": "stdout"
        }
      ]
    },
    {
      "cell_type": "code",
      "metadata": {
        "id": "CpT8cn1WqIZL"
      },
      "source": [
        "score <- 90"
      ],
      "execution_count": null,
      "outputs": []
    },
    {
      "cell_type": "code",
      "metadata": {
        "id": "DldIf_JYqWSj",
        "outputId": "e73b2d29-1f91-4b24-f183-b3297b49d339",
        "colab": {
          "base_uri": "https://localhost:8080/",
          "height": 34
        }
      },
      "source": [
        "if(score >= 90){\n",
        "  r = \"A\"\n",
        "} else if (score >= 80) {\n",
        "  r = \"B\"\n",
        "} else if (score >= 70) {\n",
        "  r = \"C\"\n",
        "} else if (score >= 60) {\n",
        "  r = \"D\"\n",
        "} else {\n",
        "  r = \"F\"\n",
        "}\n",
        "cat(\"당신의 학점 : \", r) "
      ],
      "execution_count": null,
      "outputs": [
        {
          "output_type": "stream",
          "text": [
            "당신의 학점 :  A"
          ],
          "name": "stdout"
        }
      ]
    },
    {
      "cell_type": "code",
      "metadata": {
        "id": "bYg2J1hLs9_a"
      },
      "source": [
        "# ifelse() 함수\n",
        "# ifelse( 조건식, 참인 경우 처리문, 거짓인 경우 처리문)"
      ],
      "execution_count": null,
      "outputs": []
    },
    {
      "cell_type": "code",
      "metadata": {
        "id": "aVHPtlFXtW2T"
      },
      "source": [
        "score <- 90"
      ],
      "execution_count": null,
      "outputs": []
    },
    {
      "cell_type": "code",
      "metadata": {
        "id": "UqUCMYY9thrm",
        "outputId": "0d72cfb1-f401-4361-f7f7-27d40a5facda",
        "colab": {
          "base_uri": "https://localhost:8080/",
          "height": 33
        }
      },
      "source": [
        "ifelse( score >= 90, \"90점 이상\", \"90점 미만\")"
      ],
      "execution_count": null,
      "outputs": [
        {
          "output_type": "display_data",
          "data": {
            "text/plain": [
              "[1] \"90점 이상\""
            ],
            "text/latex": "'90점 이상'",
            "text/markdown": "'90점 이상'",
            "text/html": [
              "'90점 이상'"
            ]
          },
          "metadata": {
            "tags": []
          }
        }
      ]
    },
    {
      "cell_type": "code",
      "metadata": {
        "id": "MczNUyOMNL8x",
        "outputId": "a553ecf3-fa4b-40a3-df62-d8d9d11ecfc7",
        "colab": {
          "base_uri": "https://localhost:8080/",
          "height": 123
        }
      },
      "source": [
        "# 엑셀파일 읽어 sqrt() 함수 적용\n",
        "execel <- read.csv(\"excel.csv\", header = T)\n",
        "str(execel)"
      ],
      "execution_count": 2,
      "outputs": [
        {
          "output_type": "stream",
          "text": [
            "'data.frame':\t402 obs. of  5 variables:\n",
            " $ q1: int  2 1 2 3 3 4 3 4 4 4 ...\n",
            " $ q2: int  4 2 3 5 2 3 4 2 4 2 ...\n",
            " $ q3: int  4 2 4 5 4 3 4 4 5 4 ...\n",
            " $ q4: int  2 2 3 3 4 4 2 4 3 2 ...\n",
            " $ q5: int  2 2 3 3 4 2 2 4 4 3 ...\n"
          ],
          "name": "stdout"
        }
      ]
    },
    {
      "cell_type": "code",
      "metadata": {
        "id": "JpuHUxyCNq88",
        "outputId": "65827d34-b738-4174-fd17-9289f4391372",
        "colab": {
          "base_uri": "https://localhost:8080/",
          "height": 158
        }
      },
      "source": [
        "head(execel,5)"
      ],
      "execution_count": 3,
      "outputs": [
        {
          "output_type": "display_data",
          "data": {
            "text/plain": [
              "  q1 q2 q3 q4 q5\n",
              "1 2  4  4  2  2 \n",
              "2 1  2  2  2  2 \n",
              "3 2  3  4  3  3 \n",
              "4 3  5  5  3  3 \n",
              "5 3  2  4  4  4 "
            ],
            "text/latex": "A data.frame: 5 × 5\n\\begin{tabular}{r|lllll}\n  & q1 & q2 & q3 & q4 & q5\\\\\n  & <int> & <int> & <int> & <int> & <int>\\\\\n\\hline\n\t1 & 2 & 4 & 4 & 2 & 2\\\\\n\t2 & 1 & 2 & 2 & 2 & 2\\\\\n\t3 & 2 & 3 & 4 & 3 & 3\\\\\n\t4 & 3 & 5 & 5 & 3 & 3\\\\\n\t5 & 3 & 2 & 4 & 4 & 4\\\\\n\\end{tabular}\n",
            "text/markdown": "\nA data.frame: 5 × 5\n\n| <!--/--> | q1 &lt;int&gt; | q2 &lt;int&gt; | q3 &lt;int&gt; | q4 &lt;int&gt; | q5 &lt;int&gt; |\n|---|---|---|---|---|---|\n| 1 | 2 | 4 | 4 | 2 | 2 |\n| 2 | 1 | 2 | 2 | 2 | 2 |\n| 3 | 2 | 3 | 4 | 3 | 3 |\n| 4 | 3 | 5 | 5 | 3 | 3 |\n| 5 | 3 | 2 | 4 | 4 | 4 |\n\n",
            "text/html": [
              "<table>\n",
              "<caption>A data.frame: 5 × 5</caption>\n",
              "<thead>\n",
              "\t<tr><th></th><th scope=col>q1</th><th scope=col>q2</th><th scope=col>q3</th><th scope=col>q4</th><th scope=col>q5</th></tr>\n",
              "\t<tr><th></th><th scope=col>&lt;int&gt;</th><th scope=col>&lt;int&gt;</th><th scope=col>&lt;int&gt;</th><th scope=col>&lt;int&gt;</th><th scope=col>&lt;int&gt;</th></tr>\n",
              "</thead>\n",
              "<tbody>\n",
              "\t<tr><th scope=row>1</th><td>2</td><td>4</td><td>4</td><td>2</td><td>2</td></tr>\n",
              "\t<tr><th scope=row>2</th><td>1</td><td>2</td><td>2</td><td>2</td><td>2</td></tr>\n",
              "\t<tr><th scope=row>3</th><td>2</td><td>3</td><td>4</td><td>3</td><td>3</td></tr>\n",
              "\t<tr><th scope=row>4</th><td>3</td><td>5</td><td>5</td><td>3</td><td>3</td></tr>\n",
              "\t<tr><th scope=row>5</th><td>3</td><td>2</td><td>4</td><td>4</td><td>4</td></tr>\n",
              "</tbody>\n",
              "</table>\n"
            ]
          },
          "metadata": {
            "tags": []
          }
        }
      ]
    },
    {
      "cell_type": "code",
      "metadata": {
        "id": "Bi-qaOB7NwpQ"
      },
      "source": [
        "q1 <- execel$q1"
      ],
      "execution_count": 4,
      "outputs": []
    },
    {
      "cell_type": "code",
      "metadata": {
        "id": "-S5s1cZIN4s8",
        "outputId": "ebff8a7a-456d-4554-a2ba-fe03d3b93be0",
        "colab": {
          "base_uri": "https://localhost:8080/",
          "height": 33
        }
      },
      "source": [
        "head(ifelse(q1 >= 3, sqrt(q1), q1),5)"
      ],
      "execution_count": 21,
      "outputs": [
        {
          "output_type": "display_data",
          "data": {
            "text/plain": [
              "[1] 2.000000 1.000000 2.000000 1.732051 1.732051"
            ],
            "text/latex": "\\begin{enumerate*}\n\\item 2\n\\item 1\n\\item 2\n\\item 1.73205080756888\n\\item 1.73205080756888\n\\end{enumerate*}\n",
            "text/markdown": "1. 2\n2. 1\n3. 2\n4. 1.73205080756888\n5. 1.73205080756888\n\n\n",
            "text/html": [
              "<style>\n",
              ".list-inline {list-style: none; margin:0; padding: 0}\n",
              ".list-inline>li {display: inline-block}\n",
              ".list-inline>li:not(:last-child)::after {content: \"\\00b7\"; padding: 0 .5ex}\n",
              "</style>\n",
              "<ol class=list-inline><li>2</li><li>1</li><li>2</li><li>1.73205080756888</li><li>1.73205080756888</li></ol>\n"
            ]
          },
          "metadata": {
            "tags": []
          }
        }
      ]
    },
    {
      "cell_type": "code",
      "metadata": {
        "id": "dAY6ubwkORh1"
      },
      "source": [
        "#switch() 함수\n",
        "switch(비교문, 실행문1[,실행문2][,..])"
      ],
      "execution_count": null,
      "outputs": []
    },
    {
      "cell_type": "code",
      "metadata": {
        "id": "l3yrZuXTO669",
        "outputId": "635dd54f-2e53-4e38-fb40-b697d3b44508",
        "colab": {
          "base_uri": "https://localhost:8080/",
          "height": 33
        }
      },
      "source": [
        "name <- \"choi\"\n",
        "switch(name,choi=100,jang=90)"
      ],
      "execution_count": 9,
      "outputs": [
        {
          "output_type": "display_data",
          "data": {
            "text/plain": [
              "[1] 100"
            ],
            "text/latex": "100",
            "text/markdown": "100",
            "text/html": [
              "100"
            ]
          },
          "metadata": {
            "tags": []
          }
        }
      ]
    },
    {
      "cell_type": "code",
      "metadata": {
        "id": "wc8EGv16Q1AI",
        "outputId": "363074f4-0127-4669-c3fb-ec86311a9019",
        "colab": {
          "base_uri": "https://localhost:8080/",
          "height": 33
        }
      },
      "source": [
        "# which() 함수 : 벡터 객체를 대상으로 특정 데이터를 검색함\n",
        "# which(조건) : 조건에 만족하는 벡터우너소의 위치(인텍스)를 반환함\n",
        "name <- c(\"kim\",\"lee\",\"choi\",\"jang\")\n",
        "which(name == \"choi\")"
      ],
      "execution_count": 14,
      "outputs": [
        {
          "output_type": "display_data",
          "data": {
            "text/plain": [
              "[1] 3"
            ],
            "text/latex": "3",
            "text/markdown": "3",
            "text/html": [
              "3"
            ]
          },
          "metadata": {
            "tags": []
          }
        }
      ]
    },
    {
      "cell_type": "code",
      "metadata": {
        "id": "h-hVxhrMR3Rx",
        "outputId": "b5d907d9-68fc-4c9b-c687-1c78e1f5059b",
        "colab": {
          "base_uri": "https://localhost:8080/",
          "height": 158
        }
      },
      "source": [
        "no <- c(1:5)\n",
        "name <- c(\"kim\",\"lee\",\"choi\",\"jang\",\"park\")\n",
        "score <- c(85,90,95,100,50)\n",
        "exam <- data.frame(학번=no,이름=name,성적=score)\n",
        "exam"
      ],
      "execution_count": 15,
      "outputs": [
        {
          "output_type": "display_data",
          "data": {
            "text/plain": [
              "  학번 이름 성적\n",
              "1 1    kim   85 \n",
              "2 2    lee   90 \n",
              "3 3    choi  95 \n",
              "4 4    jang 100 \n",
              "5 5    park  50 "
            ],
            "text/latex": "A data.frame: 5 × 3\n\\begin{tabular}{lll}\n 학번 & 이름 & 성적\\\\\n <int> & <fct> & <dbl>\\\\\n\\hline\n\t 1 & kim  &  85\\\\\n\t 2 & lee  &  90\\\\\n\t 3 & choi &  95\\\\\n\t 4 & jang & 100\\\\\n\t 5 & park &  50\\\\\n\\end{tabular}\n",
            "text/markdown": "\nA data.frame: 5 × 3\n\n| 학번 &lt;int&gt; | 이름 &lt;fct&gt; | 성적 &lt;dbl&gt; |\n|---|---|---|\n| 1 | kim  |  85 |\n| 2 | lee  |  90 |\n| 3 | choi |  95 |\n| 4 | jang | 100 |\n| 5 | park |  50 |\n\n",
            "text/html": [
              "<table>\n",
              "<caption>A data.frame: 5 × 3</caption>\n",
              "<thead>\n",
              "\t<tr><th scope=col>학번</th><th scope=col>이름</th><th scope=col>성적</th></tr>\n",
              "\t<tr><th scope=col>&lt;int&gt;</th><th scope=col>&lt;fct&gt;</th><th scope=col>&lt;dbl&gt;</th></tr>\n",
              "</thead>\n",
              "<tbody>\n",
              "\t<tr><td>1</td><td>kim </td><td> 85</td></tr>\n",
              "\t<tr><td>2</td><td>lee </td><td> 90</td></tr>\n",
              "\t<tr><td>3</td><td>choi</td><td> 95</td></tr>\n",
              "\t<tr><td>4</td><td>jang</td><td>100</td></tr>\n",
              "\t<tr><td>5</td><td>park</td><td> 50</td></tr>\n",
              "</tbody>\n",
              "</table>\n"
            ]
          },
          "metadata": {
            "tags": []
          }
        }
      ]
    },
    {
      "cell_type": "code",
      "metadata": {
        "id": "gT7QqWCaSfGg",
        "outputId": "fba2cd03-7d24-4df2-d730-49903c94737f",
        "colab": {
          "base_uri": "https://localhost:8080/",
          "height": 87
        }
      },
      "source": [
        "exam[which(exam$이름 == 'choi'),]"
      ],
      "execution_count": 19,
      "outputs": [
        {
          "output_type": "display_data",
          "data": {
            "text/plain": [
              "  학번 이름 성적\n",
              "3 3    choi 95  "
            ],
            "text/latex": "A data.frame: 1 × 3\n\\begin{tabular}{r|lll}\n  & 학번 & 이름 & 성적\\\\\n  & <int> & <fct> & <dbl>\\\\\n\\hline\n\t3 & 3 & choi & 95\\\\\n\\end{tabular}\n",
            "text/markdown": "\nA data.frame: 1 × 3\n\n| <!--/--> | 학번 &lt;int&gt; | 이름 &lt;fct&gt; | 성적 &lt;dbl&gt; |\n|---|---|---|---|\n| 3 | 3 | choi | 95 |\n\n",
            "text/html": [
              "<table>\n",
              "<caption>A data.frame: 1 × 3</caption>\n",
              "<thead>\n",
              "\t<tr><th></th><th scope=col>학번</th><th scope=col>이름</th><th scope=col>성적</th></tr>\n",
              "\t<tr><th></th><th scope=col>&lt;int&gt;</th><th scope=col>&lt;fct&gt;</th><th scope=col>&lt;dbl&gt;</th></tr>\n",
              "</thead>\n",
              "<tbody>\n",
              "\t<tr><th scope=row>3</th><td>3</td><td>choi</td><td>95</td></tr>\n",
              "</tbody>\n",
              "</table>\n"
            ]
          },
          "metadata": {
            "tags": []
          }
        }
      ]
    },
    {
      "cell_type": "code",
      "metadata": {
        "id": "4sNk_mUAPMii",
        "outputId": "1d015f74-6256-4cff-cc8a-b82620e011b4",
        "colab": {
          "base_uri": "https://localhost:8080/",
          "height": 282
        }
      },
      "source": [
        "# dplyr 패키지의 다중 조건문 작성\n",
        "# case_when( 조건식~참일때값, ..., TRUE~참일때값)\n",
        "library(dplyr)\n",
        "x <- 80\n",
        "case_when( x >= 90 ~ \"A\", x >= 80 ~ \"B\", x >= 70 ~ \"C\", x >= 60 ~ \"D\", TRUE ~ \"F\")"
      ],
      "execution_count": 13,
      "outputs": [
        {
          "output_type": "stream",
          "text": [
            "\n",
            "Attaching package: ‘dplyr’\n",
            "\n",
            "\n",
            "The following objects are masked from ‘package:stats’:\n",
            "\n",
            "    filter, lag\n",
            "\n",
            "\n",
            "The following objects are masked from ‘package:base’:\n",
            "\n",
            "    intersect, setdiff, setequal, union\n",
            "\n",
            "\n"
          ],
          "name": "stderr"
        },
        {
          "output_type": "display_data",
          "data": {
            "text/plain": [
              "[1] \"B\""
            ],
            "text/latex": "'B'",
            "text/markdown": "'B'",
            "text/html": [
              "'B'"
            ]
          },
          "metadata": {
            "tags": []
          }
        }
      ]
    }
  ]
}